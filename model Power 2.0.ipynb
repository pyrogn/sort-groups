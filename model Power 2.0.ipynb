{
 "cells": [
  {
   "cell_type": "code",
   "execution_count": 1,
   "metadata": {},
   "outputs": [],
   "source": [
    "import random\n",
    "import os\n",
    "import pandas as pd\n",
    "import numpy as np\n",
    "import copy\n",
    "import operator"
   ]
  },
  {
   "cell_type": "code",
   "execution_count": null,
   "metadata": {},
   "outputs": [],
   "source": []
  },
  {
   "cell_type": "code",
   "execution_count": 2,
   "metadata": {},
   "outputs": [],
   "source": [
    "with open('full_dict_relations.txt', 'r') as f:\n",
    "    full_dict_relations = eval(f.read())"
   ]
  },
  {
   "cell_type": "code",
   "execution_count": 21,
   "metadata": {},
   "outputs": [],
   "source": [
    "# reset\n",
    "list_groups = [[],[],[],[],[],[]]\n",
    "last_people_base = list(full_dict_relations.keys())\n",
    "last_people = list(full_dict_relations.keys())"
   ]
  },
  {
   "cell_type": "code",
   "execution_count": null,
   "metadata": {},
   "outputs": [],
   "source": []
  },
  {
   "cell_type": "code",
   "execution_count": 4,
   "metadata": {},
   "outputs": [],
   "source": [
    "# принимает номер группы, список групп. remove отвечает за удаление выбранного человека из данного списка групп. Возвращает имя этого человека\n",
    "def best_person(group, last_people, remove = True):\n",
    "    mid_dict = {}\n",
    "    for i in last_people:\n",
    "        sum_1_to_others = 0\n",
    "        for j in list_groups[group - 1]:\n",
    "            try:\n",
    "                sum_1_to_others += full_dict_relations[i][j]\n",
    "            except:\n",
    "                pass\n",
    "            try:\n",
    "                sum_1_to_others += full_dict_relations[j][i]\n",
    "            except:\n",
    "                pass\n",
    "        mid_dict[i] = sum_1_to_others\n",
    "    sorted_dict = {k: v for k, v in sorted(mid_dict.items(), key=lambda item: item[1], reverse = True)}\n",
    "    a = list(sorted_dict.keys())[0]\n",
    "    if remove:\n",
    "        last_people.remove(a)\n",
    "    return a"
   ]
  },
  {
   "cell_type": "code",
   "execution_count": 5,
   "metadata": {},
   "outputs": [],
   "source": [
    "# получает номер группы, возвращает сумму всех отношений\n",
    "def sum_relation(group, list_groups):\n",
    "    all_sum = 0\n",
    "    for i in list_groups[group - 1]:\n",
    "        for j in list_groups[group - 1]:\n",
    "            try:\n",
    "                all_sum += full_dict_relations[i][j]\n",
    "            except:\n",
    "                pass\n",
    "            try:\n",
    "                all_sum += full_dict_relations[j][i]\n",
    "            except:\n",
    "                pass\n",
    "    return all_sum"
   ]
  },
  {
   "cell_type": "code",
   "execution_count": 6,
   "metadata": {},
   "outputs": [],
   "source": [
    "# получает список групп, возвращает общую сумму и численность всех групп в сумме как tuple()\n",
    "def sum_all_groups(list_groups):\n",
    "    all_sum = 0\n",
    "    population = 0\n",
    "    for i in range(1, 7):\n",
    "        population += len(list_groups[i - 1])\n",
    "        all_sum += sum_relation(i, list_groups)\n",
    "    return all_sum, population"
   ]
  },
  {
   "cell_type": "code",
   "execution_count": 7,
   "metadata": {},
   "outputs": [],
   "source": [
    "# получает ключ человека в словаре отношений и номер группы.\n",
    "# возвращает человека и его вклад в группу.\n",
    "def contribution_one_person(person, num_group, list_groups):\n",
    "    sum_contr = 0\n",
    "    for i in list_groups[num_group - 1]:\n",
    "        try:\n",
    "            sum_contr += full_dict_relations[person][i]\n",
    "        except:\n",
    "            pass\n",
    "        try:\n",
    "            sum_contr += full_dict_relations[i][person]\n",
    "        except:\n",
    "            pass\n",
    "    return (person, sum_contr)"
   ]
  },
  {
   "cell_type": "code",
   "execution_count": null,
   "metadata": {},
   "outputs": [],
   "source": []
  },
  {
   "cell_type": "code",
   "execution_count": 646,
   "metadata": {},
   "outputs": [],
   "source": [
    "# найти шесть лучших пятнадцаток.\n",
    "# 6 групп, которые заполнены по 15 человек с максимальными суммами"
   ]
  },
  {
   "cell_type": "code",
   "execution_count": 22,
   "metadata": {},
   "outputs": [],
   "source": [
    "for i in range(6):\n",
    "    dict_10_groups = {}\n",
    "    for k in last_people_base[:]:     \n",
    "        list_groups[i] = []\n",
    "        last_people = last_people_base[:]\n",
    "        list_groups[i].append(k)\n",
    "        last_people.remove(k)\n",
    "        for j in range(14):  # если 14, тогда будет по 15 человек в группах.\n",
    "            list_groups[i].append(best_person(i + 1, last_people, remove = True))\n",
    "        a = sum_relation(i + 1, list_groups = list_groups)\n",
    "        dict_10_groups[a] = list_groups[i]\n",
    "    list_groups[i] = dict_10_groups[max(dict_10_groups)]\n",
    "\n",
    "    for people in list_groups[i]:\n",
    "        last_people_base.remove(people)"
   ]
  },
  {
   "cell_type": "code",
   "execution_count": 23,
   "metadata": {},
   "outputs": [
    {
     "data": {
      "text/plain": [
       "(2648.0, 90)"
      ]
     },
     "execution_count": 23,
     "metadata": {},
     "output_type": "execute_result"
    }
   ],
   "source": [
    "#здесь можно проверить общую сумму, численность и оставшихся людей\n",
    "sum_all_groups(list_groups = list_groups)"
   ]
  },
  {
   "cell_type": "code",
   "execution_count": 24,
   "metadata": {},
   "outputs": [
    {
     "data": {
      "text/plain": [
       "84"
      ]
     },
     "execution_count": 24,
     "metadata": {},
     "output_type": "execute_result"
    }
   ],
   "source": [
    "len(last_people)"
   ]
  },
  {
   "cell_type": "code",
   "execution_count": 5,
   "metadata": {},
   "outputs": [],
   "source": [
    "# их заполнить с перетасовкой"
   ]
  },
  {
   "cell_type": "code",
   "execution_count": 11,
   "metadata": {},
   "outputs": [],
   "source": [
    "# дать группу человека, его имя и коэф для тюна. Возвращает список рациональных переходов для этого человека.\n",
    "def allowed_groups(group, name, coeff_min):\n",
    "    _, current_contr = contribution_one_person(name, group, list_groups)\n",
    "    minim_contrib = current_contr / coeff_min\n",
    "    list_allowed_groups = []\n",
    "    for i in range(6):\n",
    "        _, contr = contribution_one_person(name, i + 1, list_groups)\n",
    "        if contr > minim_contrib or current_contr == 0:\n",
    "            list_allowed_groups.append(i + 1)\n",
    "    if group not in list_allowed_groups:\n",
    "        list_allowed_groups.append(group)\n",
    "    return list_allowed_groups"
   ]
  },
  {
   "cell_type": "code",
   "execution_count": 12,
   "metadata": {},
   "outputs": [],
   "source": [
    "# дать словарь возможных комбинаций. Возвращает количество комбинаций.\n",
    "def num_comb(dictionary):\n",
    "    list_comb = []\n",
    "    n_comb = 1\n",
    "    for key, value in dictionary.items():\n",
    "        n_comb = n_comb * len(value)\n",
    "    return n_comb"
   ]
  },
  {
   "cell_type": "code",
   "execution_count": 19,
   "metadata": {},
   "outputs": [],
   "source": [
    "# дать словарь с возможными комбинациями и список групп. Он выдаст новую комбинацию в виде нового списка групп.\n",
    "def best_combination(dictionary, groups):\n",
    "    n_comb = num_comb(dictionary)\n",
    "    dict_comb = {}\n",
    "    help_dict = {}\n",
    "    new_comb = n_comb\n",
    "    for key, value in dictionary.items():\n",
    "        if len(value) > 1:\n",
    "            new_comb = int(new_comb / len(value))\n",
    "            help_dict[key] = new_comb\n",
    "# очень интересная математическая штука.        \n",
    "    for i in range(n_comb):\n",
    "        ground_list_groups = copy.deepcopy(groups)\n",
    "        for key, value in dictionary.items():\n",
    "            if len(value) > 1:\n",
    "                number = (i // help_dict[key]) % len(value)\n",
    "                value_num = value[number]\n",
    "                ground_list_groups[value_num - 1].append(key)\n",
    "            else:\n",
    "                ground_list_groups[value[0] - 1].append(key)\n",
    "        sum_gr, _ = sum_all_groups(ground_list_groups)\n",
    "        dict_comb[str(ground_list_groups)] = sum_gr  \n",
    "# если ключом оставлять сумму, тогда могут быть перезатирания, поэтому ключ - длинный список списков.\n",
    "    dict1 = copy.deepcopy(dict_comb)\n",
    "    for key, values in dict_comb.items():\n",
    "        for i in eval(key):\n",
    "            if len(i) > 30:\n",
    "                try:\n",
    "                    del dict1[key]\n",
    "                except:\n",
    "                    pass\n",
    "    return eval(max(dict1, key=dict1.get)), n_comb"
   ]
  },
  {
   "cell_type": "code",
   "execution_count": null,
   "metadata": {},
   "outputs": [],
   "source": [
    "# пытался это прикрутить, чтобы группы заполнялись более равномерно, но это вызывает ошибки почему-то.\n",
    "# max([len(x) for x in i]) - min([len(x) for x in i]) > 5"
   ]
  },
  {
   "cell_type": "code",
   "execution_count": 256,
   "metadata": {},
   "outputs": [],
   "source": []
  },
  {
   "cell_type": "code",
   "execution_count": null,
   "metadata": {},
   "outputs": [],
   "source": []
  },
  {
   "cell_type": "code",
   "execution_count": null,
   "metadata": {},
   "outputs": [],
   "source": []
  },
  {
   "cell_type": "code",
   "execution_count": 600,
   "metadata": {},
   "outputs": [],
   "source": []
  },
  {
   "cell_type": "code",
   "execution_count": 14,
   "metadata": {},
   "outputs": [],
   "source": [
    "# depth - сколько мы забираем людей из каждой группы при каждой итерации\n",
    "# coeff_min - насколько мы готовы уменшить вклад человека в группу, чтобы посчитать его переход в другую группу хоть частично разумным\n",
    "depth = 3\n",
    "coeff_min = 2\n",
    "# n_group_for_free = 2 # использовал для того, чтобы свободному человеку давать не все, а три лучшие группы и первую минимальную.\n",
    "# но тоже вылетали ошибки почему-то. Но это помогло бы уменьшить время перебора."
   ]
  },
  {
   "cell_type": "code",
   "execution_count": null,
   "metadata": {},
   "outputs": [],
   "source": [
    "# делаю излишние копии, потому что у меня уже сдвиг на связанных списках."
   ]
  },
  {
   "cell_type": "code",
   "execution_count": 25,
   "metadata": {},
   "outputs": [
    {
     "name": "stdout",
     "output_type": "stream",
     "text": [
      "15 - 419.0|15 - 450.0|16 - 449.0|15 - 449.0|15 - 444.0|15 - 439.0|2650.0 91 6 29.12087912087912\n",
      "15 - 419.0|15 - 450.0|17 - 449.0|15 - 453.0|15 - 444.0|15 - 439.0|2654.0 92 6 28.847826086956523\n",
      "15 - 419.0|15 - 450.0|18 - 449.0|15 - 478.0|15 - 444.0|15 - 439.0|2679.0 93 6 28.806451612903224\n",
      "15 - 419.0|15 - 450.0|19 - 449.0|15 - 486.0|15 - 444.0|15 - 439.0|2687.0 94 6 28.585106382978722\n",
      "15 - 419.0|15 - 450.0|20 - 449.0|15 - 496.0|15 - 444.0|15 - 439.0|2697.0 95 12 28.389473684210525\n",
      "15 - 419.0|15 - 450.0|21 - 449.0|15 - 513.0|15 - 444.0|15 - 439.0|2714.0 96 24 28.270833333333332\n",
      "15 - 419.0|15 - 450.0|22 - 449.0|15 - 532.0|15 - 444.0|15 - 439.0|2733.0 97 6 28.175257731958762\n",
      "15 - 419.0|15 - 450.0|23 - 449.0|15 - 553.0|15 - 444.0|15 - 439.0|2754.0 98 6 28.102040816326532\n",
      "15 - 419.0|15 - 450.0|24 - 449.0|15 - 560.0|15 - 444.0|15 - 439.0|2761.0 99 6 27.88888888888889\n",
      "15 - 419.0|15 - 450.0|25 - 449.0|15 - 585.0|15 - 444.0|15 - 439.0|2786.0 100 6 27.86\n",
      "15 - 419.0|15 - 450.0|26 - 449.0|15 - 617.0|15 - 444.0|15 - 439.0|2818.0 101 6 27.900990099009903\n",
      "15 - 419.0|15 - 450.0|27 - 449.0|15 - 670.0|15 - 444.0|15 - 439.0|2871.0 102 6 28.147058823529413\n",
      "15 - 419.0|15 - 450.0|28 - 449.0|15 - 705.0|15 - 444.0|15 - 439.0|2906.0 103 6 28.21359223300971\n",
      "15 - 419.0|15 - 450.0|29 - 449.0|15 - 737.0|15 - 444.0|15 - 439.0|2938.0 104 6 28.25\n",
      "15 - 419.0|15 - 450.0|30 - 449.0|15 - 771.0|15 - 444.0|15 - 439.0|2972.0 105 6 28.304761904761904\n",
      "15 - 420.0|15 - 450.0|30 - 449.0|15 - 771.0|15 - 444.0|16 - 439.0|2973.0 106 6 28.047169811320753\n",
      "15 - 420.0|15 - 450.0|30 - 449.0|16 - 771.0|15 - 460.0|16 - 439.0|2989.0 107 12 27.934579439252335\n",
      "15 - 423.0|15 - 450.0|30 - 449.0|16 - 771.0|15 - 460.0|17 - 439.0|2992.0 108 24 27.703703703703702\n",
      "15 - 423.0|15 - 450.0|30 - 449.0|17 - 771.0|15 - 466.0|17 - 439.0|2998.0 109 48 27.504587155963304\n",
      "15 - 423.0|15 - 450.0|30 - 449.0|18 - 771.0|15 - 481.0|17 - 439.0|3013.0 110 288 27.39090909090909\n",
      "15 - 465.0|15 - 450.0|30 - 449.0|18 - 771.0|15 - 481.0|18 - 439.0|3055.0 111 576 27.52252252252252\n",
      "15 - 551.0|15 - 450.0|30 - 449.0|18 - 771.0|15 - 481.0|19 - 439.0|3141.0 112 576 28.044642857142858\n",
      "15 - 634.0|15 - 450.0|30 - 449.0|18 - 771.0|15 - 481.0|20 - 439.0|3224.0 113 576 28.530973451327434\n",
      "15 - 705.0|15 - 450.0|30 - 449.0|18 - 771.0|15 - 481.0|21 - 439.0|3295.0 114 576 28.903508771929825\n",
      "15 - 751.0|15 - 450.0|30 - 449.0|18 - 771.0|15 - 481.0|22 - 439.0|3341.0 115 576 29.05217391304348\n",
      "15 - 825.0|15 - 450.0|30 - 449.0|18 - 771.0|15 - 481.0|23 - 439.0|3415.0 116 576 29.439655172413794\n",
      "15 - 880.0|15 - 450.0|30 - 449.0|18 - 771.0|15 - 481.0|24 - 439.0|3470.0 117 576 29.65811965811966\n",
      "15 - 932.0|15 - 450.0|30 - 449.0|18 - 771.0|15 - 481.0|25 - 439.0|3522.0 118 576 29.847457627118644\n",
      "15 - 1008.0|15 - 450.0|30 - 449.0|18 - 771.0|15 - 481.0|26 - 439.0|3598.0 119 576 30.235294117647058\n",
      "15 - 1064.0|15 - 450.0|30 - 449.0|18 - 771.0|15 - 481.0|27 - 439.0|3654.0 120 576 30.45\n",
      "15 - 1135.0|15 - 450.0|30 - 449.0|18 - 771.0|15 - 481.0|28 - 439.0|3725.0 121 576 30.785123966942148\n",
      "15 - 1221.0|15 - 450.0|30 - 449.0|18 - 771.0|15 - 481.0|29 - 439.0|3811.0 122 576 31.237704918032787\n",
      "15 - 1293.0|15 - 450.0|30 - 449.0|18 - 771.0|15 - 481.0|30 - 439.0|3883.0 123 576 31.56910569105691\n",
      "16 - 1293.0|15 - 450.0|30 - 449.0|18 - 771.0|15 - 481.0|30 - 439.0|3883.0 124 576 31.31451612903226\n",
      "17 - 1293.0|15 - 457.0|30 - 449.0|18 - 771.0|15 - 481.0|30 - 439.0|3890.0 125 3456 31.12\n",
      "15 - 1293.0|15 - 450.0|30 - 449.0|21 - 771.0|15 - 493.0|30 - 439.0|3895.0 126 20736 30.91269841269841\n",
      "15 - 1411.0|15 - 450.0|30 - 449.0|19 - 771.0|18 - 485.0|30 - 456.0|4022.0 127 3888 31.669291338582678\n",
      "18 - 1411.0|15 - 461.0|30 - 449.0|19 - 771.0|16 - 485.0|30 - 447.0|4024.0 128 10368 31.4375\n",
      "19 - 1411.0|15 - 467.0|30 - 449.0|19 - 771.0|16 - 485.0|30 - 447.0|4030.0 129 62208 31.24031007751938\n",
      "19 - 1411.0|15 - 467.0|30 - 449.0|19 - 771.0|17 - 485.0|30 - 456.0|4039.0 130 2304 31.06923076923077\n",
      "21 - 1411.0|15 - 485.0|30 - 449.0|19 - 771.0|16 - 485.0|30 - 447.0|4048.0 131 13824 30.900763358778626\n",
      "22 - 1411.0|15 - 499.0|30 - 449.0|19 - 771.0|16 - 485.0|30 - 447.0|4062.0 132 2304 30.772727272727273\n",
      "24 - 1411.0|15 - 531.0|30 - 449.0|19 - 771.0|15 - 485.0|30 - 439.0|4086.0 133 3456 30.721804511278197\n",
      "25 - 1411.0|15 - 566.0|30 - 449.0|19 - 771.0|15 - 485.0|30 - 439.0|4121.0 134 1728 30.753731343283583\n",
      "25 - 1411.0|15 - 566.0|30 - 449.0|19 - 771.0|16 - 485.0|30 - 479.0|4161.0 135 1728 30.822222222222223\n",
      "25 - 1411.0|15 - 566.0|30 - 449.0|19 - 771.0|17 - 485.0|30 - 535.0|4217.0 136 1728 31.00735294117647\n",
      "25 - 1411.0|15 - 566.0|30 - 449.0|19 - 771.0|18 - 485.0|30 - 579.0|4261.0 137 1728 31.1021897810219\n",
      "25 - 1411.0|15 - 566.0|30 - 449.0|19 - 771.0|19 - 485.0|30 - 620.0|4302.0 138 1728 31.17391304347826\n",
      "25 - 1411.0|15 - 566.0|30 - 449.0|19 - 771.0|20 - 485.0|30 - 658.0|4340.0 139 1728 31.223021582733814\n",
      "25 - 1411.0|15 - 566.0|30 - 449.0|19 - 771.0|21 - 485.0|30 - 702.0|4384.0 140 1728 31.314285714285713\n",
      "25 - 1411.0|15 - 566.0|30 - 449.0|19 - 771.0|22 - 485.0|30 - 744.0|4426.0 141 1728 31.390070921985817\n",
      "25 - 1411.0|15 - 566.0|30 - 449.0|19 - 771.0|23 - 485.0|30 - 817.0|4499.0 142 1728 31.683098591549296\n",
      "25 - 1411.0|15 - 566.0|30 - 449.0|19 - 771.0|24 - 485.0|30 - 863.0|4545.0 143 1728 31.783216783216783\n",
      "25 - 1411.0|15 - 566.0|30 - 449.0|19 - 771.0|25 - 485.0|30 - 926.0|4608.0 144 1728 32.0\n",
      "25 - 1411.0|16 - 566.0|30 - 483.0|19 - 771.0|25 - 485.0|30 - 926.0|4642.0 145 1728 32.01379310344828\n",
      "25 - 1411.0|17 - 566.0|30 - 514.0|19 - 771.0|25 - 485.0|30 - 926.0|4673.0 146 1728 32.00684931506849\n",
      "25 - 1411.0|18 - 566.0|30 - 552.0|19 - 771.0|25 - 485.0|30 - 926.0|4711.0 147 1728 32.04761904761905\n",
      "25 - 1411.0|19 - 566.0|30 - 574.0|19 - 771.0|25 - 485.0|30 - 926.0|4733.0 148 1728 31.97972972972973\n",
      "25 - 1411.0|20 - 566.0|30 - 610.0|19 - 771.0|25 - 485.0|30 - 926.0|4769.0 149 3456 32.006711409395976\n",
      "25 - 1411.0|21 - 566.0|30 - 645.0|19 - 771.0|25 - 485.0|30 - 926.0|4804.0 150 3456 32.026666666666664\n",
      "25 - 1411.0|22 - 566.0|30 - 668.0|19 - 771.0|25 - 485.0|30 - 926.0|4827.0 151 3456 31.966887417218544\n",
      "25 - 1411.0|23 - 566.0|30 - 713.0|19 - 771.0|25 - 485.0|30 - 926.0|4872.0 152 3456 32.05263157894737\n",
      "25 - 1411.0|24 - 566.0|30 - 743.0|19 - 771.0|25 - 485.0|30 - 926.0|4902.0 153 3456 32.03921568627451\n",
      "25 - 1411.0|25 - 566.0|30 - 796.0|19 - 771.0|25 - 485.0|30 - 926.0|4955.0 154 3456 32.175324675324674\n",
      "25 - 1411.0|25 - 566.0|30 - 796.0|20 - 771.0|25 - 523.0|30 - 926.0|4993.0 155 3456 32.21290322580645\n",
      "25 - 1411.0|25 - 566.0|30 - 796.0|21 - 771.0|25 - 560.0|30 - 926.0|5030.0 156 3456 32.243589743589745\n",
      "25 - 1411.0|25 - 566.0|30 - 796.0|22 - 771.0|25 - 599.0|30 - 926.0|5069.0 157 3456 32.28662420382165\n",
      "25 - 1411.0|25 - 566.0|30 - 796.0|23 - 771.0|25 - 645.0|30 - 926.0|5115.0 158 3456 32.37341772151899\n",
      "25 - 1411.0|25 - 566.0|30 - 796.0|24 - 771.0|25 - 712.0|30 - 926.0|5182.0 159 3456 32.59119496855346\n",
      "25 - 1411.0|25 - 566.0|30 - 796.0|25 - 771.0|25 - 776.0|30 - 926.0|5246.0 160 3456 32.7875\n",
      "25 - 1411.0|25 - 566.0|30 - 796.0|26 - 771.0|25 - 823.0|30 - 926.0|5293.0 161 3456 32.87577639751553\n",
      "25 - 1411.0|25 - 566.0|30 - 796.0|27 - 771.0|25 - 877.0|30 - 926.0|5347.0 162 3456 33.00617283950617\n",
      "25 - 1411.0|25 - 566.0|30 - 796.0|28 - 771.0|25 - 938.0|30 - 926.0|5408.0 163 3456 33.17791411042945\n",
      "25 - 1411.0|25 - 566.0|30 - 796.0|29 - 771.0|25 - 996.0|30 - 926.0|5466.0 164 3456 33.329268292682926\n",
      "26 - 1411.0|25 - 600.0|30 - 796.0|29 - 771.0|25 - 996.0|30 - 926.0|5500.0 165 3456 33.333333333333336\n",
      "27 - 1411.0|25 - 636.0|30 - 796.0|29 - 771.0|25 - 996.0|30 - 926.0|5536.0 166 3456 33.34939759036145\n",
      "28 - 1411.0|25 - 674.0|30 - 796.0|29 - 771.0|25 - 996.0|30 - 926.0|5574.0 167 3456 33.377245508982035\n",
      "29 - 1411.0|25 - 719.0|30 - 796.0|29 - 771.0|25 - 996.0|30 - 926.0|5619.0 168 3456 33.44642857142857\n",
      "30 - 1411.0|25 - 755.0|30 - 796.0|29 - 771.0|25 - 996.0|30 - 926.0|5655.0 169 3456 33.46153846153846\n",
      "30 - 1411.0|25 - 799.0|30 - 796.0|29 - 771.0|26 - 996.0|30 - 934.0|5707.0 170 3456 33.57058823529412\n",
      "30 - 1411.0|26 - 799.0|30 - 798.0|29 - 771.0|26 - 996.0|30 - 934.0|5709.0 171 4608 33.3859649122807\n",
      "30 - 1411.0|27 - 799.0|30 - 802.0|29 - 771.0|26 - 996.0|30 - 934.0|5713.0 172 13824 33.21511627906977\n",
      "30 - 1411.0|28 - 799.0|30 - 808.0|29 - 771.0|26 - 996.0|30 - 934.0|5719.0 173 27648 33.05780346820809\n"
     ]
    },
    {
     "name": "stdout",
     "output_type": "stream",
     "text": [
      "30 - 1411.0|29 - 799.0|30 - 816.0|29 - 771.0|26 - 996.0|30 - 934.0|5727.0 174 27648 32.91379310344828\n"
     ]
    }
   ],
   "source": [
    "while len(last_people) > 0:\n",
    "# следущий код находит по {depth} людей, которые меньше всего значат для группы. И их удаляет.\n",
    "    dict_min = {}\n",
    "    for group in range(6):\n",
    "        dict_rel = {}\n",
    "        for i in list_groups[group]:\n",
    "            name, contr = contribution_one_person(i, group + 1, list_groups)\n",
    "            dict_rel[name] = contr\n",
    "        list_min = []\n",
    "        for i in sorted(dict_rel.items(), key=lambda item: item[1])[:depth]:\n",
    "            list_min.append(i[0])\n",
    "        dict_min[group + 1] = list_min\n",
    "        for i in list_min:\n",
    "            list_groups[group].remove(i)\n",
    "# для этих удалённых людей этот код создаёт словарь с возможными их переходами в другие группы.\n",
    "    dict_change_groups = {}\n",
    "    for key, value in dict_min.items():\n",
    "        for i in value:\n",
    "            dict_change_groups[i] = allowed_groups(key, i, coeff_min)\n",
    "# а этом даёт все 6 групп как возможные.\n",
    "    free = last_people.pop()\n",
    "    dict_change_groups[free] = list(range(1, 7))\n",
    "# этот находит новую комбинацию. Далее собираются значения и выводятся на экран.\n",
    "    new_list_groups, n_comb = copy.deepcopy(best_combination(dict_change_groups, copy.deepcopy(list_groups)))\n",
    "    all_sum, pop = sum_all_groups(list_groups = new_list_groups)\n",
    "    list_groups = copy.deepcopy(new_list_groups)\n",
    "    \n",
    "    for j, i in enumerate(list_groups):\n",
    "        print(f\"{len(i)} - {sum_relation(j, list_groups)}|\", end = '')\n",
    "    print(f'{all_sum} {pop} {n_comb} {all_sum / pop}')  "
   ]
  },
  {
   "cell_type": "code",
   "execution_count": null,
   "metadata": {},
   "outputs": [],
   "source": []
  },
  {
   "cell_type": "code",
   "execution_count": 26,
   "metadata": {},
   "outputs": [],
   "source": [
    "with open('list_groups.txt', 'w') as f:\n",
    "    f.write(str(list_groups))"
   ]
  },
  {
   "cell_type": "code",
   "execution_count": null,
   "metadata": {},
   "outputs": [],
   "source": []
  }
 ],
 "metadata": {
  "kernelspec": {
   "display_name": "Python 3",
   "language": "python",
   "name": "python3"
  },
  "language_info": {
   "codemirror_mode": {
    "name": "ipython",
    "version": 3
   },
   "file_extension": ".py",
   "mimetype": "text/x-python",
   "name": "python",
   "nbconvert_exporter": "python",
   "pygments_lexer": "ipython3",
   "version": "3.7.4"
  }
 },
 "nbformat": 4,
 "nbformat_minor": 4
}
