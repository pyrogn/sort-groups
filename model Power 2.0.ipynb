{
 "cells": [
  {
   "cell_type": "code",
   "execution_count": 1,
   "metadata": {},
   "outputs": [
    {
     "name": "stdout",
     "output_type": "stream",
     "text": [
      "Pixiedust database opened successfully\n"
     ]
    },
    {
     "data": {
      "text/html": [
       "\n",
       "        <div style=\"margin:10px\">\n",
       "            <a href=\"https://github.com/ibm-watson-data-lab/pixiedust\" target=\"_new\">\n",
       "                <img src=\"https://github.com/ibm-watson-data-lab/pixiedust/raw/master/docs/_static/pd_icon32.png\" style=\"float:left;margin-right:10px\"/>\n",
       "            </a>\n",
       "            <span>Pixiedust version 1.1.18</span>\n",
       "        </div>\n",
       "        "
      ],
      "text/plain": [
       "<IPython.core.display.HTML object>"
      ]
     },
     "metadata": {},
     "output_type": "display_data"
    },
    {
     "name": "stdout",
     "output_type": "stream",
     "text": [
      "Table service_connections created successfully\n"
     ]
    }
   ],
   "source": [
    "import random\n",
    "import os\n",
    "import pandas as pd\n",
    "import numpy as np\n",
    "import copy\n",
    "from IPython.core.debugger import set_trace\n",
    "import pixiedust"
   ]
  },
  {
   "cell_type": "code",
   "execution_count": null,
   "metadata": {},
   "outputs": [],
   "source": []
  },
  {
   "cell_type": "code",
   "execution_count": 2,
   "metadata": {},
   "outputs": [],
   "source": [
    "with open('full_dict_relations.txt', 'r') as f:\n",
    "    full_dict_relations = eval(f.read())"
   ]
  },
  {
   "cell_type": "code",
   "execution_count": null,
   "metadata": {},
   "outputs": [],
   "source": []
  },
  {
   "cell_type": "code",
   "execution_count": null,
   "metadata": {},
   "outputs": [],
   "source": []
  },
  {
   "cell_type": "code",
   "execution_count": 4,
   "metadata": {},
   "outputs": [],
   "source": [
    "def best_person(group, last_people, remove = True):\n",
    "    mid_dict = {}\n",
    "    for i in last_people:\n",
    "        sum_1_to_others = 0\n",
    "        for j in list_groups[group - 1]:\n",
    "            try:\n",
    "                sum_1_to_others += full_dict_relations[i][j]\n",
    "            except:\n",
    "                pass\n",
    "            try:\n",
    "                sum_1_to_others += full_dict_relations[j][i]\n",
    "            except:\n",
    "                pass\n",
    "        mid_dict[i] = sum_1_to_others\n",
    "    sorted_dict = {k: v for k, v in sorted(mid_dict.items(), key=lambda item: item[1], reverse = True)}\n",
    "    a = list(sorted_dict.keys())[0]\n",
    "    if remove:\n",
    "        last_people.remove(a)\n",
    "#         print(a)\n",
    "    return a"
   ]
  },
  {
   "cell_type": "code",
   "execution_count": 5,
   "metadata": {},
   "outputs": [],
   "source": [
    "# получает номер группы, возвращает сумму\n",
    "def sum_relation(group, list_groups):\n",
    "    all_sum = 0\n",
    "    for i in list_groups[group - 1]:\n",
    "        for j in list_groups[group - 1]:\n",
    "            try:\n",
    "                all_sum += full_dict_relations[i][j]\n",
    "            except:\n",
    "                pass\n",
    "            try:\n",
    "                all_sum += full_dict_relations[j][i]\n",
    "            except:\n",
    "                pass\n",
    "    return all_sum"
   ]
  },
  {
   "cell_type": "code",
   "execution_count": 6,
   "metadata": {},
   "outputs": [],
   "source": [
    "# получает список групп, возвращает общую сумму и численность всех групп в сумме.\n",
    "def sum_all_groups(list_groups):\n",
    "    all_sum = 0\n",
    "    population = 0\n",
    "    for i in range(1, 7):\n",
    "        population += len(list_groups[i - 1])\n",
    "        all_sum += sum_relation(i, list_groups)\n",
    "    return all_sum, population"
   ]
  },
  {
   "cell_type": "code",
   "execution_count": 7,
   "metadata": {},
   "outputs": [],
   "source": [
    "# получает ключ человека в словаре отношений и номер группы.\n",
    "# возвращает человека и его вклад в цифрах.\n",
    "def contribution_one_person(person, num_group):\n",
    "    sum_contr = 0\n",
    "    for i in list_groups[num_group - 1]:\n",
    "        try:\n",
    "            sum_contr += full_dict_relations[person][i]\n",
    "        except:\n",
    "            pass\n",
    "        try:\n",
    "            sum_contr += full_dict_relations[i][person]\n",
    "        except:\n",
    "            pass\n",
    "    return (person, sum_contr)"
   ]
  },
  {
   "cell_type": "code",
   "execution_count": 3,
   "metadata": {},
   "outputs": [],
   "source": [
    "# reset\n",
    "list_groups = [[],[],[],[],[],[]]\n",
    "last_people_base = list(full_dict_relations.keys())\n",
    "last_people = list(full_dict_relations.keys())"
   ]
  },
  {
   "cell_type": "code",
   "execution_count": null,
   "metadata": {},
   "outputs": [],
   "source": []
  },
  {
   "cell_type": "code",
   "execution_count": 646,
   "metadata": {},
   "outputs": [],
   "source": [
    "# найти шесть лучших пятнадцаток."
   ]
  },
  {
   "cell_type": "code",
   "execution_count": 11,
   "metadata": {},
   "outputs": [],
   "source": [
    "for i in range(6):\n",
    "    dict_10_groups = {}\n",
    "    for k in last_people_base[:]:     \n",
    "        list_groups[i] = []\n",
    "        last_people = last_people_base[:]\n",
    "        list_groups[i].append(k)\n",
    "        last_people.remove(k)\n",
    "        for j in range(14):\n",
    "            list_groups[i].append(best_person(i + 1, last_people, remove = True))\n",
    "        a = sum_relation(i + 1, list_groups = list_groups)\n",
    "        dict_10_groups[a] = list_groups[i] \n",
    "    list_groups[i] = [] #зачем?\n",
    "    list_groups[i] = dict_10_groups[max(dict_10_groups)]\n",
    "\n",
    "    for people in list_groups[i]:\n",
    "        last_people_base.remove(people)"
   ]
  },
  {
   "cell_type": "code",
   "execution_count": 12,
   "metadata": {},
   "outputs": [
    {
     "data": {
      "text/plain": [
       "(2648.0, 90)"
      ]
     },
     "execution_count": 12,
     "metadata": {},
     "output_type": "execute_result"
    }
   ],
   "source": [
    "sum_all_groups(list_groups = list_groups)"
   ]
  },
  {
   "cell_type": "code",
   "execution_count": 5,
   "metadata": {},
   "outputs": [],
   "source": [
    "# их заполнить с перетасовкой"
   ]
  },
  {
   "cell_type": "code",
   "execution_count": 8,
   "metadata": {},
   "outputs": [],
   "source": [
    "# дать группу человека, его имя и коэф для тюна. Возвращает список рациональных переходов для этого человека.\n",
    "def allowed_groups(group, name, coeff_min):\n",
    "    _, current_contr = contribution_one_person(name, group)\n",
    "    minim_contrib = current_contr / coeff_min\n",
    "    list_allowed_groups = []\n",
    "    for i in range(6):\n",
    "        _, contr = contribution_one_person(name, i + 1)\n",
    "        if contr > minim_contrib or current_contr == 0:\n",
    "            list_allowed_groups.append(i + 1)\n",
    "    if group not in list_allowed_groups:\n",
    "        list_allowed_groups.append(group)\n",
    "    return list_allowed_groups"
   ]
  },
  {
   "cell_type": "code",
   "execution_count": 9,
   "metadata": {},
   "outputs": [],
   "source": [
    "# дать словарь возможных комбинация. Возвращает количество комбинаций.\n",
    "def num_comb(dictionary):\n",
    "    list_comb = []\n",
    "    n_comb = 1\n",
    "    for key, value in dictionary.items():\n",
    "        n_comb = n_comb * len(value)\n",
    "    return n_comb"
   ]
  },
  {
   "cell_type": "code",
   "execution_count": null,
   "metadata": {},
   "outputs": [],
   "source": []
  },
  {
   "cell_type": "code",
   "execution_count": 54,
   "metadata": {},
   "outputs": [],
   "source": [
    "# работает неплохо. Но группы могут быть произвольной длины. И кодом пытался это предотвратить, выдавал ошибку.\n",
    "# дать словарь с возможными комбинациями и список групп. Он выдаст новую комбинацию.\n",
    "def best_combination(dictionary, groups):\n",
    "    n_comb = num_comb(dictionary)\n",
    "    print(n_comb)\n",
    "    dict_comb = {}\n",
    "    ground_list_groups = copy.deepcopy(groups)\n",
    "    for i in range(n_comb):\n",
    "        ground_list_groups = copy.deepcopy(groups)\n",
    "        k = 0\n",
    "        for key, value in dictionary.items():\n",
    "            if len(value) > 1 and k == 0:\n",
    "                ground_list_groups[value.pop() - 1].append(key)\n",
    "                k += 1\n",
    "            else:\n",
    "                ground_list_groups[value[0] - 1].append(key)\n",
    "        sum_gr, _ = sum_all_groups(ground_list_groups)\n",
    "        print(sum_gr)\n",
    "        dict_comb[sum_gr] = copy.deepcopy(ground_list_groups)\n",
    "        \n",
    "    print(len(dict_comb))  \n",
    "#     dict1 = copy.deepcopy(dict_comb)\n",
    "#     for key, values in dict_comb.items():\n",
    "#         for i in values:\n",
    "#             if len(i) > 30:\n",
    "#                 del dict1[key]\n",
    "    return dict_comb[max(dict_comb)]   "
   ]
  },
  {
   "cell_type": "code",
   "execution_count": 56,
   "metadata": {},
   "outputs": [],
   "source": [
    "# пытался поменять ключ со значением. Плохо получилось.\n",
    "def best_combination(dictionary, groups):\n",
    "    n_comb = num_comb(dictionary)\n",
    "    print(n_comb)\n",
    "    dict_comb = {}\n",
    "    ground_list_groups = copy.deepcopy(groups)\n",
    "    for i in range(n_comb):\n",
    "        k = 0\n",
    "        ground_list_groups = copy.deepcopy(groups)\n",
    "        for key, value in dictionary.items():\n",
    "            if len(value) > 1 and k == 0:\n",
    "                ground_list_groups[value.pop() - 1].append(key)\n",
    "                k += 1\n",
    "            else:\n",
    "                ground_list_groups[value[0] - 1].append(key)\n",
    "        sum_gr, _ = sum_all_groups(list_groups = ground_list_groups)\n",
    "        dict_comb[str(ground_list_groups)] = sum_gr\n",
    "#         set_trace()\n",
    "    print(len(dict_comb))   \n",
    "#     dict1 = copy.deepcopy(dict_comb)\n",
    "#     for key, values in dict_comb.items():\n",
    "#         for i in eval(key):\n",
    "#             if len(i) > 30:\n",
    "#                 del dict1[key]\n",
    "    return eval(max(dict_comb, key=dict_comb.get))"
   ]
  },
  {
   "cell_type": "code",
   "execution_count": null,
   "metadata": {},
   "outputs": [],
   "source": []
  },
  {
   "cell_type": "code",
   "execution_count": 600,
   "metadata": {},
   "outputs": [],
   "source": []
  },
  {
   "cell_type": "code",
   "execution_count": 601,
   "metadata": {},
   "outputs": [],
   "source": []
  },
  {
   "cell_type": "code",
   "execution_count": null,
   "metadata": {},
   "outputs": [],
   "source": []
  },
  {
   "cell_type": "code",
   "execution_count": 368,
   "metadata": {},
   "outputs": [],
   "source": []
  },
  {
   "cell_type": "code",
   "execution_count": null,
   "metadata": {},
   "outputs": [],
   "source": []
  },
  {
   "cell_type": "code",
   "execution_count": 437,
   "metadata": {
    "scrolled": true
   },
   "outputs": [],
   "source": [
    "# dict_change_groups"
   ]
  },
  {
   "cell_type": "code",
   "execution_count": 15,
   "metadata": {},
   "outputs": [],
   "source": [
    "depth = 3\n",
    "coeff_min = 2\n",
    "# n_group_for_free = 3"
   ]
  },
  {
   "cell_type": "code",
   "execution_count": 27,
   "metadata": {},
   "outputs": [
    {
     "data": {
      "text/plain": [
       "84"
      ]
     },
     "execution_count": 27,
     "metadata": {},
     "output_type": "execute_result"
    }
   ],
   "source": [
    "len(last_people)"
   ]
  },
  {
   "cell_type": "code",
   "execution_count": null,
   "metadata": {},
   "outputs": [],
   "source": []
  },
  {
   "cell_type": "code",
   "execution_count": null,
   "metadata": {},
   "outputs": [],
   "source": []
  },
  {
   "cell_type": "code",
   "execution_count": null,
   "metadata": {},
   "outputs": [],
   "source": [
    "# делаю лишние копии, потому что у меня уже сдвиг на связанных списках."
   ]
  },
  {
   "cell_type": "code",
   "execution_count": 28,
   "metadata": {},
   "outputs": [
    {
     "name": "stdout",
     "output_type": "stream",
     "text": [
      "2650.0 91 29.12087912087912\n",
      "2654.0 92 28.847826086956523\n",
      "2679.0 93 28.806451612903224\n",
      "2687.0 94 28.585106382978722\n",
      "2691.0 95 28.326315789473686\n",
      "2706.0 96 28.1875\n",
      "2718.0 97 28.02061855670103\n",
      "2737.0 98 27.928571428571427\n",
      "2754.0 99 27.818181818181817\n",
      "2786.0 100 27.86\n",
      "2818.0 101 27.900990099009903\n",
      "2871.0 102 28.147058823529413\n",
      "2906.0 103 28.21359223300971\n",
      "2938.0 104 28.25\n",
      "2972.0 105 28.304761904761904\n",
      "3033.0 106 28.61320754716981\n",
      "3072.0 107 28.710280373831775\n",
      "3100.0 108 28.703703703703702\n",
      "3161.0 109 29.0\n",
      "3188.0 110 28.98181818181818\n",
      "3188.0 110 28.98181818181818\n",
      "3272.0 111 29.47747747747748\n",
      "3353.0 112 29.9375\n",
      "3422.0 113 30.283185840707965\n",
      "3466.0 114 30.403508771929825\n",
      "3538.0 115 30.765217391304347\n",
      "3591.0 116 30.95689655172414\n",
      "3641.0 117 31.11965811965812\n",
      "3715.0 118 31.483050847457626\n",
      "3769.0 119 31.672268907563026\n",
      "3833.0 120 31.941666666666666\n",
      "3917.0 121 32.37190082644628\n",
      "3987.0 122 32.68032786885246\n",
      "4049.0 123 32.91869918699187\n",
      "4139.0 124 33.37903225806452\n",
      "4254.0 125 34.032\n",
      "4320.0 126 34.285714285714285\n",
      "4439.0 127 34.95275590551181\n",
      "4545.0 128 35.5078125\n",
      "4632.0 129 35.906976744186046\n",
      "4742.0 130 36.47692307692308\n",
      "4875.0 131 37.213740458015266\n",
      "4977.0 132 37.70454545454545\n",
      "5081.0 133 38.203007518796994\n",
      "5121.0 134 38.21641791044776\n",
      "5177.0 135 38.34814814814815\n",
      "5221.0 136 38.38970588235294\n",
      "5262.0 137 38.40875912408759\n",
      "5300.0 138 38.405797101449274\n",
      "5344.0 139 38.44604316546763\n",
      "5386.0 140 38.47142857142857\n",
      "5459.0 141 38.716312056737586\n",
      "5505.0 142 38.767605633802816\n",
      "5568.0 143 38.93706293706294\n",
      "5602.0 144 38.90277777777778\n",
      "5633.0 145 38.84827586206897\n",
      "5671.0 146 38.842465753424655\n",
      "5693.0 147 38.72789115646258\n",
      "5729.0 148 38.70945945945946\n",
      "5764.0 149 38.68456375838926\n",
      "5787.0 150 38.58\n",
      "5832.0 151 38.62251655629139\n",
      "5862.0 152 38.56578947368421\n",
      "5915.0 153 38.66013071895425\n",
      "5945.0 154 38.603896103896105\n",
      "5982.0 155 38.593548387096774\n",
      "6021.0 156 38.59615384615385\n",
      "6067.0 157 38.64331210191083\n",
      "6134.0 158 38.822784810126585\n",
      "6198.0 159 38.9811320754717\n",
      "6245.0 160 39.03125\n",
      "6299.0 161 39.12422360248447\n",
      "6360.0 162 39.25925925925926\n",
      "6418.0 163 39.374233128834355\n",
      "6452.0 164 39.34146341463415\n",
      "6488.0 165 39.32121212121212\n",
      "6526.0 166 39.31325301204819\n",
      "6571.0 167 39.34730538922156\n",
      "6607.0 168 39.32738095238095\n",
      "6661.0 169 39.414201183431956\n",
      "6711.0 170 39.476470588235294\n",
      "6754.0 171 39.49707602339181\n",
      "6788.0 172 39.46511627906977\n",
      "6840.0 173 39.53757225433526\n"
     ]
    }
   ],
   "source": [
    "while len(last_people) > 0:\n",
    "#     pull_students = []\n",
    "    dict_min = {}\n",
    "    for group in range(6):\n",
    "        dict_rel = {}\n",
    "        for i in list_groups[group]:\n",
    "            name, contr = contribution_one_person(i, group + 1)\n",
    "            dict_rel[name] = contr\n",
    "        list_min = []\n",
    "        for i in sorted(dict_rel.items(), key=lambda item: item[1])[:depth]:\n",
    "            list_min.append(i[0])\n",
    "        dict_min[group + 1] = list_min\n",
    "        for i in list_min:\n",
    "            list_groups[group].remove(i)\n",
    "#         pull_students.append(last_min)\n",
    "    dict_change_groups = {}\n",
    "    for key, value in dict_min.items():\n",
    "        for i in value:\n",
    "            dict_change_groups[i] = allowed_groups(key, i, coeff_min)\n",
    "    free = last_people.pop()\n",
    "#     pull_students.append(free)\n",
    "    dict_change_groups[free] = list(range(1, 7))\n",
    "#     for i in pull_students:\n",
    "#     n_comb = num_comb(dict_change_groups)\n",
    "    new_list_groups = copy.deepcopy(best_combination(dict_change_groups, copy.deepcopy(list_groups)))\n",
    "    all_sum, pop = sum_all_groups(list_groups = new_list_groups)\n",
    "    print(all_sum, pop, all_sum / pop)\n",
    "    list_groups = copy.deepcopy(new_list_groups)\n",
    "    "
   ]
  },
  {
   "cell_type": "code",
   "execution_count": 57,
   "metadata": {
    "pixiedust": {
     "displayParams": {}
    }
   },
   "outputs": [
    {
     "name": "stdout",
     "output_type": "stream",
     "text": [
      "72\n",
      "[['Amos Finley', 'Hermelinda Kamer', 'Aleisha Cherry', 'Neal Rustin', 'German Shelton', 'Sina Maggio', 'Armand Valencia', 'Michale Anthony', 'Peggy Menter', 'Mack Geyer', 'Kathie Moses', 'Jay Luper', 'Thomas Munch', 'Barrie Youmans', 'Leonor Simons', 'Ruby Lester'], ['Houston Leblanc', 'Belia Avey', 'Stacy Wilkinson', 'Nanette Shepherd', 'Joann Huynh', 'Dewayne Kaiser', 'Keenan Stewart', 'Klara Pagani', 'Cris Brundidge', 'Mandi Sponsler', 'Tracey Duarte', 'Marinda Mccotter', 'Genevive Calle', 'Hosea Kelley', 'Gaston Fitts'], ['Aaron Sharp', 'Felix Laursen', 'Franklyn Palmer', 'Marlin Burns', 'Shanice Kriss', 'Jeannine Valone', 'Edison Nelson', 'Marcus Quinley', 'Miguel Andres', 'Effie Mercado', 'Alan Franklin', 'Aileen Kramer', 'Mathew Livingston', 'Eryn Knick', 'Landon Mason', 'Trudy Barber', 'Krystal Martin', 'Alta Schroeder', 'Avery Petrus', 'Marth Valcourt', 'Freddy Gosier', 'Florencio Pittman', 'Pok Elsasser', 'Ludie Gee', 'Rosalinda Boren', 'Corinne Gebo', 'Lincoln Good', 'Elyse Desantis', 'Mona Lamb', 'Barrett Marson', 'Donnell Barnett', 'Herschel Neifert', 'Sherly Candela', 'Ramiro Hess', 'Nathaniel Gonzales'], ['Deangelo Ibarra', 'Sandra Spradling', 'Dario Grimes', 'Dominic Schaefer', 'Tim Prince', 'Eusebio Santana', 'Thao Carle', 'Eli Wise', 'Rebecca Koh', 'Scotty Heald', 'Tonia Vega', 'Keli Schooler', 'Deeanna Wiers', 'Alton Edelson', 'Stacie Gillespie'], ['Katrina Tocco', 'Jamie Mayer', 'Twila Nesbitt', 'Jovita Quattlebaum', 'Monique Bradford', 'Diana Svoboda', 'Arturo Nunez', 'Olive Cobb', 'Cortez Walker', 'Manuel Ramsey', 'Theodore Hess', 'Carolyn Fred', 'Abraham Callan', 'Errol Fox', 'Cora Gautier'], ['Ruby Lester', 'Clay Powell', 'Rory Holmes', 'Julissa Riggins', 'William Blind', 'Manuela George', 'Earline Mcpherson', 'Erna Krueger', 'Bobby Bowers', 'Shanae Stoughton', 'Chas French', 'Rosie Watkins', 'Clay Powell', 'Shanae Stoughton', 'Julissa Riggins', 'Bao Wilde', 'Erna Krueger', 'Kristi Meunier', 'Manuela George', 'Trena Sebree', 'Bao Wilde', 'Rory Holmes', 'Daron Sheth', 'Mary Aguilar', 'Rosie Watkins', 'Earline Mcpherson', 'Jeri Curry', 'Leland Harris', 'Darell Mcglown', 'Wilton Atkinson', 'Verda Bedford']]\n",
      "[['Amos Finley', 'Hermelinda Kamer', 'Aleisha Cherry', 'Neal Rustin', 'German Shelton', 'Sina Maggio', 'Armand Valencia', 'Michale Anthony', 'Peggy Menter', 'Mack Geyer', 'Kathie Moses', 'Jay Luper', 'Thomas Munch', 'Barrie Youmans', 'Leonor Simons', 'Ruby Lester'], ['Houston Leblanc', 'Belia Avey', 'Stacy Wilkinson', 'Nanette Shepherd', 'Joann Huynh', 'Dewayne Kaiser', 'Keenan Stewart', 'Klara Pagani', 'Cris Brundidge', 'Mandi Sponsler', 'Tracey Duarte', 'Marinda Mccotter', 'Genevive Calle', 'Hosea Kelley', 'Gaston Fitts'], ['Aaron Sharp', 'Felix Laursen', 'Franklyn Palmer', 'Marlin Burns', 'Shanice Kriss', 'Jeannine Valone', 'Edison Nelson', 'Marcus Quinley', 'Miguel Andres', 'Effie Mercado', 'Alan Franklin', 'Aileen Kramer', 'Mathew Livingston', 'Eryn Knick', 'Landon Mason', 'Trudy Barber', 'Krystal Martin', 'Alta Schroeder', 'Avery Petrus', 'Marth Valcourt', 'Freddy Gosier', 'Florencio Pittman', 'Pok Elsasser', 'Ludie Gee', 'Rosalinda Boren', 'Corinne Gebo', 'Lincoln Good', 'Elyse Desantis', 'Mona Lamb', 'Barrett Marson', 'Donnell Barnett', 'Herschel Neifert', 'Sherly Candela', 'Ramiro Hess', 'Nathaniel Gonzales'], ['Deangelo Ibarra', 'Sandra Spradling', 'Dario Grimes', 'Dominic Schaefer', 'Tim Prince', 'Eusebio Santana', 'Thao Carle', 'Eli Wise', 'Rebecca Koh', 'Scotty Heald', 'Tonia Vega', 'Keli Schooler', 'Deeanna Wiers', 'Alton Edelson', 'Stacie Gillespie'], ['Katrina Tocco', 'Jamie Mayer', 'Twila Nesbitt', 'Jovita Quattlebaum', 'Monique Bradford', 'Diana Svoboda', 'Arturo Nunez', 'Olive Cobb', 'Cortez Walker', 'Manuel Ramsey', 'Theodore Hess', 'Carolyn Fred', 'Leland Harris', 'Abraham Callan', 'Errol Fox', 'Cora Gautier'], ['Ruby Lester', 'Clay Powell', 'Rory Holmes', 'Julissa Riggins', 'William Blind', 'Manuela George', 'Earline Mcpherson', 'Erna Krueger', 'Bobby Bowers', 'Shanae Stoughton', 'Chas French', 'Rosie Watkins', 'Clay Powell', 'Shanae Stoughton', 'Julissa Riggins', 'Bao Wilde', 'Erna Krueger', 'Kristi Meunier', 'Manuela George', 'Trena Sebree', 'Bao Wilde', 'Rory Holmes', 'Daron Sheth', 'Mary Aguilar', 'Rosie Watkins', 'Earline Mcpherson', 'Jeri Curry', 'Darell Mcglown', 'Wilton Atkinson', 'Verda Bedford']]\n",
      "[['Amos Finley', 'Hermelinda Kamer', 'Aleisha Cherry', 'Neal Rustin', 'German Shelton', 'Sina Maggio', 'Armand Valencia', 'Michale Anthony', 'Peggy Menter', 'Mack Geyer', 'Kathie Moses', 'Jay Luper', 'Thomas Munch', 'Barrie Youmans', 'Leonor Simons', 'Ruby Lester'], ['Houston Leblanc', 'Belia Avey', 'Stacy Wilkinson', 'Nanette Shepherd', 'Joann Huynh', 'Dewayne Kaiser', 'Keenan Stewart', 'Klara Pagani', 'Cris Brundidge', 'Mandi Sponsler', 'Tracey Duarte', 'Marinda Mccotter', 'Genevive Calle', 'Hosea Kelley', 'Gaston Fitts'], ['Aaron Sharp', 'Felix Laursen', 'Franklyn Palmer', 'Marlin Burns', 'Shanice Kriss', 'Jeannine Valone', 'Edison Nelson', 'Marcus Quinley', 'Miguel Andres', 'Effie Mercado', 'Alan Franklin', 'Aileen Kramer', 'Mathew Livingston', 'Eryn Knick', 'Landon Mason', 'Trudy Barber', 'Krystal Martin', 'Alta Schroeder', 'Avery Petrus', 'Marth Valcourt', 'Freddy Gosier', 'Florencio Pittman', 'Pok Elsasser', 'Ludie Gee', 'Rosalinda Boren', 'Corinne Gebo', 'Lincoln Good', 'Elyse Desantis', 'Mona Lamb', 'Barrett Marson', 'Donnell Barnett', 'Herschel Neifert', 'Sherly Candela', 'Ramiro Hess', 'Nathaniel Gonzales'], ['Deangelo Ibarra', 'Sandra Spradling', 'Dario Grimes', 'Dominic Schaefer', 'Tim Prince', 'Eusebio Santana', 'Thao Carle', 'Eli Wise', 'Rebecca Koh', 'Scotty Heald', 'Tonia Vega', 'Keli Schooler', 'Leland Harris', 'Deeanna Wiers', 'Alton Edelson', 'Stacie Gillespie'], ['Katrina Tocco', 'Jamie Mayer', 'Twila Nesbitt', 'Jovita Quattlebaum', 'Monique Bradford', 'Diana Svoboda', 'Arturo Nunez', 'Olive Cobb', 'Cortez Walker', 'Manuel Ramsey', 'Theodore Hess', 'Carolyn Fred', 'Abraham Callan', 'Errol Fox', 'Cora Gautier'], ['Ruby Lester', 'Clay Powell', 'Rory Holmes', 'Julissa Riggins', 'William Blind', 'Manuela George', 'Earline Mcpherson', 'Erna Krueger', 'Bobby Bowers', 'Shanae Stoughton', 'Chas French', 'Rosie Watkins', 'Clay Powell', 'Shanae Stoughton', 'Julissa Riggins', 'Bao Wilde', 'Erna Krueger', 'Kristi Meunier', 'Manuela George', 'Trena Sebree', 'Bao Wilde', 'Rory Holmes', 'Daron Sheth', 'Mary Aguilar', 'Rosie Watkins', 'Earline Mcpherson', 'Jeri Curry', 'Darell Mcglown', 'Wilton Atkinson', 'Verda Bedford']]\n",
      "[['Amos Finley', 'Hermelinda Kamer', 'Aleisha Cherry', 'Neal Rustin', 'German Shelton', 'Sina Maggio', 'Armand Valencia', 'Michale Anthony', 'Peggy Menter', 'Mack Geyer', 'Kathie Moses', 'Jay Luper', 'Thomas Munch', 'Barrie Youmans', 'Leonor Simons', 'Ruby Lester'], ['Houston Leblanc', 'Belia Avey', 'Stacy Wilkinson', 'Nanette Shepherd', 'Joann Huynh', 'Dewayne Kaiser', 'Keenan Stewart', 'Klara Pagani', 'Cris Brundidge', 'Mandi Sponsler', 'Tracey Duarte', 'Marinda Mccotter', 'Genevive Calle', 'Hosea Kelley', 'Gaston Fitts'], ['Aaron Sharp', 'Felix Laursen', 'Franklyn Palmer', 'Marlin Burns', 'Shanice Kriss', 'Jeannine Valone', 'Edison Nelson', 'Marcus Quinley', 'Miguel Andres', 'Effie Mercado', 'Alan Franklin', 'Aileen Kramer', 'Mathew Livingston', 'Eryn Knick', 'Landon Mason', 'Trudy Barber', 'Krystal Martin', 'Alta Schroeder', 'Avery Petrus', 'Marth Valcourt', 'Freddy Gosier', 'Florencio Pittman', 'Pok Elsasser', 'Ludie Gee', 'Rosalinda Boren', 'Corinne Gebo', 'Lincoln Good', 'Elyse Desantis', 'Mona Lamb', 'Barrett Marson', 'Donnell Barnett', 'Herschel Neifert', 'Leland Harris', 'Sherly Candela', 'Ramiro Hess', 'Nathaniel Gonzales'], ['Deangelo Ibarra', 'Sandra Spradling', 'Dario Grimes', 'Dominic Schaefer', 'Tim Prince', 'Eusebio Santana', 'Thao Carle', 'Eli Wise', 'Rebecca Koh', 'Scotty Heald', 'Tonia Vega', 'Keli Schooler', 'Deeanna Wiers', 'Alton Edelson', 'Stacie Gillespie'], ['Katrina Tocco', 'Jamie Mayer', 'Twila Nesbitt', 'Jovita Quattlebaum', 'Monique Bradford', 'Diana Svoboda', 'Arturo Nunez', 'Olive Cobb', 'Cortez Walker', 'Manuel Ramsey', 'Theodore Hess', 'Carolyn Fred', 'Abraham Callan', 'Errol Fox', 'Cora Gautier'], ['Ruby Lester', 'Clay Powell', 'Rory Holmes', 'Julissa Riggins', 'William Blind', 'Manuela George', 'Earline Mcpherson', 'Erna Krueger', 'Bobby Bowers', 'Shanae Stoughton', 'Chas French', 'Rosie Watkins', 'Clay Powell', 'Shanae Stoughton', 'Julissa Riggins', 'Bao Wilde', 'Erna Krueger', 'Kristi Meunier', 'Manuela George', 'Trena Sebree', 'Bao Wilde', 'Rory Holmes', 'Daron Sheth', 'Mary Aguilar', 'Rosie Watkins', 'Earline Mcpherson', 'Jeri Curry', 'Darell Mcglown', 'Wilton Atkinson', 'Verda Bedford']]\n",
      "[['Amos Finley', 'Hermelinda Kamer', 'Aleisha Cherry', 'Neal Rustin', 'German Shelton', 'Sina Maggio', 'Armand Valencia', 'Michale Anthony', 'Peggy Menter', 'Mack Geyer', 'Kathie Moses', 'Jay Luper', 'Thomas Munch', 'Barrie Youmans', 'Leonor Simons', 'Ruby Lester'], ['Houston Leblanc', 'Belia Avey', 'Stacy Wilkinson', 'Nanette Shepherd', 'Joann Huynh', 'Dewayne Kaiser', 'Keenan Stewart', 'Klara Pagani', 'Cris Brundidge', 'Mandi Sponsler', 'Tracey Duarte', 'Marinda Mccotter', 'Leland Harris', 'Genevive Calle', 'Hosea Kelley', 'Gaston Fitts'], ['Aaron Sharp', 'Felix Laursen', 'Franklyn Palmer', 'Marlin Burns', 'Shanice Kriss', 'Jeannine Valone', 'Edison Nelson', 'Marcus Quinley', 'Miguel Andres', 'Effie Mercado', 'Alan Franklin', 'Aileen Kramer', 'Mathew Livingston', 'Eryn Knick', 'Landon Mason', 'Trudy Barber', 'Krystal Martin', 'Alta Schroeder', 'Avery Petrus', 'Marth Valcourt', 'Freddy Gosier', 'Florencio Pittman', 'Pok Elsasser', 'Ludie Gee', 'Rosalinda Boren', 'Corinne Gebo', 'Lincoln Good', 'Elyse Desantis', 'Mona Lamb', 'Barrett Marson', 'Donnell Barnett', 'Herschel Neifert', 'Sherly Candela', 'Ramiro Hess', 'Nathaniel Gonzales'], ['Deangelo Ibarra', 'Sandra Spradling', 'Dario Grimes', 'Dominic Schaefer', 'Tim Prince', 'Eusebio Santana', 'Thao Carle', 'Eli Wise', 'Rebecca Koh', 'Scotty Heald', 'Tonia Vega', 'Keli Schooler', 'Deeanna Wiers', 'Alton Edelson', 'Stacie Gillespie'], ['Katrina Tocco', 'Jamie Mayer', 'Twila Nesbitt', 'Jovita Quattlebaum', 'Monique Bradford', 'Diana Svoboda', 'Arturo Nunez', 'Olive Cobb', 'Cortez Walker', 'Manuel Ramsey', 'Theodore Hess', 'Carolyn Fred', 'Abraham Callan', 'Errol Fox', 'Cora Gautier'], ['Ruby Lester', 'Clay Powell', 'Rory Holmes', 'Julissa Riggins', 'William Blind', 'Manuela George', 'Earline Mcpherson', 'Erna Krueger', 'Bobby Bowers', 'Shanae Stoughton', 'Chas French', 'Rosie Watkins', 'Clay Powell', 'Shanae Stoughton', 'Julissa Riggins', 'Bao Wilde', 'Erna Krueger', 'Kristi Meunier', 'Manuela George', 'Trena Sebree', 'Bao Wilde', 'Rory Holmes', 'Daron Sheth', 'Mary Aguilar', 'Rosie Watkins', 'Earline Mcpherson', 'Jeri Curry', 'Darell Mcglown', 'Wilton Atkinson', 'Verda Bedford']]\n",
      "[['Amos Finley', 'Hermelinda Kamer', 'Aleisha Cherry', 'Neal Rustin', 'German Shelton', 'Sina Maggio', 'Armand Valencia', 'Michale Anthony', 'Peggy Menter', 'Mack Geyer', 'Kathie Moses', 'Jay Luper', 'Thomas Munch', 'Leland Harris', 'Barrie Youmans', 'Leonor Simons', 'Ruby Lester'], ['Houston Leblanc', 'Belia Avey', 'Stacy Wilkinson', 'Nanette Shepherd', 'Joann Huynh', 'Dewayne Kaiser', 'Keenan Stewart', 'Klara Pagani', 'Cris Brundidge', 'Mandi Sponsler', 'Tracey Duarte', 'Marinda Mccotter', 'Genevive Calle', 'Hosea Kelley', 'Gaston Fitts'], ['Aaron Sharp', 'Felix Laursen', 'Franklyn Palmer', 'Marlin Burns', 'Shanice Kriss', 'Jeannine Valone', 'Edison Nelson', 'Marcus Quinley', 'Miguel Andres', 'Effie Mercado', 'Alan Franklin', 'Aileen Kramer', 'Mathew Livingston', 'Eryn Knick', 'Landon Mason', 'Trudy Barber', 'Krystal Martin', 'Alta Schroeder', 'Avery Petrus', 'Marth Valcourt', 'Freddy Gosier', 'Florencio Pittman', 'Pok Elsasser', 'Ludie Gee', 'Rosalinda Boren', 'Corinne Gebo', 'Lincoln Good', 'Elyse Desantis', 'Mona Lamb', 'Barrett Marson', 'Donnell Barnett', 'Herschel Neifert', 'Sherly Candela', 'Nathaniel Gonzales'], ['Deangelo Ibarra', 'Sandra Spradling', 'Dario Grimes', 'Dominic Schaefer', 'Tim Prince', 'Eusebio Santana', 'Thao Carle', 'Eli Wise', 'Rebecca Koh', 'Scotty Heald', 'Tonia Vega', 'Keli Schooler', 'Deeanna Wiers', 'Alton Edelson', 'Stacie Gillespie'], ['Katrina Tocco', 'Jamie Mayer', 'Twila Nesbitt', 'Jovita Quattlebaum', 'Monique Bradford', 'Diana Svoboda', 'Arturo Nunez', 'Olive Cobb', 'Cortez Walker', 'Manuel Ramsey', 'Theodore Hess', 'Carolyn Fred', 'Abraham Callan', 'Errol Fox', 'Cora Gautier'], ['Ruby Lester', 'Clay Powell', 'Rory Holmes', 'Julissa Riggins', 'William Blind', 'Manuela George', 'Earline Mcpherson', 'Erna Krueger', 'Bobby Bowers', 'Shanae Stoughton', 'Chas French', 'Rosie Watkins', 'Clay Powell', 'Shanae Stoughton', 'Julissa Riggins', 'Bao Wilde', 'Erna Krueger', 'Kristi Meunier', 'Manuela George', 'Trena Sebree', 'Bao Wilde', 'Rory Holmes', 'Daron Sheth', 'Mary Aguilar', 'Rosie Watkins', 'Earline Mcpherson', 'Jeri Curry', 'Ramiro Hess', 'Darell Mcglown', 'Wilton Atkinson', 'Verda Bedford']]\n",
      "[['Amos Finley', 'Hermelinda Kamer', 'Aleisha Cherry', 'Neal Rustin', 'German Shelton', 'Sina Maggio', 'Armand Valencia', 'Michale Anthony', 'Peggy Menter', 'Mack Geyer', 'Kathie Moses', 'Jay Luper', 'Thomas Munch', 'Leland Harris', 'Barrie Youmans', 'Leonor Simons'], ['Houston Leblanc', 'Belia Avey', 'Stacy Wilkinson', 'Nanette Shepherd', 'Joann Huynh', 'Dewayne Kaiser', 'Keenan Stewart', 'Klara Pagani', 'Cris Brundidge', 'Mandi Sponsler', 'Tracey Duarte', 'Marinda Mccotter', 'Genevive Calle', 'Hosea Kelley', 'Gaston Fitts'], ['Aaron Sharp', 'Felix Laursen', 'Franklyn Palmer', 'Marlin Burns', 'Shanice Kriss', 'Jeannine Valone', 'Edison Nelson', 'Marcus Quinley', 'Miguel Andres', 'Effie Mercado', 'Alan Franklin', 'Aileen Kramer', 'Mathew Livingston', 'Eryn Knick', 'Landon Mason', 'Trudy Barber', 'Krystal Martin', 'Alta Schroeder', 'Avery Petrus', 'Marth Valcourt', 'Freddy Gosier', 'Florencio Pittman', 'Pok Elsasser', 'Ludie Gee', 'Rosalinda Boren', 'Corinne Gebo', 'Lincoln Good', 'Elyse Desantis', 'Mona Lamb', 'Barrett Marson', 'Donnell Barnett', 'Herschel Neifert', 'Sherly Candela', 'Ramiro Hess', 'Nathaniel Gonzales'], ['Deangelo Ibarra', 'Sandra Spradling', 'Dario Grimes', 'Dominic Schaefer', 'Tim Prince', 'Eusebio Santana', 'Thao Carle', 'Eli Wise', 'Rebecca Koh', 'Scotty Heald', 'Tonia Vega', 'Keli Schooler', 'Deeanna Wiers', 'Alton Edelson', 'Stacie Gillespie'], ['Katrina Tocco', 'Jamie Mayer', 'Twila Nesbitt', 'Jovita Quattlebaum', 'Monique Bradford', 'Diana Svoboda', 'Arturo Nunez', 'Olive Cobb', 'Cortez Walker', 'Manuel Ramsey', 'Theodore Hess', 'Carolyn Fred', 'Abraham Callan', 'Errol Fox', 'Cora Gautier'], ['Ruby Lester', 'Clay Powell', 'Rory Holmes', 'Julissa Riggins', 'William Blind', 'Manuela George', 'Earline Mcpherson', 'Erna Krueger', 'Bobby Bowers', 'Shanae Stoughton', 'Chas French', 'Rosie Watkins', 'Clay Powell', 'Shanae Stoughton', 'Julissa Riggins', 'Bao Wilde', 'Erna Krueger', 'Kristi Meunier', 'Manuela George', 'Trena Sebree', 'Bao Wilde', 'Rory Holmes', 'Daron Sheth', 'Mary Aguilar', 'Rosie Watkins', 'Earline Mcpherson', 'Jeri Curry', 'Darell Mcglown', 'Wilton Atkinson', 'Verda Bedford', 'Ruby Lester']]\n",
      "[['Amos Finley', 'Hermelinda Kamer', 'Aleisha Cherry', 'Neal Rustin', 'German Shelton', 'Sina Maggio', 'Armand Valencia', 'Michale Anthony', 'Peggy Menter', 'Mack Geyer', 'Kathie Moses', 'Jay Luper', 'Thomas Munch', 'Leland Harris', 'Barrie Youmans', 'Leonor Simons'], ['Houston Leblanc', 'Belia Avey', 'Stacy Wilkinson', 'Nanette Shepherd', 'Joann Huynh', 'Dewayne Kaiser', 'Keenan Stewart', 'Klara Pagani', 'Cris Brundidge', 'Mandi Sponsler', 'Tracey Duarte', 'Marinda Mccotter', 'Genevive Calle', 'Hosea Kelley', 'Gaston Fitts'], ['Aaron Sharp', 'Felix Laursen', 'Franklyn Palmer', 'Marlin Burns', 'Shanice Kriss', 'Jeannine Valone', 'Edison Nelson', 'Marcus Quinley', 'Miguel Andres', 'Effie Mercado', 'Alan Franklin', 'Aileen Kramer', 'Mathew Livingston', 'Eryn Knick', 'Landon Mason', 'Trudy Barber', 'Krystal Martin', 'Alta Schroeder', 'Avery Petrus', 'Marth Valcourt', 'Freddy Gosier', 'Florencio Pittman', 'Pok Elsasser', 'Ludie Gee', 'Rosalinda Boren', 'Corinne Gebo', 'Lincoln Good', 'Elyse Desantis', 'Mona Lamb', 'Barrett Marson', 'Donnell Barnett', 'Herschel Neifert', 'Sherly Candela', 'Ramiro Hess', 'Nathaniel Gonzales'], ['Deangelo Ibarra', 'Sandra Spradling', 'Dario Grimes', 'Dominic Schaefer', 'Tim Prince', 'Eusebio Santana', 'Thao Carle', 'Eli Wise', 'Rebecca Koh', 'Scotty Heald', 'Tonia Vega', 'Keli Schooler', 'Deeanna Wiers', 'Alton Edelson', 'Stacie Gillespie'], ['Katrina Tocco', 'Jamie Mayer', 'Twila Nesbitt', 'Jovita Quattlebaum', 'Monique Bradford', 'Diana Svoboda', 'Arturo Nunez', 'Olive Cobb', 'Cortez Walker', 'Manuel Ramsey', 'Theodore Hess', 'Carolyn Fred', 'Abraham Callan', 'Errol Fox', 'Cora Gautier', 'Ruby Lester'], ['Ruby Lester', 'Clay Powell', 'Rory Holmes', 'Julissa Riggins', 'William Blind', 'Manuela George', 'Earline Mcpherson', 'Erna Krueger', 'Bobby Bowers', 'Shanae Stoughton', 'Chas French', 'Rosie Watkins', 'Clay Powell', 'Shanae Stoughton', 'Julissa Riggins', 'Bao Wilde', 'Erna Krueger', 'Kristi Meunier', 'Manuela George', 'Trena Sebree', 'Bao Wilde', 'Rory Holmes', 'Daron Sheth', 'Mary Aguilar', 'Rosie Watkins', 'Earline Mcpherson', 'Jeri Curry', 'Darell Mcglown', 'Wilton Atkinson', 'Verda Bedford']]\n",
      "[['Amos Finley', 'Hermelinda Kamer', 'Aleisha Cherry', 'Neal Rustin', 'German Shelton', 'Sina Maggio', 'Armand Valencia', 'Michale Anthony', 'Peggy Menter', 'Mack Geyer', 'Kathie Moses', 'Jay Luper', 'Thomas Munch', 'Leland Harris', 'Barrie Youmans', 'Leonor Simons'], ['Houston Leblanc', 'Belia Avey', 'Stacy Wilkinson', 'Nanette Shepherd', 'Joann Huynh', 'Dewayne Kaiser', 'Keenan Stewart', 'Klara Pagani', 'Cris Brundidge', 'Mandi Sponsler', 'Tracey Duarte', 'Marinda Mccotter', 'Genevive Calle', 'Hosea Kelley', 'Gaston Fitts'], ['Aaron Sharp', 'Felix Laursen', 'Franklyn Palmer', 'Marlin Burns', 'Shanice Kriss', 'Jeannine Valone', 'Edison Nelson', 'Marcus Quinley', 'Miguel Andres', 'Effie Mercado', 'Alan Franklin', 'Aileen Kramer', 'Mathew Livingston', 'Eryn Knick', 'Landon Mason', 'Trudy Barber', 'Krystal Martin', 'Alta Schroeder', 'Avery Petrus', 'Marth Valcourt', 'Freddy Gosier', 'Florencio Pittman', 'Pok Elsasser', 'Ludie Gee', 'Rosalinda Boren', 'Corinne Gebo', 'Lincoln Good', 'Elyse Desantis', 'Mona Lamb', 'Barrett Marson', 'Donnell Barnett', 'Herschel Neifert', 'Sherly Candela', 'Ramiro Hess', 'Nathaniel Gonzales'], ['Deangelo Ibarra', 'Sandra Spradling', 'Dario Grimes', 'Dominic Schaefer', 'Tim Prince', 'Eusebio Santana', 'Thao Carle', 'Eli Wise', 'Rebecca Koh', 'Scotty Heald', 'Tonia Vega', 'Keli Schooler', 'Deeanna Wiers', 'Alton Edelson', 'Stacie Gillespie', 'Ruby Lester'], ['Katrina Tocco', 'Jamie Mayer', 'Twila Nesbitt', 'Jovita Quattlebaum', 'Monique Bradford', 'Diana Svoboda', 'Arturo Nunez', 'Olive Cobb', 'Cortez Walker', 'Manuel Ramsey', 'Theodore Hess', 'Carolyn Fred', 'Abraham Callan', 'Errol Fox', 'Cora Gautier'], ['Ruby Lester', 'Clay Powell', 'Rory Holmes', 'Julissa Riggins', 'William Blind', 'Manuela George', 'Earline Mcpherson', 'Erna Krueger', 'Bobby Bowers', 'Shanae Stoughton', 'Chas French', 'Rosie Watkins', 'Clay Powell', 'Shanae Stoughton', 'Julissa Riggins', 'Bao Wilde', 'Erna Krueger', 'Kristi Meunier', 'Manuela George', 'Trena Sebree', 'Bao Wilde', 'Rory Holmes', 'Daron Sheth', 'Mary Aguilar', 'Rosie Watkins', 'Earline Mcpherson', 'Jeri Curry', 'Darell Mcglown', 'Wilton Atkinson', 'Verda Bedford']]\n",
      "[['Amos Finley', 'Hermelinda Kamer', 'Aleisha Cherry', 'Neal Rustin', 'German Shelton', 'Sina Maggio', 'Armand Valencia', 'Michale Anthony', 'Peggy Menter', 'Mack Geyer', 'Kathie Moses', 'Jay Luper', 'Thomas Munch', 'Leland Harris', 'Barrie Youmans', 'Leonor Simons'], ['Houston Leblanc', 'Belia Avey', 'Stacy Wilkinson', 'Nanette Shepherd', 'Joann Huynh', 'Dewayne Kaiser', 'Keenan Stewart', 'Klara Pagani', 'Cris Brundidge', 'Mandi Sponsler', 'Tracey Duarte', 'Marinda Mccotter', 'Genevive Calle', 'Hosea Kelley', 'Gaston Fitts'], ['Aaron Sharp', 'Felix Laursen', 'Franklyn Palmer', 'Marlin Burns', 'Shanice Kriss', 'Jeannine Valone', 'Edison Nelson', 'Marcus Quinley', 'Miguel Andres', 'Effie Mercado', 'Alan Franklin', 'Aileen Kramer', 'Mathew Livingston', 'Eryn Knick', 'Landon Mason', 'Trudy Barber', 'Krystal Martin', 'Alta Schroeder', 'Avery Petrus', 'Marth Valcourt', 'Freddy Gosier', 'Florencio Pittman', 'Pok Elsasser', 'Ludie Gee', 'Rosalinda Boren', 'Corinne Gebo', 'Lincoln Good', 'Elyse Desantis', 'Mona Lamb', 'Barrett Marson', 'Donnell Barnett', 'Herschel Neifert', 'Sherly Candela', 'Ramiro Hess', 'Nathaniel Gonzales', 'Ruby Lester'], ['Deangelo Ibarra', 'Sandra Spradling', 'Dario Grimes', 'Dominic Schaefer', 'Tim Prince', 'Eusebio Santana', 'Thao Carle', 'Eli Wise', 'Rebecca Koh', 'Scotty Heald', 'Tonia Vega', 'Keli Schooler', 'Deeanna Wiers', 'Alton Edelson', 'Stacie Gillespie'], ['Katrina Tocco', 'Jamie Mayer', 'Twila Nesbitt', 'Jovita Quattlebaum', 'Monique Bradford', 'Diana Svoboda', 'Arturo Nunez', 'Olive Cobb', 'Cortez Walker', 'Manuel Ramsey', 'Theodore Hess', 'Carolyn Fred', 'Abraham Callan', 'Errol Fox', 'Cora Gautier'], ['Ruby Lester', 'Clay Powell', 'Rory Holmes', 'Julissa Riggins', 'William Blind', 'Manuela George', 'Earline Mcpherson', 'Erna Krueger', 'Bobby Bowers', 'Shanae Stoughton', 'Chas French', 'Rosie Watkins', 'Clay Powell', 'Shanae Stoughton', 'Julissa Riggins', 'Bao Wilde', 'Erna Krueger', 'Kristi Meunier', 'Manuela George', 'Trena Sebree', 'Bao Wilde', 'Rory Holmes', 'Daron Sheth', 'Mary Aguilar', 'Rosie Watkins', 'Earline Mcpherson', 'Jeri Curry', 'Darell Mcglown', 'Wilton Atkinson', 'Verda Bedford']]\n",
      "[['Amos Finley', 'Hermelinda Kamer', 'Aleisha Cherry', 'Neal Rustin', 'German Shelton', 'Sina Maggio', 'Armand Valencia', 'Michale Anthony', 'Peggy Menter', 'Mack Geyer', 'Kathie Moses', 'Jay Luper', 'Thomas Munch', 'Leland Harris', 'Barrie Youmans', 'Leonor Simons'], ['Houston Leblanc', 'Belia Avey', 'Stacy Wilkinson', 'Nanette Shepherd', 'Joann Huynh', 'Dewayne Kaiser', 'Keenan Stewart', 'Klara Pagani', 'Cris Brundidge', 'Mandi Sponsler', 'Tracey Duarte', 'Marinda Mccotter', 'Genevive Calle', 'Hosea Kelley', 'Gaston Fitts', 'Ruby Lester'], ['Aaron Sharp', 'Felix Laursen', 'Franklyn Palmer', 'Marlin Burns', 'Shanice Kriss', 'Jeannine Valone', 'Edison Nelson', 'Marcus Quinley', 'Miguel Andres', 'Effie Mercado', 'Alan Franklin', 'Aileen Kramer', 'Mathew Livingston', 'Eryn Knick', 'Landon Mason', 'Trudy Barber', 'Krystal Martin', 'Alta Schroeder', 'Avery Petrus', 'Marth Valcourt', 'Freddy Gosier', 'Florencio Pittman', 'Pok Elsasser', 'Ludie Gee', 'Rosalinda Boren', 'Corinne Gebo', 'Lincoln Good', 'Elyse Desantis', 'Mona Lamb', 'Barrett Marson', 'Donnell Barnett', 'Herschel Neifert', 'Sherly Candela', 'Ramiro Hess', 'Nathaniel Gonzales'], ['Deangelo Ibarra', 'Sandra Spradling', 'Dario Grimes', 'Dominic Schaefer', 'Tim Prince', 'Eusebio Santana', 'Thao Carle', 'Eli Wise', 'Rebecca Koh', 'Scotty Heald', 'Tonia Vega', 'Keli Schooler', 'Deeanna Wiers', 'Alton Edelson', 'Stacie Gillespie'], ['Katrina Tocco', 'Jamie Mayer', 'Twila Nesbitt', 'Jovita Quattlebaum', 'Monique Bradford', 'Diana Svoboda', 'Arturo Nunez', 'Olive Cobb', 'Cortez Walker', 'Manuel Ramsey', 'Theodore Hess', 'Carolyn Fred', 'Abraham Callan', 'Errol Fox', 'Cora Gautier'], ['Ruby Lester', 'Clay Powell', 'Rory Holmes', 'Julissa Riggins', 'William Blind', 'Manuela George', 'Earline Mcpherson', 'Erna Krueger', 'Bobby Bowers', 'Shanae Stoughton', 'Chas French', 'Rosie Watkins', 'Clay Powell', 'Shanae Stoughton', 'Julissa Riggins', 'Bao Wilde', 'Erna Krueger', 'Kristi Meunier', 'Manuela George', 'Trena Sebree', 'Bao Wilde', 'Rory Holmes', 'Daron Sheth', 'Mary Aguilar', 'Rosie Watkins', 'Earline Mcpherson', 'Jeri Curry', 'Darell Mcglown', 'Wilton Atkinson', 'Verda Bedford']]\n",
      "[['Amos Finley', 'Hermelinda Kamer', 'Aleisha Cherry', 'Neal Rustin', 'German Shelton', 'Sina Maggio', 'Armand Valencia', 'Michale Anthony', 'Peggy Menter', 'Mack Geyer', 'Kathie Moses', 'Jay Luper', 'Thomas Munch', 'Leland Harris', 'Barrie Youmans', 'Leonor Simons', 'Ruby Lester'], ['Houston Leblanc', 'Belia Avey', 'Stacy Wilkinson', 'Nanette Shepherd', 'Joann Huynh', 'Dewayne Kaiser', 'Keenan Stewart', 'Klara Pagani', 'Cris Brundidge', 'Mandi Sponsler', 'Tracey Duarte', 'Marinda Mccotter', 'Genevive Calle', 'Hosea Kelley', 'Gaston Fitts'], ['Aaron Sharp', 'Felix Laursen', 'Franklyn Palmer', 'Marlin Burns', 'Shanice Kriss', 'Jeannine Valone', 'Edison Nelson', 'Marcus Quinley', 'Miguel Andres', 'Effie Mercado', 'Alan Franklin', 'Aileen Kramer', 'Mathew Livingston', 'Eryn Knick', 'Landon Mason', 'Trudy Barber', 'Krystal Martin', 'Alta Schroeder', 'Avery Petrus', 'Marth Valcourt', 'Freddy Gosier', 'Florencio Pittman', 'Pok Elsasser', 'Ludie Gee', 'Rosalinda Boren', 'Corinne Gebo', 'Lincoln Good', 'Elyse Desantis', 'Mona Lamb', 'Barrett Marson', 'Donnell Barnett', 'Herschel Neifert', 'Sherly Candela', 'Ramiro Hess', 'Nathaniel Gonzales'], ['Deangelo Ibarra', 'Sandra Spradling', 'Dario Grimes', 'Dominic Schaefer', 'Tim Prince', 'Eusebio Santana', 'Thao Carle', 'Eli Wise', 'Rebecca Koh', 'Scotty Heald', 'Tonia Vega', 'Keli Schooler', 'Deeanna Wiers', 'Alton Edelson', 'Stacie Gillespie'], ['Katrina Tocco', 'Jamie Mayer', 'Twila Nesbitt', 'Jovita Quattlebaum', 'Monique Bradford', 'Diana Svoboda', 'Arturo Nunez', 'Olive Cobb', 'Cortez Walker', 'Manuel Ramsey', 'Theodore Hess', 'Carolyn Fred', 'Abraham Callan', 'Errol Fox', 'Cora Gautier'], ['Ruby Lester', 'Clay Powell', 'Rory Holmes', 'Julissa Riggins', 'William Blind', 'Manuela George', 'Earline Mcpherson', 'Erna Krueger', 'Bobby Bowers', 'Shanae Stoughton', 'Chas French', 'Rosie Watkins', 'Clay Powell', 'Shanae Stoughton', 'Julissa Riggins', 'Bao Wilde', 'Erna Krueger', 'Kristi Meunier', 'Manuela George', 'Trena Sebree', 'Bao Wilde', 'Rory Holmes', 'Daron Sheth', 'Mary Aguilar', 'Rosie Watkins', 'Earline Mcpherson', 'Jeri Curry', 'Darell Mcglown', 'Wilton Atkinson', 'Verda Bedford']]\n",
      "[['Amos Finley', 'Hermelinda Kamer', 'Aleisha Cherry', 'Neal Rustin', 'German Shelton', 'Sina Maggio', 'Armand Valencia', 'Michale Anthony', 'Peggy Menter', 'Mack Geyer', 'Kathie Moses', 'Jay Luper', 'Thomas Munch', 'Leland Harris', 'Barrie Youmans', 'Leonor Simons', 'Ruby Lester'], ['Houston Leblanc', 'Belia Avey', 'Stacy Wilkinson', 'Nanette Shepherd', 'Joann Huynh', 'Dewayne Kaiser', 'Keenan Stewart', 'Klara Pagani', 'Cris Brundidge', 'Mandi Sponsler', 'Tracey Duarte', 'Marinda Mccotter', 'Genevive Calle', 'Hosea Kelley', 'Gaston Fitts'], ['Aaron Sharp', 'Felix Laursen', 'Franklyn Palmer', 'Marlin Burns', 'Shanice Kriss', 'Jeannine Valone', 'Edison Nelson', 'Marcus Quinley', 'Miguel Andres', 'Effie Mercado', 'Alan Franklin', 'Aileen Kramer', 'Mathew Livingston', 'Eryn Knick', 'Landon Mason', 'Trudy Barber', 'Krystal Martin', 'Alta Schroeder', 'Avery Petrus', 'Marth Valcourt', 'Freddy Gosier', 'Florencio Pittman', 'Pok Elsasser', 'Ludie Gee', 'Rosalinda Boren', 'Corinne Gebo', 'Lincoln Good', 'Elyse Desantis', 'Mona Lamb', 'Barrett Marson', 'Donnell Barnett', 'Herschel Neifert', 'Sherly Candela', 'Ramiro Hess', 'Nathaniel Gonzales'], ['Deangelo Ibarra', 'Sandra Spradling', 'Dario Grimes', 'Dominic Schaefer', 'Tim Prince', 'Eusebio Santana', 'Thao Carle', 'Eli Wise', 'Rebecca Koh', 'Scotty Heald', 'Tonia Vega', 'Keli Schooler', 'Deeanna Wiers', 'Alton Edelson', 'Stacie Gillespie'], ['Katrina Tocco', 'Jamie Mayer', 'Twila Nesbitt', 'Jovita Quattlebaum', 'Monique Bradford', 'Diana Svoboda', 'Arturo Nunez', 'Olive Cobb', 'Cortez Walker', 'Manuel Ramsey', 'Theodore Hess', 'Carolyn Fred', 'Abraham Callan', 'Errol Fox', 'Cora Gautier'], ['Ruby Lester', 'Clay Powell', 'Rory Holmes', 'Julissa Riggins', 'William Blind', 'Manuela George', 'Earline Mcpherson', 'Erna Krueger', 'Bobby Bowers', 'Shanae Stoughton', 'Chas French', 'Rosie Watkins', 'Clay Powell', 'Shanae Stoughton', 'Julissa Riggins', 'Bao Wilde', 'Erna Krueger', 'Kristi Meunier', 'Manuela George', 'Trena Sebree', 'Bao Wilde', 'Rory Holmes', 'Daron Sheth', 'Mary Aguilar', 'Rosie Watkins', 'Earline Mcpherson', 'Jeri Curry', 'Darell Mcglown', 'Wilton Atkinson', 'Verda Bedford']]\n",
      "[['Amos Finley', 'Hermelinda Kamer', 'Aleisha Cherry', 'Neal Rustin', 'German Shelton', 'Sina Maggio', 'Armand Valencia', 'Michale Anthony', 'Peggy Menter', 'Mack Geyer', 'Kathie Moses', 'Jay Luper', 'Thomas Munch', 'Leland Harris', 'Barrie Youmans', 'Leonor Simons', 'Ruby Lester'], ['Houston Leblanc', 'Belia Avey', 'Stacy Wilkinson', 'Nanette Shepherd', 'Joann Huynh', 'Dewayne Kaiser', 'Keenan Stewart', 'Klara Pagani', 'Cris Brundidge', 'Mandi Sponsler', 'Tracey Duarte', 'Marinda Mccotter', 'Genevive Calle', 'Hosea Kelley', 'Gaston Fitts'], ['Aaron Sharp', 'Felix Laursen', 'Franklyn Palmer', 'Marlin Burns', 'Shanice Kriss', 'Jeannine Valone', 'Edison Nelson', 'Marcus Quinley', 'Miguel Andres', 'Effie Mercado', 'Alan Franklin', 'Aileen Kramer', 'Mathew Livingston', 'Eryn Knick', 'Landon Mason', 'Trudy Barber', 'Krystal Martin', 'Alta Schroeder', 'Avery Petrus', 'Marth Valcourt', 'Freddy Gosier', 'Florencio Pittman', 'Pok Elsasser', 'Ludie Gee', 'Rosalinda Boren', 'Corinne Gebo', 'Lincoln Good', 'Elyse Desantis', 'Mona Lamb', 'Barrett Marson', 'Donnell Barnett', 'Herschel Neifert', 'Sherly Candela', 'Ramiro Hess', 'Nathaniel Gonzales'], ['Deangelo Ibarra', 'Sandra Spradling', 'Dario Grimes', 'Dominic Schaefer', 'Tim Prince', 'Eusebio Santana', 'Thao Carle', 'Eli Wise', 'Rebecca Koh', 'Scotty Heald', 'Tonia Vega', 'Keli Schooler', 'Deeanna Wiers', 'Alton Edelson', 'Stacie Gillespie'], ['Katrina Tocco', 'Jamie Mayer', 'Twila Nesbitt', 'Jovita Quattlebaum', 'Monique Bradford', 'Diana Svoboda', 'Arturo Nunez', 'Olive Cobb', 'Cortez Walker', 'Manuel Ramsey', 'Theodore Hess', 'Carolyn Fred', 'Abraham Callan', 'Errol Fox', 'Cora Gautier'], ['Ruby Lester', 'Clay Powell', 'Rory Holmes', 'Julissa Riggins', 'William Blind', 'Manuela George', 'Earline Mcpherson', 'Erna Krueger', 'Bobby Bowers', 'Shanae Stoughton', 'Chas French', 'Rosie Watkins', 'Clay Powell', 'Shanae Stoughton', 'Julissa Riggins', 'Bao Wilde', 'Erna Krueger', 'Kristi Meunier', 'Manuela George', 'Trena Sebree', 'Bao Wilde', 'Rory Holmes', 'Daron Sheth', 'Mary Aguilar', 'Rosie Watkins', 'Earline Mcpherson', 'Jeri Curry', 'Darell Mcglown', 'Wilton Atkinson', 'Verda Bedford']]\n",
      "[['Amos Finley', 'Hermelinda Kamer', 'Aleisha Cherry', 'Neal Rustin', 'German Shelton', 'Sina Maggio', 'Armand Valencia', 'Michale Anthony', 'Peggy Menter', 'Mack Geyer', 'Kathie Moses', 'Jay Luper', 'Thomas Munch', 'Leland Harris', 'Barrie Youmans', 'Leonor Simons', 'Ruby Lester'], ['Houston Leblanc', 'Belia Avey', 'Stacy Wilkinson', 'Nanette Shepherd', 'Joann Huynh', 'Dewayne Kaiser', 'Keenan Stewart', 'Klara Pagani', 'Cris Brundidge', 'Mandi Sponsler', 'Tracey Duarte', 'Marinda Mccotter', 'Genevive Calle', 'Hosea Kelley', 'Gaston Fitts'], ['Aaron Sharp', 'Felix Laursen', 'Franklyn Palmer', 'Marlin Burns', 'Shanice Kriss', 'Jeannine Valone', 'Edison Nelson', 'Marcus Quinley', 'Miguel Andres', 'Effie Mercado', 'Alan Franklin', 'Aileen Kramer', 'Mathew Livingston', 'Eryn Knick', 'Landon Mason', 'Trudy Barber', 'Krystal Martin', 'Alta Schroeder', 'Avery Petrus', 'Marth Valcourt', 'Freddy Gosier', 'Florencio Pittman', 'Pok Elsasser', 'Ludie Gee', 'Rosalinda Boren', 'Corinne Gebo', 'Lincoln Good', 'Elyse Desantis', 'Mona Lamb', 'Barrett Marson', 'Donnell Barnett', 'Herschel Neifert', 'Sherly Candela', 'Ramiro Hess', 'Nathaniel Gonzales'], ['Deangelo Ibarra', 'Sandra Spradling', 'Dario Grimes', 'Dominic Schaefer', 'Tim Prince', 'Eusebio Santana', 'Thao Carle', 'Eli Wise', 'Rebecca Koh', 'Scotty Heald', 'Tonia Vega', 'Keli Schooler', 'Deeanna Wiers', 'Alton Edelson', 'Stacie Gillespie'], ['Katrina Tocco', 'Jamie Mayer', 'Twila Nesbitt', 'Jovita Quattlebaum', 'Monique Bradford', 'Diana Svoboda', 'Arturo Nunez', 'Olive Cobb', 'Cortez Walker', 'Manuel Ramsey', 'Theodore Hess', 'Carolyn Fred', 'Abraham Callan', 'Errol Fox', 'Cora Gautier'], ['Ruby Lester', 'Clay Powell', 'Rory Holmes', 'Julissa Riggins', 'William Blind', 'Manuela George', 'Earline Mcpherson', 'Erna Krueger', 'Bobby Bowers', 'Shanae Stoughton', 'Chas French', 'Rosie Watkins', 'Clay Powell', 'Shanae Stoughton', 'Julissa Riggins', 'Bao Wilde', 'Erna Krueger', 'Kristi Meunier', 'Manuela George', 'Trena Sebree', 'Bao Wilde', 'Rory Holmes', 'Daron Sheth', 'Mary Aguilar', 'Rosie Watkins', 'Earline Mcpherson', 'Jeri Curry', 'Darell Mcglown', 'Wilton Atkinson', 'Verda Bedford']]\n",
      "[['Amos Finley', 'Hermelinda Kamer', 'Aleisha Cherry', 'Neal Rustin', 'German Shelton', 'Sina Maggio', 'Armand Valencia', 'Michale Anthony', 'Peggy Menter', 'Mack Geyer', 'Kathie Moses', 'Jay Luper', 'Thomas Munch', 'Leland Harris', 'Barrie Youmans', 'Leonor Simons', 'Ruby Lester'], ['Houston Leblanc', 'Belia Avey', 'Stacy Wilkinson', 'Nanette Shepherd', 'Joann Huynh', 'Dewayne Kaiser', 'Keenan Stewart', 'Klara Pagani', 'Cris Brundidge', 'Mandi Sponsler', 'Tracey Duarte', 'Marinda Mccotter', 'Genevive Calle', 'Hosea Kelley', 'Gaston Fitts'], ['Aaron Sharp', 'Felix Laursen', 'Franklyn Palmer', 'Marlin Burns', 'Shanice Kriss', 'Jeannine Valone', 'Edison Nelson', 'Marcus Quinley', 'Miguel Andres', 'Effie Mercado', 'Alan Franklin', 'Aileen Kramer', 'Mathew Livingston', 'Eryn Knick', 'Landon Mason', 'Trudy Barber', 'Krystal Martin', 'Alta Schroeder', 'Avery Petrus', 'Marth Valcourt', 'Freddy Gosier', 'Florencio Pittman', 'Pok Elsasser', 'Ludie Gee', 'Rosalinda Boren', 'Corinne Gebo', 'Lincoln Good', 'Elyse Desantis', 'Mona Lamb', 'Barrett Marson', 'Donnell Barnett', 'Herschel Neifert', 'Sherly Candela', 'Ramiro Hess', 'Nathaniel Gonzales'], ['Deangelo Ibarra', 'Sandra Spradling', 'Dario Grimes', 'Dominic Schaefer', 'Tim Prince', 'Eusebio Santana', 'Thao Carle', 'Eli Wise', 'Rebecca Koh', 'Scotty Heald', 'Tonia Vega', 'Keli Schooler', 'Deeanna Wiers', 'Alton Edelson', 'Stacie Gillespie'], ['Katrina Tocco', 'Jamie Mayer', 'Twila Nesbitt', 'Jovita Quattlebaum', 'Monique Bradford', 'Diana Svoboda', 'Arturo Nunez', 'Olive Cobb', 'Cortez Walker', 'Manuel Ramsey', 'Theodore Hess', 'Carolyn Fred', 'Abraham Callan', 'Errol Fox', 'Cora Gautier'], ['Ruby Lester', 'Clay Powell', 'Rory Holmes', 'Julissa Riggins', 'William Blind', 'Manuela George', 'Earline Mcpherson', 'Erna Krueger', 'Bobby Bowers', 'Shanae Stoughton', 'Chas French', 'Rosie Watkins', 'Clay Powell', 'Shanae Stoughton', 'Julissa Riggins', 'Bao Wilde', 'Erna Krueger', 'Kristi Meunier', 'Manuela George', 'Trena Sebree', 'Bao Wilde', 'Rory Holmes', 'Daron Sheth', 'Mary Aguilar', 'Rosie Watkins', 'Earline Mcpherson', 'Jeri Curry', 'Darell Mcglown', 'Wilton Atkinson', 'Verda Bedford']]\n",
      "[['Amos Finley', 'Hermelinda Kamer', 'Aleisha Cherry', 'Neal Rustin', 'German Shelton', 'Sina Maggio', 'Armand Valencia', 'Michale Anthony', 'Peggy Menter', 'Mack Geyer', 'Kathie Moses', 'Jay Luper', 'Thomas Munch', 'Leland Harris', 'Barrie Youmans', 'Leonor Simons', 'Ruby Lester'], ['Houston Leblanc', 'Belia Avey', 'Stacy Wilkinson', 'Nanette Shepherd', 'Joann Huynh', 'Dewayne Kaiser', 'Keenan Stewart', 'Klara Pagani', 'Cris Brundidge', 'Mandi Sponsler', 'Tracey Duarte', 'Marinda Mccotter', 'Genevive Calle', 'Hosea Kelley', 'Gaston Fitts'], ['Aaron Sharp', 'Felix Laursen', 'Franklyn Palmer', 'Marlin Burns', 'Shanice Kriss', 'Jeannine Valone', 'Edison Nelson', 'Marcus Quinley', 'Miguel Andres', 'Effie Mercado', 'Alan Franklin', 'Aileen Kramer', 'Mathew Livingston', 'Eryn Knick', 'Landon Mason', 'Trudy Barber', 'Krystal Martin', 'Alta Schroeder', 'Avery Petrus', 'Marth Valcourt', 'Freddy Gosier', 'Florencio Pittman', 'Pok Elsasser', 'Ludie Gee', 'Rosalinda Boren', 'Corinne Gebo', 'Lincoln Good', 'Elyse Desantis', 'Mona Lamb', 'Barrett Marson', 'Donnell Barnett', 'Herschel Neifert', 'Sherly Candela', 'Ramiro Hess', 'Nathaniel Gonzales'], ['Deangelo Ibarra', 'Sandra Spradling', 'Dario Grimes', 'Dominic Schaefer', 'Tim Prince', 'Eusebio Santana', 'Thao Carle', 'Eli Wise', 'Rebecca Koh', 'Scotty Heald', 'Tonia Vega', 'Keli Schooler', 'Deeanna Wiers', 'Alton Edelson', 'Stacie Gillespie'], ['Katrina Tocco', 'Jamie Mayer', 'Twila Nesbitt', 'Jovita Quattlebaum', 'Monique Bradford', 'Diana Svoboda', 'Arturo Nunez', 'Olive Cobb', 'Cortez Walker', 'Manuel Ramsey', 'Theodore Hess', 'Carolyn Fred', 'Abraham Callan', 'Errol Fox', 'Cora Gautier'], ['Ruby Lester', 'Clay Powell', 'Rory Holmes', 'Julissa Riggins', 'William Blind', 'Manuela George', 'Earline Mcpherson', 'Erna Krueger', 'Bobby Bowers', 'Shanae Stoughton', 'Chas French', 'Rosie Watkins', 'Clay Powell', 'Shanae Stoughton', 'Julissa Riggins', 'Bao Wilde', 'Erna Krueger', 'Kristi Meunier', 'Manuela George', 'Trena Sebree', 'Bao Wilde', 'Rory Holmes', 'Daron Sheth', 'Mary Aguilar', 'Rosie Watkins', 'Earline Mcpherson', 'Jeri Curry', 'Darell Mcglown', 'Wilton Atkinson', 'Verda Bedford']]\n",
      "[['Amos Finley', 'Hermelinda Kamer', 'Aleisha Cherry', 'Neal Rustin', 'German Shelton', 'Sina Maggio', 'Armand Valencia', 'Michale Anthony', 'Peggy Menter', 'Mack Geyer', 'Kathie Moses', 'Jay Luper', 'Thomas Munch', 'Leland Harris', 'Barrie Youmans', 'Leonor Simons', 'Ruby Lester'], ['Houston Leblanc', 'Belia Avey', 'Stacy Wilkinson', 'Nanette Shepherd', 'Joann Huynh', 'Dewayne Kaiser', 'Keenan Stewart', 'Klara Pagani', 'Cris Brundidge', 'Mandi Sponsler', 'Tracey Duarte', 'Marinda Mccotter', 'Genevive Calle', 'Hosea Kelley', 'Gaston Fitts'], ['Aaron Sharp', 'Felix Laursen', 'Franklyn Palmer', 'Marlin Burns', 'Shanice Kriss', 'Jeannine Valone', 'Edison Nelson', 'Marcus Quinley', 'Miguel Andres', 'Effie Mercado', 'Alan Franklin', 'Aileen Kramer', 'Mathew Livingston', 'Eryn Knick', 'Landon Mason', 'Trudy Barber', 'Krystal Martin', 'Alta Schroeder', 'Avery Petrus', 'Marth Valcourt', 'Freddy Gosier', 'Florencio Pittman', 'Pok Elsasser', 'Ludie Gee', 'Rosalinda Boren', 'Corinne Gebo', 'Lincoln Good', 'Elyse Desantis', 'Mona Lamb', 'Barrett Marson', 'Donnell Barnett', 'Herschel Neifert', 'Sherly Candela', 'Ramiro Hess', 'Nathaniel Gonzales'], ['Deangelo Ibarra', 'Sandra Spradling', 'Dario Grimes', 'Dominic Schaefer', 'Tim Prince', 'Eusebio Santana', 'Thao Carle', 'Eli Wise', 'Rebecca Koh', 'Scotty Heald', 'Tonia Vega', 'Keli Schooler', 'Deeanna Wiers', 'Alton Edelson', 'Stacie Gillespie'], ['Katrina Tocco', 'Jamie Mayer', 'Twila Nesbitt', 'Jovita Quattlebaum', 'Monique Bradford', 'Diana Svoboda', 'Arturo Nunez', 'Olive Cobb', 'Cortez Walker', 'Manuel Ramsey', 'Theodore Hess', 'Carolyn Fred', 'Abraham Callan', 'Errol Fox', 'Cora Gautier'], ['Ruby Lester', 'Clay Powell', 'Rory Holmes', 'Julissa Riggins', 'William Blind', 'Manuela George', 'Earline Mcpherson', 'Erna Krueger', 'Bobby Bowers', 'Shanae Stoughton', 'Chas French', 'Rosie Watkins', 'Clay Powell', 'Shanae Stoughton', 'Julissa Riggins', 'Bao Wilde', 'Erna Krueger', 'Kristi Meunier', 'Manuela George', 'Trena Sebree', 'Bao Wilde', 'Rory Holmes', 'Daron Sheth', 'Mary Aguilar', 'Rosie Watkins', 'Earline Mcpherson', 'Jeri Curry', 'Darell Mcglown', 'Wilton Atkinson', 'Verda Bedford']]\n",
      "[['Amos Finley', 'Hermelinda Kamer', 'Aleisha Cherry', 'Neal Rustin', 'German Shelton', 'Sina Maggio', 'Armand Valencia', 'Michale Anthony', 'Peggy Menter', 'Mack Geyer', 'Kathie Moses', 'Jay Luper', 'Thomas Munch', 'Leland Harris', 'Barrie Youmans', 'Leonor Simons', 'Ruby Lester'], ['Houston Leblanc', 'Belia Avey', 'Stacy Wilkinson', 'Nanette Shepherd', 'Joann Huynh', 'Dewayne Kaiser', 'Keenan Stewart', 'Klara Pagani', 'Cris Brundidge', 'Mandi Sponsler', 'Tracey Duarte', 'Marinda Mccotter', 'Genevive Calle', 'Hosea Kelley', 'Gaston Fitts'], ['Aaron Sharp', 'Felix Laursen', 'Franklyn Palmer', 'Marlin Burns', 'Shanice Kriss', 'Jeannine Valone', 'Edison Nelson', 'Marcus Quinley', 'Miguel Andres', 'Effie Mercado', 'Alan Franklin', 'Aileen Kramer', 'Mathew Livingston', 'Eryn Knick', 'Landon Mason', 'Trudy Barber', 'Krystal Martin', 'Alta Schroeder', 'Avery Petrus', 'Marth Valcourt', 'Freddy Gosier', 'Florencio Pittman', 'Pok Elsasser', 'Ludie Gee', 'Rosalinda Boren', 'Corinne Gebo', 'Lincoln Good', 'Elyse Desantis', 'Mona Lamb', 'Barrett Marson', 'Donnell Barnett', 'Herschel Neifert', 'Sherly Candela', 'Ramiro Hess', 'Nathaniel Gonzales'], ['Deangelo Ibarra', 'Sandra Spradling', 'Dario Grimes', 'Dominic Schaefer', 'Tim Prince', 'Eusebio Santana', 'Thao Carle', 'Eli Wise', 'Rebecca Koh', 'Scotty Heald', 'Tonia Vega', 'Keli Schooler', 'Deeanna Wiers', 'Alton Edelson', 'Stacie Gillespie'], ['Katrina Tocco', 'Jamie Mayer', 'Twila Nesbitt', 'Jovita Quattlebaum', 'Monique Bradford', 'Diana Svoboda', 'Arturo Nunez', 'Olive Cobb', 'Cortez Walker', 'Manuel Ramsey', 'Theodore Hess', 'Carolyn Fred', 'Abraham Callan', 'Errol Fox', 'Cora Gautier'], ['Ruby Lester', 'Clay Powell', 'Rory Holmes', 'Julissa Riggins', 'William Blind', 'Manuela George', 'Earline Mcpherson', 'Erna Krueger', 'Bobby Bowers', 'Shanae Stoughton', 'Chas French', 'Rosie Watkins', 'Clay Powell', 'Shanae Stoughton', 'Julissa Riggins', 'Bao Wilde', 'Erna Krueger', 'Kristi Meunier', 'Manuela George', 'Trena Sebree', 'Bao Wilde', 'Rory Holmes', 'Daron Sheth', 'Mary Aguilar', 'Rosie Watkins', 'Earline Mcpherson', 'Jeri Curry', 'Darell Mcglown', 'Wilton Atkinson', 'Verda Bedford']]\n",
      "[['Amos Finley', 'Hermelinda Kamer', 'Aleisha Cherry', 'Neal Rustin', 'German Shelton', 'Sina Maggio', 'Armand Valencia', 'Michale Anthony', 'Peggy Menter', 'Mack Geyer', 'Kathie Moses', 'Jay Luper', 'Thomas Munch', 'Leland Harris', 'Barrie Youmans', 'Leonor Simons', 'Ruby Lester'], ['Houston Leblanc', 'Belia Avey', 'Stacy Wilkinson', 'Nanette Shepherd', 'Joann Huynh', 'Dewayne Kaiser', 'Keenan Stewart', 'Klara Pagani', 'Cris Brundidge', 'Mandi Sponsler', 'Tracey Duarte', 'Marinda Mccotter', 'Genevive Calle', 'Hosea Kelley', 'Gaston Fitts'], ['Aaron Sharp', 'Felix Laursen', 'Franklyn Palmer', 'Marlin Burns', 'Shanice Kriss', 'Jeannine Valone', 'Edison Nelson', 'Marcus Quinley', 'Miguel Andres', 'Effie Mercado', 'Alan Franklin', 'Aileen Kramer', 'Mathew Livingston', 'Eryn Knick', 'Landon Mason', 'Trudy Barber', 'Krystal Martin', 'Alta Schroeder', 'Avery Petrus', 'Marth Valcourt', 'Freddy Gosier', 'Florencio Pittman', 'Pok Elsasser', 'Ludie Gee', 'Rosalinda Boren', 'Corinne Gebo', 'Lincoln Good', 'Elyse Desantis', 'Mona Lamb', 'Barrett Marson', 'Donnell Barnett', 'Herschel Neifert', 'Sherly Candela', 'Ramiro Hess', 'Nathaniel Gonzales'], ['Deangelo Ibarra', 'Sandra Spradling', 'Dario Grimes', 'Dominic Schaefer', 'Tim Prince', 'Eusebio Santana', 'Thao Carle', 'Eli Wise', 'Rebecca Koh', 'Scotty Heald', 'Tonia Vega', 'Keli Schooler', 'Deeanna Wiers', 'Alton Edelson', 'Stacie Gillespie'], ['Katrina Tocco', 'Jamie Mayer', 'Twila Nesbitt', 'Jovita Quattlebaum', 'Monique Bradford', 'Diana Svoboda', 'Arturo Nunez', 'Olive Cobb', 'Cortez Walker', 'Manuel Ramsey', 'Theodore Hess', 'Carolyn Fred', 'Abraham Callan', 'Errol Fox', 'Cora Gautier'], ['Ruby Lester', 'Clay Powell', 'Rory Holmes', 'Julissa Riggins', 'William Blind', 'Manuela George', 'Earline Mcpherson', 'Erna Krueger', 'Bobby Bowers', 'Shanae Stoughton', 'Chas French', 'Rosie Watkins', 'Clay Powell', 'Shanae Stoughton', 'Julissa Riggins', 'Bao Wilde', 'Erna Krueger', 'Kristi Meunier', 'Manuela George', 'Trena Sebree', 'Bao Wilde', 'Rory Holmes', 'Daron Sheth', 'Mary Aguilar', 'Rosie Watkins', 'Earline Mcpherson', 'Jeri Curry', 'Darell Mcglown', 'Wilton Atkinson', 'Verda Bedford']]\n",
      "[['Amos Finley', 'Hermelinda Kamer', 'Aleisha Cherry', 'Neal Rustin', 'German Shelton', 'Sina Maggio', 'Armand Valencia', 'Michale Anthony', 'Peggy Menter', 'Mack Geyer', 'Kathie Moses', 'Jay Luper', 'Thomas Munch', 'Leland Harris', 'Barrie Youmans', 'Leonor Simons', 'Ruby Lester'], ['Houston Leblanc', 'Belia Avey', 'Stacy Wilkinson', 'Nanette Shepherd', 'Joann Huynh', 'Dewayne Kaiser', 'Keenan Stewart', 'Klara Pagani', 'Cris Brundidge', 'Mandi Sponsler', 'Tracey Duarte', 'Marinda Mccotter', 'Genevive Calle', 'Hosea Kelley', 'Gaston Fitts'], ['Aaron Sharp', 'Felix Laursen', 'Franklyn Palmer', 'Marlin Burns', 'Shanice Kriss', 'Jeannine Valone', 'Edison Nelson', 'Marcus Quinley', 'Miguel Andres', 'Effie Mercado', 'Alan Franklin', 'Aileen Kramer', 'Mathew Livingston', 'Eryn Knick', 'Landon Mason', 'Trudy Barber', 'Krystal Martin', 'Alta Schroeder', 'Avery Petrus', 'Marth Valcourt', 'Freddy Gosier', 'Florencio Pittman', 'Pok Elsasser', 'Ludie Gee', 'Rosalinda Boren', 'Corinne Gebo', 'Lincoln Good', 'Elyse Desantis', 'Mona Lamb', 'Barrett Marson', 'Donnell Barnett', 'Herschel Neifert', 'Sherly Candela', 'Ramiro Hess', 'Nathaniel Gonzales'], ['Deangelo Ibarra', 'Sandra Spradling', 'Dario Grimes', 'Dominic Schaefer', 'Tim Prince', 'Eusebio Santana', 'Thao Carle', 'Eli Wise', 'Rebecca Koh', 'Scotty Heald', 'Tonia Vega', 'Keli Schooler', 'Deeanna Wiers', 'Alton Edelson', 'Stacie Gillespie'], ['Katrina Tocco', 'Jamie Mayer', 'Twila Nesbitt', 'Jovita Quattlebaum', 'Monique Bradford', 'Diana Svoboda', 'Arturo Nunez', 'Olive Cobb', 'Cortez Walker', 'Manuel Ramsey', 'Theodore Hess', 'Carolyn Fred', 'Abraham Callan', 'Errol Fox', 'Cora Gautier'], ['Ruby Lester', 'Clay Powell', 'Rory Holmes', 'Julissa Riggins', 'William Blind', 'Manuela George', 'Earline Mcpherson', 'Erna Krueger', 'Bobby Bowers', 'Shanae Stoughton', 'Chas French', 'Rosie Watkins', 'Clay Powell', 'Shanae Stoughton', 'Julissa Riggins', 'Bao Wilde', 'Erna Krueger', 'Kristi Meunier', 'Manuela George', 'Trena Sebree', 'Bao Wilde', 'Rory Holmes', 'Daron Sheth', 'Mary Aguilar', 'Rosie Watkins', 'Earline Mcpherson', 'Jeri Curry', 'Darell Mcglown', 'Wilton Atkinson', 'Verda Bedford']]\n",
      "[['Amos Finley', 'Hermelinda Kamer', 'Aleisha Cherry', 'Neal Rustin', 'German Shelton', 'Sina Maggio', 'Armand Valencia', 'Michale Anthony', 'Peggy Menter', 'Mack Geyer', 'Kathie Moses', 'Jay Luper', 'Thomas Munch', 'Leland Harris', 'Barrie Youmans', 'Leonor Simons', 'Ruby Lester'], ['Houston Leblanc', 'Belia Avey', 'Stacy Wilkinson', 'Nanette Shepherd', 'Joann Huynh', 'Dewayne Kaiser', 'Keenan Stewart', 'Klara Pagani', 'Cris Brundidge', 'Mandi Sponsler', 'Tracey Duarte', 'Marinda Mccotter', 'Genevive Calle', 'Hosea Kelley', 'Gaston Fitts'], ['Aaron Sharp', 'Felix Laursen', 'Franklyn Palmer', 'Marlin Burns', 'Shanice Kriss', 'Jeannine Valone', 'Edison Nelson', 'Marcus Quinley', 'Miguel Andres', 'Effie Mercado', 'Alan Franklin', 'Aileen Kramer', 'Mathew Livingston', 'Eryn Knick', 'Landon Mason', 'Trudy Barber', 'Krystal Martin', 'Alta Schroeder', 'Avery Petrus', 'Marth Valcourt', 'Freddy Gosier', 'Florencio Pittman', 'Pok Elsasser', 'Ludie Gee', 'Rosalinda Boren', 'Corinne Gebo', 'Lincoln Good', 'Elyse Desantis', 'Mona Lamb', 'Barrett Marson', 'Donnell Barnett', 'Herschel Neifert', 'Sherly Candela', 'Ramiro Hess', 'Nathaniel Gonzales'], ['Deangelo Ibarra', 'Sandra Spradling', 'Dario Grimes', 'Dominic Schaefer', 'Tim Prince', 'Eusebio Santana', 'Thao Carle', 'Eli Wise', 'Rebecca Koh', 'Scotty Heald', 'Tonia Vega', 'Keli Schooler', 'Deeanna Wiers', 'Alton Edelson', 'Stacie Gillespie'], ['Katrina Tocco', 'Jamie Mayer', 'Twila Nesbitt', 'Jovita Quattlebaum', 'Monique Bradford', 'Diana Svoboda', 'Arturo Nunez', 'Olive Cobb', 'Cortez Walker', 'Manuel Ramsey', 'Theodore Hess', 'Carolyn Fred', 'Abraham Callan', 'Errol Fox', 'Cora Gautier'], ['Ruby Lester', 'Clay Powell', 'Rory Holmes', 'Julissa Riggins', 'William Blind', 'Manuela George', 'Earline Mcpherson', 'Erna Krueger', 'Bobby Bowers', 'Shanae Stoughton', 'Chas French', 'Rosie Watkins', 'Clay Powell', 'Shanae Stoughton', 'Julissa Riggins', 'Bao Wilde', 'Erna Krueger', 'Kristi Meunier', 'Manuela George', 'Trena Sebree', 'Bao Wilde', 'Rory Holmes', 'Daron Sheth', 'Mary Aguilar', 'Rosie Watkins', 'Earline Mcpherson', 'Jeri Curry', 'Darell Mcglown', 'Wilton Atkinson', 'Verda Bedford']]\n",
      "[['Amos Finley', 'Hermelinda Kamer', 'Aleisha Cherry', 'Neal Rustin', 'German Shelton', 'Sina Maggio', 'Armand Valencia', 'Michale Anthony', 'Peggy Menter', 'Mack Geyer', 'Kathie Moses', 'Jay Luper', 'Thomas Munch', 'Leland Harris', 'Barrie Youmans', 'Leonor Simons', 'Ruby Lester'], ['Houston Leblanc', 'Belia Avey', 'Stacy Wilkinson', 'Nanette Shepherd', 'Joann Huynh', 'Dewayne Kaiser', 'Keenan Stewart', 'Klara Pagani', 'Cris Brundidge', 'Mandi Sponsler', 'Tracey Duarte', 'Marinda Mccotter', 'Genevive Calle', 'Hosea Kelley', 'Gaston Fitts'], ['Aaron Sharp', 'Felix Laursen', 'Franklyn Palmer', 'Marlin Burns', 'Shanice Kriss', 'Jeannine Valone', 'Edison Nelson', 'Marcus Quinley', 'Miguel Andres', 'Effie Mercado', 'Alan Franklin', 'Aileen Kramer', 'Mathew Livingston', 'Eryn Knick', 'Landon Mason', 'Trudy Barber', 'Krystal Martin', 'Alta Schroeder', 'Avery Petrus', 'Marth Valcourt', 'Freddy Gosier', 'Florencio Pittman', 'Pok Elsasser', 'Ludie Gee', 'Rosalinda Boren', 'Corinne Gebo', 'Lincoln Good', 'Elyse Desantis', 'Mona Lamb', 'Barrett Marson', 'Donnell Barnett', 'Herschel Neifert', 'Sherly Candela', 'Ramiro Hess', 'Nathaniel Gonzales'], ['Deangelo Ibarra', 'Sandra Spradling', 'Dario Grimes', 'Dominic Schaefer', 'Tim Prince', 'Eusebio Santana', 'Thao Carle', 'Eli Wise', 'Rebecca Koh', 'Scotty Heald', 'Tonia Vega', 'Keli Schooler', 'Deeanna Wiers', 'Alton Edelson', 'Stacie Gillespie'], ['Katrina Tocco', 'Jamie Mayer', 'Twila Nesbitt', 'Jovita Quattlebaum', 'Monique Bradford', 'Diana Svoboda', 'Arturo Nunez', 'Olive Cobb', 'Cortez Walker', 'Manuel Ramsey', 'Theodore Hess', 'Carolyn Fred', 'Abraham Callan', 'Errol Fox', 'Cora Gautier'], ['Ruby Lester', 'Clay Powell', 'Rory Holmes', 'Julissa Riggins', 'William Blind', 'Manuela George', 'Earline Mcpherson', 'Erna Krueger', 'Bobby Bowers', 'Shanae Stoughton', 'Chas French', 'Rosie Watkins', 'Clay Powell', 'Shanae Stoughton', 'Julissa Riggins', 'Bao Wilde', 'Erna Krueger', 'Kristi Meunier', 'Manuela George', 'Trena Sebree', 'Bao Wilde', 'Rory Holmes', 'Daron Sheth', 'Mary Aguilar', 'Rosie Watkins', 'Earline Mcpherson', 'Jeri Curry', 'Darell Mcglown', 'Wilton Atkinson', 'Verda Bedford']]\n",
      "[['Amos Finley', 'Hermelinda Kamer', 'Aleisha Cherry', 'Neal Rustin', 'German Shelton', 'Sina Maggio', 'Armand Valencia', 'Michale Anthony', 'Peggy Menter', 'Mack Geyer', 'Kathie Moses', 'Jay Luper', 'Thomas Munch', 'Leland Harris', 'Barrie Youmans', 'Leonor Simons', 'Ruby Lester'], ['Houston Leblanc', 'Belia Avey', 'Stacy Wilkinson', 'Nanette Shepherd', 'Joann Huynh', 'Dewayne Kaiser', 'Keenan Stewart', 'Klara Pagani', 'Cris Brundidge', 'Mandi Sponsler', 'Tracey Duarte', 'Marinda Mccotter', 'Genevive Calle', 'Hosea Kelley', 'Gaston Fitts'], ['Aaron Sharp', 'Felix Laursen', 'Franklyn Palmer', 'Marlin Burns', 'Shanice Kriss', 'Jeannine Valone', 'Edison Nelson', 'Marcus Quinley', 'Miguel Andres', 'Effie Mercado', 'Alan Franklin', 'Aileen Kramer', 'Mathew Livingston', 'Eryn Knick', 'Landon Mason', 'Trudy Barber', 'Krystal Martin', 'Alta Schroeder', 'Avery Petrus', 'Marth Valcourt', 'Freddy Gosier', 'Florencio Pittman', 'Pok Elsasser', 'Ludie Gee', 'Rosalinda Boren', 'Corinne Gebo', 'Lincoln Good', 'Elyse Desantis', 'Mona Lamb', 'Barrett Marson', 'Donnell Barnett', 'Herschel Neifert', 'Sherly Candela', 'Ramiro Hess', 'Nathaniel Gonzales'], ['Deangelo Ibarra', 'Sandra Spradling', 'Dario Grimes', 'Dominic Schaefer', 'Tim Prince', 'Eusebio Santana', 'Thao Carle', 'Eli Wise', 'Rebecca Koh', 'Scotty Heald', 'Tonia Vega', 'Keli Schooler', 'Deeanna Wiers', 'Alton Edelson', 'Stacie Gillespie'], ['Katrina Tocco', 'Jamie Mayer', 'Twila Nesbitt', 'Jovita Quattlebaum', 'Monique Bradford', 'Diana Svoboda', 'Arturo Nunez', 'Olive Cobb', 'Cortez Walker', 'Manuel Ramsey', 'Theodore Hess', 'Carolyn Fred', 'Abraham Callan', 'Errol Fox', 'Cora Gautier'], ['Ruby Lester', 'Clay Powell', 'Rory Holmes', 'Julissa Riggins', 'William Blind', 'Manuela George', 'Earline Mcpherson', 'Erna Krueger', 'Bobby Bowers', 'Shanae Stoughton', 'Chas French', 'Rosie Watkins', 'Clay Powell', 'Shanae Stoughton', 'Julissa Riggins', 'Bao Wilde', 'Erna Krueger', 'Kristi Meunier', 'Manuela George', 'Trena Sebree', 'Bao Wilde', 'Rory Holmes', 'Daron Sheth', 'Mary Aguilar', 'Rosie Watkins', 'Earline Mcpherson', 'Jeri Curry', 'Darell Mcglown', 'Wilton Atkinson', 'Verda Bedford']]\n",
      "[['Amos Finley', 'Hermelinda Kamer', 'Aleisha Cherry', 'Neal Rustin', 'German Shelton', 'Sina Maggio', 'Armand Valencia', 'Michale Anthony', 'Peggy Menter', 'Mack Geyer', 'Kathie Moses', 'Jay Luper', 'Thomas Munch', 'Leland Harris', 'Barrie Youmans', 'Leonor Simons', 'Ruby Lester'], ['Houston Leblanc', 'Belia Avey', 'Stacy Wilkinson', 'Nanette Shepherd', 'Joann Huynh', 'Dewayne Kaiser', 'Keenan Stewart', 'Klara Pagani', 'Cris Brundidge', 'Mandi Sponsler', 'Tracey Duarte', 'Marinda Mccotter', 'Genevive Calle', 'Hosea Kelley', 'Gaston Fitts'], ['Aaron Sharp', 'Felix Laursen', 'Franklyn Palmer', 'Marlin Burns', 'Shanice Kriss', 'Jeannine Valone', 'Edison Nelson', 'Marcus Quinley', 'Miguel Andres', 'Effie Mercado', 'Alan Franklin', 'Aileen Kramer', 'Mathew Livingston', 'Eryn Knick', 'Landon Mason', 'Trudy Barber', 'Krystal Martin', 'Alta Schroeder', 'Avery Petrus', 'Marth Valcourt', 'Freddy Gosier', 'Florencio Pittman', 'Pok Elsasser', 'Ludie Gee', 'Rosalinda Boren', 'Corinne Gebo', 'Lincoln Good', 'Elyse Desantis', 'Mona Lamb', 'Barrett Marson', 'Donnell Barnett', 'Herschel Neifert', 'Sherly Candela', 'Ramiro Hess', 'Nathaniel Gonzales'], ['Deangelo Ibarra', 'Sandra Spradling', 'Dario Grimes', 'Dominic Schaefer', 'Tim Prince', 'Eusebio Santana', 'Thao Carle', 'Eli Wise', 'Rebecca Koh', 'Scotty Heald', 'Tonia Vega', 'Keli Schooler', 'Deeanna Wiers', 'Alton Edelson', 'Stacie Gillespie'], ['Katrina Tocco', 'Jamie Mayer', 'Twila Nesbitt', 'Jovita Quattlebaum', 'Monique Bradford', 'Diana Svoboda', 'Arturo Nunez', 'Olive Cobb', 'Cortez Walker', 'Manuel Ramsey', 'Theodore Hess', 'Carolyn Fred', 'Abraham Callan', 'Errol Fox', 'Cora Gautier'], ['Ruby Lester', 'Clay Powell', 'Rory Holmes', 'Julissa Riggins', 'William Blind', 'Manuela George', 'Earline Mcpherson', 'Erna Krueger', 'Bobby Bowers', 'Shanae Stoughton', 'Chas French', 'Rosie Watkins', 'Clay Powell', 'Shanae Stoughton', 'Julissa Riggins', 'Bao Wilde', 'Erna Krueger', 'Kristi Meunier', 'Manuela George', 'Trena Sebree', 'Bao Wilde', 'Rory Holmes', 'Daron Sheth', 'Mary Aguilar', 'Rosie Watkins', 'Earline Mcpherson', 'Jeri Curry', 'Darell Mcglown', 'Wilton Atkinson', 'Verda Bedford']]\n",
      "[['Amos Finley', 'Hermelinda Kamer', 'Aleisha Cherry', 'Neal Rustin', 'German Shelton', 'Sina Maggio', 'Armand Valencia', 'Michale Anthony', 'Peggy Menter', 'Mack Geyer', 'Kathie Moses', 'Jay Luper', 'Thomas Munch', 'Leland Harris', 'Barrie Youmans', 'Leonor Simons', 'Ruby Lester'], ['Houston Leblanc', 'Belia Avey', 'Stacy Wilkinson', 'Nanette Shepherd', 'Joann Huynh', 'Dewayne Kaiser', 'Keenan Stewart', 'Klara Pagani', 'Cris Brundidge', 'Mandi Sponsler', 'Tracey Duarte', 'Marinda Mccotter', 'Genevive Calle', 'Hosea Kelley', 'Gaston Fitts'], ['Aaron Sharp', 'Felix Laursen', 'Franklyn Palmer', 'Marlin Burns', 'Shanice Kriss', 'Jeannine Valone', 'Edison Nelson', 'Marcus Quinley', 'Miguel Andres', 'Effie Mercado', 'Alan Franklin', 'Aileen Kramer', 'Mathew Livingston', 'Eryn Knick', 'Landon Mason', 'Trudy Barber', 'Krystal Martin', 'Alta Schroeder', 'Avery Petrus', 'Marth Valcourt', 'Freddy Gosier', 'Florencio Pittman', 'Pok Elsasser', 'Ludie Gee', 'Rosalinda Boren', 'Corinne Gebo', 'Lincoln Good', 'Elyse Desantis', 'Mona Lamb', 'Barrett Marson', 'Donnell Barnett', 'Herschel Neifert', 'Sherly Candela', 'Ramiro Hess', 'Nathaniel Gonzales'], ['Deangelo Ibarra', 'Sandra Spradling', 'Dario Grimes', 'Dominic Schaefer', 'Tim Prince', 'Eusebio Santana', 'Thao Carle', 'Eli Wise', 'Rebecca Koh', 'Scotty Heald', 'Tonia Vega', 'Keli Schooler', 'Deeanna Wiers', 'Alton Edelson', 'Stacie Gillespie'], ['Katrina Tocco', 'Jamie Mayer', 'Twila Nesbitt', 'Jovita Quattlebaum', 'Monique Bradford', 'Diana Svoboda', 'Arturo Nunez', 'Olive Cobb', 'Cortez Walker', 'Manuel Ramsey', 'Theodore Hess', 'Carolyn Fred', 'Abraham Callan', 'Errol Fox', 'Cora Gautier'], ['Ruby Lester', 'Clay Powell', 'Rory Holmes', 'Julissa Riggins', 'William Blind', 'Manuela George', 'Earline Mcpherson', 'Erna Krueger', 'Bobby Bowers', 'Shanae Stoughton', 'Chas French', 'Rosie Watkins', 'Clay Powell', 'Shanae Stoughton', 'Julissa Riggins', 'Bao Wilde', 'Erna Krueger', 'Kristi Meunier', 'Manuela George', 'Trena Sebree', 'Bao Wilde', 'Rory Holmes', 'Daron Sheth', 'Mary Aguilar', 'Rosie Watkins', 'Earline Mcpherson', 'Jeri Curry', 'Darell Mcglown', 'Wilton Atkinson', 'Verda Bedford']]\n",
      "[['Amos Finley', 'Hermelinda Kamer', 'Aleisha Cherry', 'Neal Rustin', 'German Shelton', 'Sina Maggio', 'Armand Valencia', 'Michale Anthony', 'Peggy Menter', 'Mack Geyer', 'Kathie Moses', 'Jay Luper', 'Thomas Munch', 'Leland Harris', 'Barrie Youmans', 'Leonor Simons', 'Ruby Lester'], ['Houston Leblanc', 'Belia Avey', 'Stacy Wilkinson', 'Nanette Shepherd', 'Joann Huynh', 'Dewayne Kaiser', 'Keenan Stewart', 'Klara Pagani', 'Cris Brundidge', 'Mandi Sponsler', 'Tracey Duarte', 'Marinda Mccotter', 'Genevive Calle', 'Hosea Kelley', 'Gaston Fitts'], ['Aaron Sharp', 'Felix Laursen', 'Franklyn Palmer', 'Marlin Burns', 'Shanice Kriss', 'Jeannine Valone', 'Edison Nelson', 'Marcus Quinley', 'Miguel Andres', 'Effie Mercado', 'Alan Franklin', 'Aileen Kramer', 'Mathew Livingston', 'Eryn Knick', 'Landon Mason', 'Trudy Barber', 'Krystal Martin', 'Alta Schroeder', 'Avery Petrus', 'Marth Valcourt', 'Freddy Gosier', 'Florencio Pittman', 'Pok Elsasser', 'Ludie Gee', 'Rosalinda Boren', 'Corinne Gebo', 'Lincoln Good', 'Elyse Desantis', 'Mona Lamb', 'Barrett Marson', 'Donnell Barnett', 'Herschel Neifert', 'Sherly Candela', 'Ramiro Hess', 'Nathaniel Gonzales'], ['Deangelo Ibarra', 'Sandra Spradling', 'Dario Grimes', 'Dominic Schaefer', 'Tim Prince', 'Eusebio Santana', 'Thao Carle', 'Eli Wise', 'Rebecca Koh', 'Scotty Heald', 'Tonia Vega', 'Keli Schooler', 'Deeanna Wiers', 'Alton Edelson', 'Stacie Gillespie'], ['Katrina Tocco', 'Jamie Mayer', 'Twila Nesbitt', 'Jovita Quattlebaum', 'Monique Bradford', 'Diana Svoboda', 'Arturo Nunez', 'Olive Cobb', 'Cortez Walker', 'Manuel Ramsey', 'Theodore Hess', 'Carolyn Fred', 'Abraham Callan', 'Errol Fox', 'Cora Gautier'], ['Ruby Lester', 'Clay Powell', 'Rory Holmes', 'Julissa Riggins', 'William Blind', 'Manuela George', 'Earline Mcpherson', 'Erna Krueger', 'Bobby Bowers', 'Shanae Stoughton', 'Chas French', 'Rosie Watkins', 'Clay Powell', 'Shanae Stoughton', 'Julissa Riggins', 'Bao Wilde', 'Erna Krueger', 'Kristi Meunier', 'Manuela George', 'Trena Sebree', 'Bao Wilde', 'Rory Holmes', 'Daron Sheth', 'Mary Aguilar', 'Rosie Watkins', 'Earline Mcpherson', 'Jeri Curry', 'Darell Mcglown', 'Wilton Atkinson', 'Verda Bedford']]\n",
      "[['Amos Finley', 'Hermelinda Kamer', 'Aleisha Cherry', 'Neal Rustin', 'German Shelton', 'Sina Maggio', 'Armand Valencia', 'Michale Anthony', 'Peggy Menter', 'Mack Geyer', 'Kathie Moses', 'Jay Luper', 'Thomas Munch', 'Leland Harris', 'Barrie Youmans', 'Leonor Simons', 'Ruby Lester'], ['Houston Leblanc', 'Belia Avey', 'Stacy Wilkinson', 'Nanette Shepherd', 'Joann Huynh', 'Dewayne Kaiser', 'Keenan Stewart', 'Klara Pagani', 'Cris Brundidge', 'Mandi Sponsler', 'Tracey Duarte', 'Marinda Mccotter', 'Genevive Calle', 'Hosea Kelley', 'Gaston Fitts'], ['Aaron Sharp', 'Felix Laursen', 'Franklyn Palmer', 'Marlin Burns', 'Shanice Kriss', 'Jeannine Valone', 'Edison Nelson', 'Marcus Quinley', 'Miguel Andres', 'Effie Mercado', 'Alan Franklin', 'Aileen Kramer', 'Mathew Livingston', 'Eryn Knick', 'Landon Mason', 'Trudy Barber', 'Krystal Martin', 'Alta Schroeder', 'Avery Petrus', 'Marth Valcourt', 'Freddy Gosier', 'Florencio Pittman', 'Pok Elsasser', 'Ludie Gee', 'Rosalinda Boren', 'Corinne Gebo', 'Lincoln Good', 'Elyse Desantis', 'Mona Lamb', 'Barrett Marson', 'Donnell Barnett', 'Herschel Neifert', 'Sherly Candela', 'Ramiro Hess', 'Nathaniel Gonzales'], ['Deangelo Ibarra', 'Sandra Spradling', 'Dario Grimes', 'Dominic Schaefer', 'Tim Prince', 'Eusebio Santana', 'Thao Carle', 'Eli Wise', 'Rebecca Koh', 'Scotty Heald', 'Tonia Vega', 'Keli Schooler', 'Deeanna Wiers', 'Alton Edelson', 'Stacie Gillespie'], ['Katrina Tocco', 'Jamie Mayer', 'Twila Nesbitt', 'Jovita Quattlebaum', 'Monique Bradford', 'Diana Svoboda', 'Arturo Nunez', 'Olive Cobb', 'Cortez Walker', 'Manuel Ramsey', 'Theodore Hess', 'Carolyn Fred', 'Abraham Callan', 'Errol Fox', 'Cora Gautier'], ['Ruby Lester', 'Clay Powell', 'Rory Holmes', 'Julissa Riggins', 'William Blind', 'Manuela George', 'Earline Mcpherson', 'Erna Krueger', 'Bobby Bowers', 'Shanae Stoughton', 'Chas French', 'Rosie Watkins', 'Clay Powell', 'Shanae Stoughton', 'Julissa Riggins', 'Bao Wilde', 'Erna Krueger', 'Kristi Meunier', 'Manuela George', 'Trena Sebree', 'Bao Wilde', 'Rory Holmes', 'Daron Sheth', 'Mary Aguilar', 'Rosie Watkins', 'Earline Mcpherson', 'Jeri Curry', 'Darell Mcglown', 'Wilton Atkinson', 'Verda Bedford']]\n",
      "[['Amos Finley', 'Hermelinda Kamer', 'Aleisha Cherry', 'Neal Rustin', 'German Shelton', 'Sina Maggio', 'Armand Valencia', 'Michale Anthony', 'Peggy Menter', 'Mack Geyer', 'Kathie Moses', 'Jay Luper', 'Thomas Munch', 'Leland Harris', 'Barrie Youmans', 'Leonor Simons', 'Ruby Lester'], ['Houston Leblanc', 'Belia Avey', 'Stacy Wilkinson', 'Nanette Shepherd', 'Joann Huynh', 'Dewayne Kaiser', 'Keenan Stewart', 'Klara Pagani', 'Cris Brundidge', 'Mandi Sponsler', 'Tracey Duarte', 'Marinda Mccotter', 'Genevive Calle', 'Hosea Kelley', 'Gaston Fitts'], ['Aaron Sharp', 'Felix Laursen', 'Franklyn Palmer', 'Marlin Burns', 'Shanice Kriss', 'Jeannine Valone', 'Edison Nelson', 'Marcus Quinley', 'Miguel Andres', 'Effie Mercado', 'Alan Franklin', 'Aileen Kramer', 'Mathew Livingston', 'Eryn Knick', 'Landon Mason', 'Trudy Barber', 'Krystal Martin', 'Alta Schroeder', 'Avery Petrus', 'Marth Valcourt', 'Freddy Gosier', 'Florencio Pittman', 'Pok Elsasser', 'Ludie Gee', 'Rosalinda Boren', 'Corinne Gebo', 'Lincoln Good', 'Elyse Desantis', 'Mona Lamb', 'Barrett Marson', 'Donnell Barnett', 'Herschel Neifert', 'Sherly Candela', 'Ramiro Hess', 'Nathaniel Gonzales'], ['Deangelo Ibarra', 'Sandra Spradling', 'Dario Grimes', 'Dominic Schaefer', 'Tim Prince', 'Eusebio Santana', 'Thao Carle', 'Eli Wise', 'Rebecca Koh', 'Scotty Heald', 'Tonia Vega', 'Keli Schooler', 'Deeanna Wiers', 'Alton Edelson', 'Stacie Gillespie'], ['Katrina Tocco', 'Jamie Mayer', 'Twila Nesbitt', 'Jovita Quattlebaum', 'Monique Bradford', 'Diana Svoboda', 'Arturo Nunez', 'Olive Cobb', 'Cortez Walker', 'Manuel Ramsey', 'Theodore Hess', 'Carolyn Fred', 'Abraham Callan', 'Errol Fox', 'Cora Gautier'], ['Ruby Lester', 'Clay Powell', 'Rory Holmes', 'Julissa Riggins', 'William Blind', 'Manuela George', 'Earline Mcpherson', 'Erna Krueger', 'Bobby Bowers', 'Shanae Stoughton', 'Chas French', 'Rosie Watkins', 'Clay Powell', 'Shanae Stoughton', 'Julissa Riggins', 'Bao Wilde', 'Erna Krueger', 'Kristi Meunier', 'Manuela George', 'Trena Sebree', 'Bao Wilde', 'Rory Holmes', 'Daron Sheth', 'Mary Aguilar', 'Rosie Watkins', 'Earline Mcpherson', 'Jeri Curry', 'Darell Mcglown', 'Wilton Atkinson', 'Verda Bedford']]\n",
      "[['Amos Finley', 'Hermelinda Kamer', 'Aleisha Cherry', 'Neal Rustin', 'German Shelton', 'Sina Maggio', 'Armand Valencia', 'Michale Anthony', 'Peggy Menter', 'Mack Geyer', 'Kathie Moses', 'Jay Luper', 'Thomas Munch', 'Leland Harris', 'Barrie Youmans', 'Leonor Simons', 'Ruby Lester'], ['Houston Leblanc', 'Belia Avey', 'Stacy Wilkinson', 'Nanette Shepherd', 'Joann Huynh', 'Dewayne Kaiser', 'Keenan Stewart', 'Klara Pagani', 'Cris Brundidge', 'Mandi Sponsler', 'Tracey Duarte', 'Marinda Mccotter', 'Genevive Calle', 'Hosea Kelley', 'Gaston Fitts'], ['Aaron Sharp', 'Felix Laursen', 'Franklyn Palmer', 'Marlin Burns', 'Shanice Kriss', 'Jeannine Valone', 'Edison Nelson', 'Marcus Quinley', 'Miguel Andres', 'Effie Mercado', 'Alan Franklin', 'Aileen Kramer', 'Mathew Livingston', 'Eryn Knick', 'Landon Mason', 'Trudy Barber', 'Krystal Martin', 'Alta Schroeder', 'Avery Petrus', 'Marth Valcourt', 'Freddy Gosier', 'Florencio Pittman', 'Pok Elsasser', 'Ludie Gee', 'Rosalinda Boren', 'Corinne Gebo', 'Lincoln Good', 'Elyse Desantis', 'Mona Lamb', 'Barrett Marson', 'Donnell Barnett', 'Herschel Neifert', 'Sherly Candela', 'Ramiro Hess', 'Nathaniel Gonzales'], ['Deangelo Ibarra', 'Sandra Spradling', 'Dario Grimes', 'Dominic Schaefer', 'Tim Prince', 'Eusebio Santana', 'Thao Carle', 'Eli Wise', 'Rebecca Koh', 'Scotty Heald', 'Tonia Vega', 'Keli Schooler', 'Deeanna Wiers', 'Alton Edelson', 'Stacie Gillespie'], ['Katrina Tocco', 'Jamie Mayer', 'Twila Nesbitt', 'Jovita Quattlebaum', 'Monique Bradford', 'Diana Svoboda', 'Arturo Nunez', 'Olive Cobb', 'Cortez Walker', 'Manuel Ramsey', 'Theodore Hess', 'Carolyn Fred', 'Abraham Callan', 'Errol Fox', 'Cora Gautier'], ['Ruby Lester', 'Clay Powell', 'Rory Holmes', 'Julissa Riggins', 'William Blind', 'Manuela George', 'Earline Mcpherson', 'Erna Krueger', 'Bobby Bowers', 'Shanae Stoughton', 'Chas French', 'Rosie Watkins', 'Clay Powell', 'Shanae Stoughton', 'Julissa Riggins', 'Bao Wilde', 'Erna Krueger', 'Kristi Meunier', 'Manuela George', 'Trena Sebree', 'Bao Wilde', 'Rory Holmes', 'Daron Sheth', 'Mary Aguilar', 'Rosie Watkins', 'Earline Mcpherson', 'Jeri Curry', 'Darell Mcglown', 'Wilton Atkinson', 'Verda Bedford']]\n",
      "[['Amos Finley', 'Hermelinda Kamer', 'Aleisha Cherry', 'Neal Rustin', 'German Shelton', 'Sina Maggio', 'Armand Valencia', 'Michale Anthony', 'Peggy Menter', 'Mack Geyer', 'Kathie Moses', 'Jay Luper', 'Thomas Munch', 'Leland Harris', 'Barrie Youmans', 'Leonor Simons', 'Ruby Lester'], ['Houston Leblanc', 'Belia Avey', 'Stacy Wilkinson', 'Nanette Shepherd', 'Joann Huynh', 'Dewayne Kaiser', 'Keenan Stewart', 'Klara Pagani', 'Cris Brundidge', 'Mandi Sponsler', 'Tracey Duarte', 'Marinda Mccotter', 'Genevive Calle', 'Hosea Kelley', 'Gaston Fitts'], ['Aaron Sharp', 'Felix Laursen', 'Franklyn Palmer', 'Marlin Burns', 'Shanice Kriss', 'Jeannine Valone', 'Edison Nelson', 'Marcus Quinley', 'Miguel Andres', 'Effie Mercado', 'Alan Franklin', 'Aileen Kramer', 'Mathew Livingston', 'Eryn Knick', 'Landon Mason', 'Trudy Barber', 'Krystal Martin', 'Alta Schroeder', 'Avery Petrus', 'Marth Valcourt', 'Freddy Gosier', 'Florencio Pittman', 'Pok Elsasser', 'Ludie Gee', 'Rosalinda Boren', 'Corinne Gebo', 'Lincoln Good', 'Elyse Desantis', 'Mona Lamb', 'Barrett Marson', 'Donnell Barnett', 'Herschel Neifert', 'Sherly Candela', 'Ramiro Hess', 'Nathaniel Gonzales'], ['Deangelo Ibarra', 'Sandra Spradling', 'Dario Grimes', 'Dominic Schaefer', 'Tim Prince', 'Eusebio Santana', 'Thao Carle', 'Eli Wise', 'Rebecca Koh', 'Scotty Heald', 'Tonia Vega', 'Keli Schooler', 'Deeanna Wiers', 'Alton Edelson', 'Stacie Gillespie'], ['Katrina Tocco', 'Jamie Mayer', 'Twila Nesbitt', 'Jovita Quattlebaum', 'Monique Bradford', 'Diana Svoboda', 'Arturo Nunez', 'Olive Cobb', 'Cortez Walker', 'Manuel Ramsey', 'Theodore Hess', 'Carolyn Fred', 'Abraham Callan', 'Errol Fox', 'Cora Gautier'], ['Ruby Lester', 'Clay Powell', 'Rory Holmes', 'Julissa Riggins', 'William Blind', 'Manuela George', 'Earline Mcpherson', 'Erna Krueger', 'Bobby Bowers', 'Shanae Stoughton', 'Chas French', 'Rosie Watkins', 'Clay Powell', 'Shanae Stoughton', 'Julissa Riggins', 'Bao Wilde', 'Erna Krueger', 'Kristi Meunier', 'Manuela George', 'Trena Sebree', 'Bao Wilde', 'Rory Holmes', 'Daron Sheth', 'Mary Aguilar', 'Rosie Watkins', 'Earline Mcpherson', 'Jeri Curry', 'Darell Mcglown', 'Wilton Atkinson', 'Verda Bedford']]\n",
      "[['Amos Finley', 'Hermelinda Kamer', 'Aleisha Cherry', 'Neal Rustin', 'German Shelton', 'Sina Maggio', 'Armand Valencia', 'Michale Anthony', 'Peggy Menter', 'Mack Geyer', 'Kathie Moses', 'Jay Luper', 'Thomas Munch', 'Leland Harris', 'Barrie Youmans', 'Leonor Simons', 'Ruby Lester'], ['Houston Leblanc', 'Belia Avey', 'Stacy Wilkinson', 'Nanette Shepherd', 'Joann Huynh', 'Dewayne Kaiser', 'Keenan Stewart', 'Klara Pagani', 'Cris Brundidge', 'Mandi Sponsler', 'Tracey Duarte', 'Marinda Mccotter', 'Genevive Calle', 'Hosea Kelley', 'Gaston Fitts'], ['Aaron Sharp', 'Felix Laursen', 'Franklyn Palmer', 'Marlin Burns', 'Shanice Kriss', 'Jeannine Valone', 'Edison Nelson', 'Marcus Quinley', 'Miguel Andres', 'Effie Mercado', 'Alan Franklin', 'Aileen Kramer', 'Mathew Livingston', 'Eryn Knick', 'Landon Mason', 'Trudy Barber', 'Krystal Martin', 'Alta Schroeder', 'Avery Petrus', 'Marth Valcourt', 'Freddy Gosier', 'Florencio Pittman', 'Pok Elsasser', 'Ludie Gee', 'Rosalinda Boren', 'Corinne Gebo', 'Lincoln Good', 'Elyse Desantis', 'Mona Lamb', 'Barrett Marson', 'Donnell Barnett', 'Herschel Neifert', 'Sherly Candela', 'Ramiro Hess', 'Nathaniel Gonzales'], ['Deangelo Ibarra', 'Sandra Spradling', 'Dario Grimes', 'Dominic Schaefer', 'Tim Prince', 'Eusebio Santana', 'Thao Carle', 'Eli Wise', 'Rebecca Koh', 'Scotty Heald', 'Tonia Vega', 'Keli Schooler', 'Deeanna Wiers', 'Alton Edelson', 'Stacie Gillespie'], ['Katrina Tocco', 'Jamie Mayer', 'Twila Nesbitt', 'Jovita Quattlebaum', 'Monique Bradford', 'Diana Svoboda', 'Arturo Nunez', 'Olive Cobb', 'Cortez Walker', 'Manuel Ramsey', 'Theodore Hess', 'Carolyn Fred', 'Abraham Callan', 'Errol Fox', 'Cora Gautier'], ['Ruby Lester', 'Clay Powell', 'Rory Holmes', 'Julissa Riggins', 'William Blind', 'Manuela George', 'Earline Mcpherson', 'Erna Krueger', 'Bobby Bowers', 'Shanae Stoughton', 'Chas French', 'Rosie Watkins', 'Clay Powell', 'Shanae Stoughton', 'Julissa Riggins', 'Bao Wilde', 'Erna Krueger', 'Kristi Meunier', 'Manuela George', 'Trena Sebree', 'Bao Wilde', 'Rory Holmes', 'Daron Sheth', 'Mary Aguilar', 'Rosie Watkins', 'Earline Mcpherson', 'Jeri Curry', 'Darell Mcglown', 'Wilton Atkinson', 'Verda Bedford']]\n",
      "[['Amos Finley', 'Hermelinda Kamer', 'Aleisha Cherry', 'Neal Rustin', 'German Shelton', 'Sina Maggio', 'Armand Valencia', 'Michale Anthony', 'Peggy Menter', 'Mack Geyer', 'Kathie Moses', 'Jay Luper', 'Thomas Munch', 'Leland Harris', 'Barrie Youmans', 'Leonor Simons', 'Ruby Lester'], ['Houston Leblanc', 'Belia Avey', 'Stacy Wilkinson', 'Nanette Shepherd', 'Joann Huynh', 'Dewayne Kaiser', 'Keenan Stewart', 'Klara Pagani', 'Cris Brundidge', 'Mandi Sponsler', 'Tracey Duarte', 'Marinda Mccotter', 'Genevive Calle', 'Hosea Kelley', 'Gaston Fitts'], ['Aaron Sharp', 'Felix Laursen', 'Franklyn Palmer', 'Marlin Burns', 'Shanice Kriss', 'Jeannine Valone', 'Edison Nelson', 'Marcus Quinley', 'Miguel Andres', 'Effie Mercado', 'Alan Franklin', 'Aileen Kramer', 'Mathew Livingston', 'Eryn Knick', 'Landon Mason', 'Trudy Barber', 'Krystal Martin', 'Alta Schroeder', 'Avery Petrus', 'Marth Valcourt', 'Freddy Gosier', 'Florencio Pittman', 'Pok Elsasser', 'Ludie Gee', 'Rosalinda Boren', 'Corinne Gebo', 'Lincoln Good', 'Elyse Desantis', 'Mona Lamb', 'Barrett Marson', 'Donnell Barnett', 'Herschel Neifert', 'Sherly Candela', 'Ramiro Hess', 'Nathaniel Gonzales'], ['Deangelo Ibarra', 'Sandra Spradling', 'Dario Grimes', 'Dominic Schaefer', 'Tim Prince', 'Eusebio Santana', 'Thao Carle', 'Eli Wise', 'Rebecca Koh', 'Scotty Heald', 'Tonia Vega', 'Keli Schooler', 'Deeanna Wiers', 'Alton Edelson', 'Stacie Gillespie'], ['Katrina Tocco', 'Jamie Mayer', 'Twila Nesbitt', 'Jovita Quattlebaum', 'Monique Bradford', 'Diana Svoboda', 'Arturo Nunez', 'Olive Cobb', 'Cortez Walker', 'Manuel Ramsey', 'Theodore Hess', 'Carolyn Fred', 'Abraham Callan', 'Errol Fox', 'Cora Gautier'], ['Ruby Lester', 'Clay Powell', 'Rory Holmes', 'Julissa Riggins', 'William Blind', 'Manuela George', 'Earline Mcpherson', 'Erna Krueger', 'Bobby Bowers', 'Shanae Stoughton', 'Chas French', 'Rosie Watkins', 'Clay Powell', 'Shanae Stoughton', 'Julissa Riggins', 'Bao Wilde', 'Erna Krueger', 'Kristi Meunier', 'Manuela George', 'Trena Sebree', 'Bao Wilde', 'Rory Holmes', 'Daron Sheth', 'Mary Aguilar', 'Rosie Watkins', 'Earline Mcpherson', 'Jeri Curry', 'Darell Mcglown', 'Wilton Atkinson', 'Verda Bedford']]\n",
      "[['Amos Finley', 'Hermelinda Kamer', 'Aleisha Cherry', 'Neal Rustin', 'German Shelton', 'Sina Maggio', 'Armand Valencia', 'Michale Anthony', 'Peggy Menter', 'Mack Geyer', 'Kathie Moses', 'Jay Luper', 'Thomas Munch', 'Leland Harris', 'Barrie Youmans', 'Leonor Simons', 'Ruby Lester'], ['Houston Leblanc', 'Belia Avey', 'Stacy Wilkinson', 'Nanette Shepherd', 'Joann Huynh', 'Dewayne Kaiser', 'Keenan Stewart', 'Klara Pagani', 'Cris Brundidge', 'Mandi Sponsler', 'Tracey Duarte', 'Marinda Mccotter', 'Genevive Calle', 'Hosea Kelley', 'Gaston Fitts'], ['Aaron Sharp', 'Felix Laursen', 'Franklyn Palmer', 'Marlin Burns', 'Shanice Kriss', 'Jeannine Valone', 'Edison Nelson', 'Marcus Quinley', 'Miguel Andres', 'Effie Mercado', 'Alan Franklin', 'Aileen Kramer', 'Mathew Livingston', 'Eryn Knick', 'Landon Mason', 'Trudy Barber', 'Krystal Martin', 'Alta Schroeder', 'Avery Petrus', 'Marth Valcourt', 'Freddy Gosier', 'Florencio Pittman', 'Pok Elsasser', 'Ludie Gee', 'Rosalinda Boren', 'Corinne Gebo', 'Lincoln Good', 'Elyse Desantis', 'Mona Lamb', 'Barrett Marson', 'Donnell Barnett', 'Herschel Neifert', 'Sherly Candela', 'Ramiro Hess', 'Nathaniel Gonzales'], ['Deangelo Ibarra', 'Sandra Spradling', 'Dario Grimes', 'Dominic Schaefer', 'Tim Prince', 'Eusebio Santana', 'Thao Carle', 'Eli Wise', 'Rebecca Koh', 'Scotty Heald', 'Tonia Vega', 'Keli Schooler', 'Deeanna Wiers', 'Alton Edelson', 'Stacie Gillespie'], ['Katrina Tocco', 'Jamie Mayer', 'Twila Nesbitt', 'Jovita Quattlebaum', 'Monique Bradford', 'Diana Svoboda', 'Arturo Nunez', 'Olive Cobb', 'Cortez Walker', 'Manuel Ramsey', 'Theodore Hess', 'Carolyn Fred', 'Abraham Callan', 'Errol Fox', 'Cora Gautier'], ['Ruby Lester', 'Clay Powell', 'Rory Holmes', 'Julissa Riggins', 'William Blind', 'Manuela George', 'Earline Mcpherson', 'Erna Krueger', 'Bobby Bowers', 'Shanae Stoughton', 'Chas French', 'Rosie Watkins', 'Clay Powell', 'Shanae Stoughton', 'Julissa Riggins', 'Bao Wilde', 'Erna Krueger', 'Kristi Meunier', 'Manuela George', 'Trena Sebree', 'Bao Wilde', 'Rory Holmes', 'Daron Sheth', 'Mary Aguilar', 'Rosie Watkins', 'Earline Mcpherson', 'Jeri Curry', 'Darell Mcglown', 'Wilton Atkinson', 'Verda Bedford']]\n",
      "[['Amos Finley', 'Hermelinda Kamer', 'Aleisha Cherry', 'Neal Rustin', 'German Shelton', 'Sina Maggio', 'Armand Valencia', 'Michale Anthony', 'Peggy Menter', 'Mack Geyer', 'Kathie Moses', 'Jay Luper', 'Thomas Munch', 'Leland Harris', 'Barrie Youmans', 'Leonor Simons', 'Ruby Lester'], ['Houston Leblanc', 'Belia Avey', 'Stacy Wilkinson', 'Nanette Shepherd', 'Joann Huynh', 'Dewayne Kaiser', 'Keenan Stewart', 'Klara Pagani', 'Cris Brundidge', 'Mandi Sponsler', 'Tracey Duarte', 'Marinda Mccotter', 'Genevive Calle', 'Hosea Kelley', 'Gaston Fitts'], ['Aaron Sharp', 'Felix Laursen', 'Franklyn Palmer', 'Marlin Burns', 'Shanice Kriss', 'Jeannine Valone', 'Edison Nelson', 'Marcus Quinley', 'Miguel Andres', 'Effie Mercado', 'Alan Franklin', 'Aileen Kramer', 'Mathew Livingston', 'Eryn Knick', 'Landon Mason', 'Trudy Barber', 'Krystal Martin', 'Alta Schroeder', 'Avery Petrus', 'Marth Valcourt', 'Freddy Gosier', 'Florencio Pittman', 'Pok Elsasser', 'Ludie Gee', 'Rosalinda Boren', 'Corinne Gebo', 'Lincoln Good', 'Elyse Desantis', 'Mona Lamb', 'Barrett Marson', 'Donnell Barnett', 'Herschel Neifert', 'Sherly Candela', 'Ramiro Hess', 'Nathaniel Gonzales'], ['Deangelo Ibarra', 'Sandra Spradling', 'Dario Grimes', 'Dominic Schaefer', 'Tim Prince', 'Eusebio Santana', 'Thao Carle', 'Eli Wise', 'Rebecca Koh', 'Scotty Heald', 'Tonia Vega', 'Keli Schooler', 'Deeanna Wiers', 'Alton Edelson', 'Stacie Gillespie'], ['Katrina Tocco', 'Jamie Mayer', 'Twila Nesbitt', 'Jovita Quattlebaum', 'Monique Bradford', 'Diana Svoboda', 'Arturo Nunez', 'Olive Cobb', 'Cortez Walker', 'Manuel Ramsey', 'Theodore Hess', 'Carolyn Fred', 'Abraham Callan', 'Errol Fox', 'Cora Gautier'], ['Ruby Lester', 'Clay Powell', 'Rory Holmes', 'Julissa Riggins', 'William Blind', 'Manuela George', 'Earline Mcpherson', 'Erna Krueger', 'Bobby Bowers', 'Shanae Stoughton', 'Chas French', 'Rosie Watkins', 'Clay Powell', 'Shanae Stoughton', 'Julissa Riggins', 'Bao Wilde', 'Erna Krueger', 'Kristi Meunier', 'Manuela George', 'Trena Sebree', 'Bao Wilde', 'Rory Holmes', 'Daron Sheth', 'Mary Aguilar', 'Rosie Watkins', 'Earline Mcpherson', 'Jeri Curry', 'Darell Mcglown', 'Wilton Atkinson', 'Verda Bedford']]\n",
      "[['Amos Finley', 'Hermelinda Kamer', 'Aleisha Cherry', 'Neal Rustin', 'German Shelton', 'Sina Maggio', 'Armand Valencia', 'Michale Anthony', 'Peggy Menter', 'Mack Geyer', 'Kathie Moses', 'Jay Luper', 'Thomas Munch', 'Leland Harris', 'Barrie Youmans', 'Leonor Simons', 'Ruby Lester'], ['Houston Leblanc', 'Belia Avey', 'Stacy Wilkinson', 'Nanette Shepherd', 'Joann Huynh', 'Dewayne Kaiser', 'Keenan Stewart', 'Klara Pagani', 'Cris Brundidge', 'Mandi Sponsler', 'Tracey Duarte', 'Marinda Mccotter', 'Genevive Calle', 'Hosea Kelley', 'Gaston Fitts'], ['Aaron Sharp', 'Felix Laursen', 'Franklyn Palmer', 'Marlin Burns', 'Shanice Kriss', 'Jeannine Valone', 'Edison Nelson', 'Marcus Quinley', 'Miguel Andres', 'Effie Mercado', 'Alan Franklin', 'Aileen Kramer', 'Mathew Livingston', 'Eryn Knick', 'Landon Mason', 'Trudy Barber', 'Krystal Martin', 'Alta Schroeder', 'Avery Petrus', 'Marth Valcourt', 'Freddy Gosier', 'Florencio Pittman', 'Pok Elsasser', 'Ludie Gee', 'Rosalinda Boren', 'Corinne Gebo', 'Lincoln Good', 'Elyse Desantis', 'Mona Lamb', 'Barrett Marson', 'Donnell Barnett', 'Herschel Neifert', 'Sherly Candela', 'Ramiro Hess', 'Nathaniel Gonzales'], ['Deangelo Ibarra', 'Sandra Spradling', 'Dario Grimes', 'Dominic Schaefer', 'Tim Prince', 'Eusebio Santana', 'Thao Carle', 'Eli Wise', 'Rebecca Koh', 'Scotty Heald', 'Tonia Vega', 'Keli Schooler', 'Deeanna Wiers', 'Alton Edelson', 'Stacie Gillespie'], ['Katrina Tocco', 'Jamie Mayer', 'Twila Nesbitt', 'Jovita Quattlebaum', 'Monique Bradford', 'Diana Svoboda', 'Arturo Nunez', 'Olive Cobb', 'Cortez Walker', 'Manuel Ramsey', 'Theodore Hess', 'Carolyn Fred', 'Abraham Callan', 'Errol Fox', 'Cora Gautier'], ['Ruby Lester', 'Clay Powell', 'Rory Holmes', 'Julissa Riggins', 'William Blind', 'Manuela George', 'Earline Mcpherson', 'Erna Krueger', 'Bobby Bowers', 'Shanae Stoughton', 'Chas French', 'Rosie Watkins', 'Clay Powell', 'Shanae Stoughton', 'Julissa Riggins', 'Bao Wilde', 'Erna Krueger', 'Kristi Meunier', 'Manuela George', 'Trena Sebree', 'Bao Wilde', 'Rory Holmes', 'Daron Sheth', 'Mary Aguilar', 'Rosie Watkins', 'Earline Mcpherson', 'Jeri Curry', 'Darell Mcglown', 'Wilton Atkinson', 'Verda Bedford']]\n",
      "[['Amos Finley', 'Hermelinda Kamer', 'Aleisha Cherry', 'Neal Rustin', 'German Shelton', 'Sina Maggio', 'Armand Valencia', 'Michale Anthony', 'Peggy Menter', 'Mack Geyer', 'Kathie Moses', 'Jay Luper', 'Thomas Munch', 'Leland Harris', 'Barrie Youmans', 'Leonor Simons', 'Ruby Lester'], ['Houston Leblanc', 'Belia Avey', 'Stacy Wilkinson', 'Nanette Shepherd', 'Joann Huynh', 'Dewayne Kaiser', 'Keenan Stewart', 'Klara Pagani', 'Cris Brundidge', 'Mandi Sponsler', 'Tracey Duarte', 'Marinda Mccotter', 'Genevive Calle', 'Hosea Kelley', 'Gaston Fitts'], ['Aaron Sharp', 'Felix Laursen', 'Franklyn Palmer', 'Marlin Burns', 'Shanice Kriss', 'Jeannine Valone', 'Edison Nelson', 'Marcus Quinley', 'Miguel Andres', 'Effie Mercado', 'Alan Franklin', 'Aileen Kramer', 'Mathew Livingston', 'Eryn Knick', 'Landon Mason', 'Trudy Barber', 'Krystal Martin', 'Alta Schroeder', 'Avery Petrus', 'Marth Valcourt', 'Freddy Gosier', 'Florencio Pittman', 'Pok Elsasser', 'Ludie Gee', 'Rosalinda Boren', 'Corinne Gebo', 'Lincoln Good', 'Elyse Desantis', 'Mona Lamb', 'Barrett Marson', 'Donnell Barnett', 'Herschel Neifert', 'Sherly Candela', 'Ramiro Hess', 'Nathaniel Gonzales'], ['Deangelo Ibarra', 'Sandra Spradling', 'Dario Grimes', 'Dominic Schaefer', 'Tim Prince', 'Eusebio Santana', 'Thao Carle', 'Eli Wise', 'Rebecca Koh', 'Scotty Heald', 'Tonia Vega', 'Keli Schooler', 'Deeanna Wiers', 'Alton Edelson', 'Stacie Gillespie'], ['Katrina Tocco', 'Jamie Mayer', 'Twila Nesbitt', 'Jovita Quattlebaum', 'Monique Bradford', 'Diana Svoboda', 'Arturo Nunez', 'Olive Cobb', 'Cortez Walker', 'Manuel Ramsey', 'Theodore Hess', 'Carolyn Fred', 'Abraham Callan', 'Errol Fox', 'Cora Gautier'], ['Ruby Lester', 'Clay Powell', 'Rory Holmes', 'Julissa Riggins', 'William Blind', 'Manuela George', 'Earline Mcpherson', 'Erna Krueger', 'Bobby Bowers', 'Shanae Stoughton', 'Chas French', 'Rosie Watkins', 'Clay Powell', 'Shanae Stoughton', 'Julissa Riggins', 'Bao Wilde', 'Erna Krueger', 'Kristi Meunier', 'Manuela George', 'Trena Sebree', 'Bao Wilde', 'Rory Holmes', 'Daron Sheth', 'Mary Aguilar', 'Rosie Watkins', 'Earline Mcpherson', 'Jeri Curry', 'Darell Mcglown', 'Wilton Atkinson', 'Verda Bedford']]\n",
      "[['Amos Finley', 'Hermelinda Kamer', 'Aleisha Cherry', 'Neal Rustin', 'German Shelton', 'Sina Maggio', 'Armand Valencia', 'Michale Anthony', 'Peggy Menter', 'Mack Geyer', 'Kathie Moses', 'Jay Luper', 'Thomas Munch', 'Leland Harris', 'Barrie Youmans', 'Leonor Simons', 'Ruby Lester'], ['Houston Leblanc', 'Belia Avey', 'Stacy Wilkinson', 'Nanette Shepherd', 'Joann Huynh', 'Dewayne Kaiser', 'Keenan Stewart', 'Klara Pagani', 'Cris Brundidge', 'Mandi Sponsler', 'Tracey Duarte', 'Marinda Mccotter', 'Genevive Calle', 'Hosea Kelley', 'Gaston Fitts'], ['Aaron Sharp', 'Felix Laursen', 'Franklyn Palmer', 'Marlin Burns', 'Shanice Kriss', 'Jeannine Valone', 'Edison Nelson', 'Marcus Quinley', 'Miguel Andres', 'Effie Mercado', 'Alan Franklin', 'Aileen Kramer', 'Mathew Livingston', 'Eryn Knick', 'Landon Mason', 'Trudy Barber', 'Krystal Martin', 'Alta Schroeder', 'Avery Petrus', 'Marth Valcourt', 'Freddy Gosier', 'Florencio Pittman', 'Pok Elsasser', 'Ludie Gee', 'Rosalinda Boren', 'Corinne Gebo', 'Lincoln Good', 'Elyse Desantis', 'Mona Lamb', 'Barrett Marson', 'Donnell Barnett', 'Herschel Neifert', 'Sherly Candela', 'Ramiro Hess', 'Nathaniel Gonzales'], ['Deangelo Ibarra', 'Sandra Spradling', 'Dario Grimes', 'Dominic Schaefer', 'Tim Prince', 'Eusebio Santana', 'Thao Carle', 'Eli Wise', 'Rebecca Koh', 'Scotty Heald', 'Tonia Vega', 'Keli Schooler', 'Deeanna Wiers', 'Alton Edelson', 'Stacie Gillespie'], ['Katrina Tocco', 'Jamie Mayer', 'Twila Nesbitt', 'Jovita Quattlebaum', 'Monique Bradford', 'Diana Svoboda', 'Arturo Nunez', 'Olive Cobb', 'Cortez Walker', 'Manuel Ramsey', 'Theodore Hess', 'Carolyn Fred', 'Abraham Callan', 'Errol Fox', 'Cora Gautier'], ['Ruby Lester', 'Clay Powell', 'Rory Holmes', 'Julissa Riggins', 'William Blind', 'Manuela George', 'Earline Mcpherson', 'Erna Krueger', 'Bobby Bowers', 'Shanae Stoughton', 'Chas French', 'Rosie Watkins', 'Clay Powell', 'Shanae Stoughton', 'Julissa Riggins', 'Bao Wilde', 'Erna Krueger', 'Kristi Meunier', 'Manuela George', 'Trena Sebree', 'Bao Wilde', 'Rory Holmes', 'Daron Sheth', 'Mary Aguilar', 'Rosie Watkins', 'Earline Mcpherson', 'Jeri Curry', 'Darell Mcglown', 'Wilton Atkinson', 'Verda Bedford']]\n",
      "[['Amos Finley', 'Hermelinda Kamer', 'Aleisha Cherry', 'Neal Rustin', 'German Shelton', 'Sina Maggio', 'Armand Valencia', 'Michale Anthony', 'Peggy Menter', 'Mack Geyer', 'Kathie Moses', 'Jay Luper', 'Thomas Munch', 'Leland Harris', 'Barrie Youmans', 'Leonor Simons', 'Ruby Lester'], ['Houston Leblanc', 'Belia Avey', 'Stacy Wilkinson', 'Nanette Shepherd', 'Joann Huynh', 'Dewayne Kaiser', 'Keenan Stewart', 'Klara Pagani', 'Cris Brundidge', 'Mandi Sponsler', 'Tracey Duarte', 'Marinda Mccotter', 'Genevive Calle', 'Hosea Kelley', 'Gaston Fitts'], ['Aaron Sharp', 'Felix Laursen', 'Franklyn Palmer', 'Marlin Burns', 'Shanice Kriss', 'Jeannine Valone', 'Edison Nelson', 'Marcus Quinley', 'Miguel Andres', 'Effie Mercado', 'Alan Franklin', 'Aileen Kramer', 'Mathew Livingston', 'Eryn Knick', 'Landon Mason', 'Trudy Barber', 'Krystal Martin', 'Alta Schroeder', 'Avery Petrus', 'Marth Valcourt', 'Freddy Gosier', 'Florencio Pittman', 'Pok Elsasser', 'Ludie Gee', 'Rosalinda Boren', 'Corinne Gebo', 'Lincoln Good', 'Elyse Desantis', 'Mona Lamb', 'Barrett Marson', 'Donnell Barnett', 'Herschel Neifert', 'Sherly Candela', 'Ramiro Hess', 'Nathaniel Gonzales'], ['Deangelo Ibarra', 'Sandra Spradling', 'Dario Grimes', 'Dominic Schaefer', 'Tim Prince', 'Eusebio Santana', 'Thao Carle', 'Eli Wise', 'Rebecca Koh', 'Scotty Heald', 'Tonia Vega', 'Keli Schooler', 'Deeanna Wiers', 'Alton Edelson', 'Stacie Gillespie'], ['Katrina Tocco', 'Jamie Mayer', 'Twila Nesbitt', 'Jovita Quattlebaum', 'Monique Bradford', 'Diana Svoboda', 'Arturo Nunez', 'Olive Cobb', 'Cortez Walker', 'Manuel Ramsey', 'Theodore Hess', 'Carolyn Fred', 'Abraham Callan', 'Errol Fox', 'Cora Gautier'], ['Ruby Lester', 'Clay Powell', 'Rory Holmes', 'Julissa Riggins', 'William Blind', 'Manuela George', 'Earline Mcpherson', 'Erna Krueger', 'Bobby Bowers', 'Shanae Stoughton', 'Chas French', 'Rosie Watkins', 'Clay Powell', 'Shanae Stoughton', 'Julissa Riggins', 'Bao Wilde', 'Erna Krueger', 'Kristi Meunier', 'Manuela George', 'Trena Sebree', 'Bao Wilde', 'Rory Holmes', 'Daron Sheth', 'Mary Aguilar', 'Rosie Watkins', 'Earline Mcpherson', 'Jeri Curry', 'Darell Mcglown', 'Wilton Atkinson', 'Verda Bedford']]\n",
      "[['Amos Finley', 'Hermelinda Kamer', 'Aleisha Cherry', 'Neal Rustin', 'German Shelton', 'Sina Maggio', 'Armand Valencia', 'Michale Anthony', 'Peggy Menter', 'Mack Geyer', 'Kathie Moses', 'Jay Luper', 'Thomas Munch', 'Leland Harris', 'Barrie Youmans', 'Leonor Simons', 'Ruby Lester'], ['Houston Leblanc', 'Belia Avey', 'Stacy Wilkinson', 'Nanette Shepherd', 'Joann Huynh', 'Dewayne Kaiser', 'Keenan Stewart', 'Klara Pagani', 'Cris Brundidge', 'Mandi Sponsler', 'Tracey Duarte', 'Marinda Mccotter', 'Genevive Calle', 'Hosea Kelley', 'Gaston Fitts'], ['Aaron Sharp', 'Felix Laursen', 'Franklyn Palmer', 'Marlin Burns', 'Shanice Kriss', 'Jeannine Valone', 'Edison Nelson', 'Marcus Quinley', 'Miguel Andres', 'Effie Mercado', 'Alan Franklin', 'Aileen Kramer', 'Mathew Livingston', 'Eryn Knick', 'Landon Mason', 'Trudy Barber', 'Krystal Martin', 'Alta Schroeder', 'Avery Petrus', 'Marth Valcourt', 'Freddy Gosier', 'Florencio Pittman', 'Pok Elsasser', 'Ludie Gee', 'Rosalinda Boren', 'Corinne Gebo', 'Lincoln Good', 'Elyse Desantis', 'Mona Lamb', 'Barrett Marson', 'Donnell Barnett', 'Herschel Neifert', 'Sherly Candela', 'Ramiro Hess', 'Nathaniel Gonzales'], ['Deangelo Ibarra', 'Sandra Spradling', 'Dario Grimes', 'Dominic Schaefer', 'Tim Prince', 'Eusebio Santana', 'Thao Carle', 'Eli Wise', 'Rebecca Koh', 'Scotty Heald', 'Tonia Vega', 'Keli Schooler', 'Deeanna Wiers', 'Alton Edelson', 'Stacie Gillespie'], ['Katrina Tocco', 'Jamie Mayer', 'Twila Nesbitt', 'Jovita Quattlebaum', 'Monique Bradford', 'Diana Svoboda', 'Arturo Nunez', 'Olive Cobb', 'Cortez Walker', 'Manuel Ramsey', 'Theodore Hess', 'Carolyn Fred', 'Abraham Callan', 'Errol Fox', 'Cora Gautier'], ['Ruby Lester', 'Clay Powell', 'Rory Holmes', 'Julissa Riggins', 'William Blind', 'Manuela George', 'Earline Mcpherson', 'Erna Krueger', 'Bobby Bowers', 'Shanae Stoughton', 'Chas French', 'Rosie Watkins', 'Clay Powell', 'Shanae Stoughton', 'Julissa Riggins', 'Bao Wilde', 'Erna Krueger', 'Kristi Meunier', 'Manuela George', 'Trena Sebree', 'Bao Wilde', 'Rory Holmes', 'Daron Sheth', 'Mary Aguilar', 'Rosie Watkins', 'Earline Mcpherson', 'Jeri Curry', 'Darell Mcglown', 'Wilton Atkinson', 'Verda Bedford']]\n",
      "[['Amos Finley', 'Hermelinda Kamer', 'Aleisha Cherry', 'Neal Rustin', 'German Shelton', 'Sina Maggio', 'Armand Valencia', 'Michale Anthony', 'Peggy Menter', 'Mack Geyer', 'Kathie Moses', 'Jay Luper', 'Thomas Munch', 'Leland Harris', 'Barrie Youmans', 'Leonor Simons', 'Ruby Lester'], ['Houston Leblanc', 'Belia Avey', 'Stacy Wilkinson', 'Nanette Shepherd', 'Joann Huynh', 'Dewayne Kaiser', 'Keenan Stewart', 'Klara Pagani', 'Cris Brundidge', 'Mandi Sponsler', 'Tracey Duarte', 'Marinda Mccotter', 'Genevive Calle', 'Hosea Kelley', 'Gaston Fitts'], ['Aaron Sharp', 'Felix Laursen', 'Franklyn Palmer', 'Marlin Burns', 'Shanice Kriss', 'Jeannine Valone', 'Edison Nelson', 'Marcus Quinley', 'Miguel Andres', 'Effie Mercado', 'Alan Franklin', 'Aileen Kramer', 'Mathew Livingston', 'Eryn Knick', 'Landon Mason', 'Trudy Barber', 'Krystal Martin', 'Alta Schroeder', 'Avery Petrus', 'Marth Valcourt', 'Freddy Gosier', 'Florencio Pittman', 'Pok Elsasser', 'Ludie Gee', 'Rosalinda Boren', 'Corinne Gebo', 'Lincoln Good', 'Elyse Desantis', 'Mona Lamb', 'Barrett Marson', 'Donnell Barnett', 'Herschel Neifert', 'Sherly Candela', 'Ramiro Hess', 'Nathaniel Gonzales'], ['Deangelo Ibarra', 'Sandra Spradling', 'Dario Grimes', 'Dominic Schaefer', 'Tim Prince', 'Eusebio Santana', 'Thao Carle', 'Eli Wise', 'Rebecca Koh', 'Scotty Heald', 'Tonia Vega', 'Keli Schooler', 'Deeanna Wiers', 'Alton Edelson', 'Stacie Gillespie'], ['Katrina Tocco', 'Jamie Mayer', 'Twila Nesbitt', 'Jovita Quattlebaum', 'Monique Bradford', 'Diana Svoboda', 'Arturo Nunez', 'Olive Cobb', 'Cortez Walker', 'Manuel Ramsey', 'Theodore Hess', 'Carolyn Fred', 'Abraham Callan', 'Errol Fox', 'Cora Gautier'], ['Ruby Lester', 'Clay Powell', 'Rory Holmes', 'Julissa Riggins', 'William Blind', 'Manuela George', 'Earline Mcpherson', 'Erna Krueger', 'Bobby Bowers', 'Shanae Stoughton', 'Chas French', 'Rosie Watkins', 'Clay Powell', 'Shanae Stoughton', 'Julissa Riggins', 'Bao Wilde', 'Erna Krueger', 'Kristi Meunier', 'Manuela George', 'Trena Sebree', 'Bao Wilde', 'Rory Holmes', 'Daron Sheth', 'Mary Aguilar', 'Rosie Watkins', 'Earline Mcpherson', 'Jeri Curry', 'Darell Mcglown', 'Wilton Atkinson', 'Verda Bedford']]\n",
      "[['Amos Finley', 'Hermelinda Kamer', 'Aleisha Cherry', 'Neal Rustin', 'German Shelton', 'Sina Maggio', 'Armand Valencia', 'Michale Anthony', 'Peggy Menter', 'Mack Geyer', 'Kathie Moses', 'Jay Luper', 'Thomas Munch', 'Leland Harris', 'Barrie Youmans', 'Leonor Simons', 'Ruby Lester'], ['Houston Leblanc', 'Belia Avey', 'Stacy Wilkinson', 'Nanette Shepherd', 'Joann Huynh', 'Dewayne Kaiser', 'Keenan Stewart', 'Klara Pagani', 'Cris Brundidge', 'Mandi Sponsler', 'Tracey Duarte', 'Marinda Mccotter', 'Genevive Calle', 'Hosea Kelley', 'Gaston Fitts'], ['Aaron Sharp', 'Felix Laursen', 'Franklyn Palmer', 'Marlin Burns', 'Shanice Kriss', 'Jeannine Valone', 'Edison Nelson', 'Marcus Quinley', 'Miguel Andres', 'Effie Mercado', 'Alan Franklin', 'Aileen Kramer', 'Mathew Livingston', 'Eryn Knick', 'Landon Mason', 'Trudy Barber', 'Krystal Martin', 'Alta Schroeder', 'Avery Petrus', 'Marth Valcourt', 'Freddy Gosier', 'Florencio Pittman', 'Pok Elsasser', 'Ludie Gee', 'Rosalinda Boren', 'Corinne Gebo', 'Lincoln Good', 'Elyse Desantis', 'Mona Lamb', 'Barrett Marson', 'Donnell Barnett', 'Herschel Neifert', 'Sherly Candela', 'Ramiro Hess', 'Nathaniel Gonzales'], ['Deangelo Ibarra', 'Sandra Spradling', 'Dario Grimes', 'Dominic Schaefer', 'Tim Prince', 'Eusebio Santana', 'Thao Carle', 'Eli Wise', 'Rebecca Koh', 'Scotty Heald', 'Tonia Vega', 'Keli Schooler', 'Deeanna Wiers', 'Alton Edelson', 'Stacie Gillespie'], ['Katrina Tocco', 'Jamie Mayer', 'Twila Nesbitt', 'Jovita Quattlebaum', 'Monique Bradford', 'Diana Svoboda', 'Arturo Nunez', 'Olive Cobb', 'Cortez Walker', 'Manuel Ramsey', 'Theodore Hess', 'Carolyn Fred', 'Abraham Callan', 'Errol Fox', 'Cora Gautier'], ['Ruby Lester', 'Clay Powell', 'Rory Holmes', 'Julissa Riggins', 'William Blind', 'Manuela George', 'Earline Mcpherson', 'Erna Krueger', 'Bobby Bowers', 'Shanae Stoughton', 'Chas French', 'Rosie Watkins', 'Clay Powell', 'Shanae Stoughton', 'Julissa Riggins', 'Bao Wilde', 'Erna Krueger', 'Kristi Meunier', 'Manuela George', 'Trena Sebree', 'Bao Wilde', 'Rory Holmes', 'Daron Sheth', 'Mary Aguilar', 'Rosie Watkins', 'Earline Mcpherson', 'Jeri Curry', 'Darell Mcglown', 'Wilton Atkinson', 'Verda Bedford']]\n",
      "[['Amos Finley', 'Hermelinda Kamer', 'Aleisha Cherry', 'Neal Rustin', 'German Shelton', 'Sina Maggio', 'Armand Valencia', 'Michale Anthony', 'Peggy Menter', 'Mack Geyer', 'Kathie Moses', 'Jay Luper', 'Thomas Munch', 'Leland Harris', 'Barrie Youmans', 'Leonor Simons', 'Ruby Lester'], ['Houston Leblanc', 'Belia Avey', 'Stacy Wilkinson', 'Nanette Shepherd', 'Joann Huynh', 'Dewayne Kaiser', 'Keenan Stewart', 'Klara Pagani', 'Cris Brundidge', 'Mandi Sponsler', 'Tracey Duarte', 'Marinda Mccotter', 'Genevive Calle', 'Hosea Kelley', 'Gaston Fitts'], ['Aaron Sharp', 'Felix Laursen', 'Franklyn Palmer', 'Marlin Burns', 'Shanice Kriss', 'Jeannine Valone', 'Edison Nelson', 'Marcus Quinley', 'Miguel Andres', 'Effie Mercado', 'Alan Franklin', 'Aileen Kramer', 'Mathew Livingston', 'Eryn Knick', 'Landon Mason', 'Trudy Barber', 'Krystal Martin', 'Alta Schroeder', 'Avery Petrus', 'Marth Valcourt', 'Freddy Gosier', 'Florencio Pittman', 'Pok Elsasser', 'Ludie Gee', 'Rosalinda Boren', 'Corinne Gebo', 'Lincoln Good', 'Elyse Desantis', 'Mona Lamb', 'Barrett Marson', 'Donnell Barnett', 'Herschel Neifert', 'Sherly Candela', 'Ramiro Hess', 'Nathaniel Gonzales'], ['Deangelo Ibarra', 'Sandra Spradling', 'Dario Grimes', 'Dominic Schaefer', 'Tim Prince', 'Eusebio Santana', 'Thao Carle', 'Eli Wise', 'Rebecca Koh', 'Scotty Heald', 'Tonia Vega', 'Keli Schooler', 'Deeanna Wiers', 'Alton Edelson', 'Stacie Gillespie'], ['Katrina Tocco', 'Jamie Mayer', 'Twila Nesbitt', 'Jovita Quattlebaum', 'Monique Bradford', 'Diana Svoboda', 'Arturo Nunez', 'Olive Cobb', 'Cortez Walker', 'Manuel Ramsey', 'Theodore Hess', 'Carolyn Fred', 'Abraham Callan', 'Errol Fox', 'Cora Gautier'], ['Ruby Lester', 'Clay Powell', 'Rory Holmes', 'Julissa Riggins', 'William Blind', 'Manuela George', 'Earline Mcpherson', 'Erna Krueger', 'Bobby Bowers', 'Shanae Stoughton', 'Chas French', 'Rosie Watkins', 'Clay Powell', 'Shanae Stoughton', 'Julissa Riggins', 'Bao Wilde', 'Erna Krueger', 'Kristi Meunier', 'Manuela George', 'Trena Sebree', 'Bao Wilde', 'Rory Holmes', 'Daron Sheth', 'Mary Aguilar', 'Rosie Watkins', 'Earline Mcpherson', 'Jeri Curry', 'Darell Mcglown', 'Wilton Atkinson', 'Verda Bedford']]\n",
      "[['Amos Finley', 'Hermelinda Kamer', 'Aleisha Cherry', 'Neal Rustin', 'German Shelton', 'Sina Maggio', 'Armand Valencia', 'Michale Anthony', 'Peggy Menter', 'Mack Geyer', 'Kathie Moses', 'Jay Luper', 'Thomas Munch', 'Leland Harris', 'Barrie Youmans', 'Leonor Simons', 'Ruby Lester'], ['Houston Leblanc', 'Belia Avey', 'Stacy Wilkinson', 'Nanette Shepherd', 'Joann Huynh', 'Dewayne Kaiser', 'Keenan Stewart', 'Klara Pagani', 'Cris Brundidge', 'Mandi Sponsler', 'Tracey Duarte', 'Marinda Mccotter', 'Genevive Calle', 'Hosea Kelley', 'Gaston Fitts'], ['Aaron Sharp', 'Felix Laursen', 'Franklyn Palmer', 'Marlin Burns', 'Shanice Kriss', 'Jeannine Valone', 'Edison Nelson', 'Marcus Quinley', 'Miguel Andres', 'Effie Mercado', 'Alan Franklin', 'Aileen Kramer', 'Mathew Livingston', 'Eryn Knick', 'Landon Mason', 'Trudy Barber', 'Krystal Martin', 'Alta Schroeder', 'Avery Petrus', 'Marth Valcourt', 'Freddy Gosier', 'Florencio Pittman', 'Pok Elsasser', 'Ludie Gee', 'Rosalinda Boren', 'Corinne Gebo', 'Lincoln Good', 'Elyse Desantis', 'Mona Lamb', 'Barrett Marson', 'Donnell Barnett', 'Herschel Neifert', 'Sherly Candela', 'Ramiro Hess', 'Nathaniel Gonzales'], ['Deangelo Ibarra', 'Sandra Spradling', 'Dario Grimes', 'Dominic Schaefer', 'Tim Prince', 'Eusebio Santana', 'Thao Carle', 'Eli Wise', 'Rebecca Koh', 'Scotty Heald', 'Tonia Vega', 'Keli Schooler', 'Deeanna Wiers', 'Alton Edelson', 'Stacie Gillespie'], ['Katrina Tocco', 'Jamie Mayer', 'Twila Nesbitt', 'Jovita Quattlebaum', 'Monique Bradford', 'Diana Svoboda', 'Arturo Nunez', 'Olive Cobb', 'Cortez Walker', 'Manuel Ramsey', 'Theodore Hess', 'Carolyn Fred', 'Abraham Callan', 'Errol Fox', 'Cora Gautier'], ['Ruby Lester', 'Clay Powell', 'Rory Holmes', 'Julissa Riggins', 'William Blind', 'Manuela George', 'Earline Mcpherson', 'Erna Krueger', 'Bobby Bowers', 'Shanae Stoughton', 'Chas French', 'Rosie Watkins', 'Clay Powell', 'Shanae Stoughton', 'Julissa Riggins', 'Bao Wilde', 'Erna Krueger', 'Kristi Meunier', 'Manuela George', 'Trena Sebree', 'Bao Wilde', 'Rory Holmes', 'Daron Sheth', 'Mary Aguilar', 'Rosie Watkins', 'Earline Mcpherson', 'Jeri Curry', 'Darell Mcglown', 'Wilton Atkinson', 'Verda Bedford']]\n",
      "[['Amos Finley', 'Hermelinda Kamer', 'Aleisha Cherry', 'Neal Rustin', 'German Shelton', 'Sina Maggio', 'Armand Valencia', 'Michale Anthony', 'Peggy Menter', 'Mack Geyer', 'Kathie Moses', 'Jay Luper', 'Thomas Munch', 'Leland Harris', 'Barrie Youmans', 'Leonor Simons', 'Ruby Lester'], ['Houston Leblanc', 'Belia Avey', 'Stacy Wilkinson', 'Nanette Shepherd', 'Joann Huynh', 'Dewayne Kaiser', 'Keenan Stewart', 'Klara Pagani', 'Cris Brundidge', 'Mandi Sponsler', 'Tracey Duarte', 'Marinda Mccotter', 'Genevive Calle', 'Hosea Kelley', 'Gaston Fitts'], ['Aaron Sharp', 'Felix Laursen', 'Franklyn Palmer', 'Marlin Burns', 'Shanice Kriss', 'Jeannine Valone', 'Edison Nelson', 'Marcus Quinley', 'Miguel Andres', 'Effie Mercado', 'Alan Franklin', 'Aileen Kramer', 'Mathew Livingston', 'Eryn Knick', 'Landon Mason', 'Trudy Barber', 'Krystal Martin', 'Alta Schroeder', 'Avery Petrus', 'Marth Valcourt', 'Freddy Gosier', 'Florencio Pittman', 'Pok Elsasser', 'Ludie Gee', 'Rosalinda Boren', 'Corinne Gebo', 'Lincoln Good', 'Elyse Desantis', 'Mona Lamb', 'Barrett Marson', 'Donnell Barnett', 'Herschel Neifert', 'Sherly Candela', 'Ramiro Hess', 'Nathaniel Gonzales'], ['Deangelo Ibarra', 'Sandra Spradling', 'Dario Grimes', 'Dominic Schaefer', 'Tim Prince', 'Eusebio Santana', 'Thao Carle', 'Eli Wise', 'Rebecca Koh', 'Scotty Heald', 'Tonia Vega', 'Keli Schooler', 'Deeanna Wiers', 'Alton Edelson', 'Stacie Gillespie'], ['Katrina Tocco', 'Jamie Mayer', 'Twila Nesbitt', 'Jovita Quattlebaum', 'Monique Bradford', 'Diana Svoboda', 'Arturo Nunez', 'Olive Cobb', 'Cortez Walker', 'Manuel Ramsey', 'Theodore Hess', 'Carolyn Fred', 'Abraham Callan', 'Errol Fox', 'Cora Gautier'], ['Ruby Lester', 'Clay Powell', 'Rory Holmes', 'Julissa Riggins', 'William Blind', 'Manuela George', 'Earline Mcpherson', 'Erna Krueger', 'Bobby Bowers', 'Shanae Stoughton', 'Chas French', 'Rosie Watkins', 'Clay Powell', 'Shanae Stoughton', 'Julissa Riggins', 'Bao Wilde', 'Erna Krueger', 'Kristi Meunier', 'Manuela George', 'Trena Sebree', 'Bao Wilde', 'Rory Holmes', 'Daron Sheth', 'Mary Aguilar', 'Rosie Watkins', 'Earline Mcpherson', 'Jeri Curry', 'Darell Mcglown', 'Wilton Atkinson', 'Verda Bedford']]\n",
      "[['Amos Finley', 'Hermelinda Kamer', 'Aleisha Cherry', 'Neal Rustin', 'German Shelton', 'Sina Maggio', 'Armand Valencia', 'Michale Anthony', 'Peggy Menter', 'Mack Geyer', 'Kathie Moses', 'Jay Luper', 'Thomas Munch', 'Leland Harris', 'Barrie Youmans', 'Leonor Simons', 'Ruby Lester'], ['Houston Leblanc', 'Belia Avey', 'Stacy Wilkinson', 'Nanette Shepherd', 'Joann Huynh', 'Dewayne Kaiser', 'Keenan Stewart', 'Klara Pagani', 'Cris Brundidge', 'Mandi Sponsler', 'Tracey Duarte', 'Marinda Mccotter', 'Genevive Calle', 'Hosea Kelley', 'Gaston Fitts'], ['Aaron Sharp', 'Felix Laursen', 'Franklyn Palmer', 'Marlin Burns', 'Shanice Kriss', 'Jeannine Valone', 'Edison Nelson', 'Marcus Quinley', 'Miguel Andres', 'Effie Mercado', 'Alan Franklin', 'Aileen Kramer', 'Mathew Livingston', 'Eryn Knick', 'Landon Mason', 'Trudy Barber', 'Krystal Martin', 'Alta Schroeder', 'Avery Petrus', 'Marth Valcourt', 'Freddy Gosier', 'Florencio Pittman', 'Pok Elsasser', 'Ludie Gee', 'Rosalinda Boren', 'Corinne Gebo', 'Lincoln Good', 'Elyse Desantis', 'Mona Lamb', 'Barrett Marson', 'Donnell Barnett', 'Herschel Neifert', 'Sherly Candela', 'Ramiro Hess', 'Nathaniel Gonzales'], ['Deangelo Ibarra', 'Sandra Spradling', 'Dario Grimes', 'Dominic Schaefer', 'Tim Prince', 'Eusebio Santana', 'Thao Carle', 'Eli Wise', 'Rebecca Koh', 'Scotty Heald', 'Tonia Vega', 'Keli Schooler', 'Deeanna Wiers', 'Alton Edelson', 'Stacie Gillespie'], ['Katrina Tocco', 'Jamie Mayer', 'Twila Nesbitt', 'Jovita Quattlebaum', 'Monique Bradford', 'Diana Svoboda', 'Arturo Nunez', 'Olive Cobb', 'Cortez Walker', 'Manuel Ramsey', 'Theodore Hess', 'Carolyn Fred', 'Abraham Callan', 'Errol Fox', 'Cora Gautier'], ['Ruby Lester', 'Clay Powell', 'Rory Holmes', 'Julissa Riggins', 'William Blind', 'Manuela George', 'Earline Mcpherson', 'Erna Krueger', 'Bobby Bowers', 'Shanae Stoughton', 'Chas French', 'Rosie Watkins', 'Clay Powell', 'Shanae Stoughton', 'Julissa Riggins', 'Bao Wilde', 'Erna Krueger', 'Kristi Meunier', 'Manuela George', 'Trena Sebree', 'Bao Wilde', 'Rory Holmes', 'Daron Sheth', 'Mary Aguilar', 'Rosie Watkins', 'Earline Mcpherson', 'Jeri Curry', 'Darell Mcglown', 'Wilton Atkinson', 'Verda Bedford']]\n",
      "[['Amos Finley', 'Hermelinda Kamer', 'Aleisha Cherry', 'Neal Rustin', 'German Shelton', 'Sina Maggio', 'Armand Valencia', 'Michale Anthony', 'Peggy Menter', 'Mack Geyer', 'Kathie Moses', 'Jay Luper', 'Thomas Munch', 'Leland Harris', 'Barrie Youmans', 'Leonor Simons', 'Ruby Lester'], ['Houston Leblanc', 'Belia Avey', 'Stacy Wilkinson', 'Nanette Shepherd', 'Joann Huynh', 'Dewayne Kaiser', 'Keenan Stewart', 'Klara Pagani', 'Cris Brundidge', 'Mandi Sponsler', 'Tracey Duarte', 'Marinda Mccotter', 'Genevive Calle', 'Hosea Kelley', 'Gaston Fitts'], ['Aaron Sharp', 'Felix Laursen', 'Franklyn Palmer', 'Marlin Burns', 'Shanice Kriss', 'Jeannine Valone', 'Edison Nelson', 'Marcus Quinley', 'Miguel Andres', 'Effie Mercado', 'Alan Franklin', 'Aileen Kramer', 'Mathew Livingston', 'Eryn Knick', 'Landon Mason', 'Trudy Barber', 'Krystal Martin', 'Alta Schroeder', 'Avery Petrus', 'Marth Valcourt', 'Freddy Gosier', 'Florencio Pittman', 'Pok Elsasser', 'Ludie Gee', 'Rosalinda Boren', 'Corinne Gebo', 'Lincoln Good', 'Elyse Desantis', 'Mona Lamb', 'Barrett Marson', 'Donnell Barnett', 'Herschel Neifert', 'Sherly Candela', 'Ramiro Hess', 'Nathaniel Gonzales'], ['Deangelo Ibarra', 'Sandra Spradling', 'Dario Grimes', 'Dominic Schaefer', 'Tim Prince', 'Eusebio Santana', 'Thao Carle', 'Eli Wise', 'Rebecca Koh', 'Scotty Heald', 'Tonia Vega', 'Keli Schooler', 'Deeanna Wiers', 'Alton Edelson', 'Stacie Gillespie'], ['Katrina Tocco', 'Jamie Mayer', 'Twila Nesbitt', 'Jovita Quattlebaum', 'Monique Bradford', 'Diana Svoboda', 'Arturo Nunez', 'Olive Cobb', 'Cortez Walker', 'Manuel Ramsey', 'Theodore Hess', 'Carolyn Fred', 'Abraham Callan', 'Errol Fox', 'Cora Gautier'], ['Ruby Lester', 'Clay Powell', 'Rory Holmes', 'Julissa Riggins', 'William Blind', 'Manuela George', 'Earline Mcpherson', 'Erna Krueger', 'Bobby Bowers', 'Shanae Stoughton', 'Chas French', 'Rosie Watkins', 'Clay Powell', 'Shanae Stoughton', 'Julissa Riggins', 'Bao Wilde', 'Erna Krueger', 'Kristi Meunier', 'Manuela George', 'Trena Sebree', 'Bao Wilde', 'Rory Holmes', 'Daron Sheth', 'Mary Aguilar', 'Rosie Watkins', 'Earline Mcpherson', 'Jeri Curry', 'Darell Mcglown', 'Wilton Atkinson', 'Verda Bedford']]\n",
      "[['Amos Finley', 'Hermelinda Kamer', 'Aleisha Cherry', 'Neal Rustin', 'German Shelton', 'Sina Maggio', 'Armand Valencia', 'Michale Anthony', 'Peggy Menter', 'Mack Geyer', 'Kathie Moses', 'Jay Luper', 'Thomas Munch', 'Leland Harris', 'Barrie Youmans', 'Leonor Simons', 'Ruby Lester'], ['Houston Leblanc', 'Belia Avey', 'Stacy Wilkinson', 'Nanette Shepherd', 'Joann Huynh', 'Dewayne Kaiser', 'Keenan Stewart', 'Klara Pagani', 'Cris Brundidge', 'Mandi Sponsler', 'Tracey Duarte', 'Marinda Mccotter', 'Genevive Calle', 'Hosea Kelley', 'Gaston Fitts'], ['Aaron Sharp', 'Felix Laursen', 'Franklyn Palmer', 'Marlin Burns', 'Shanice Kriss', 'Jeannine Valone', 'Edison Nelson', 'Marcus Quinley', 'Miguel Andres', 'Effie Mercado', 'Alan Franklin', 'Aileen Kramer', 'Mathew Livingston', 'Eryn Knick', 'Landon Mason', 'Trudy Barber', 'Krystal Martin', 'Alta Schroeder', 'Avery Petrus', 'Marth Valcourt', 'Freddy Gosier', 'Florencio Pittman', 'Pok Elsasser', 'Ludie Gee', 'Rosalinda Boren', 'Corinne Gebo', 'Lincoln Good', 'Elyse Desantis', 'Mona Lamb', 'Barrett Marson', 'Donnell Barnett', 'Herschel Neifert', 'Sherly Candela', 'Ramiro Hess', 'Nathaniel Gonzales'], ['Deangelo Ibarra', 'Sandra Spradling', 'Dario Grimes', 'Dominic Schaefer', 'Tim Prince', 'Eusebio Santana', 'Thao Carle', 'Eli Wise', 'Rebecca Koh', 'Scotty Heald', 'Tonia Vega', 'Keli Schooler', 'Deeanna Wiers', 'Alton Edelson', 'Stacie Gillespie'], ['Katrina Tocco', 'Jamie Mayer', 'Twila Nesbitt', 'Jovita Quattlebaum', 'Monique Bradford', 'Diana Svoboda', 'Arturo Nunez', 'Olive Cobb', 'Cortez Walker', 'Manuel Ramsey', 'Theodore Hess', 'Carolyn Fred', 'Abraham Callan', 'Errol Fox', 'Cora Gautier'], ['Ruby Lester', 'Clay Powell', 'Rory Holmes', 'Julissa Riggins', 'William Blind', 'Manuela George', 'Earline Mcpherson', 'Erna Krueger', 'Bobby Bowers', 'Shanae Stoughton', 'Chas French', 'Rosie Watkins', 'Clay Powell', 'Shanae Stoughton', 'Julissa Riggins', 'Bao Wilde', 'Erna Krueger', 'Kristi Meunier', 'Manuela George', 'Trena Sebree', 'Bao Wilde', 'Rory Holmes', 'Daron Sheth', 'Mary Aguilar', 'Rosie Watkins', 'Earline Mcpherson', 'Jeri Curry', 'Darell Mcglown', 'Wilton Atkinson', 'Verda Bedford']]\n",
      "[['Amos Finley', 'Hermelinda Kamer', 'Aleisha Cherry', 'Neal Rustin', 'German Shelton', 'Sina Maggio', 'Armand Valencia', 'Michale Anthony', 'Peggy Menter', 'Mack Geyer', 'Kathie Moses', 'Jay Luper', 'Thomas Munch', 'Leland Harris', 'Barrie Youmans', 'Leonor Simons', 'Ruby Lester'], ['Houston Leblanc', 'Belia Avey', 'Stacy Wilkinson', 'Nanette Shepherd', 'Joann Huynh', 'Dewayne Kaiser', 'Keenan Stewart', 'Klara Pagani', 'Cris Brundidge', 'Mandi Sponsler', 'Tracey Duarte', 'Marinda Mccotter', 'Genevive Calle', 'Hosea Kelley', 'Gaston Fitts'], ['Aaron Sharp', 'Felix Laursen', 'Franklyn Palmer', 'Marlin Burns', 'Shanice Kriss', 'Jeannine Valone', 'Edison Nelson', 'Marcus Quinley', 'Miguel Andres', 'Effie Mercado', 'Alan Franklin', 'Aileen Kramer', 'Mathew Livingston', 'Eryn Knick', 'Landon Mason', 'Trudy Barber', 'Krystal Martin', 'Alta Schroeder', 'Avery Petrus', 'Marth Valcourt', 'Freddy Gosier', 'Florencio Pittman', 'Pok Elsasser', 'Ludie Gee', 'Rosalinda Boren', 'Corinne Gebo', 'Lincoln Good', 'Elyse Desantis', 'Mona Lamb', 'Barrett Marson', 'Donnell Barnett', 'Herschel Neifert', 'Sherly Candela', 'Ramiro Hess', 'Nathaniel Gonzales'], ['Deangelo Ibarra', 'Sandra Spradling', 'Dario Grimes', 'Dominic Schaefer', 'Tim Prince', 'Eusebio Santana', 'Thao Carle', 'Eli Wise', 'Rebecca Koh', 'Scotty Heald', 'Tonia Vega', 'Keli Schooler', 'Deeanna Wiers', 'Alton Edelson', 'Stacie Gillespie'], ['Katrina Tocco', 'Jamie Mayer', 'Twila Nesbitt', 'Jovita Quattlebaum', 'Monique Bradford', 'Diana Svoboda', 'Arturo Nunez', 'Olive Cobb', 'Cortez Walker', 'Manuel Ramsey', 'Theodore Hess', 'Carolyn Fred', 'Abraham Callan', 'Errol Fox', 'Cora Gautier'], ['Ruby Lester', 'Clay Powell', 'Rory Holmes', 'Julissa Riggins', 'William Blind', 'Manuela George', 'Earline Mcpherson', 'Erna Krueger', 'Bobby Bowers', 'Shanae Stoughton', 'Chas French', 'Rosie Watkins', 'Clay Powell', 'Shanae Stoughton', 'Julissa Riggins', 'Bao Wilde', 'Erna Krueger', 'Kristi Meunier', 'Manuela George', 'Trena Sebree', 'Bao Wilde', 'Rory Holmes', 'Daron Sheth', 'Mary Aguilar', 'Rosie Watkins', 'Earline Mcpherson', 'Jeri Curry', 'Darell Mcglown', 'Wilton Atkinson', 'Verda Bedford']]\n",
      "[['Amos Finley', 'Hermelinda Kamer', 'Aleisha Cherry', 'Neal Rustin', 'German Shelton', 'Sina Maggio', 'Armand Valencia', 'Michale Anthony', 'Peggy Menter', 'Mack Geyer', 'Kathie Moses', 'Jay Luper', 'Thomas Munch', 'Leland Harris', 'Barrie Youmans', 'Leonor Simons', 'Ruby Lester'], ['Houston Leblanc', 'Belia Avey', 'Stacy Wilkinson', 'Nanette Shepherd', 'Joann Huynh', 'Dewayne Kaiser', 'Keenan Stewart', 'Klara Pagani', 'Cris Brundidge', 'Mandi Sponsler', 'Tracey Duarte', 'Marinda Mccotter', 'Genevive Calle', 'Hosea Kelley', 'Gaston Fitts'], ['Aaron Sharp', 'Felix Laursen', 'Franklyn Palmer', 'Marlin Burns', 'Shanice Kriss', 'Jeannine Valone', 'Edison Nelson', 'Marcus Quinley', 'Miguel Andres', 'Effie Mercado', 'Alan Franklin', 'Aileen Kramer', 'Mathew Livingston', 'Eryn Knick', 'Landon Mason', 'Trudy Barber', 'Krystal Martin', 'Alta Schroeder', 'Avery Petrus', 'Marth Valcourt', 'Freddy Gosier', 'Florencio Pittman', 'Pok Elsasser', 'Ludie Gee', 'Rosalinda Boren', 'Corinne Gebo', 'Lincoln Good', 'Elyse Desantis', 'Mona Lamb', 'Barrett Marson', 'Donnell Barnett', 'Herschel Neifert', 'Sherly Candela', 'Ramiro Hess', 'Nathaniel Gonzales'], ['Deangelo Ibarra', 'Sandra Spradling', 'Dario Grimes', 'Dominic Schaefer', 'Tim Prince', 'Eusebio Santana', 'Thao Carle', 'Eli Wise', 'Rebecca Koh', 'Scotty Heald', 'Tonia Vega', 'Keli Schooler', 'Deeanna Wiers', 'Alton Edelson', 'Stacie Gillespie'], ['Katrina Tocco', 'Jamie Mayer', 'Twila Nesbitt', 'Jovita Quattlebaum', 'Monique Bradford', 'Diana Svoboda', 'Arturo Nunez', 'Olive Cobb', 'Cortez Walker', 'Manuel Ramsey', 'Theodore Hess', 'Carolyn Fred', 'Abraham Callan', 'Errol Fox', 'Cora Gautier'], ['Ruby Lester', 'Clay Powell', 'Rory Holmes', 'Julissa Riggins', 'William Blind', 'Manuela George', 'Earline Mcpherson', 'Erna Krueger', 'Bobby Bowers', 'Shanae Stoughton', 'Chas French', 'Rosie Watkins', 'Clay Powell', 'Shanae Stoughton', 'Julissa Riggins', 'Bao Wilde', 'Erna Krueger', 'Kristi Meunier', 'Manuela George', 'Trena Sebree', 'Bao Wilde', 'Rory Holmes', 'Daron Sheth', 'Mary Aguilar', 'Rosie Watkins', 'Earline Mcpherson', 'Jeri Curry', 'Darell Mcglown', 'Wilton Atkinson', 'Verda Bedford']]\n",
      "[['Amos Finley', 'Hermelinda Kamer', 'Aleisha Cherry', 'Neal Rustin', 'German Shelton', 'Sina Maggio', 'Armand Valencia', 'Michale Anthony', 'Peggy Menter', 'Mack Geyer', 'Kathie Moses', 'Jay Luper', 'Thomas Munch', 'Leland Harris', 'Barrie Youmans', 'Leonor Simons', 'Ruby Lester'], ['Houston Leblanc', 'Belia Avey', 'Stacy Wilkinson', 'Nanette Shepherd', 'Joann Huynh', 'Dewayne Kaiser', 'Keenan Stewart', 'Klara Pagani', 'Cris Brundidge', 'Mandi Sponsler', 'Tracey Duarte', 'Marinda Mccotter', 'Genevive Calle', 'Hosea Kelley', 'Gaston Fitts'], ['Aaron Sharp', 'Felix Laursen', 'Franklyn Palmer', 'Marlin Burns', 'Shanice Kriss', 'Jeannine Valone', 'Edison Nelson', 'Marcus Quinley', 'Miguel Andres', 'Effie Mercado', 'Alan Franklin', 'Aileen Kramer', 'Mathew Livingston', 'Eryn Knick', 'Landon Mason', 'Trudy Barber', 'Krystal Martin', 'Alta Schroeder', 'Avery Petrus', 'Marth Valcourt', 'Freddy Gosier', 'Florencio Pittman', 'Pok Elsasser', 'Ludie Gee', 'Rosalinda Boren', 'Corinne Gebo', 'Lincoln Good', 'Elyse Desantis', 'Mona Lamb', 'Barrett Marson', 'Donnell Barnett', 'Herschel Neifert', 'Sherly Candela', 'Ramiro Hess', 'Nathaniel Gonzales'], ['Deangelo Ibarra', 'Sandra Spradling', 'Dario Grimes', 'Dominic Schaefer', 'Tim Prince', 'Eusebio Santana', 'Thao Carle', 'Eli Wise', 'Rebecca Koh', 'Scotty Heald', 'Tonia Vega', 'Keli Schooler', 'Deeanna Wiers', 'Alton Edelson', 'Stacie Gillespie'], ['Katrina Tocco', 'Jamie Mayer', 'Twila Nesbitt', 'Jovita Quattlebaum', 'Monique Bradford', 'Diana Svoboda', 'Arturo Nunez', 'Olive Cobb', 'Cortez Walker', 'Manuel Ramsey', 'Theodore Hess', 'Carolyn Fred', 'Abraham Callan', 'Errol Fox', 'Cora Gautier'], ['Ruby Lester', 'Clay Powell', 'Rory Holmes', 'Julissa Riggins', 'William Blind', 'Manuela George', 'Earline Mcpherson', 'Erna Krueger', 'Bobby Bowers', 'Shanae Stoughton', 'Chas French', 'Rosie Watkins', 'Clay Powell', 'Shanae Stoughton', 'Julissa Riggins', 'Bao Wilde', 'Erna Krueger', 'Kristi Meunier', 'Manuela George', 'Trena Sebree', 'Bao Wilde', 'Rory Holmes', 'Daron Sheth', 'Mary Aguilar', 'Rosie Watkins', 'Earline Mcpherson', 'Jeri Curry', 'Darell Mcglown', 'Wilton Atkinson', 'Verda Bedford']]\n",
      "[['Amos Finley', 'Hermelinda Kamer', 'Aleisha Cherry', 'Neal Rustin', 'German Shelton', 'Sina Maggio', 'Armand Valencia', 'Michale Anthony', 'Peggy Menter', 'Mack Geyer', 'Kathie Moses', 'Jay Luper', 'Thomas Munch', 'Leland Harris', 'Barrie Youmans', 'Leonor Simons', 'Ruby Lester'], ['Houston Leblanc', 'Belia Avey', 'Stacy Wilkinson', 'Nanette Shepherd', 'Joann Huynh', 'Dewayne Kaiser', 'Keenan Stewart', 'Klara Pagani', 'Cris Brundidge', 'Mandi Sponsler', 'Tracey Duarte', 'Marinda Mccotter', 'Genevive Calle', 'Hosea Kelley', 'Gaston Fitts'], ['Aaron Sharp', 'Felix Laursen', 'Franklyn Palmer', 'Marlin Burns', 'Shanice Kriss', 'Jeannine Valone', 'Edison Nelson', 'Marcus Quinley', 'Miguel Andres', 'Effie Mercado', 'Alan Franklin', 'Aileen Kramer', 'Mathew Livingston', 'Eryn Knick', 'Landon Mason', 'Trudy Barber', 'Krystal Martin', 'Alta Schroeder', 'Avery Petrus', 'Marth Valcourt', 'Freddy Gosier', 'Florencio Pittman', 'Pok Elsasser', 'Ludie Gee', 'Rosalinda Boren', 'Corinne Gebo', 'Lincoln Good', 'Elyse Desantis', 'Mona Lamb', 'Barrett Marson', 'Donnell Barnett', 'Herschel Neifert', 'Sherly Candela', 'Ramiro Hess', 'Nathaniel Gonzales'], ['Deangelo Ibarra', 'Sandra Spradling', 'Dario Grimes', 'Dominic Schaefer', 'Tim Prince', 'Eusebio Santana', 'Thao Carle', 'Eli Wise', 'Rebecca Koh', 'Scotty Heald', 'Tonia Vega', 'Keli Schooler', 'Deeanna Wiers', 'Alton Edelson', 'Stacie Gillespie'], ['Katrina Tocco', 'Jamie Mayer', 'Twila Nesbitt', 'Jovita Quattlebaum', 'Monique Bradford', 'Diana Svoboda', 'Arturo Nunez', 'Olive Cobb', 'Cortez Walker', 'Manuel Ramsey', 'Theodore Hess', 'Carolyn Fred', 'Abraham Callan', 'Errol Fox', 'Cora Gautier'], ['Ruby Lester', 'Clay Powell', 'Rory Holmes', 'Julissa Riggins', 'William Blind', 'Manuela George', 'Earline Mcpherson', 'Erna Krueger', 'Bobby Bowers', 'Shanae Stoughton', 'Chas French', 'Rosie Watkins', 'Clay Powell', 'Shanae Stoughton', 'Julissa Riggins', 'Bao Wilde', 'Erna Krueger', 'Kristi Meunier', 'Manuela George', 'Trena Sebree', 'Bao Wilde', 'Rory Holmes', 'Daron Sheth', 'Mary Aguilar', 'Rosie Watkins', 'Earline Mcpherson', 'Jeri Curry', 'Darell Mcglown', 'Wilton Atkinson', 'Verda Bedford']]\n",
      "[['Amos Finley', 'Hermelinda Kamer', 'Aleisha Cherry', 'Neal Rustin', 'German Shelton', 'Sina Maggio', 'Armand Valencia', 'Michale Anthony', 'Peggy Menter', 'Mack Geyer', 'Kathie Moses', 'Jay Luper', 'Thomas Munch', 'Leland Harris', 'Barrie Youmans', 'Leonor Simons', 'Ruby Lester'], ['Houston Leblanc', 'Belia Avey', 'Stacy Wilkinson', 'Nanette Shepherd', 'Joann Huynh', 'Dewayne Kaiser', 'Keenan Stewart', 'Klara Pagani', 'Cris Brundidge', 'Mandi Sponsler', 'Tracey Duarte', 'Marinda Mccotter', 'Genevive Calle', 'Hosea Kelley', 'Gaston Fitts'], ['Aaron Sharp', 'Felix Laursen', 'Franklyn Palmer', 'Marlin Burns', 'Shanice Kriss', 'Jeannine Valone', 'Edison Nelson', 'Marcus Quinley', 'Miguel Andres', 'Effie Mercado', 'Alan Franklin', 'Aileen Kramer', 'Mathew Livingston', 'Eryn Knick', 'Landon Mason', 'Trudy Barber', 'Krystal Martin', 'Alta Schroeder', 'Avery Petrus', 'Marth Valcourt', 'Freddy Gosier', 'Florencio Pittman', 'Pok Elsasser', 'Ludie Gee', 'Rosalinda Boren', 'Corinne Gebo', 'Lincoln Good', 'Elyse Desantis', 'Mona Lamb', 'Barrett Marson', 'Donnell Barnett', 'Herschel Neifert', 'Sherly Candela', 'Ramiro Hess', 'Nathaniel Gonzales'], ['Deangelo Ibarra', 'Sandra Spradling', 'Dario Grimes', 'Dominic Schaefer', 'Tim Prince', 'Eusebio Santana', 'Thao Carle', 'Eli Wise', 'Rebecca Koh', 'Scotty Heald', 'Tonia Vega', 'Keli Schooler', 'Deeanna Wiers', 'Alton Edelson', 'Stacie Gillespie'], ['Katrina Tocco', 'Jamie Mayer', 'Twila Nesbitt', 'Jovita Quattlebaum', 'Monique Bradford', 'Diana Svoboda', 'Arturo Nunez', 'Olive Cobb', 'Cortez Walker', 'Manuel Ramsey', 'Theodore Hess', 'Carolyn Fred', 'Abraham Callan', 'Errol Fox', 'Cora Gautier'], ['Ruby Lester', 'Clay Powell', 'Rory Holmes', 'Julissa Riggins', 'William Blind', 'Manuela George', 'Earline Mcpherson', 'Erna Krueger', 'Bobby Bowers', 'Shanae Stoughton', 'Chas French', 'Rosie Watkins', 'Clay Powell', 'Shanae Stoughton', 'Julissa Riggins', 'Bao Wilde', 'Erna Krueger', 'Kristi Meunier', 'Manuela George', 'Trena Sebree', 'Bao Wilde', 'Rory Holmes', 'Daron Sheth', 'Mary Aguilar', 'Rosie Watkins', 'Earline Mcpherson', 'Jeri Curry', 'Darell Mcglown', 'Wilton Atkinson', 'Verda Bedford']]\n",
      "[['Amos Finley', 'Hermelinda Kamer', 'Aleisha Cherry', 'Neal Rustin', 'German Shelton', 'Sina Maggio', 'Armand Valencia', 'Michale Anthony', 'Peggy Menter', 'Mack Geyer', 'Kathie Moses', 'Jay Luper', 'Thomas Munch', 'Leland Harris', 'Barrie Youmans', 'Leonor Simons', 'Ruby Lester'], ['Houston Leblanc', 'Belia Avey', 'Stacy Wilkinson', 'Nanette Shepherd', 'Joann Huynh', 'Dewayne Kaiser', 'Keenan Stewart', 'Klara Pagani', 'Cris Brundidge', 'Mandi Sponsler', 'Tracey Duarte', 'Marinda Mccotter', 'Genevive Calle', 'Hosea Kelley', 'Gaston Fitts'], ['Aaron Sharp', 'Felix Laursen', 'Franklyn Palmer', 'Marlin Burns', 'Shanice Kriss', 'Jeannine Valone', 'Edison Nelson', 'Marcus Quinley', 'Miguel Andres', 'Effie Mercado', 'Alan Franklin', 'Aileen Kramer', 'Mathew Livingston', 'Eryn Knick', 'Landon Mason', 'Trudy Barber', 'Krystal Martin', 'Alta Schroeder', 'Avery Petrus', 'Marth Valcourt', 'Freddy Gosier', 'Florencio Pittman', 'Pok Elsasser', 'Ludie Gee', 'Rosalinda Boren', 'Corinne Gebo', 'Lincoln Good', 'Elyse Desantis', 'Mona Lamb', 'Barrett Marson', 'Donnell Barnett', 'Herschel Neifert', 'Sherly Candela', 'Ramiro Hess', 'Nathaniel Gonzales'], ['Deangelo Ibarra', 'Sandra Spradling', 'Dario Grimes', 'Dominic Schaefer', 'Tim Prince', 'Eusebio Santana', 'Thao Carle', 'Eli Wise', 'Rebecca Koh', 'Scotty Heald', 'Tonia Vega', 'Keli Schooler', 'Deeanna Wiers', 'Alton Edelson', 'Stacie Gillespie'], ['Katrina Tocco', 'Jamie Mayer', 'Twila Nesbitt', 'Jovita Quattlebaum', 'Monique Bradford', 'Diana Svoboda', 'Arturo Nunez', 'Olive Cobb', 'Cortez Walker', 'Manuel Ramsey', 'Theodore Hess', 'Carolyn Fred', 'Abraham Callan', 'Errol Fox', 'Cora Gautier'], ['Ruby Lester', 'Clay Powell', 'Rory Holmes', 'Julissa Riggins', 'William Blind', 'Manuela George', 'Earline Mcpherson', 'Erna Krueger', 'Bobby Bowers', 'Shanae Stoughton', 'Chas French', 'Rosie Watkins', 'Clay Powell', 'Shanae Stoughton', 'Julissa Riggins', 'Bao Wilde', 'Erna Krueger', 'Kristi Meunier', 'Manuela George', 'Trena Sebree', 'Bao Wilde', 'Rory Holmes', 'Daron Sheth', 'Mary Aguilar', 'Rosie Watkins', 'Earline Mcpherson', 'Jeri Curry', 'Darell Mcglown', 'Wilton Atkinson', 'Verda Bedford']]\n",
      "[['Amos Finley', 'Hermelinda Kamer', 'Aleisha Cherry', 'Neal Rustin', 'German Shelton', 'Sina Maggio', 'Armand Valencia', 'Michale Anthony', 'Peggy Menter', 'Mack Geyer', 'Kathie Moses', 'Jay Luper', 'Thomas Munch', 'Leland Harris', 'Barrie Youmans', 'Leonor Simons', 'Ruby Lester'], ['Houston Leblanc', 'Belia Avey', 'Stacy Wilkinson', 'Nanette Shepherd', 'Joann Huynh', 'Dewayne Kaiser', 'Keenan Stewart', 'Klara Pagani', 'Cris Brundidge', 'Mandi Sponsler', 'Tracey Duarte', 'Marinda Mccotter', 'Genevive Calle', 'Hosea Kelley', 'Gaston Fitts'], ['Aaron Sharp', 'Felix Laursen', 'Franklyn Palmer', 'Marlin Burns', 'Shanice Kriss', 'Jeannine Valone', 'Edison Nelson', 'Marcus Quinley', 'Miguel Andres', 'Effie Mercado', 'Alan Franklin', 'Aileen Kramer', 'Mathew Livingston', 'Eryn Knick', 'Landon Mason', 'Trudy Barber', 'Krystal Martin', 'Alta Schroeder', 'Avery Petrus', 'Marth Valcourt', 'Freddy Gosier', 'Florencio Pittman', 'Pok Elsasser', 'Ludie Gee', 'Rosalinda Boren', 'Corinne Gebo', 'Lincoln Good', 'Elyse Desantis', 'Mona Lamb', 'Barrett Marson', 'Donnell Barnett', 'Herschel Neifert', 'Sherly Candela', 'Ramiro Hess', 'Nathaniel Gonzales'], ['Deangelo Ibarra', 'Sandra Spradling', 'Dario Grimes', 'Dominic Schaefer', 'Tim Prince', 'Eusebio Santana', 'Thao Carle', 'Eli Wise', 'Rebecca Koh', 'Scotty Heald', 'Tonia Vega', 'Keli Schooler', 'Deeanna Wiers', 'Alton Edelson', 'Stacie Gillespie'], ['Katrina Tocco', 'Jamie Mayer', 'Twila Nesbitt', 'Jovita Quattlebaum', 'Monique Bradford', 'Diana Svoboda', 'Arturo Nunez', 'Olive Cobb', 'Cortez Walker', 'Manuel Ramsey', 'Theodore Hess', 'Carolyn Fred', 'Abraham Callan', 'Errol Fox', 'Cora Gautier'], ['Ruby Lester', 'Clay Powell', 'Rory Holmes', 'Julissa Riggins', 'William Blind', 'Manuela George', 'Earline Mcpherson', 'Erna Krueger', 'Bobby Bowers', 'Shanae Stoughton', 'Chas French', 'Rosie Watkins', 'Clay Powell', 'Shanae Stoughton', 'Julissa Riggins', 'Bao Wilde', 'Erna Krueger', 'Kristi Meunier', 'Manuela George', 'Trena Sebree', 'Bao Wilde', 'Rory Holmes', 'Daron Sheth', 'Mary Aguilar', 'Rosie Watkins', 'Earline Mcpherson', 'Jeri Curry', 'Darell Mcglown', 'Wilton Atkinson', 'Verda Bedford']]\n",
      "[['Amos Finley', 'Hermelinda Kamer', 'Aleisha Cherry', 'Neal Rustin', 'German Shelton', 'Sina Maggio', 'Armand Valencia', 'Michale Anthony', 'Peggy Menter', 'Mack Geyer', 'Kathie Moses', 'Jay Luper', 'Thomas Munch', 'Leland Harris', 'Barrie Youmans', 'Leonor Simons', 'Ruby Lester'], ['Houston Leblanc', 'Belia Avey', 'Stacy Wilkinson', 'Nanette Shepherd', 'Joann Huynh', 'Dewayne Kaiser', 'Keenan Stewart', 'Klara Pagani', 'Cris Brundidge', 'Mandi Sponsler', 'Tracey Duarte', 'Marinda Mccotter', 'Genevive Calle', 'Hosea Kelley', 'Gaston Fitts'], ['Aaron Sharp', 'Felix Laursen', 'Franklyn Palmer', 'Marlin Burns', 'Shanice Kriss', 'Jeannine Valone', 'Edison Nelson', 'Marcus Quinley', 'Miguel Andres', 'Effie Mercado', 'Alan Franklin', 'Aileen Kramer', 'Mathew Livingston', 'Eryn Knick', 'Landon Mason', 'Trudy Barber', 'Krystal Martin', 'Alta Schroeder', 'Avery Petrus', 'Marth Valcourt', 'Freddy Gosier', 'Florencio Pittman', 'Pok Elsasser', 'Ludie Gee', 'Rosalinda Boren', 'Corinne Gebo', 'Lincoln Good', 'Elyse Desantis', 'Mona Lamb', 'Barrett Marson', 'Donnell Barnett', 'Herschel Neifert', 'Sherly Candela', 'Ramiro Hess', 'Nathaniel Gonzales'], ['Deangelo Ibarra', 'Sandra Spradling', 'Dario Grimes', 'Dominic Schaefer', 'Tim Prince', 'Eusebio Santana', 'Thao Carle', 'Eli Wise', 'Rebecca Koh', 'Scotty Heald', 'Tonia Vega', 'Keli Schooler', 'Deeanna Wiers', 'Alton Edelson', 'Stacie Gillespie'], ['Katrina Tocco', 'Jamie Mayer', 'Twila Nesbitt', 'Jovita Quattlebaum', 'Monique Bradford', 'Diana Svoboda', 'Arturo Nunez', 'Olive Cobb', 'Cortez Walker', 'Manuel Ramsey', 'Theodore Hess', 'Carolyn Fred', 'Abraham Callan', 'Errol Fox', 'Cora Gautier'], ['Ruby Lester', 'Clay Powell', 'Rory Holmes', 'Julissa Riggins', 'William Blind', 'Manuela George', 'Earline Mcpherson', 'Erna Krueger', 'Bobby Bowers', 'Shanae Stoughton', 'Chas French', 'Rosie Watkins', 'Clay Powell', 'Shanae Stoughton', 'Julissa Riggins', 'Bao Wilde', 'Erna Krueger', 'Kristi Meunier', 'Manuela George', 'Trena Sebree', 'Bao Wilde', 'Rory Holmes', 'Daron Sheth', 'Mary Aguilar', 'Rosie Watkins', 'Earline Mcpherson', 'Jeri Curry', 'Darell Mcglown', 'Wilton Atkinson', 'Verda Bedford']]\n",
      "[['Amos Finley', 'Hermelinda Kamer', 'Aleisha Cherry', 'Neal Rustin', 'German Shelton', 'Sina Maggio', 'Armand Valencia', 'Michale Anthony', 'Peggy Menter', 'Mack Geyer', 'Kathie Moses', 'Jay Luper', 'Thomas Munch', 'Leland Harris', 'Barrie Youmans', 'Leonor Simons', 'Ruby Lester'], ['Houston Leblanc', 'Belia Avey', 'Stacy Wilkinson', 'Nanette Shepherd', 'Joann Huynh', 'Dewayne Kaiser', 'Keenan Stewart', 'Klara Pagani', 'Cris Brundidge', 'Mandi Sponsler', 'Tracey Duarte', 'Marinda Mccotter', 'Genevive Calle', 'Hosea Kelley', 'Gaston Fitts'], ['Aaron Sharp', 'Felix Laursen', 'Franklyn Palmer', 'Marlin Burns', 'Shanice Kriss', 'Jeannine Valone', 'Edison Nelson', 'Marcus Quinley', 'Miguel Andres', 'Effie Mercado', 'Alan Franklin', 'Aileen Kramer', 'Mathew Livingston', 'Eryn Knick', 'Landon Mason', 'Trudy Barber', 'Krystal Martin', 'Alta Schroeder', 'Avery Petrus', 'Marth Valcourt', 'Freddy Gosier', 'Florencio Pittman', 'Pok Elsasser', 'Ludie Gee', 'Rosalinda Boren', 'Corinne Gebo', 'Lincoln Good', 'Elyse Desantis', 'Mona Lamb', 'Barrett Marson', 'Donnell Barnett', 'Herschel Neifert', 'Sherly Candela', 'Ramiro Hess', 'Nathaniel Gonzales'], ['Deangelo Ibarra', 'Sandra Spradling', 'Dario Grimes', 'Dominic Schaefer', 'Tim Prince', 'Eusebio Santana', 'Thao Carle', 'Eli Wise', 'Rebecca Koh', 'Scotty Heald', 'Tonia Vega', 'Keli Schooler', 'Deeanna Wiers', 'Alton Edelson', 'Stacie Gillespie'], ['Katrina Tocco', 'Jamie Mayer', 'Twila Nesbitt', 'Jovita Quattlebaum', 'Monique Bradford', 'Diana Svoboda', 'Arturo Nunez', 'Olive Cobb', 'Cortez Walker', 'Manuel Ramsey', 'Theodore Hess', 'Carolyn Fred', 'Abraham Callan', 'Errol Fox', 'Cora Gautier'], ['Ruby Lester', 'Clay Powell', 'Rory Holmes', 'Julissa Riggins', 'William Blind', 'Manuela George', 'Earline Mcpherson', 'Erna Krueger', 'Bobby Bowers', 'Shanae Stoughton', 'Chas French', 'Rosie Watkins', 'Clay Powell', 'Shanae Stoughton', 'Julissa Riggins', 'Bao Wilde', 'Erna Krueger', 'Kristi Meunier', 'Manuela George', 'Trena Sebree', 'Bao Wilde', 'Rory Holmes', 'Daron Sheth', 'Mary Aguilar', 'Rosie Watkins', 'Earline Mcpherson', 'Jeri Curry', 'Darell Mcglown', 'Wilton Atkinson', 'Verda Bedford']]\n",
      "[['Amos Finley', 'Hermelinda Kamer', 'Aleisha Cherry', 'Neal Rustin', 'German Shelton', 'Sina Maggio', 'Armand Valencia', 'Michale Anthony', 'Peggy Menter', 'Mack Geyer', 'Kathie Moses', 'Jay Luper', 'Thomas Munch', 'Leland Harris', 'Barrie Youmans', 'Leonor Simons', 'Ruby Lester'], ['Houston Leblanc', 'Belia Avey', 'Stacy Wilkinson', 'Nanette Shepherd', 'Joann Huynh', 'Dewayne Kaiser', 'Keenan Stewart', 'Klara Pagani', 'Cris Brundidge', 'Mandi Sponsler', 'Tracey Duarte', 'Marinda Mccotter', 'Genevive Calle', 'Hosea Kelley', 'Gaston Fitts'], ['Aaron Sharp', 'Felix Laursen', 'Franklyn Palmer', 'Marlin Burns', 'Shanice Kriss', 'Jeannine Valone', 'Edison Nelson', 'Marcus Quinley', 'Miguel Andres', 'Effie Mercado', 'Alan Franklin', 'Aileen Kramer', 'Mathew Livingston', 'Eryn Knick', 'Landon Mason', 'Trudy Barber', 'Krystal Martin', 'Alta Schroeder', 'Avery Petrus', 'Marth Valcourt', 'Freddy Gosier', 'Florencio Pittman', 'Pok Elsasser', 'Ludie Gee', 'Rosalinda Boren', 'Corinne Gebo', 'Lincoln Good', 'Elyse Desantis', 'Mona Lamb', 'Barrett Marson', 'Donnell Barnett', 'Herschel Neifert', 'Sherly Candela', 'Ramiro Hess', 'Nathaniel Gonzales'], ['Deangelo Ibarra', 'Sandra Spradling', 'Dario Grimes', 'Dominic Schaefer', 'Tim Prince', 'Eusebio Santana', 'Thao Carle', 'Eli Wise', 'Rebecca Koh', 'Scotty Heald', 'Tonia Vega', 'Keli Schooler', 'Deeanna Wiers', 'Alton Edelson', 'Stacie Gillespie'], ['Katrina Tocco', 'Jamie Mayer', 'Twila Nesbitt', 'Jovita Quattlebaum', 'Monique Bradford', 'Diana Svoboda', 'Arturo Nunez', 'Olive Cobb', 'Cortez Walker', 'Manuel Ramsey', 'Theodore Hess', 'Carolyn Fred', 'Abraham Callan', 'Errol Fox', 'Cora Gautier'], ['Ruby Lester', 'Clay Powell', 'Rory Holmes', 'Julissa Riggins', 'William Blind', 'Manuela George', 'Earline Mcpherson', 'Erna Krueger', 'Bobby Bowers', 'Shanae Stoughton', 'Chas French', 'Rosie Watkins', 'Clay Powell', 'Shanae Stoughton', 'Julissa Riggins', 'Bao Wilde', 'Erna Krueger', 'Kristi Meunier', 'Manuela George', 'Trena Sebree', 'Bao Wilde', 'Rory Holmes', 'Daron Sheth', 'Mary Aguilar', 'Rosie Watkins', 'Earline Mcpherson', 'Jeri Curry', 'Darell Mcglown', 'Wilton Atkinson', 'Verda Bedford']]\n",
      "[['Amos Finley', 'Hermelinda Kamer', 'Aleisha Cherry', 'Neal Rustin', 'German Shelton', 'Sina Maggio', 'Armand Valencia', 'Michale Anthony', 'Peggy Menter', 'Mack Geyer', 'Kathie Moses', 'Jay Luper', 'Thomas Munch', 'Leland Harris', 'Barrie Youmans', 'Leonor Simons', 'Ruby Lester'], ['Houston Leblanc', 'Belia Avey', 'Stacy Wilkinson', 'Nanette Shepherd', 'Joann Huynh', 'Dewayne Kaiser', 'Keenan Stewart', 'Klara Pagani', 'Cris Brundidge', 'Mandi Sponsler', 'Tracey Duarte', 'Marinda Mccotter', 'Genevive Calle', 'Hosea Kelley', 'Gaston Fitts'], ['Aaron Sharp', 'Felix Laursen', 'Franklyn Palmer', 'Marlin Burns', 'Shanice Kriss', 'Jeannine Valone', 'Edison Nelson', 'Marcus Quinley', 'Miguel Andres', 'Effie Mercado', 'Alan Franklin', 'Aileen Kramer', 'Mathew Livingston', 'Eryn Knick', 'Landon Mason', 'Trudy Barber', 'Krystal Martin', 'Alta Schroeder', 'Avery Petrus', 'Marth Valcourt', 'Freddy Gosier', 'Florencio Pittman', 'Pok Elsasser', 'Ludie Gee', 'Rosalinda Boren', 'Corinne Gebo', 'Lincoln Good', 'Elyse Desantis', 'Mona Lamb', 'Barrett Marson', 'Donnell Barnett', 'Herschel Neifert', 'Sherly Candela', 'Ramiro Hess', 'Nathaniel Gonzales'], ['Deangelo Ibarra', 'Sandra Spradling', 'Dario Grimes', 'Dominic Schaefer', 'Tim Prince', 'Eusebio Santana', 'Thao Carle', 'Eli Wise', 'Rebecca Koh', 'Scotty Heald', 'Tonia Vega', 'Keli Schooler', 'Deeanna Wiers', 'Alton Edelson', 'Stacie Gillespie'], ['Katrina Tocco', 'Jamie Mayer', 'Twila Nesbitt', 'Jovita Quattlebaum', 'Monique Bradford', 'Diana Svoboda', 'Arturo Nunez', 'Olive Cobb', 'Cortez Walker', 'Manuel Ramsey', 'Theodore Hess', 'Carolyn Fred', 'Abraham Callan', 'Errol Fox', 'Cora Gautier'], ['Ruby Lester', 'Clay Powell', 'Rory Holmes', 'Julissa Riggins', 'William Blind', 'Manuela George', 'Earline Mcpherson', 'Erna Krueger', 'Bobby Bowers', 'Shanae Stoughton', 'Chas French', 'Rosie Watkins', 'Clay Powell', 'Shanae Stoughton', 'Julissa Riggins', 'Bao Wilde', 'Erna Krueger', 'Kristi Meunier', 'Manuela George', 'Trena Sebree', 'Bao Wilde', 'Rory Holmes', 'Daron Sheth', 'Mary Aguilar', 'Rosie Watkins', 'Earline Mcpherson', 'Jeri Curry', 'Darell Mcglown', 'Wilton Atkinson', 'Verda Bedford']]\n"
     ]
    },
    {
     "name": "stdout",
     "output_type": "stream",
     "text": [
      "[['Amos Finley', 'Hermelinda Kamer', 'Aleisha Cherry', 'Neal Rustin', 'German Shelton', 'Sina Maggio', 'Armand Valencia', 'Michale Anthony', 'Peggy Menter', 'Mack Geyer', 'Kathie Moses', 'Jay Luper', 'Thomas Munch', 'Leland Harris', 'Barrie Youmans', 'Leonor Simons', 'Ruby Lester'], ['Houston Leblanc', 'Belia Avey', 'Stacy Wilkinson', 'Nanette Shepherd', 'Joann Huynh', 'Dewayne Kaiser', 'Keenan Stewart', 'Klara Pagani', 'Cris Brundidge', 'Mandi Sponsler', 'Tracey Duarte', 'Marinda Mccotter', 'Genevive Calle', 'Hosea Kelley', 'Gaston Fitts'], ['Aaron Sharp', 'Felix Laursen', 'Franklyn Palmer', 'Marlin Burns', 'Shanice Kriss', 'Jeannine Valone', 'Edison Nelson', 'Marcus Quinley', 'Miguel Andres', 'Effie Mercado', 'Alan Franklin', 'Aileen Kramer', 'Mathew Livingston', 'Eryn Knick', 'Landon Mason', 'Trudy Barber', 'Krystal Martin', 'Alta Schroeder', 'Avery Petrus', 'Marth Valcourt', 'Freddy Gosier', 'Florencio Pittman', 'Pok Elsasser', 'Ludie Gee', 'Rosalinda Boren', 'Corinne Gebo', 'Lincoln Good', 'Elyse Desantis', 'Mona Lamb', 'Barrett Marson', 'Donnell Barnett', 'Herschel Neifert', 'Sherly Candela', 'Ramiro Hess', 'Nathaniel Gonzales'], ['Deangelo Ibarra', 'Sandra Spradling', 'Dario Grimes', 'Dominic Schaefer', 'Tim Prince', 'Eusebio Santana', 'Thao Carle', 'Eli Wise', 'Rebecca Koh', 'Scotty Heald', 'Tonia Vega', 'Keli Schooler', 'Deeanna Wiers', 'Alton Edelson', 'Stacie Gillespie'], ['Katrina Tocco', 'Jamie Mayer', 'Twila Nesbitt', 'Jovita Quattlebaum', 'Monique Bradford', 'Diana Svoboda', 'Arturo Nunez', 'Olive Cobb', 'Cortez Walker', 'Manuel Ramsey', 'Theodore Hess', 'Carolyn Fred', 'Abraham Callan', 'Errol Fox', 'Cora Gautier'], ['Ruby Lester', 'Clay Powell', 'Rory Holmes', 'Julissa Riggins', 'William Blind', 'Manuela George', 'Earline Mcpherson', 'Erna Krueger', 'Bobby Bowers', 'Shanae Stoughton', 'Chas French', 'Rosie Watkins', 'Clay Powell', 'Shanae Stoughton', 'Julissa Riggins', 'Bao Wilde', 'Erna Krueger', 'Kristi Meunier', 'Manuela George', 'Trena Sebree', 'Bao Wilde', 'Rory Holmes', 'Daron Sheth', 'Mary Aguilar', 'Rosie Watkins', 'Earline Mcpherson', 'Jeri Curry', 'Darell Mcglown', 'Wilton Atkinson', 'Verda Bedford']]\n",
      "[['Amos Finley', 'Hermelinda Kamer', 'Aleisha Cherry', 'Neal Rustin', 'German Shelton', 'Sina Maggio', 'Armand Valencia', 'Michale Anthony', 'Peggy Menter', 'Mack Geyer', 'Kathie Moses', 'Jay Luper', 'Thomas Munch', 'Leland Harris', 'Barrie Youmans', 'Leonor Simons', 'Ruby Lester'], ['Houston Leblanc', 'Belia Avey', 'Stacy Wilkinson', 'Nanette Shepherd', 'Joann Huynh', 'Dewayne Kaiser', 'Keenan Stewart', 'Klara Pagani', 'Cris Brundidge', 'Mandi Sponsler', 'Tracey Duarte', 'Marinda Mccotter', 'Genevive Calle', 'Hosea Kelley', 'Gaston Fitts'], ['Aaron Sharp', 'Felix Laursen', 'Franklyn Palmer', 'Marlin Burns', 'Shanice Kriss', 'Jeannine Valone', 'Edison Nelson', 'Marcus Quinley', 'Miguel Andres', 'Effie Mercado', 'Alan Franklin', 'Aileen Kramer', 'Mathew Livingston', 'Eryn Knick', 'Landon Mason', 'Trudy Barber', 'Krystal Martin', 'Alta Schroeder', 'Avery Petrus', 'Marth Valcourt', 'Freddy Gosier', 'Florencio Pittman', 'Pok Elsasser', 'Ludie Gee', 'Rosalinda Boren', 'Corinne Gebo', 'Lincoln Good', 'Elyse Desantis', 'Mona Lamb', 'Barrett Marson', 'Donnell Barnett', 'Herschel Neifert', 'Sherly Candela', 'Ramiro Hess', 'Nathaniel Gonzales'], ['Deangelo Ibarra', 'Sandra Spradling', 'Dario Grimes', 'Dominic Schaefer', 'Tim Prince', 'Eusebio Santana', 'Thao Carle', 'Eli Wise', 'Rebecca Koh', 'Scotty Heald', 'Tonia Vega', 'Keli Schooler', 'Deeanna Wiers', 'Alton Edelson', 'Stacie Gillespie'], ['Katrina Tocco', 'Jamie Mayer', 'Twila Nesbitt', 'Jovita Quattlebaum', 'Monique Bradford', 'Diana Svoboda', 'Arturo Nunez', 'Olive Cobb', 'Cortez Walker', 'Manuel Ramsey', 'Theodore Hess', 'Carolyn Fred', 'Abraham Callan', 'Errol Fox', 'Cora Gautier'], ['Ruby Lester', 'Clay Powell', 'Rory Holmes', 'Julissa Riggins', 'William Blind', 'Manuela George', 'Earline Mcpherson', 'Erna Krueger', 'Bobby Bowers', 'Shanae Stoughton', 'Chas French', 'Rosie Watkins', 'Clay Powell', 'Shanae Stoughton', 'Julissa Riggins', 'Bao Wilde', 'Erna Krueger', 'Kristi Meunier', 'Manuela George', 'Trena Sebree', 'Bao Wilde', 'Rory Holmes', 'Daron Sheth', 'Mary Aguilar', 'Rosie Watkins', 'Earline Mcpherson', 'Jeri Curry', 'Darell Mcglown', 'Wilton Atkinson', 'Verda Bedford']]\n",
      "[['Amos Finley', 'Hermelinda Kamer', 'Aleisha Cherry', 'Neal Rustin', 'German Shelton', 'Sina Maggio', 'Armand Valencia', 'Michale Anthony', 'Peggy Menter', 'Mack Geyer', 'Kathie Moses', 'Jay Luper', 'Thomas Munch', 'Leland Harris', 'Barrie Youmans', 'Leonor Simons', 'Ruby Lester'], ['Houston Leblanc', 'Belia Avey', 'Stacy Wilkinson', 'Nanette Shepherd', 'Joann Huynh', 'Dewayne Kaiser', 'Keenan Stewart', 'Klara Pagani', 'Cris Brundidge', 'Mandi Sponsler', 'Tracey Duarte', 'Marinda Mccotter', 'Genevive Calle', 'Hosea Kelley', 'Gaston Fitts'], ['Aaron Sharp', 'Felix Laursen', 'Franklyn Palmer', 'Marlin Burns', 'Shanice Kriss', 'Jeannine Valone', 'Edison Nelson', 'Marcus Quinley', 'Miguel Andres', 'Effie Mercado', 'Alan Franklin', 'Aileen Kramer', 'Mathew Livingston', 'Eryn Knick', 'Landon Mason', 'Trudy Barber', 'Krystal Martin', 'Alta Schroeder', 'Avery Petrus', 'Marth Valcourt', 'Freddy Gosier', 'Florencio Pittman', 'Pok Elsasser', 'Ludie Gee', 'Rosalinda Boren', 'Corinne Gebo', 'Lincoln Good', 'Elyse Desantis', 'Mona Lamb', 'Barrett Marson', 'Donnell Barnett', 'Herschel Neifert', 'Sherly Candela', 'Ramiro Hess', 'Nathaniel Gonzales'], ['Deangelo Ibarra', 'Sandra Spradling', 'Dario Grimes', 'Dominic Schaefer', 'Tim Prince', 'Eusebio Santana', 'Thao Carle', 'Eli Wise', 'Rebecca Koh', 'Scotty Heald', 'Tonia Vega', 'Keli Schooler', 'Deeanna Wiers', 'Alton Edelson', 'Stacie Gillespie'], ['Katrina Tocco', 'Jamie Mayer', 'Twila Nesbitt', 'Jovita Quattlebaum', 'Monique Bradford', 'Diana Svoboda', 'Arturo Nunez', 'Olive Cobb', 'Cortez Walker', 'Manuel Ramsey', 'Theodore Hess', 'Carolyn Fred', 'Abraham Callan', 'Errol Fox', 'Cora Gautier'], ['Ruby Lester', 'Clay Powell', 'Rory Holmes', 'Julissa Riggins', 'William Blind', 'Manuela George', 'Earline Mcpherson', 'Erna Krueger', 'Bobby Bowers', 'Shanae Stoughton', 'Chas French', 'Rosie Watkins', 'Clay Powell', 'Shanae Stoughton', 'Julissa Riggins', 'Bao Wilde', 'Erna Krueger', 'Kristi Meunier', 'Manuela George', 'Trena Sebree', 'Bao Wilde', 'Rory Holmes', 'Daron Sheth', 'Mary Aguilar', 'Rosie Watkins', 'Earline Mcpherson', 'Jeri Curry', 'Darell Mcglown', 'Wilton Atkinson', 'Verda Bedford']]\n",
      "[['Amos Finley', 'Hermelinda Kamer', 'Aleisha Cherry', 'Neal Rustin', 'German Shelton', 'Sina Maggio', 'Armand Valencia', 'Michale Anthony', 'Peggy Menter', 'Mack Geyer', 'Kathie Moses', 'Jay Luper', 'Thomas Munch', 'Leland Harris', 'Barrie Youmans', 'Leonor Simons', 'Ruby Lester'], ['Houston Leblanc', 'Belia Avey', 'Stacy Wilkinson', 'Nanette Shepherd', 'Joann Huynh', 'Dewayne Kaiser', 'Keenan Stewart', 'Klara Pagani', 'Cris Brundidge', 'Mandi Sponsler', 'Tracey Duarte', 'Marinda Mccotter', 'Genevive Calle', 'Hosea Kelley', 'Gaston Fitts'], ['Aaron Sharp', 'Felix Laursen', 'Franklyn Palmer', 'Marlin Burns', 'Shanice Kriss', 'Jeannine Valone', 'Edison Nelson', 'Marcus Quinley', 'Miguel Andres', 'Effie Mercado', 'Alan Franklin', 'Aileen Kramer', 'Mathew Livingston', 'Eryn Knick', 'Landon Mason', 'Trudy Barber', 'Krystal Martin', 'Alta Schroeder', 'Avery Petrus', 'Marth Valcourt', 'Freddy Gosier', 'Florencio Pittman', 'Pok Elsasser', 'Ludie Gee', 'Rosalinda Boren', 'Corinne Gebo', 'Lincoln Good', 'Elyse Desantis', 'Mona Lamb', 'Barrett Marson', 'Donnell Barnett', 'Herschel Neifert', 'Sherly Candela', 'Ramiro Hess', 'Nathaniel Gonzales'], ['Deangelo Ibarra', 'Sandra Spradling', 'Dario Grimes', 'Dominic Schaefer', 'Tim Prince', 'Eusebio Santana', 'Thao Carle', 'Eli Wise', 'Rebecca Koh', 'Scotty Heald', 'Tonia Vega', 'Keli Schooler', 'Deeanna Wiers', 'Alton Edelson', 'Stacie Gillespie'], ['Katrina Tocco', 'Jamie Mayer', 'Twila Nesbitt', 'Jovita Quattlebaum', 'Monique Bradford', 'Diana Svoboda', 'Arturo Nunez', 'Olive Cobb', 'Cortez Walker', 'Manuel Ramsey', 'Theodore Hess', 'Carolyn Fred', 'Abraham Callan', 'Errol Fox', 'Cora Gautier'], ['Ruby Lester', 'Clay Powell', 'Rory Holmes', 'Julissa Riggins', 'William Blind', 'Manuela George', 'Earline Mcpherson', 'Erna Krueger', 'Bobby Bowers', 'Shanae Stoughton', 'Chas French', 'Rosie Watkins', 'Clay Powell', 'Shanae Stoughton', 'Julissa Riggins', 'Bao Wilde', 'Erna Krueger', 'Kristi Meunier', 'Manuela George', 'Trena Sebree', 'Bao Wilde', 'Rory Holmes', 'Daron Sheth', 'Mary Aguilar', 'Rosie Watkins', 'Earline Mcpherson', 'Jeri Curry', 'Darell Mcglown', 'Wilton Atkinson', 'Verda Bedford']]\n",
      "[['Amos Finley', 'Hermelinda Kamer', 'Aleisha Cherry', 'Neal Rustin', 'German Shelton', 'Sina Maggio', 'Armand Valencia', 'Michale Anthony', 'Peggy Menter', 'Mack Geyer', 'Kathie Moses', 'Jay Luper', 'Thomas Munch', 'Leland Harris', 'Barrie Youmans', 'Leonor Simons', 'Ruby Lester'], ['Houston Leblanc', 'Belia Avey', 'Stacy Wilkinson', 'Nanette Shepherd', 'Joann Huynh', 'Dewayne Kaiser', 'Keenan Stewart', 'Klara Pagani', 'Cris Brundidge', 'Mandi Sponsler', 'Tracey Duarte', 'Marinda Mccotter', 'Genevive Calle', 'Hosea Kelley', 'Gaston Fitts'], ['Aaron Sharp', 'Felix Laursen', 'Franklyn Palmer', 'Marlin Burns', 'Shanice Kriss', 'Jeannine Valone', 'Edison Nelson', 'Marcus Quinley', 'Miguel Andres', 'Effie Mercado', 'Alan Franklin', 'Aileen Kramer', 'Mathew Livingston', 'Eryn Knick', 'Landon Mason', 'Trudy Barber', 'Krystal Martin', 'Alta Schroeder', 'Avery Petrus', 'Marth Valcourt', 'Freddy Gosier', 'Florencio Pittman', 'Pok Elsasser', 'Ludie Gee', 'Rosalinda Boren', 'Corinne Gebo', 'Lincoln Good', 'Elyse Desantis', 'Mona Lamb', 'Barrett Marson', 'Donnell Barnett', 'Herschel Neifert', 'Sherly Candela', 'Ramiro Hess', 'Nathaniel Gonzales'], ['Deangelo Ibarra', 'Sandra Spradling', 'Dario Grimes', 'Dominic Schaefer', 'Tim Prince', 'Eusebio Santana', 'Thao Carle', 'Eli Wise', 'Rebecca Koh', 'Scotty Heald', 'Tonia Vega', 'Keli Schooler', 'Deeanna Wiers', 'Alton Edelson', 'Stacie Gillespie'], ['Katrina Tocco', 'Jamie Mayer', 'Twila Nesbitt', 'Jovita Quattlebaum', 'Monique Bradford', 'Diana Svoboda', 'Arturo Nunez', 'Olive Cobb', 'Cortez Walker', 'Manuel Ramsey', 'Theodore Hess', 'Carolyn Fred', 'Abraham Callan', 'Errol Fox', 'Cora Gautier'], ['Ruby Lester', 'Clay Powell', 'Rory Holmes', 'Julissa Riggins', 'William Blind', 'Manuela George', 'Earline Mcpherson', 'Erna Krueger', 'Bobby Bowers', 'Shanae Stoughton', 'Chas French', 'Rosie Watkins', 'Clay Powell', 'Shanae Stoughton', 'Julissa Riggins', 'Bao Wilde', 'Erna Krueger', 'Kristi Meunier', 'Manuela George', 'Trena Sebree', 'Bao Wilde', 'Rory Holmes', 'Daron Sheth', 'Mary Aguilar', 'Rosie Watkins', 'Earline Mcpherson', 'Jeri Curry', 'Darell Mcglown', 'Wilton Atkinson', 'Verda Bedford']]\n",
      "[['Amos Finley', 'Hermelinda Kamer', 'Aleisha Cherry', 'Neal Rustin', 'German Shelton', 'Sina Maggio', 'Armand Valencia', 'Michale Anthony', 'Peggy Menter', 'Mack Geyer', 'Kathie Moses', 'Jay Luper', 'Thomas Munch', 'Leland Harris', 'Barrie Youmans', 'Leonor Simons', 'Ruby Lester'], ['Houston Leblanc', 'Belia Avey', 'Stacy Wilkinson', 'Nanette Shepherd', 'Joann Huynh', 'Dewayne Kaiser', 'Keenan Stewart', 'Klara Pagani', 'Cris Brundidge', 'Mandi Sponsler', 'Tracey Duarte', 'Marinda Mccotter', 'Genevive Calle', 'Hosea Kelley', 'Gaston Fitts'], ['Aaron Sharp', 'Felix Laursen', 'Franklyn Palmer', 'Marlin Burns', 'Shanice Kriss', 'Jeannine Valone', 'Edison Nelson', 'Marcus Quinley', 'Miguel Andres', 'Effie Mercado', 'Alan Franklin', 'Aileen Kramer', 'Mathew Livingston', 'Eryn Knick', 'Landon Mason', 'Trudy Barber', 'Krystal Martin', 'Alta Schroeder', 'Avery Petrus', 'Marth Valcourt', 'Freddy Gosier', 'Florencio Pittman', 'Pok Elsasser', 'Ludie Gee', 'Rosalinda Boren', 'Corinne Gebo', 'Lincoln Good', 'Elyse Desantis', 'Mona Lamb', 'Barrett Marson', 'Donnell Barnett', 'Herschel Neifert', 'Sherly Candela', 'Ramiro Hess', 'Nathaniel Gonzales'], ['Deangelo Ibarra', 'Sandra Spradling', 'Dario Grimes', 'Dominic Schaefer', 'Tim Prince', 'Eusebio Santana', 'Thao Carle', 'Eli Wise', 'Rebecca Koh', 'Scotty Heald', 'Tonia Vega', 'Keli Schooler', 'Deeanna Wiers', 'Alton Edelson', 'Stacie Gillespie'], ['Katrina Tocco', 'Jamie Mayer', 'Twila Nesbitt', 'Jovita Quattlebaum', 'Monique Bradford', 'Diana Svoboda', 'Arturo Nunez', 'Olive Cobb', 'Cortez Walker', 'Manuel Ramsey', 'Theodore Hess', 'Carolyn Fred', 'Abraham Callan', 'Errol Fox', 'Cora Gautier'], ['Ruby Lester', 'Clay Powell', 'Rory Holmes', 'Julissa Riggins', 'William Blind', 'Manuela George', 'Earline Mcpherson', 'Erna Krueger', 'Bobby Bowers', 'Shanae Stoughton', 'Chas French', 'Rosie Watkins', 'Clay Powell', 'Shanae Stoughton', 'Julissa Riggins', 'Bao Wilde', 'Erna Krueger', 'Kristi Meunier', 'Manuela George', 'Trena Sebree', 'Bao Wilde', 'Rory Holmes', 'Daron Sheth', 'Mary Aguilar', 'Rosie Watkins', 'Earline Mcpherson', 'Jeri Curry', 'Darell Mcglown', 'Wilton Atkinson', 'Verda Bedford']]\n",
      "[['Amos Finley', 'Hermelinda Kamer', 'Aleisha Cherry', 'Neal Rustin', 'German Shelton', 'Sina Maggio', 'Armand Valencia', 'Michale Anthony', 'Peggy Menter', 'Mack Geyer', 'Kathie Moses', 'Jay Luper', 'Thomas Munch', 'Leland Harris', 'Barrie Youmans', 'Leonor Simons', 'Ruby Lester'], ['Houston Leblanc', 'Belia Avey', 'Stacy Wilkinson', 'Nanette Shepherd', 'Joann Huynh', 'Dewayne Kaiser', 'Keenan Stewart', 'Klara Pagani', 'Cris Brundidge', 'Mandi Sponsler', 'Tracey Duarte', 'Marinda Mccotter', 'Genevive Calle', 'Hosea Kelley', 'Gaston Fitts'], ['Aaron Sharp', 'Felix Laursen', 'Franklyn Palmer', 'Marlin Burns', 'Shanice Kriss', 'Jeannine Valone', 'Edison Nelson', 'Marcus Quinley', 'Miguel Andres', 'Effie Mercado', 'Alan Franklin', 'Aileen Kramer', 'Mathew Livingston', 'Eryn Knick', 'Landon Mason', 'Trudy Barber', 'Krystal Martin', 'Alta Schroeder', 'Avery Petrus', 'Marth Valcourt', 'Freddy Gosier', 'Florencio Pittman', 'Pok Elsasser', 'Ludie Gee', 'Rosalinda Boren', 'Corinne Gebo', 'Lincoln Good', 'Elyse Desantis', 'Mona Lamb', 'Barrett Marson', 'Donnell Barnett', 'Herschel Neifert', 'Sherly Candela', 'Ramiro Hess', 'Nathaniel Gonzales'], ['Deangelo Ibarra', 'Sandra Spradling', 'Dario Grimes', 'Dominic Schaefer', 'Tim Prince', 'Eusebio Santana', 'Thao Carle', 'Eli Wise', 'Rebecca Koh', 'Scotty Heald', 'Tonia Vega', 'Keli Schooler', 'Deeanna Wiers', 'Alton Edelson', 'Stacie Gillespie'], ['Katrina Tocco', 'Jamie Mayer', 'Twila Nesbitt', 'Jovita Quattlebaum', 'Monique Bradford', 'Diana Svoboda', 'Arturo Nunez', 'Olive Cobb', 'Cortez Walker', 'Manuel Ramsey', 'Theodore Hess', 'Carolyn Fred', 'Abraham Callan', 'Errol Fox', 'Cora Gautier'], ['Ruby Lester', 'Clay Powell', 'Rory Holmes', 'Julissa Riggins', 'William Blind', 'Manuela George', 'Earline Mcpherson', 'Erna Krueger', 'Bobby Bowers', 'Shanae Stoughton', 'Chas French', 'Rosie Watkins', 'Clay Powell', 'Shanae Stoughton', 'Julissa Riggins', 'Bao Wilde', 'Erna Krueger', 'Kristi Meunier', 'Manuela George', 'Trena Sebree', 'Bao Wilde', 'Rory Holmes', 'Daron Sheth', 'Mary Aguilar', 'Rosie Watkins', 'Earline Mcpherson', 'Jeri Curry', 'Darell Mcglown', 'Wilton Atkinson', 'Verda Bedford']]\n",
      "[['Amos Finley', 'Hermelinda Kamer', 'Aleisha Cherry', 'Neal Rustin', 'German Shelton', 'Sina Maggio', 'Armand Valencia', 'Michale Anthony', 'Peggy Menter', 'Mack Geyer', 'Kathie Moses', 'Jay Luper', 'Thomas Munch', 'Leland Harris', 'Barrie Youmans', 'Leonor Simons', 'Ruby Lester'], ['Houston Leblanc', 'Belia Avey', 'Stacy Wilkinson', 'Nanette Shepherd', 'Joann Huynh', 'Dewayne Kaiser', 'Keenan Stewart', 'Klara Pagani', 'Cris Brundidge', 'Mandi Sponsler', 'Tracey Duarte', 'Marinda Mccotter', 'Genevive Calle', 'Hosea Kelley', 'Gaston Fitts'], ['Aaron Sharp', 'Felix Laursen', 'Franklyn Palmer', 'Marlin Burns', 'Shanice Kriss', 'Jeannine Valone', 'Edison Nelson', 'Marcus Quinley', 'Miguel Andres', 'Effie Mercado', 'Alan Franklin', 'Aileen Kramer', 'Mathew Livingston', 'Eryn Knick', 'Landon Mason', 'Trudy Barber', 'Krystal Martin', 'Alta Schroeder', 'Avery Petrus', 'Marth Valcourt', 'Freddy Gosier', 'Florencio Pittman', 'Pok Elsasser', 'Ludie Gee', 'Rosalinda Boren', 'Corinne Gebo', 'Lincoln Good', 'Elyse Desantis', 'Mona Lamb', 'Barrett Marson', 'Donnell Barnett', 'Herschel Neifert', 'Sherly Candela', 'Ramiro Hess', 'Nathaniel Gonzales'], ['Deangelo Ibarra', 'Sandra Spradling', 'Dario Grimes', 'Dominic Schaefer', 'Tim Prince', 'Eusebio Santana', 'Thao Carle', 'Eli Wise', 'Rebecca Koh', 'Scotty Heald', 'Tonia Vega', 'Keli Schooler', 'Deeanna Wiers', 'Alton Edelson', 'Stacie Gillespie'], ['Katrina Tocco', 'Jamie Mayer', 'Twila Nesbitt', 'Jovita Quattlebaum', 'Monique Bradford', 'Diana Svoboda', 'Arturo Nunez', 'Olive Cobb', 'Cortez Walker', 'Manuel Ramsey', 'Theodore Hess', 'Carolyn Fred', 'Abraham Callan', 'Errol Fox', 'Cora Gautier'], ['Ruby Lester', 'Clay Powell', 'Rory Holmes', 'Julissa Riggins', 'William Blind', 'Manuela George', 'Earline Mcpherson', 'Erna Krueger', 'Bobby Bowers', 'Shanae Stoughton', 'Chas French', 'Rosie Watkins', 'Clay Powell', 'Shanae Stoughton', 'Julissa Riggins', 'Bao Wilde', 'Erna Krueger', 'Kristi Meunier', 'Manuela George', 'Trena Sebree', 'Bao Wilde', 'Rory Holmes', 'Daron Sheth', 'Mary Aguilar', 'Rosie Watkins', 'Earline Mcpherson', 'Jeri Curry', 'Darell Mcglown', 'Wilton Atkinson', 'Verda Bedford']]\n",
      "[['Amos Finley', 'Hermelinda Kamer', 'Aleisha Cherry', 'Neal Rustin', 'German Shelton', 'Sina Maggio', 'Armand Valencia', 'Michale Anthony', 'Peggy Menter', 'Mack Geyer', 'Kathie Moses', 'Jay Luper', 'Thomas Munch', 'Leland Harris', 'Barrie Youmans', 'Leonor Simons', 'Ruby Lester'], ['Houston Leblanc', 'Belia Avey', 'Stacy Wilkinson', 'Nanette Shepherd', 'Joann Huynh', 'Dewayne Kaiser', 'Keenan Stewart', 'Klara Pagani', 'Cris Brundidge', 'Mandi Sponsler', 'Tracey Duarte', 'Marinda Mccotter', 'Genevive Calle', 'Hosea Kelley', 'Gaston Fitts'], ['Aaron Sharp', 'Felix Laursen', 'Franklyn Palmer', 'Marlin Burns', 'Shanice Kriss', 'Jeannine Valone', 'Edison Nelson', 'Marcus Quinley', 'Miguel Andres', 'Effie Mercado', 'Alan Franklin', 'Aileen Kramer', 'Mathew Livingston', 'Eryn Knick', 'Landon Mason', 'Trudy Barber', 'Krystal Martin', 'Alta Schroeder', 'Avery Petrus', 'Marth Valcourt', 'Freddy Gosier', 'Florencio Pittman', 'Pok Elsasser', 'Ludie Gee', 'Rosalinda Boren', 'Corinne Gebo', 'Lincoln Good', 'Elyse Desantis', 'Mona Lamb', 'Barrett Marson', 'Donnell Barnett', 'Herschel Neifert', 'Sherly Candela', 'Ramiro Hess', 'Nathaniel Gonzales'], ['Deangelo Ibarra', 'Sandra Spradling', 'Dario Grimes', 'Dominic Schaefer', 'Tim Prince', 'Eusebio Santana', 'Thao Carle', 'Eli Wise', 'Rebecca Koh', 'Scotty Heald', 'Tonia Vega', 'Keli Schooler', 'Deeanna Wiers', 'Alton Edelson', 'Stacie Gillespie'], ['Katrina Tocco', 'Jamie Mayer', 'Twila Nesbitt', 'Jovita Quattlebaum', 'Monique Bradford', 'Diana Svoboda', 'Arturo Nunez', 'Olive Cobb', 'Cortez Walker', 'Manuel Ramsey', 'Theodore Hess', 'Carolyn Fred', 'Abraham Callan', 'Errol Fox', 'Cora Gautier'], ['Ruby Lester', 'Clay Powell', 'Rory Holmes', 'Julissa Riggins', 'William Blind', 'Manuela George', 'Earline Mcpherson', 'Erna Krueger', 'Bobby Bowers', 'Shanae Stoughton', 'Chas French', 'Rosie Watkins', 'Clay Powell', 'Shanae Stoughton', 'Julissa Riggins', 'Bao Wilde', 'Erna Krueger', 'Kristi Meunier', 'Manuela George', 'Trena Sebree', 'Bao Wilde', 'Rory Holmes', 'Daron Sheth', 'Mary Aguilar', 'Rosie Watkins', 'Earline Mcpherson', 'Jeri Curry', 'Darell Mcglown', 'Wilton Atkinson', 'Verda Bedford']]\n",
      "[['Amos Finley', 'Hermelinda Kamer', 'Aleisha Cherry', 'Neal Rustin', 'German Shelton', 'Sina Maggio', 'Armand Valencia', 'Michale Anthony', 'Peggy Menter', 'Mack Geyer', 'Kathie Moses', 'Jay Luper', 'Thomas Munch', 'Leland Harris', 'Barrie Youmans', 'Leonor Simons', 'Ruby Lester'], ['Houston Leblanc', 'Belia Avey', 'Stacy Wilkinson', 'Nanette Shepherd', 'Joann Huynh', 'Dewayne Kaiser', 'Keenan Stewart', 'Klara Pagani', 'Cris Brundidge', 'Mandi Sponsler', 'Tracey Duarte', 'Marinda Mccotter', 'Genevive Calle', 'Hosea Kelley', 'Gaston Fitts'], ['Aaron Sharp', 'Felix Laursen', 'Franklyn Palmer', 'Marlin Burns', 'Shanice Kriss', 'Jeannine Valone', 'Edison Nelson', 'Marcus Quinley', 'Miguel Andres', 'Effie Mercado', 'Alan Franklin', 'Aileen Kramer', 'Mathew Livingston', 'Eryn Knick', 'Landon Mason', 'Trudy Barber', 'Krystal Martin', 'Alta Schroeder', 'Avery Petrus', 'Marth Valcourt', 'Freddy Gosier', 'Florencio Pittman', 'Pok Elsasser', 'Ludie Gee', 'Rosalinda Boren', 'Corinne Gebo', 'Lincoln Good', 'Elyse Desantis', 'Mona Lamb', 'Barrett Marson', 'Donnell Barnett', 'Herschel Neifert', 'Sherly Candela', 'Ramiro Hess', 'Nathaniel Gonzales'], ['Deangelo Ibarra', 'Sandra Spradling', 'Dario Grimes', 'Dominic Schaefer', 'Tim Prince', 'Eusebio Santana', 'Thao Carle', 'Eli Wise', 'Rebecca Koh', 'Scotty Heald', 'Tonia Vega', 'Keli Schooler', 'Deeanna Wiers', 'Alton Edelson', 'Stacie Gillespie'], ['Katrina Tocco', 'Jamie Mayer', 'Twila Nesbitt', 'Jovita Quattlebaum', 'Monique Bradford', 'Diana Svoboda', 'Arturo Nunez', 'Olive Cobb', 'Cortez Walker', 'Manuel Ramsey', 'Theodore Hess', 'Carolyn Fred', 'Abraham Callan', 'Errol Fox', 'Cora Gautier'], ['Ruby Lester', 'Clay Powell', 'Rory Holmes', 'Julissa Riggins', 'William Blind', 'Manuela George', 'Earline Mcpherson', 'Erna Krueger', 'Bobby Bowers', 'Shanae Stoughton', 'Chas French', 'Rosie Watkins', 'Clay Powell', 'Shanae Stoughton', 'Julissa Riggins', 'Bao Wilde', 'Erna Krueger', 'Kristi Meunier', 'Manuela George', 'Trena Sebree', 'Bao Wilde', 'Rory Holmes', 'Daron Sheth', 'Mary Aguilar', 'Rosie Watkins', 'Earline Mcpherson', 'Jeri Curry', 'Darell Mcglown', 'Wilton Atkinson', 'Verda Bedford']]\n",
      "[['Amos Finley', 'Hermelinda Kamer', 'Aleisha Cherry', 'Neal Rustin', 'German Shelton', 'Sina Maggio', 'Armand Valencia', 'Michale Anthony', 'Peggy Menter', 'Mack Geyer', 'Kathie Moses', 'Jay Luper', 'Thomas Munch', 'Leland Harris', 'Barrie Youmans', 'Leonor Simons', 'Ruby Lester'], ['Houston Leblanc', 'Belia Avey', 'Stacy Wilkinson', 'Nanette Shepherd', 'Joann Huynh', 'Dewayne Kaiser', 'Keenan Stewart', 'Klara Pagani', 'Cris Brundidge', 'Mandi Sponsler', 'Tracey Duarte', 'Marinda Mccotter', 'Genevive Calle', 'Hosea Kelley', 'Gaston Fitts'], ['Aaron Sharp', 'Felix Laursen', 'Franklyn Palmer', 'Marlin Burns', 'Shanice Kriss', 'Jeannine Valone', 'Edison Nelson', 'Marcus Quinley', 'Miguel Andres', 'Effie Mercado', 'Alan Franklin', 'Aileen Kramer', 'Mathew Livingston', 'Eryn Knick', 'Landon Mason', 'Trudy Barber', 'Krystal Martin', 'Alta Schroeder', 'Avery Petrus', 'Marth Valcourt', 'Freddy Gosier', 'Florencio Pittman', 'Pok Elsasser', 'Ludie Gee', 'Rosalinda Boren', 'Corinne Gebo', 'Lincoln Good', 'Elyse Desantis', 'Mona Lamb', 'Barrett Marson', 'Donnell Barnett', 'Herschel Neifert', 'Sherly Candela', 'Ramiro Hess', 'Nathaniel Gonzales'], ['Deangelo Ibarra', 'Sandra Spradling', 'Dario Grimes', 'Dominic Schaefer', 'Tim Prince', 'Eusebio Santana', 'Thao Carle', 'Eli Wise', 'Rebecca Koh', 'Scotty Heald', 'Tonia Vega', 'Keli Schooler', 'Deeanna Wiers', 'Alton Edelson', 'Stacie Gillespie'], ['Katrina Tocco', 'Jamie Mayer', 'Twila Nesbitt', 'Jovita Quattlebaum', 'Monique Bradford', 'Diana Svoboda', 'Arturo Nunez', 'Olive Cobb', 'Cortez Walker', 'Manuel Ramsey', 'Theodore Hess', 'Carolyn Fred', 'Abraham Callan', 'Errol Fox', 'Cora Gautier'], ['Ruby Lester', 'Clay Powell', 'Rory Holmes', 'Julissa Riggins', 'William Blind', 'Manuela George', 'Earline Mcpherson', 'Erna Krueger', 'Bobby Bowers', 'Shanae Stoughton', 'Chas French', 'Rosie Watkins', 'Clay Powell', 'Shanae Stoughton', 'Julissa Riggins', 'Bao Wilde', 'Erna Krueger', 'Kristi Meunier', 'Manuela George', 'Trena Sebree', 'Bao Wilde', 'Rory Holmes', 'Daron Sheth', 'Mary Aguilar', 'Rosie Watkins', 'Earline Mcpherson', 'Jeri Curry', 'Darell Mcglown', 'Wilton Atkinson', 'Verda Bedford']]\n",
      "[['Amos Finley', 'Hermelinda Kamer', 'Aleisha Cherry', 'Neal Rustin', 'German Shelton', 'Sina Maggio', 'Armand Valencia', 'Michale Anthony', 'Peggy Menter', 'Mack Geyer', 'Kathie Moses', 'Jay Luper', 'Thomas Munch', 'Leland Harris', 'Barrie Youmans', 'Leonor Simons', 'Ruby Lester'], ['Houston Leblanc', 'Belia Avey', 'Stacy Wilkinson', 'Nanette Shepherd', 'Joann Huynh', 'Dewayne Kaiser', 'Keenan Stewart', 'Klara Pagani', 'Cris Brundidge', 'Mandi Sponsler', 'Tracey Duarte', 'Marinda Mccotter', 'Genevive Calle', 'Hosea Kelley', 'Gaston Fitts'], ['Aaron Sharp', 'Felix Laursen', 'Franklyn Palmer', 'Marlin Burns', 'Shanice Kriss', 'Jeannine Valone', 'Edison Nelson', 'Marcus Quinley', 'Miguel Andres', 'Effie Mercado', 'Alan Franklin', 'Aileen Kramer', 'Mathew Livingston', 'Eryn Knick', 'Landon Mason', 'Trudy Barber', 'Krystal Martin', 'Alta Schroeder', 'Avery Petrus', 'Marth Valcourt', 'Freddy Gosier', 'Florencio Pittman', 'Pok Elsasser', 'Ludie Gee', 'Rosalinda Boren', 'Corinne Gebo', 'Lincoln Good', 'Elyse Desantis', 'Mona Lamb', 'Barrett Marson', 'Donnell Barnett', 'Herschel Neifert', 'Sherly Candela', 'Ramiro Hess', 'Nathaniel Gonzales'], ['Deangelo Ibarra', 'Sandra Spradling', 'Dario Grimes', 'Dominic Schaefer', 'Tim Prince', 'Eusebio Santana', 'Thao Carle', 'Eli Wise', 'Rebecca Koh', 'Scotty Heald', 'Tonia Vega', 'Keli Schooler', 'Deeanna Wiers', 'Alton Edelson', 'Stacie Gillespie'], ['Katrina Tocco', 'Jamie Mayer', 'Twila Nesbitt', 'Jovita Quattlebaum', 'Monique Bradford', 'Diana Svoboda', 'Arturo Nunez', 'Olive Cobb', 'Cortez Walker', 'Manuel Ramsey', 'Theodore Hess', 'Carolyn Fred', 'Abraham Callan', 'Errol Fox', 'Cora Gautier'], ['Ruby Lester', 'Clay Powell', 'Rory Holmes', 'Julissa Riggins', 'William Blind', 'Manuela George', 'Earline Mcpherson', 'Erna Krueger', 'Bobby Bowers', 'Shanae Stoughton', 'Chas French', 'Rosie Watkins', 'Clay Powell', 'Shanae Stoughton', 'Julissa Riggins', 'Bao Wilde', 'Erna Krueger', 'Kristi Meunier', 'Manuela George', 'Trena Sebree', 'Bao Wilde', 'Rory Holmes', 'Daron Sheth', 'Mary Aguilar', 'Rosie Watkins', 'Earline Mcpherson', 'Jeri Curry', 'Darell Mcglown', 'Wilton Atkinson', 'Verda Bedford']]\n",
      "[['Amos Finley', 'Hermelinda Kamer', 'Aleisha Cherry', 'Neal Rustin', 'German Shelton', 'Sina Maggio', 'Armand Valencia', 'Michale Anthony', 'Peggy Menter', 'Mack Geyer', 'Kathie Moses', 'Jay Luper', 'Thomas Munch', 'Leland Harris', 'Barrie Youmans', 'Leonor Simons', 'Ruby Lester'], ['Houston Leblanc', 'Belia Avey', 'Stacy Wilkinson', 'Nanette Shepherd', 'Joann Huynh', 'Dewayne Kaiser', 'Keenan Stewart', 'Klara Pagani', 'Cris Brundidge', 'Mandi Sponsler', 'Tracey Duarte', 'Marinda Mccotter', 'Genevive Calle', 'Hosea Kelley', 'Gaston Fitts'], ['Aaron Sharp', 'Felix Laursen', 'Franklyn Palmer', 'Marlin Burns', 'Shanice Kriss', 'Jeannine Valone', 'Edison Nelson', 'Marcus Quinley', 'Miguel Andres', 'Effie Mercado', 'Alan Franklin', 'Aileen Kramer', 'Mathew Livingston', 'Eryn Knick', 'Landon Mason', 'Trudy Barber', 'Krystal Martin', 'Alta Schroeder', 'Avery Petrus', 'Marth Valcourt', 'Freddy Gosier', 'Florencio Pittman', 'Pok Elsasser', 'Ludie Gee', 'Rosalinda Boren', 'Corinne Gebo', 'Lincoln Good', 'Elyse Desantis', 'Mona Lamb', 'Barrett Marson', 'Donnell Barnett', 'Herschel Neifert', 'Sherly Candela', 'Ramiro Hess', 'Nathaniel Gonzales'], ['Deangelo Ibarra', 'Sandra Spradling', 'Dario Grimes', 'Dominic Schaefer', 'Tim Prince', 'Eusebio Santana', 'Thao Carle', 'Eli Wise', 'Rebecca Koh', 'Scotty Heald', 'Tonia Vega', 'Keli Schooler', 'Deeanna Wiers', 'Alton Edelson', 'Stacie Gillespie'], ['Katrina Tocco', 'Jamie Mayer', 'Twila Nesbitt', 'Jovita Quattlebaum', 'Monique Bradford', 'Diana Svoboda', 'Arturo Nunez', 'Olive Cobb', 'Cortez Walker', 'Manuel Ramsey', 'Theodore Hess', 'Carolyn Fred', 'Abraham Callan', 'Errol Fox', 'Cora Gautier'], ['Ruby Lester', 'Clay Powell', 'Rory Holmes', 'Julissa Riggins', 'William Blind', 'Manuela George', 'Earline Mcpherson', 'Erna Krueger', 'Bobby Bowers', 'Shanae Stoughton', 'Chas French', 'Rosie Watkins', 'Clay Powell', 'Shanae Stoughton', 'Julissa Riggins', 'Bao Wilde', 'Erna Krueger', 'Kristi Meunier', 'Manuela George', 'Trena Sebree', 'Bao Wilde', 'Rory Holmes', 'Daron Sheth', 'Mary Aguilar', 'Rosie Watkins', 'Earline Mcpherson', 'Jeri Curry', 'Darell Mcglown', 'Wilton Atkinson', 'Verda Bedford']]\n",
      "12\n",
      "4348.0 127 34.23622047244095\n"
     ]
    }
   ],
   "source": [
    "# %%pixie_debugger\n",
    "dict_min = {}\n",
    "for group in range(6):\n",
    "    dict_rel = {}\n",
    "    for i in list_groups[group]:\n",
    "        name, contr = contribution_one_person(i, group + 1)\n",
    "        dict_rel[name] = contr\n",
    "    list_min = []\n",
    "    for i in sorted(dict_rel.items(), key=lambda item: item[1])[:depth]:\n",
    "        list_min.append(i[0])\n",
    "    dict_min[group + 1] = list_min\n",
    "    for i in list_min:\n",
    "        list_groups[group].remove(i)\n",
    "\n",
    "dict_change_groups = {}\n",
    "for key, value in dict_min.items():\n",
    "    for i in value:\n",
    "        dict_change_groups[i] = allowed_groups(key, i, coeff_min)\n",
    "\n",
    "free = last_people.pop()\n",
    "dict_change_groups[free] = list(range(1, 7))\n",
    "# print(dict_change_groups)\n",
    "new_list_groups = copy.deepcopy(best_combination(dict_change_groups, copy.deepcopy(list_groups)))\n",
    "all_sum, pop = sum_all_groups(list_groups = new_list_groups)\n",
    "print(all_sum, pop, all_sum / pop)\n",
    "list_groups = copy.deepcopy(new_list_groups)"
   ]
  },
  {
   "cell_type": "code",
   "execution_count": 90,
   "metadata": {},
   "outputs": [
    {
     "data": {
      "text/plain": [
       "'Herschel Neifert'"
      ]
     },
     "execution_count": 90,
     "metadata": {},
     "output_type": "execute_result"
    }
   ],
   "source": [
    "free"
   ]
  },
  {
   "cell_type": "code",
   "execution_count": 81,
   "metadata": {},
   "outputs": [],
   "source": [
    "dict_change_groups['huina'] = list(range(1, 7))"
   ]
  },
  {
   "cell_type": "code",
   "execution_count": 92,
   "metadata": {},
   "outputs": [
    {
     "data": {
      "text/plain": [
       "{'Stacie Gillespie': [1],\n",
       " 'Barrie Youmans': [1],\n",
       " 'Leonor Simons': [1],\n",
       " 'Genevive Calle': [2],\n",
       " 'Hosea Kelley': [2],\n",
       " 'Gaston Fitts': [2],\n",
       " 'Sherly Candela': [2],\n",
       " 'Herschel Neifert': [3],\n",
       " 'Trudy Barber': [3],\n",
       " 'Deeanna Wiers': [4],\n",
       " 'Alton Edelson': [4],\n",
       " 'Dario Grimes': [4],\n",
       " 'Abraham Callan': [5],\n",
       " 'Errol Fox': [5],\n",
       " 'Cora Gautier': [5],\n",
       " 'Bao Wilde': [6],\n",
       " 'Kristi Meunier': [6],\n",
       " 'Trena Sebree': [1],\n",
       " 'Ludie Gee': [1]}"
      ]
     },
     "execution_count": 92,
     "metadata": {},
     "output_type": "execute_result"
    }
   ],
   "source": [
    "dict_change_groups"
   ]
  },
  {
   "cell_type": "code",
   "execution_count": 85,
   "metadata": {},
   "outputs": [
    {
     "data": {
      "text/plain": [
       "80"
      ]
     },
     "execution_count": 85,
     "metadata": {},
     "output_type": "execute_result"
    }
   ],
   "source": [
    "len(last_people)"
   ]
  },
  {
   "cell_type": "code",
   "execution_count": 76,
   "metadata": {},
   "outputs": [
    {
     "data": {
      "text/plain": [
       "{1: ['Jay Luper', 'Barrie Youmans', 'Sina Maggio'],\n",
       " 2: ['Thomas Munch', 'Genevive Calle', 'Hosea Kelley'],\n",
       " 3: ['Aileen Kramer', 'Mathew Livingston', 'Eryn Knick'],\n",
       " 4: ['Deeanna Wiers', 'Alton Edelson', 'Stacie Gillespie'],\n",
       " 5: ['Abraham Callan', 'Errol Fox', 'Jovita Quattlebaum'],\n",
       " 6: ['Trudy Barber', 'Cora Gautier', 'Bao Wilde']}"
      ]
     },
     "execution_count": 76,
     "metadata": {},
     "output_type": "execute_result"
    }
   ],
   "source": [
    "dict_min"
   ]
  },
  {
   "cell_type": "code",
   "execution_count": 64,
   "metadata": {},
   "outputs": [
    {
     "data": {
      "text/plain": [
       "{'Barrie Youmans': [1],\n",
       " 'Leonor Simons': [1],\n",
       " 'Thomas Munch': [1],\n",
       " 'Genevive Calle': [2],\n",
       " 'Hosea Kelley': [2],\n",
       " 'Gaston Fitts': [2],\n",
       " 'Aileen Kramer': [3],\n",
       " 'Eryn Knick': [3],\n",
       " 'Landon Mason': [3],\n",
       " 'Deeanna Wiers': [4],\n",
       " 'Alton Edelson': [4],\n",
       " 'Stacie Gillespie': [1],\n",
       " 'Abraham Callan': [5],\n",
       " 'Errol Fox': [5],\n",
       " 'Cora Gautier': [5],\n",
       " 'Bao Wilde': [6],\n",
       " 'Kristi Meunier': [6],\n",
       " 'Trena Sebree': [1],\n",
       " 'Donnell Barnett': [1]}"
      ]
     },
     "execution_count": 64,
     "metadata": {},
     "output_type": "execute_result"
    }
   ],
   "source": [
    "dict_change_groups"
   ]
  },
  {
   "cell_type": "code",
   "execution_count": null,
   "metadata": {},
   "outputs": [],
   "source": []
  },
  {
   "cell_type": "code",
   "execution_count": 48,
   "metadata": {},
   "outputs": [
    {
     "data": {
      "text/plain": [
       "['Ruby Lester',\n",
       " 'Clay Powell',\n",
       " 'Rory Holmes',\n",
       " 'Julissa Riggins',\n",
       " 'William Blind',\n",
       " 'Manuela George',\n",
       " 'Earline Mcpherson',\n",
       " 'Erna Krueger',\n",
       " 'Bobby Bowers',\n",
       " 'Shanae Stoughton',\n",
       " 'Chas French',\n",
       " 'Rosie Watkins',\n",
       " 'Bao Wilde',\n",
       " 'Kristi Meunier',\n",
       " 'Trena Sebree']"
      ]
     },
     "execution_count": 48,
     "metadata": {},
     "output_type": "execute_result"
    }
   ],
   "source": [
    "list_groups[5]"
   ]
  },
  {
   "cell_type": "code",
   "execution_count": 51,
   "metadata": {},
   "outputs": [
    {
     "name": "stdout",
     "output_type": "stream",
     "text": [
      "16\n",
      "15\n",
      "35\n",
      "15\n",
      "15\n",
      "28\n"
     ]
    }
   ],
   "source": [
    "for i in list_groups:\n",
    "    print(len(i))"
   ]
  },
  {
   "cell_type": "code",
   "execution_count": null,
   "metadata": {},
   "outputs": [],
   "source": []
  },
  {
   "cell_type": "code",
   "execution_count": 332,
   "metadata": {},
   "outputs": [
    {
     "data": {
      "text/plain": [
       "('Aileen Kramer', 0)"
      ]
     },
     "execution_count": 332,
     "metadata": {},
     "output_type": "execute_result"
    }
   ],
   "source": [
    "contribution_one_person('Aileen Kramer', 2)"
   ]
  },
  {
   "cell_type": "code",
   "execution_count": 140,
   "metadata": {},
   "outputs": [],
   "source": [
    "dict_min = {}\n",
    "for group in range(6):\n",
    "    dict_rel = {}\n",
    "    for i in list_groups[group]:\n",
    "        name, contr = contribution_one_person(i, 1)\n",
    "        dict_rel[name] = contr\n",
    "    list_min = []\n",
    "    for i in sorted(dict_rel.items(), key=lambda item: item[1])[:depth]:\n",
    "        list_min.append(i[0])\n",
    "    dict_min[group + 1] = list_min\n",
    "dict_change_groups = {}\n",
    "for key, value in dict_min.items():\n",
    "    for i in value:\n",
    "        dict_change_groups[i] = allowed_groups(key, i, coeff_min)\n",
    "free = last_people[0]\n",
    "dict_change_groups[free] = list(range(1, 7))"
   ]
  },
  {
   "cell_type": "code",
   "execution_count": 524,
   "metadata": {},
   "outputs": [
    {
     "data": {
      "text/plain": [
       "{'Mary Clements': [1],\n",
       " 'Reynaldo Bruce': [1],\n",
       " 'Laurence Gapinski': [1],\n",
       " 'Lincoln Good': [2],\n",
       " 'Jeannine Valone': [2],\n",
       " 'Israel Arreguin': [2],\n",
       " 'Amos Finley': [3],\n",
       " 'Sina Maggio': [3],\n",
       " 'Emile Ferguson': [3],\n",
       " 'Pearl Lloyd': [4],\n",
       " 'Deshawn Tower': [4],\n",
       " 'Sandra Spradling': [4],\n",
       " 'Peggie Brent': [5],\n",
       " 'Katrina Tocco': [5],\n",
       " 'Jamie Mayer': [5],\n",
       " 'Clay Powell': [6],\n",
       " 'Rosie Watkins': [6],\n",
       " 'Darell Mcglown': [6],\n",
       " 'Thomas Munch': [1]}"
      ]
     },
     "execution_count": 524,
     "metadata": {},
     "output_type": "execute_result"
    }
   ],
   "source": [
    "dict_change_groups"
   ]
  },
  {
   "cell_type": "code",
   "execution_count": null,
   "metadata": {},
   "outputs": [],
   "source": []
  },
  {
   "cell_type": "code",
   "execution_count": null,
   "metadata": {},
   "outputs": [],
   "source": []
  },
  {
   "cell_type": "code",
   "execution_count": null,
   "metadata": {},
   "outputs": [],
   "source": []
  },
  {
   "cell_type": "code",
   "execution_count": 210,
   "metadata": {},
   "outputs": [],
   "source": [
    "dict1 = {}\n",
    "for i in list_groups[0]:\n",
    "    name, contr = contribution_one_person(i, 1)\n",
    "    dict1[name] = contr"
   ]
  },
  {
   "cell_type": "code",
   "execution_count": 258,
   "metadata": {},
   "outputs": [
    {
     "data": {
      "text/plain": [
       "[3, 5]"
      ]
     },
     "execution_count": 258,
     "metadata": {},
     "output_type": "execute_result"
    }
   ],
   "source": [
    "allowed_groups(1, 'Eryn Knick', coeff_min = 2)"
   ]
  },
  {
   "cell_type": "code",
   "execution_count": null,
   "metadata": {},
   "outputs": [],
   "source": []
  },
  {
   "cell_type": "code",
   "execution_count": 226,
   "metadata": {},
   "outputs": [
    {
     "name": "stdout",
     "output_type": "stream",
     "text": [
      "Tracey Duarte\n",
      "Cris Brundidge\n",
      "Klara Pagani\n",
      "Keenan Stewart\n"
     ]
    }
   ],
   "source": [
    "for i in sorted(dict1.items(), key=lambda item: item[1])[:4]:\n",
    "    print(i[0])"
   ]
  },
  {
   "cell_type": "code",
   "execution_count": 218,
   "metadata": {},
   "outputs": [
    {
     "data": {
      "text/plain": [
       "[('Tracey Duarte', 23.5),\n",
       " ('Cris Brundidge', 23.5),\n",
       " ('Klara Pagani', 23.5),\n",
       " ('Keenan Stewart', 28.0),\n",
       " ('Dewayne Kaiser', 28.0),\n",
       " ('Stacy Wilkinson', 28.0),\n",
       " ('Joann Huynh', 30.5),\n",
       " ('Belia Avey', 30.5),\n",
       " ('Mandi Sponsler', 33.0),\n",
       " ('Nanette Shepherd', 37.5)]"
      ]
     },
     "execution_count": 218,
     "metadata": {},
     "output_type": "execute_result"
    }
   ],
   "source": [
    "sorted(dict1.items(), key=lambda item: item[1])[:5]"
   ]
  },
  {
   "cell_type": "code",
   "execution_count": 213,
   "metadata": {},
   "outputs": [
    {
     "data": {
      "text/plain": [
       "{'Mandi Sponsler': 33.0,\n",
       " 'Tracey Duarte': 23.5,\n",
       " 'Cris Brundidge': 23.5,\n",
       " 'Klara Pagani': 23.5,\n",
       " 'Keenan Stewart': 28.0,\n",
       " 'Dewayne Kaiser': 28.0,\n",
       " 'Joann Huynh': 30.5,\n",
       " 'Nanette Shepherd': 37.5,\n",
       " 'Belia Avey': 30.5,\n",
       " 'Stacy Wilkinson': 28.0}"
      ]
     },
     "execution_count": 213,
     "metadata": {},
     "output_type": "execute_result"
    }
   ],
   "source": [
    "dict1"
   ]
  },
  {
   "cell_type": "code",
   "execution_count": null,
   "metadata": {},
   "outputs": [],
   "source": [
    "# посчитать общую сумму."
   ]
  }
 ],
 "metadata": {
  "kernelspec": {
   "display_name": "Python 3",
   "language": "python",
   "name": "python3"
  },
  "language_info": {
   "codemirror_mode": {
    "name": "ipython",
    "version": 3
   },
   "file_extension": ".py",
   "mimetype": "text/x-python",
   "name": "python",
   "nbconvert_exporter": "python",
   "pygments_lexer": "ipython3",
   "version": "3.7.4"
  }
 },
 "nbformat": 4,
 "nbformat_minor": 4
}
