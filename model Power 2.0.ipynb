{
 "cells": [
  {
   "cell_type": "code",
   "execution_count": 1,
   "metadata": {},
   "outputs": [],
   "source": [
    "import random\n",
    "import os\n",
    "import pandas as pd\n",
    "import numpy as np\n",
    "import copy"
   ]
  },
  {
   "cell_type": "code",
   "execution_count": 2,
   "metadata": {},
   "outputs": [],
   "source": [
    "with open('full_dict_relations.txt', 'r') as f:\n",
    "    full_dict_relations = eval(f.read())"
   ]
  },
  {
   "cell_type": "code",
   "execution_count": null,
   "metadata": {},
   "outputs": [],
   "source": []
  },
  {
   "cell_type": "code",
   "execution_count": null,
   "metadata": {},
   "outputs": [],
   "source": []
  },
  {
   "cell_type": "code",
   "execution_count": 123,
   "metadata": {},
   "outputs": [],
   "source": [
    "def best_person(group, last_people, remove = True):\n",
    "    mid_dict = {}\n",
    "    for i in last_people:\n",
    "        sum_1_to_others = 0\n",
    "        for j in list_groups[group - 1]:\n",
    "            try:\n",
    "                sum_1_to_others += full_dict_relations[i][j]\n",
    "            except:\n",
    "                pass\n",
    "            try:\n",
    "                sum_1_to_others += full_dict_relations[j][i]\n",
    "            except:\n",
    "                pass\n",
    "        mid_dict[i] = sum_1_to_others\n",
    "    sorted_dict = {k: v for k, v in sorted(mid_dict.items(), key=lambda item: item[1], reverse = True)}\n",
    "    a = list(sorted_dict.keys())[0]\n",
    "    if remove:\n",
    "        last_people.remove(a)\n",
    "#         print(a)\n",
    "    return a"
   ]
  },
  {
   "cell_type": "code",
   "execution_count": 12,
   "metadata": {},
   "outputs": [],
   "source": [
    "# получает номер группы, возвращает сумму\n",
    "def sum_relation(group, list_groups = list_groups):\n",
    "    all_sum = 0\n",
    "    for i in list_groups[group - 1]:\n",
    "        for j in list_groups[group - 1]:\n",
    "            try:\n",
    "                all_sum += full_dict_relations[i][j]\n",
    "            except:\n",
    "                pass\n",
    "            try:\n",
    "                all_sum += full_dict_relations[j][i]\n",
    "            except:\n",
    "                pass\n",
    "    return all_sum"
   ]
  },
  {
   "cell_type": "code",
   "execution_count": 179,
   "metadata": {},
   "outputs": [],
   "source": [
    "# получает список групп, возвращает общую сумму и численность всех групп в сумме.\n",
    "def sum_all_groups(list_groups = list_groups):\n",
    "    all_sum = 0\n",
    "    population = 0\n",
    "    for i in range(1, 7):\n",
    "        population += len(list_groups[i - 1])\n",
    "        all_sum += sum_relation(i, list_groups = list_groups)\n",
    "    return all_sum, population"
   ]
  },
  {
   "cell_type": "code",
   "execution_count": 208,
   "metadata": {},
   "outputs": [],
   "source": [
    "# получает ключ человека в словаре отношений и номер группы.\n",
    "# возвращает человека и его вклад в цифрах.\n",
    "def contribution_one_person(person, num_group):\n",
    "    sum_contr = 0\n",
    "    for i in list_groups[num_group - 1]:\n",
    "        try:\n",
    "            sum_contr += full_dict_relations[person][i]\n",
    "        except:\n",
    "            pass\n",
    "        try:\n",
    "            sum_contr += full_dict_relations[i][person]\n",
    "        except:\n",
    "            pass\n",
    "    return (person, sum_contr)"
   ]
  },
  {
   "cell_type": "code",
   "execution_count": 651,
   "metadata": {},
   "outputs": [],
   "source": [
    "# reset\n",
    "list_groups = [[],[],[],[],[],[]]\n",
    "last_people_base = list(full_dict_relations.keys())\n",
    "last_people = list(full_dict_relations.keys())"
   ]
  },
  {
   "cell_type": "code",
   "execution_count": null,
   "metadata": {},
   "outputs": [],
   "source": []
  },
  {
   "cell_type": "code",
   "execution_count": 646,
   "metadata": {},
   "outputs": [],
   "source": [
    "# найти шесть лучших пятнадцаток."
   ]
  },
  {
   "cell_type": "code",
   "execution_count": 652,
   "metadata": {},
   "outputs": [],
   "source": [
    "for i in range(6):\n",
    "    dict_10_groups = {}\n",
    "    for k in last_people_base[:]:     \n",
    "        list_groups[i] = []\n",
    "        last_people = last_people_base[:]\n",
    "        list_groups[i].append(k)\n",
    "        last_people.remove(k)\n",
    "        for j in range(9):\n",
    "            list_groups[i].append(best_person(i + 1, last_people, remove = True))\n",
    "        a = sum_relation(i + 1, list_groups = list_groups)\n",
    "        dict_10_groups[a] = list_groups[i] \n",
    "    list_groups[i] = [] #зачем?\n",
    "    list_groups[i] = dict_10_groups[max(dict_10_groups)]\n",
    "\n",
    "    for people in list_groups[i]:\n",
    "        last_people_base.remove(people)"
   ]
  },
  {
   "cell_type": "code",
   "execution_count": 653,
   "metadata": {},
   "outputs": [
    {
     "data": {
      "text/plain": [
       "(1549.0, 60)"
      ]
     },
     "execution_count": 653,
     "metadata": {},
     "output_type": "execute_result"
    }
   ],
   "source": [
    "sum_all_groups(list_groups = list_groups)"
   ]
  },
  {
   "cell_type": "code",
   "execution_count": 5,
   "metadata": {},
   "outputs": [],
   "source": [
    "# их заполнить с перетасовкой"
   ]
  },
  {
   "cell_type": "code",
   "execution_count": 620,
   "metadata": {},
   "outputs": [],
   "source": [
    "# дать группу человека, его имя и коэф для тюна. Возвращает список рациональных переходов для этого человека.\n",
    "def allowed_groups(group, name, coeff_min):\n",
    "    _, current_contr = contribution_one_person(name, group)\n",
    "    minim_contrib = current_contr / coeff_min\n",
    "    list_allowed_groups = []\n",
    "    for i in range(6):\n",
    "        _, contr = contribution_one_person(name, i + 1)\n",
    "        if contr > minim_contrib or current_contr == 0:\n",
    "            list_allowed_groups.append(i + 1)\n",
    "    if group not in list_allowed_groups:\n",
    "        list_allowed_groups.append(group)\n",
    "    return list_allowed_groups"
   ]
  },
  {
   "cell_type": "code",
   "execution_count": 641,
   "metadata": {},
   "outputs": [],
   "source": [
    "# дать словарь возможных комбинация. Возвращает количество комбинаций.\n",
    "def num_comb(dictionary):\n",
    "    list_comb = []\n",
    "    n_comb = 1\n",
    "    for key, value in dictionary.items():\n",
    "        n_comb = n_comb * len(value)\n",
    "    return n_comb"
   ]
  },
  {
   "cell_type": "code",
   "execution_count": 644,
   "metadata": {},
   "outputs": [],
   "source": [
    "# работает неплохо. Но группы могут быть произвольной длины. И кодом пытался это предотвратить, выдавал ошибку.\n",
    "# дать словарь с возможными комбинациями и список групп. Он выдаст новую комбинацию.\n",
    "def best_combination(dictionary, groups):\n",
    "    n_comb = num_comb(dictionary)\n",
    "    dict_comb = {}\n",
    "    ground_list_groups = copy.deepcopy(groups)\n",
    "    for i in range(n_comb):\n",
    "        ground_list_groups = copy.deepcopy(groups)\n",
    "        for key, value in dictionary.items():\n",
    "            if len(value) > 1:\n",
    "                ground_list_groups[value.pop() - 1].append(key)\n",
    "            else:\n",
    "                ground_list_groups[value[0] - 1].append(key)\n",
    "        sum_gr, _ = sum_all_groups(list_groups = ground_list_groups)\n",
    "        dict_comb[sum_gr] = copy.deepcopy(ground_list_groups)\n",
    "        \n",
    "#     dict1 = copy.deepcopy(dict_comb)\n",
    "#     for key, values in dict_comb.items():\n",
    "#         for i in values:\n",
    "#             if len(i) > 30:\n",
    "#                 del dict1[key]\n",
    "    return dict_comb[max(dict_comb)]   "
   ]
  },
  {
   "cell_type": "code",
   "execution_count": 638,
   "metadata": {},
   "outputs": [],
   "source": [
    "# пытался поменять ключ со значением. Плохо получилось.\n",
    "def best_combination(dictionary, groups):\n",
    "    n_comb = num_comb(dictionary)\n",
    "    dict_comb = {}\n",
    "    ground_list_groups = copy.deepcopy(groups)\n",
    "    for i in range(n_comb):\n",
    "        ground_list_groups = copy.deepcopy(groups)\n",
    "        for key, value in dictionary.items():\n",
    "            if len(value) > 1:\n",
    "                ground_list_groups[value.pop() - 1].append(key)\n",
    "            else:\n",
    "                ground_list_groups[value[0] - 1].append(key)\n",
    "        sum_gr, _ = sum_all_groups(list_groups = ground_list_groups)\n",
    "        dict_comb[str(ground_list_groups)] = sum_gr\n",
    "        \n",
    "    dict1 = copy.deepcopy(dict_comb)\n",
    "    for key, values in dict_comb.items():\n",
    "        for i in eval(key):\n",
    "            if len(i) > 30:\n",
    "                del dict1[key]\n",
    "    return eval(max(dict1, key=dict1.get))"
   ]
  },
  {
   "cell_type": "code",
   "execution_count": null,
   "metadata": {},
   "outputs": [],
   "source": []
  },
  {
   "cell_type": "code",
   "execution_count": 600,
   "metadata": {},
   "outputs": [],
   "source": []
  },
  {
   "cell_type": "code",
   "execution_count": 601,
   "metadata": {},
   "outputs": [],
   "source": []
  },
  {
   "cell_type": "code",
   "execution_count": null,
   "metadata": {},
   "outputs": [],
   "source": []
  },
  {
   "cell_type": "code",
   "execution_count": 368,
   "metadata": {},
   "outputs": [],
   "source": []
  },
  {
   "cell_type": "code",
   "execution_count": null,
   "metadata": {},
   "outputs": [],
   "source": []
  },
  {
   "cell_type": "code",
   "execution_count": 437,
   "metadata": {
    "scrolled": true
   },
   "outputs": [],
   "source": [
    "# dict_change_groups"
   ]
  },
  {
   "cell_type": "code",
   "execution_count": 654,
   "metadata": {},
   "outputs": [],
   "source": [
    "depth = 3\n",
    "coeff_min = 2\n",
    "# n_group_for_free = 3"
   ]
  },
  {
   "cell_type": "code",
   "execution_count": 655,
   "metadata": {},
   "outputs": [
    {
     "data": {
      "text/plain": [
       "114"
      ]
     },
     "execution_count": 655,
     "metadata": {},
     "output_type": "execute_result"
    }
   ],
   "source": [
    "len(last_people)"
   ]
  },
  {
   "cell_type": "code",
   "execution_count": null,
   "metadata": {},
   "outputs": [],
   "source": []
  },
  {
   "cell_type": "code",
   "execution_count": null,
   "metadata": {},
   "outputs": [],
   "source": []
  },
  {
   "cell_type": "code",
   "execution_count": null,
   "metadata": {},
   "outputs": [],
   "source": [
    "# делаю лишние копии, потому что у меня уже сдвиг на связанных списках."
   ]
  },
  {
   "cell_type": "code",
   "execution_count": 656,
   "metadata": {},
   "outputs": [
    {
     "name": "stdout",
     "output_type": "stream",
     "text": [
      "1551.0 61 25.42622950819672\n",
      "1555.0 62 25.080645161290324\n",
      "1561.0 63 24.77777777777778\n",
      "1588.0 64 24.8125\n",
      "1588.0 65 24.43076923076923\n",
      "1588.0 66 24.060606060606062\n",
      "1605.0 67 23.955223880597014\n",
      "1619.0 68 23.808823529411764\n",
      "1621.0 69 23.492753623188406\n",
      "1658.0 70 23.685714285714287\n",
      "1655.0 71 23.309859154929576\n",
      "1695.0 72 23.541666666666668\n",
      "1717.0 73 23.52054794520548\n",
      "1812.0 74 24.486486486486488\n",
      "1862.0 75 24.826666666666668\n",
      "1898.0 76 24.973684210526315\n",
      "1941.0 77 25.207792207792206\n",
      "1942.0 78 24.897435897435898\n",
      "1985.0 79 25.126582278481013\n",
      "2005.0 80 25.0625\n",
      "2008.0 81 24.790123456790123\n",
      "2061.0 82 25.134146341463413\n",
      "2107.0 83 25.3855421686747\n",
      "2117.0 84 25.202380952380953\n",
      "2183.0 85 25.68235294117647\n",
      "2185.0 86 25.406976744186046\n",
      "2232.0 87 25.655172413793103\n",
      "2319.0 88 26.352272727272727\n",
      "2322.0 89 26.089887640449437\n",
      "2406.0 90 26.733333333333334\n",
      "2424.0 91 26.63736263736264\n",
      "2471.0 92 26.858695652173914\n",
      "2471.0 92 26.858695652173914\n",
      "2471.0 92 26.858695652173914\n",
      "2501.0 93 26.892473118279568\n",
      "2563.0 94 27.26595744680851\n",
      "2587.0 95 27.231578947368423\n",
      "2618.0 96 27.270833333333332\n",
      "2651.0 97 27.329896907216494\n",
      "2681.0 98 27.357142857142858\n",
      "2718.0 99 27.454545454545453\n",
      "2713.0 99 27.404040404040405\n",
      "2748.0 100 27.48\n",
      "2776.0 100 27.76\n",
      "2838.0 101 28.099009900990097\n",
      "2899.0 102 28.42156862745098\n",
      "2945.0 103 28.59223300970874\n",
      "3039.0 104 29.221153846153847\n",
      "3101.0 105 29.533333333333335\n",
      "3211.0 105 30.580952380952382\n",
      "3281.0 106 30.952830188679247\n",
      "3354.0 107 31.345794392523363\n",
      "3428.0 108 31.74074074074074\n",
      "3511.0 109 32.211009174311926\n",
      "3536.0 110 32.14545454545455\n",
      "3582.0 111 32.270270270270274\n",
      "3611.0 112 32.24107142857143\n",
      "3642.0 113 32.230088495575224\n",
      "3670.0 114 32.19298245614035\n",
      "3720.0 115 32.34782608695652\n",
      "3746.0 116 32.293103448275865\n",
      "3805.0 117 32.52136752136752\n",
      "3851.0 118 32.63559322033898\n",
      "3889.0 119 32.680672268907564\n",
      "3958.0 120 32.983333333333334\n",
      "4024.0 121 33.256198347107436\n",
      "4088.0 122 33.50819672131148\n",
      "4134.0 123 33.609756097560975\n",
      "4197.0 124 33.846774193548384\n",
      "4232.0 125 33.856\n",
      "4254.0 126 33.76190476190476\n",
      "4278.0 127 33.68503937007874\n",
      "4309.0 128 33.6640625\n",
      "4328.0 129 33.55038759689923\n",
      "4357.0 130 33.51538461538462\n",
      "4389.0 131 33.50381679389313\n",
      "4431.0 132 33.56818181818182\n",
      "4452.0 133 33.473684210526315\n",
      "4492.0 134 33.52238805970149\n",
      "4520.0 135 33.48148148148148\n",
      "4568.0 136 33.588235294117645\n",
      "4613.0 137 33.67153284671533\n",
      "4654.0 138 33.72463768115942\n",
      "4707.0 139 33.86330935251799\n",
      "4742.0 140 33.871428571428574\n",
      "4764.0 141 33.787234042553195\n",
      "4788.0 142 33.71830985915493\n",
      "4819.0 143 33.6993006993007\n",
      "4852.0 144 33.69444444444444\n",
      "4906.0 145 33.83448275862069\n",
      "4962.0 146 33.986301369863014\n",
      "5001.0 147 34.02040816326531\n",
      "5047.0 148 34.101351351351354\n",
      "5100.0 149 34.22818791946309\n",
      "5160.0 150 34.4\n",
      "5217.0 151 34.549668874172184\n",
      "5271.0 152 34.67763157894737\n",
      "5327.0 153 34.81699346405229\n",
      "5395.0 154 35.032467532467535\n",
      "5415.0 155 34.935483870967744\n",
      "5442.0 156 34.88461538461539\n",
      "5471.0 157 34.847133757961785\n",
      "5502.0 158 34.822784810126585\n",
      "5545.0 159 34.874213836477985\n",
      "5594.0 160 34.9625\n",
      "5636.0 161 35.006211180124225\n",
      "5669.0 162 34.99382716049383\n",
      "5720.0 163 35.0920245398773\n",
      "5767.0 164 35.16463414634146\n",
      "5807.0 165 35.193939393939395\n",
      "5864.0 166 35.325301204819276\n",
      "5897.0 167 35.31137724550898\n",
      "5948.0 168 35.404761904761905\n",
      "6005.0 169 35.532544378698226\n"
     ]
    }
   ],
   "source": [
    "while len(last_people) > 0:\n",
    "#     pull_students = []\n",
    "    dict_min = {}\n",
    "    for group in range(6):\n",
    "        dict_rel = {}\n",
    "        for i in list_groups[group]:\n",
    "            name, contr = contribution_one_person(i, 1)\n",
    "            dict_rel[name] = contr\n",
    "        list_min = []\n",
    "        for i in sorted(dict_rel.items(), key=lambda item: item[1])[:depth]:\n",
    "            list_min.append(i[0])\n",
    "        dict_min[group + 1] = list_min\n",
    "        for i in list_min:\n",
    "            list_groups[group].remove(i)\n",
    "#         pull_students.append(last_min)\n",
    "    dict_change_groups = {}\n",
    "    for key, value in dict_min.items():\n",
    "        for i in value:\n",
    "            dict_change_groups[i] = allowed_groups(key, i, coeff_min)\n",
    "    free = last_people.pop()\n",
    "#     pull_students.append(free)\n",
    "    dict_change_groups[free] = list(range(1, 7))\n",
    "#     for i in pull_students:\n",
    "#     n_comb = num_comb(dict_change_groups)\n",
    "    new_list_groups = copy.deepcopy(best_combination(dict_change_groups, copy.deepcopy(list_groups)))\n",
    "    all_sum, pop = sum_all_groups(list_groups = new_list_groups)\n",
    "    print(all_sum, pop, all_sum / pop)\n",
    "    list_groups = copy.deepcopy(new_list_groups)\n",
    "    \n",
    "    \n",
    "\n"
   ]
  },
  {
   "cell_type": "code",
   "execution_count": 657,
   "metadata": {},
   "outputs": [
    {
     "name": "stdout",
     "output_type": "stream",
     "text": [
      "25\n",
      "40\n",
      "25\n",
      "25\n",
      "25\n",
      "29\n"
     ]
    }
   ],
   "source": [
    "for i in list_groups:\n",
    "    print(len(i))"
   ]
  },
  {
   "cell_type": "code",
   "execution_count": null,
   "metadata": {},
   "outputs": [],
   "source": []
  },
  {
   "cell_type": "code",
   "execution_count": 332,
   "metadata": {},
   "outputs": [
    {
     "data": {
      "text/plain": [
       "('Aileen Kramer', 0)"
      ]
     },
     "execution_count": 332,
     "metadata": {},
     "output_type": "execute_result"
    }
   ],
   "source": [
    "contribution_one_person('Aileen Kramer', 2)"
   ]
  },
  {
   "cell_type": "code",
   "execution_count": 280,
   "metadata": {},
   "outputs": [],
   "source": [
    "dict_min = {}\n",
    "for group in range(6):\n",
    "    dict_rel = {}\n",
    "    for i in list_groups[group]:\n",
    "        name, contr = contribution_one_person(i, 1)\n",
    "        dict_rel[name] = contr\n",
    "    list_min = []\n",
    "    for i in sorted(dict_rel.items(), key=lambda item: item[1])[:depth]:\n",
    "        list_min.append(i[0])\n",
    "    dict_min[group + 1] = list_min\n",
    "dict_change_groups = {}\n",
    "for key, value in dict_min.items():\n",
    "    for i in value:\n",
    "        dict_change_groups[i] = allowed_groups(key, i, coeff_min)\n",
    "free = last_people[0]\n",
    "dict_change_groups[free] = list(range(1, 7))"
   ]
  },
  {
   "cell_type": "code",
   "execution_count": 524,
   "metadata": {},
   "outputs": [
    {
     "data": {
      "text/plain": [
       "{'Mary Clements': [1],\n",
       " 'Reynaldo Bruce': [1],\n",
       " 'Laurence Gapinski': [1],\n",
       " 'Lincoln Good': [2],\n",
       " 'Jeannine Valone': [2],\n",
       " 'Israel Arreguin': [2],\n",
       " 'Amos Finley': [3],\n",
       " 'Sina Maggio': [3],\n",
       " 'Emile Ferguson': [3],\n",
       " 'Pearl Lloyd': [4],\n",
       " 'Deshawn Tower': [4],\n",
       " 'Sandra Spradling': [4],\n",
       " 'Peggie Brent': [5],\n",
       " 'Katrina Tocco': [5],\n",
       " 'Jamie Mayer': [5],\n",
       " 'Clay Powell': [6],\n",
       " 'Rosie Watkins': [6],\n",
       " 'Darell Mcglown': [6],\n",
       " 'Thomas Munch': [1]}"
      ]
     },
     "execution_count": 524,
     "metadata": {},
     "output_type": "execute_result"
    }
   ],
   "source": [
    "dict_change_groups"
   ]
  },
  {
   "cell_type": "code",
   "execution_count": null,
   "metadata": {},
   "outputs": [],
   "source": []
  },
  {
   "cell_type": "code",
   "execution_count": null,
   "metadata": {},
   "outputs": [],
   "source": []
  },
  {
   "cell_type": "code",
   "execution_count": null,
   "metadata": {},
   "outputs": [],
   "source": []
  },
  {
   "cell_type": "code",
   "execution_count": 210,
   "metadata": {},
   "outputs": [],
   "source": [
    "dict1 = {}\n",
    "for i in list_groups[0]:\n",
    "    name, contr = contribution_one_person(i, 1)\n",
    "    dict1[name] = contr"
   ]
  },
  {
   "cell_type": "code",
   "execution_count": 258,
   "metadata": {},
   "outputs": [
    {
     "data": {
      "text/plain": [
       "[3, 5]"
      ]
     },
     "execution_count": 258,
     "metadata": {},
     "output_type": "execute_result"
    }
   ],
   "source": [
    "allowed_groups(1, 'Eryn Knick', coeff_min = 2)"
   ]
  },
  {
   "cell_type": "code",
   "execution_count": null,
   "metadata": {},
   "outputs": [],
   "source": []
  },
  {
   "cell_type": "code",
   "execution_count": 226,
   "metadata": {},
   "outputs": [
    {
     "name": "stdout",
     "output_type": "stream",
     "text": [
      "Tracey Duarte\n",
      "Cris Brundidge\n",
      "Klara Pagani\n",
      "Keenan Stewart\n"
     ]
    }
   ],
   "source": [
    "for i in sorted(dict1.items(), key=lambda item: item[1])[:4]:\n",
    "    print(i[0])"
   ]
  },
  {
   "cell_type": "code",
   "execution_count": 218,
   "metadata": {},
   "outputs": [
    {
     "data": {
      "text/plain": [
       "[('Tracey Duarte', 23.5),\n",
       " ('Cris Brundidge', 23.5),\n",
       " ('Klara Pagani', 23.5),\n",
       " ('Keenan Stewart', 28.0),\n",
       " ('Dewayne Kaiser', 28.0),\n",
       " ('Stacy Wilkinson', 28.0),\n",
       " ('Joann Huynh', 30.5),\n",
       " ('Belia Avey', 30.5),\n",
       " ('Mandi Sponsler', 33.0),\n",
       " ('Nanette Shepherd', 37.5)]"
      ]
     },
     "execution_count": 218,
     "metadata": {},
     "output_type": "execute_result"
    }
   ],
   "source": [
    "sorted(dict1.items(), key=lambda item: item[1])[:5]"
   ]
  },
  {
   "cell_type": "code",
   "execution_count": 213,
   "metadata": {},
   "outputs": [
    {
     "data": {
      "text/plain": [
       "{'Mandi Sponsler': 33.0,\n",
       " 'Tracey Duarte': 23.5,\n",
       " 'Cris Brundidge': 23.5,\n",
       " 'Klara Pagani': 23.5,\n",
       " 'Keenan Stewart': 28.0,\n",
       " 'Dewayne Kaiser': 28.0,\n",
       " 'Joann Huynh': 30.5,\n",
       " 'Nanette Shepherd': 37.5,\n",
       " 'Belia Avey': 30.5,\n",
       " 'Stacy Wilkinson': 28.0}"
      ]
     },
     "execution_count": 213,
     "metadata": {},
     "output_type": "execute_result"
    }
   ],
   "source": [
    "dict1"
   ]
  },
  {
   "cell_type": "code",
   "execution_count": null,
   "metadata": {},
   "outputs": [],
   "source": [
    "# посчитать общую сумму."
   ]
  }
 ],
 "metadata": {
  "kernelspec": {
   "display_name": "Python 3",
   "language": "python",
   "name": "python3"
  },
  "language_info": {
   "codemirror_mode": {
    "name": "ipython",
    "version": 3
   },
   "file_extension": ".py",
   "mimetype": "text/x-python",
   "name": "python",
   "nbconvert_exporter": "python",
   "pygments_lexer": "ipython3",
   "version": "3.7.4"
  }
 },
 "nbformat": 4,
 "nbformat_minor": 4
}
