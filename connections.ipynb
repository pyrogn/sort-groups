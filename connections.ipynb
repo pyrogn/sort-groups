{
 "cells": [
  {
   "cell_type": "code",
   "execution_count": 1,
   "metadata": {},
   "outputs": [],
   "source": [
    "import pandas as pd\n",
    "import numpy as np"
   ]
  },
  {
   "cell_type": "code",
   "execution_count": 2,
   "metadata": {},
   "outputs": [],
   "source": [
    "import random"
   ]
  },
  {
   "cell_type": "code",
   "execution_count": 3,
   "metadata": {},
   "outputs": [],
   "source": [
    "dataAllQuiz = pd.DataFrame(columns = ['id', 'group', 'changeGroup', 'favGroup', 'listOfFavIds', 'listOfTogFor', 'listFavPeople', 'listCananBe', 'listHaters'])"
   ]
  },
  {
   "cell_type": "code",
   "execution_count": 4,
   "metadata": {},
   "outputs": [],
   "source": [
    "# dataAllQuiz[['id']] = dataAllQuiz[['id']].replace('lfghjk', 1)\n",
    "# replace works great"
   ]
  },
  {
   "cell_type": "code",
   "execution_count": 5,
   "metadata": {},
   "outputs": [],
   "source": [
    "list_of_names = []\n",
    "with open('200names.txt', 'r') as f:\n",
    "    for i in f.readlines():\n",
    "        list_of_names.append(i.split('\\n')[0])\n",
    "random.shuffle(list_of_names)"
   ]
  },
  {
   "cell_type": "code",
   "execution_count": null,
   "metadata": {},
   "outputs": [],
   "source": []
  },
  {
   "cell_type": "code",
   "execution_count": 6,
   "metadata": {},
   "outputs": [],
   "source": [
    "# dataAllQuiz"
   ]
  },
  {
   "cell_type": "code",
   "execution_count": 7,
   "metadata": {},
   "outputs": [],
   "source": [
    "numPeople = 174"
   ]
  },
  {
   "cell_type": "code",
   "execution_count": 8,
   "metadata": {},
   "outputs": [],
   "source": [
    "dataAllQuiz = dataAllQuiz.astype('object')"
   ]
  },
  {
   "cell_type": "code",
   "execution_count": 9,
   "metadata": {},
   "outputs": [],
   "source": [
    "# np.random.binomial(1, 0.2, 10)"
   ]
  },
  {
   "cell_type": "code",
   "execution_count": 10,
   "metadata": {},
   "outputs": [],
   "source": [
    "dataAllQuiz['id'] = range(1, numPeople + 1)"
   ]
  },
  {
   "cell_type": "code",
   "execution_count": 11,
   "metadata": {},
   "outputs": [],
   "source": [
    "basicNumPeople = numPeople // 7 + 1\n",
    "leftNumPeople = numPeople - basicNumPeople * 6"
   ]
  },
  {
   "cell_type": "code",
   "execution_count": 12,
   "metadata": {},
   "outputs": [],
   "source": [
    "uniqueGroup = list(range(1, 8))"
   ]
  },
  {
   "cell_type": "code",
   "execution_count": 13,
   "metadata": {},
   "outputs": [],
   "source": [
    "allGroup = []\n",
    "for i in enumerate(uniqueGroup):\n",
    "    if i[0] < 6:\n",
    "        allGroup.append([i[1]] * basicNumPeople)\n",
    "    else:\n",
    "        allGroup.append([i[1]] * leftNumPeople)\n",
    "    "
   ]
  },
  {
   "cell_type": "code",
   "execution_count": 14,
   "metadata": {},
   "outputs": [],
   "source": [
    "# len([x for y in allGroup for x in y])"
   ]
  },
  {
   "cell_type": "code",
   "execution_count": 15,
   "metadata": {},
   "outputs": [],
   "source": [
    "dataAllQuiz['group'] = [x for y in allGroup for x in y]"
   ]
  },
  {
   "cell_type": "code",
   "execution_count": 16,
   "metadata": {},
   "outputs": [],
   "source": [
    "dataAllQuiz['changeGroup'] = np.random.binomial(1, 0.07, 174)"
   ]
  },
  {
   "cell_type": "code",
   "execution_count": 17,
   "metadata": {},
   "outputs": [],
   "source": [
    "# dataAllQuiz.changeGroup.value_counts()"
   ]
  },
  {
   "cell_type": "code",
   "execution_count": 18,
   "metadata": {},
   "outputs": [],
   "source": [
    "for i in range(len(dataAllQuiz[dataAllQuiz.changeGroup == 1]['favGroup'])):\n",
    "    if int(np.random.binomial(1, 0.5, 1)) == 1:\n",
    "        dataAllQuiz.loc[dataAllQuiz.changeGroup == 1, 'favGroup'] = random.choice(uniqueGroup)"
   ]
  },
  {
   "cell_type": "code",
   "execution_count": 19,
   "metadata": {},
   "outputs": [],
   "source": [
    "# dataAllQuiz['favGroup'].loc[dataAllQuiz.changeGroup == 1] = np.random.randint(1, 8, size = len(dataAllQuiz.loc[dataAllQuiz.changeGroup == 1]))"
   ]
  },
  {
   "cell_type": "code",
   "execution_count": 20,
   "metadata": {},
   "outputs": [],
   "source": [
    "list_of_favGroup = []\n",
    "for i in range(len(dataAllQuiz[dataAllQuiz.changeGroup == 1])):\n",
    "    if int(np.random.binomial(1, 0.5, 1)) == 1:\n",
    "        changeGroupWOut = uniqueGroup.copy()\n",
    "        changeGroupWOut.remove(dataAllQuiz[dataAllQuiz.changeGroup == 1].iloc[i].group)\n",
    "        list_of_favGroup.append(random.choice(changeGroupWOut))\n",
    "    else:\n",
    "        list_of_favGroup.append(np.nan)\n",
    "#     print(dataAllQuiz[dataAllQuiz.changeGroup == 1].iloc[i].group)"
   ]
  },
  {
   "cell_type": "code",
   "execution_count": 21,
   "metadata": {},
   "outputs": [
    {
     "name": "stderr",
     "output_type": "stream",
     "text": [
      "C:\\ProgramData\\Anaconda3\\lib\\site-packages\\pandas\\core\\indexing.py:670: SettingWithCopyWarning: \n",
      "A value is trying to be set on a copy of a slice from a DataFrame\n",
      "\n",
      "See the caveats in the documentation: https://pandas.pydata.org/pandas-docs/stable/user_guide/indexing.html#returning-a-view-versus-a-copy\n",
      "  self._setitem_with_indexer(indexer, value)\n"
     ]
    }
   ],
   "source": [
    "dataAllQuiz['favGroup'].loc[dataAllQuiz.changeGroup == 1] = list_of_favGroup"
   ]
  },
  {
   "cell_type": "code",
   "execution_count": null,
   "metadata": {},
   "outputs": [],
   "source": []
  },
  {
   "cell_type": "code",
   "execution_count": null,
   "metadata": {},
   "outputs": [],
   "source": [
    "# random.choice(uniqueGroup)"
   ]
  },
  {
   "cell_type": "code",
   "execution_count": null,
   "metadata": {},
   "outputs": [],
   "source": [
    "# uniqueGroupCopy = uniqueGroup.copy()"
   ]
  },
  {
   "cell_type": "code",
   "execution_count": null,
   "metadata": {},
   "outputs": [],
   "source": [
    "# random.choice(uniqueGroupCopy.remove(dataAllQuiz[dataAllQuiz.changeGroup == 1].iloc[8].group))"
   ]
  },
  {
   "cell_type": "code",
   "execution_count": null,
   "metadata": {},
   "outputs": [],
   "source": []
  },
  {
   "cell_type": "code",
   "execution_count": null,
   "metadata": {},
   "outputs": [],
   "source": []
  },
  {
   "cell_type": "code",
   "execution_count": null,
   "metadata": {},
   "outputs": [],
   "source": [
    "# dataAllQuiz[dataAllQuiz.changeGroup == 1]"
   ]
  },
  {
   "cell_type": "code",
   "execution_count": 23,
   "metadata": {},
   "outputs": [],
   "source": [
    "list_of_fav_ids = []\n",
    "for i in range(len(dataAllQuiz[dataAllQuiz.changeGroup == 1 & dataAllQuiz.favGroup.isnull()])):\n",
    "    times = random.randint(1,3)\n",
    "    list_of_fav_ids.append(random.choices(dataAllQuiz[dataAllQuiz.group != dataAllQuiz.iloc[1].group].id.tolist(), k = times))"
   ]
  },
  {
   "cell_type": "code",
   "execution_count": null,
   "metadata": {},
   "outputs": [],
   "source": []
  },
  {
   "cell_type": "code",
   "execution_count": null,
   "metadata": {},
   "outputs": [],
   "source": []
  },
  {
   "cell_type": "code",
   "execution_count": null,
   "metadata": {},
   "outputs": [],
   "source": []
  },
  {
   "cell_type": "code",
   "execution_count": 24,
   "metadata": {},
   "outputs": [
    {
     "name": "stderr",
     "output_type": "stream",
     "text": [
      "C:\\ProgramData\\Anaconda3\\lib\\site-packages\\ipykernel_launcher.py:2: SettingWithCopyWarning: \n",
      "A value is trying to be set on a copy of a slice from a DataFrame\n",
      "\n",
      "See the caveats in the documentation: https://pandas.pydata.org/pandas-docs/stable/user_guide/indexing.html#returning-a-view-versus-a-copy\n",
      "  \n"
     ]
    }
   ],
   "source": [
    "# dataAllQuiz = dataAllQuiz.astype('object')\n",
    "dataAllQuiz['listOfFavIds'][dataAllQuiz.changeGroup == 1 & dataAllQuiz.favGroup.isnull()] = list_of_fav_ids"
   ]
  },
  {
   "cell_type": "code",
   "execution_count": 25,
   "metadata": {},
   "outputs": [],
   "source": [
    "# dataAllQuiz[dataAllQuiz.group != dataAllQuiz.iloc[1].group].id.tolist()"
   ]
  },
  {
   "cell_type": "code",
   "execution_count": null,
   "metadata": {},
   "outputs": [],
   "source": []
  },
  {
   "cell_type": "code",
   "execution_count": null,
   "metadata": {},
   "outputs": [],
   "source": [
    "# int(np.random.binomial(1, 0.5, 1))"
   ]
  },
  {
   "cell_type": "code",
   "execution_count": null,
   "metadata": {},
   "outputs": [],
   "source": [
    "# changeGroup1 = dataAllQuiz['changeGroup'].apply(lambda x: x == 1)"
   ]
  },
  {
   "cell_type": "code",
   "execution_count": null,
   "metadata": {},
   "outputs": [],
   "source": []
  },
  {
   "cell_type": "code",
   "execution_count": null,
   "metadata": {},
   "outputs": [],
   "source": [
    "# dataAllQuiz.loc[:, 'favGroup'].loc[dataAllQuiz.changeGroup == 1] = 4"
   ]
  },
  {
   "cell_type": "code",
   "execution_count": null,
   "metadata": {},
   "outputs": [],
   "source": [
    "# dataAllQuiz.loc[dataAllQuiz.changeGroup == 1, ['favGroup']].iloc[1]"
   ]
  },
  {
   "cell_type": "code",
   "execution_count": null,
   "metadata": {},
   "outputs": [],
   "source": [
    "# dataAllQuiz.loc[changeGroup1, ['favGroup']]"
   ]
  },
  {
   "cell_type": "code",
   "execution_count": null,
   "metadata": {},
   "outputs": [],
   "source": [
    "# random.choice(dataAllQuiz[dataAllQuiz.group == dataAllQuiz.loc[39].group].id.tolist())"
   ]
  },
  {
   "cell_type": "code",
   "execution_count": 26,
   "metadata": {},
   "outputs": [],
   "source": [
    "# dataAllQuiz = dataAllQuiz.astype('object')\n",
    "list_of_tog_for = []\n",
    "for i in range(len(dataAllQuiz[dataAllQuiz.changeGroup == 0])):\n",
    "    if np.random.binomial(1, 0.3) == 1:\n",
    "        times = random.randint(1, 2)\n",
    "        a = list(set(random.choices(dataAllQuiz[(dataAllQuiz.group == dataAllQuiz.loc[i].group) & (dataAllQuiz.id != dataAllQuiz.iloc[i].id)].id.tolist(), k = times)))\n",
    "        list_of_tog_for.append(a)\n",
    "    else:\n",
    "        list_of_tog_for.append(np.nan)\n",
    "#         dataAllQuiz.loc[i, 'listOfTogFor'].loc[dataAllQuiz.changeGroup == 0] = random.choices(dataAllQuiz[dataAllQuiz.group == dataAllQuiz.loc[i].group].id.tolist(), k = times)"
   ]
  },
  {
   "cell_type": "code",
   "execution_count": 27,
   "metadata": {},
   "outputs": [
    {
     "name": "stderr",
     "output_type": "stream",
     "text": [
      "C:\\ProgramData\\Anaconda3\\lib\\site-packages\\ipykernel_launcher.py:1: SettingWithCopyWarning: \n",
      "A value is trying to be set on a copy of a slice from a DataFrame\n",
      "\n",
      "See the caveats in the documentation: https://pandas.pydata.org/pandas-docs/stable/user_guide/indexing.html#returning-a-view-versus-a-copy\n",
      "  \"\"\"Entry point for launching an IPython kernel.\n"
     ]
    }
   ],
   "source": [
    "dataAllQuiz['listOfTogFor'][dataAllQuiz.changeGroup == 0] = list_of_tog_for"
   ]
  },
  {
   "cell_type": "code",
   "execution_count": null,
   "metadata": {},
   "outputs": [],
   "source": []
  },
  {
   "cell_type": "code",
   "execution_count": null,
   "metadata": {},
   "outputs": [],
   "source": [
    "# dataAllQuiz[dataAllQuiz.changeGroup == 0]['listOfTogFor']"
   ]
  },
  {
   "cell_type": "code",
   "execution_count": null,
   "metadata": {},
   "outputs": [],
   "source": []
  },
  {
   "cell_type": "code",
   "execution_count": null,
   "metadata": {},
   "outputs": [],
   "source": [
    "# dataAllQuiz[dataAllQuiz.listOfTogFor.notna()]"
   ]
  },
  {
   "cell_type": "code",
   "execution_count": null,
   "metadata": {},
   "outputs": [],
   "source": []
  },
  {
   "cell_type": "code",
   "execution_count": null,
   "metadata": {},
   "outputs": [],
   "source": []
  },
  {
   "cell_type": "code",
   "execution_count": null,
   "metadata": {},
   "outputs": [],
   "source": []
  },
  {
   "cell_type": "code",
   "execution_count": null,
   "metadata": {},
   "outputs": [],
   "source": []
  },
  {
   "cell_type": "code",
   "execution_count": null,
   "metadata": {},
   "outputs": [],
   "source": []
  },
  {
   "cell_type": "code",
   "execution_count": null,
   "metadata": {},
   "outputs": [],
   "source": []
  },
  {
   "cell_type": "code",
   "execution_count": 28,
   "metadata": {},
   "outputs": [],
   "source": [
    "dataAllQuiz = dataAllQuiz.astype('object')\n",
    "for i in range(len(dataAllQuiz)):\n",
    "    if np.random.binomial(1, 0.2) == 1:\n",
    "        times = random.randint(1, 2)\n",
    "        a = list(set(random.choices(dataAllQuiz[(dataAllQuiz.group != dataAllQuiz.loc[i].group) & (dataAllQuiz.id != dataAllQuiz.iloc[i].id)].id.tolist(), k = times)))\n",
    "        dataAllQuiz.loc[i, 'listCananBe'] = a"
   ]
  },
  {
   "cell_type": "code",
   "execution_count": 29,
   "metadata": {},
   "outputs": [],
   "source": [
    "for i in range(len(dataAllQuiz)):\n",
    "    if np.random.binomial(1, 0.15) == 1:\n",
    "        times = random.randint(1, 2)\n",
    "        a = list(set(random.choices(dataAllQuiz[dataAllQuiz.id != dataAllQuiz.iloc[i].id].id.tolist(), k = times)))\n",
    "        dataAllQuiz.loc[i, 'listHaters'] = a"
   ]
  },
  {
   "cell_type": "code",
   "execution_count": 30,
   "metadata": {},
   "outputs": [],
   "source": [
    "for i in range(len(dataAllQuiz)):\n",
    "    if np.random.binomial(1, 0.4) == 1:\n",
    "        times = random.randint(1, 3)\n",
    "        a = list(set(random.choices(dataAllQuiz[(dataAllQuiz.group == dataAllQuiz.loc[i].group) & (dataAllQuiz.id != dataAllQuiz.iloc[i].id)].id.tolist(), k = times)))\n",
    "        dataAllQuiz.loc[i, 'listFavPeople'] = a"
   ]
  },
  {
   "cell_type": "code",
   "execution_count": null,
   "metadata": {},
   "outputs": [],
   "source": [
    "# dataAllQuiz.to_excel('dataAllQuiz1.xlsx', index = False)"
   ]
  },
  {
   "cell_type": "code",
   "execution_count": null,
   "metadata": {},
   "outputs": [],
   "source": []
  },
  {
   "cell_type": "code",
   "execution_count": 31,
   "metadata": {},
   "outputs": [],
   "source": [
    "dataAllName = dataAllQuiz.copy()"
   ]
  },
  {
   "cell_type": "code",
   "execution_count": 32,
   "metadata": {},
   "outputs": [],
   "source": [
    "dict_int_name = {}\n",
    "for i, j in enumerate(list_of_names):\n",
    "    dict_int_name[str(i + 1)] = j"
   ]
  },
  {
   "cell_type": "code",
   "execution_count": 33,
   "metadata": {},
   "outputs": [],
   "source": [
    "dataAllName['name'] = ''\n",
    "for i in range(len(dataAllName)):\n",
    "    key = str(i + 1)\n",
    "    dataAllName['name'].iloc[i] = dict_int_name[key]"
   ]
  },
  {
   "cell_type": "code",
   "execution_count": null,
   "metadata": {},
   "outputs": [],
   "source": []
  },
  {
   "cell_type": "code",
   "execution_count": null,
   "metadata": {},
   "outputs": [],
   "source": []
  },
  {
   "cell_type": "code",
   "execution_count": null,
   "metadata": {},
   "outputs": [],
   "source": []
  },
  {
   "cell_type": "code",
   "execution_count": 34,
   "metadata": {},
   "outputs": [],
   "source": [
    "def int_to_name(list_ints):\n",
    "    if not np.isnan(list_ints).all():\n",
    "        list_names = []\n",
    "        for i in list_ints:\n",
    "            list_names.append(dict_int_name[str(i)])\n",
    "        return list_names"
   ]
  },
  {
   "cell_type": "code",
   "execution_count": null,
   "metadata": {},
   "outputs": [],
   "source": []
  },
  {
   "cell_type": "code",
   "execution_count": null,
   "metadata": {},
   "outputs": [],
   "source": [
    "# dataAllName.columns[4:-1].tolist()"
   ]
  },
  {
   "cell_type": "code",
   "execution_count": 35,
   "metadata": {},
   "outputs": [],
   "source": [
    "for i in dataAllName.columns[4:-1].tolist():\n",
    "    dataAllName[i] = dataAllName[i].apply(int_to_name)"
   ]
  },
  {
   "cell_type": "code",
   "execution_count": null,
   "metadata": {},
   "outputs": [],
   "source": []
  },
  {
   "cell_type": "code",
   "execution_count": null,
   "metadata": {},
   "outputs": [],
   "source": []
  },
  {
   "cell_type": "code",
   "execution_count": null,
   "metadata": {},
   "outputs": [],
   "source": []
  },
  {
   "cell_type": "code",
   "execution_count": null,
   "metadata": {},
   "outputs": [],
   "source": []
  },
  {
   "cell_type": "code",
   "execution_count": null,
   "metadata": {},
   "outputs": [],
   "source": []
  },
  {
   "cell_type": "code",
   "execution_count": null,
   "metadata": {},
   "outputs": [],
   "source": []
  },
  {
   "cell_type": "code",
   "execution_count": 37,
   "metadata": {},
   "outputs": [],
   "source": [
    "dict_number_students = {}\n",
    "for i, j in enumerate(dataAllQuiz.groupby('group').count().changeGroup):\n",
    "    dict_number_students[str(i + 1)] = j"
   ]
  },
  {
   "cell_type": "code",
   "execution_count": null,
   "metadata": {},
   "outputs": [],
   "source": [
    "# dict_number_students "
   ]
  },
  {
   "cell_type": "code",
   "execution_count": null,
   "metadata": {},
   "outputs": [],
   "source": [
    "# list_ids = dataAllQuiz.id.tolist()\n",
    "# dict_group_students = {}\n",
    "# for i in dict_number_students.keys():\n",
    "#     list_of_students = []\n",
    "#     for j in range(1, dict_number_students[i] + 1):\n",
    "#         list_of_students.append(list_ids.pop(0))\n",
    "#     dict_group_students[i] = list_of_students"
   ]
  },
  {
   "cell_type": "code",
   "execution_count": 38,
   "metadata": {},
   "outputs": [],
   "source": [
    "list_names = dataAllName.name.tolist()\n",
    "dict_group_students = {}\n",
    "for i in dict_number_students.keys():\n",
    "    list_of_students = []\n",
    "    for j in range(1, dict_number_students[i] + 1):\n",
    "        list_of_students.append(list_names.pop(0))\n",
    "    dict_group_students[i] = list_of_students"
   ]
  },
  {
   "cell_type": "code",
   "execution_count": null,
   "metadata": {},
   "outputs": [],
   "source": []
  },
  {
   "cell_type": "code",
   "execution_count": null,
   "metadata": {},
   "outputs": [],
   "source": []
  },
  {
   "cell_type": "code",
   "execution_count": null,
   "metadata": {},
   "outputs": [],
   "source": [
    "# dataAllName.head(4)"
   ]
  },
  {
   "cell_type": "code",
   "execution_count": null,
   "metadata": {},
   "outputs": [],
   "source": []
  },
  {
   "cell_type": "code",
   "execution_count": null,
   "metadata": {},
   "outputs": [],
   "source": [
    "# def get_dict_relation(key, dataAllQuiz = dataAllQuiz, cChange = 0.5, cFavGroup = 0.5, cFavIds = 4, cTogFor = 10, cFavPeople = 3, cCanan = 2, cHaters = -5):\n",
    "#     dict_one_relation = {}\n",
    "#     key = int(key)\n",
    "#     if dataAllQuiz.iloc[key - 1, 2] == 0:\n",
    "#         for i in dataAllQuiz['id'][(dataAllQuiz.group == dataAllQuiz.iloc[key - 1].group) & (dataAllQuiz.id != dataAllQuiz.iloc[key - 1].id)]:\n",
    "#             dict_one_relation[str(i)] = cChange\n",
    "#     else:\n",
    "#         if np.isnan(dataAllQuiz.iloc[key - 1, 3]):\n",
    "#             for i in dataAllQuiz.iloc[key - 1, 4]:\n",
    "#                 dict_one_relation[str(i)] = cFavIds\n",
    "#         else:\n",
    "#             for i in dataAllQuiz['id'][dataAllQuiz.group == dataAllQuiz.iloc[key - 1, 3]]:\n",
    "#                 dict_one_relation[str(i)] = cFavGroup\n",
    "    \n",
    "#     if not np.isnan(dataAllQuiz.iloc[key - 1].listOfTogFor).all():\n",
    "#         for i in dataAllQuiz.iloc[key - 1].listOfTogFor:\n",
    "#             dict_one_relation[str(i)] = cTogFor\n",
    "#     if not np.isnan(dataAllQuiz.iloc[key - 1].listFavPeople).all():\n",
    "#         for i in dataAllQuiz.iloc[key - 1].listFavPeople:\n",
    "#             dict_one_relation[str(i)] = cFavPeople\n",
    "#     if not np.isnan(dataAllQuiz.iloc[key - 1].listCananBe).all():\n",
    "#         for i in dataAllQuiz.iloc[key - 1].listCananBe:\n",
    "#             dict_one_relation[str(i)] = cCanan\n",
    "#     if not np.isnan(dataAllQuiz.iloc[key - 1].listHaters).all():\n",
    "#         for i in dataAllQuiz.iloc[key - 1].listHaters:\n",
    "#             dict_one_relation[str(i)] = cHaters\n",
    "#     return dict_one_relation\n",
    "# Ключ пусть будем именным"
   ]
  },
  {
   "cell_type": "code",
   "execution_count": null,
   "metadata": {},
   "outputs": [],
   "source": [
    "# dataAllName = dataAllName.fillna(np.nan)"
   ]
  },
  {
   "cell_type": "code",
   "execution_count": 40,
   "metadata": {},
   "outputs": [],
   "source": [
    "# fixed. It will work with strings.\n",
    "# Что исправить. Да, вот будет не id, а фамилии. И надо их заставить корректно встать в словарь.\n",
    "# То есть сгенерировать более точно, плюс заменить цифры на фамилии.\n",
    "# Если человек хочет покинуть группу, но не знает какую, -1 для всех членов текущей группы\n",
    "def get_dict_relation(key, dataAllQuiz = dataAllQuiz, cChange = 0.5, cFavGroup = 0.5, cFavIds = 4, cTogFor = 10, cFavPeople = 3, cCanan = 2, cHaters = -5):\n",
    "    dict_one_relation = {}\n",
    "    id_on_key = int(dataAllQuiz[dataAllQuiz.name == key].id)\n",
    "    if dataAllQuiz.iloc[id_on_key - 1, 2] == 0:\n",
    "        for i in dataAllQuiz['name'][(dataAllQuiz.group == dataAllQuiz.iloc[id_on_key - 1].group) & (dataAllQuiz.id != dataAllQuiz.iloc[id_on_key - 1].id)]:\n",
    "            dict_one_relation[i] = cChange\n",
    "    else:\n",
    "        if np.isnan(dataAllQuiz.iloc[id_on_key - 1, 3]):\n",
    "            for i in dataAllQuiz.iloc[id_on_key - 1, 4]:\n",
    "                dict_one_relation[i] = cFavIds\n",
    "        else:\n",
    "            for i in dataAllQuiz['name'][dataAllQuiz.group == dataAllQuiz.iloc[id_on_key - 1, 3]]:\n",
    "                dict_one_relation[i] = cFavGroup\n",
    "                \n",
    "    columns_values = {'listOfTogFor':cTogFor, 'listFavPeople':cFavPeople, 'listCananBe':cCanan, 'listHaters':cHaters}\n",
    "    \n",
    "    for keys, values in columns_values.items():\n",
    "        try:\n",
    "            if type(pd.isna(dataAllName.iloc[id_on_key - 1][keys])) is not bool:\n",
    "                for i in dataAllQuiz.iloc[id_on_key - 1][keys]:\n",
    "                    dict_one_relation[i] = values\n",
    "        except:\n",
    "            pass\n",
    "\n",
    "    return dict_one_relation"
   ]
  },
  {
   "cell_type": "code",
   "execution_count": null,
   "metadata": {},
   "outputs": [],
   "source": []
  },
  {
   "cell_type": "code",
   "execution_count": null,
   "metadata": {},
   "outputs": [],
   "source": []
  },
  {
   "cell_type": "code",
   "execution_count": null,
   "metadata": {},
   "outputs": [],
   "source": []
  },
  {
   "cell_type": "code",
   "execution_count": null,
   "metadata": {},
   "outputs": [],
   "source": []
  },
  {
   "cell_type": "code",
   "execution_count": null,
   "metadata": {},
   "outputs": [],
   "source": []
  },
  {
   "cell_type": "code",
   "execution_count": null,
   "metadata": {},
   "outputs": [],
   "source": []
  },
  {
   "cell_type": "code",
   "execution_count": null,
   "metadata": {},
   "outputs": [],
   "source": []
  },
  {
   "cell_type": "code",
   "execution_count": null,
   "metadata": {},
   "outputs": [],
   "source": []
  },
  {
   "cell_type": "code",
   "execution_count": null,
   "metadata": {},
   "outputs": [],
   "source": [
    "# get_dict_relation(dataAllName.name.tolist()[47], dataAllQuiz = dataAllName)"
   ]
  },
  {
   "cell_type": "code",
   "execution_count": null,
   "metadata": {},
   "outputs": [],
   "source": [
    "# dataAllName.name.tolist()[0]"
   ]
  },
  {
   "cell_type": "code",
   "execution_count": null,
   "metadata": {},
   "outputs": [],
   "source": []
  },
  {
   "cell_type": "code",
   "execution_count": null,
   "metadata": {},
   "outputs": [],
   "source": [
    "# full_dict_relations = {}\n",
    "# list_ids = dataAllQuiz.id.tolist()\n",
    "# for i in list_ids:\n",
    "#     full_dict_relations[str(i)] = get_dict_relation(i)"
   ]
  },
  {
   "cell_type": "code",
   "execution_count": 41,
   "metadata": {},
   "outputs": [],
   "source": [
    "full_dict_relations = {}\n",
    "list_names = dataAllName.name.tolist()\n",
    "for i in list_names:\n",
    "    full_dict_relations[i] = get_dict_relation(i, dataAllQuiz = dataAllName)"
   ]
  },
  {
   "cell_type": "code",
   "execution_count": null,
   "metadata": {},
   "outputs": [],
   "source": []
  },
  {
   "cell_type": "code",
   "execution_count": null,
   "metadata": {},
   "outputs": [],
   "source": [
    "# full_dict_relations"
   ]
  },
  {
   "cell_type": "code",
   "execution_count": null,
   "metadata": {},
   "outputs": [],
   "source": [
    "# dataAllName[dataAllName.name == 'Monique Bradford']"
   ]
  },
  {
   "cell_type": "code",
   "execution_count": null,
   "metadata": {},
   "outputs": [],
   "source": [
    "with open('full_dict_relations.txt', 'w') as f:\n",
    "    f.write(str(full_dict_relations))"
   ]
  },
  {
   "cell_type": "code",
   "execution_count": null,
   "metadata": {},
   "outputs": [],
   "source": []
  },
  {
   "cell_type": "code",
   "execution_count": null,
   "metadata": {},
   "outputs": [],
   "source": [
    "# dataAllQuiz.iloc[3].listFavPeople"
   ]
  },
  {
   "cell_type": "code",
   "execution_count": null,
   "metadata": {},
   "outputs": [],
   "source": []
  },
  {
   "cell_type": "code",
   "execution_count": 87,
   "metadata": {},
   "outputs": [],
   "source": [
    "list_groups = [[],[],[],[],[],[]]"
   ]
  },
  {
   "cell_type": "code",
   "execution_count": 86,
   "metadata": {},
   "outputs": [],
   "source": [
    "last_people = dataAllName.name.tolist()"
   ]
  },
  {
   "cell_type": "code",
   "execution_count": 48,
   "metadata": {},
   "outputs": [],
   "source": [
    "def best_person(group, list_last_people = last_people, remove = True):\n",
    "    mid_dict = {}\n",
    "    for i in list_last_people:\n",
    "        sum_1_to_others = 0\n",
    "        for j in list_groups[group - 1]:\n",
    "            try:\n",
    "                sum_1_to_others += full_dict_relations[i][j]\n",
    "            except:\n",
    "                pass\n",
    "            try:\n",
    "                sum_1_to_others += full_dict_relations[j][i]\n",
    "            except:\n",
    "                pass\n",
    "        mid_dict[i] = sum_1_to_others\n",
    "    sorted_dict = {k: v for k, v in sorted(mid_dict.items(), key=lambda item: item[1], reverse = True)}\n",
    "    a = list(sorted_dict.keys())[0]\n",
    "    if remove == True:\n",
    "        list_last_people.remove(a)\n",
    "    return a\n",
    "#     return sorted_dict"
   ]
  },
  {
   "cell_type": "code",
   "execution_count": 49,
   "metadata": {},
   "outputs": [],
   "source": [
    "def sum_relation(group):\n",
    "    all_sum = 0\n",
    "    for i in list_groups[group - 1]:\n",
    "        for j in list_groups[group - 1]:\n",
    "            try:\n",
    "                all_sum += full_dict_relations[i][j]\n",
    "            except:\n",
    "                pass\n",
    "            try:\n",
    "                all_sum += full_dict_relations[j][i]\n",
    "            except:\n",
    "                pass\n",
    "    return all_sum"
   ]
  },
  {
   "cell_type": "code",
   "execution_count": 85,
   "metadata": {},
   "outputs": [
    {
     "data": {
      "text/plain": [
       "174"
      ]
     },
     "execution_count": 85,
     "metadata": {},
     "output_type": "execute_result"
    }
   ],
   "source": [
    "len(last_people)"
   ]
  },
  {
   "cell_type": "code",
   "execution_count": null,
   "metadata": {},
   "outputs": [],
   "source": [
    "def best_random_group(group, last_people_def = last_people, pop = 10):\n",
    "    dict_attempts = {}\n",
    "    dict_of_students = {}\n",
    "    for i in range(10):\n",
    "        list_groups = [[],[],[],[],[],[]]\n",
    "        last_people = last_people_def\n",
    "        list_groups[group - 1].append(last_people.pop(random.randrange(len(last_people))))\n",
    "        for j in range(pop - 1):\n",
    "            list_groups[group - 1].append(best_person(group, remove = True))\n",
    "        dict_attempts[i] = sum_relation(group)\n",
    "        dict_of_students[i] = list_groups[group - 1]\n",
    "    max_key = max(dict_attempts, key=dict_attempts.get)\n",
    "    \n",
    "    return dict_of_students[max_key], dict_attempts[max_key]"
   ]
  },
  {
   "cell_type": "code",
   "execution_count": null,
   "metadata": {},
   "outputs": [],
   "source": [
    "best_random_group(1)"
   ]
  },
  {
   "cell_type": "code",
   "execution_count": null,
   "metadata": {},
   "outputs": [],
   "source": [
    "test_dict = {1:5, 6:8, 7:3}"
   ]
  },
  {
   "cell_type": "code",
   "execution_count": null,
   "metadata": {},
   "outputs": [],
   "source": [
    "max(test_dict, key=test_dict.get)"
   ]
  },
  {
   "cell_type": "code",
   "execution_count": 163,
   "metadata": {},
   "outputs": [
    {
     "data": {
      "text/plain": [
       "2552.0"
      ]
     },
     "execution_count": 163,
     "metadata": {},
     "output_type": "execute_result"
    }
   ],
   "source": [
    "list_groups[0].append(best_person(1))\n",
    "sum_relation(1)"
   ]
  },
  {
   "cell_type": "code",
   "execution_count": null,
   "metadata": {},
   "outputs": [],
   "source": [
    "list(test_dict.values())[0]"
   ]
  },
  {
   "cell_type": "code",
   "execution_count": 82,
   "metadata": {},
   "outputs": [
    {
     "data": {
      "text/plain": [
       "129.0"
      ]
     },
     "execution_count": 82,
     "metadata": {},
     "output_type": "execute_result"
    }
   ],
   "source": [
    "sum_relation(1)"
   ]
  },
  {
   "cell_type": "code",
   "execution_count": 83,
   "metadata": {},
   "outputs": [
    {
     "data": {
      "text/plain": [
       "'Thao Carle'"
      ]
     },
     "execution_count": 83,
     "metadata": {},
     "output_type": "execute_result"
    }
   ],
   "source": [
    "best_person(1)"
   ]
  },
  {
   "cell_type": "code",
   "execution_count": null,
   "metadata": {},
   "outputs": [],
   "source": []
  },
  {
   "cell_type": "code",
   "execution_count": null,
   "metadata": {},
   "outputs": [],
   "source": [
    "last_people.pop(random.randrange(len(last_people)))"
   ]
  },
  {
   "cell_type": "code",
   "execution_count": null,
   "metadata": {},
   "outputs": [],
   "source": []
  },
  {
   "cell_type": "code",
   "execution_count": null,
   "metadata": {},
   "outputs": [],
   "source": [
    "list_groups[5].append(last_people.pop(57))"
   ]
  },
  {
   "cell_type": "code",
   "execution_count": null,
   "metadata": {},
   "outputs": [],
   "source": []
  },
  {
   "cell_type": "code",
   "execution_count": null,
   "metadata": {},
   "outputs": [],
   "source": []
  },
  {
   "cell_type": "code",
   "execution_count": null,
   "metadata": {},
   "outputs": [],
   "source": []
  },
  {
   "cell_type": "code",
   "execution_count": null,
   "metadata": {},
   "outputs": [],
   "source": []
  },
  {
   "cell_type": "code",
   "execution_count": null,
   "metadata": {},
   "outputs": [],
   "source": [
    "list_groups[0]"
   ]
  },
  {
   "cell_type": "code",
   "execution_count": null,
   "metadata": {},
   "outputs": [],
   "source": []
  },
  {
   "cell_type": "code",
   "execution_count": null,
   "metadata": {},
   "outputs": [],
   "source": []
  }
 ],
 "metadata": {
  "kernelspec": {
   "display_name": "Python 3",
   "language": "python",
   "name": "python3"
  },
  "language_info": {
   "codemirror_mode": {
    "name": "ipython",
    "version": 3
   },
   "file_extension": ".py",
   "mimetype": "text/x-python",
   "name": "python",
   "nbconvert_exporter": "python",
   "pygments_lexer": "ipython3",
   "version": "3.7.4"
  }
 },
 "nbformat": 4,
 "nbformat_minor": 2
}
