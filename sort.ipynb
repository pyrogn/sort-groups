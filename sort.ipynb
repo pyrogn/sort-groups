{
 "cells": [
  {
   "cell_type": "code",
   "execution_count": 59,
   "metadata": {},
   "outputs": [],
   "source": [
    "import random\n",
    "import os\n",
    "import pandas as pd\n",
    "import numpy as np\n",
    "import copy\n",
    "import operator"
   ]
  },
  {
   "cell_type": "code",
   "execution_count": null,
   "metadata": {},
   "outputs": [],
   "source": [
    "# словарь отношений я создал на предыдущей стадии."
   ]
  },
  {
   "cell_type": "code",
   "execution_count": null,
   "metadata": {},
   "outputs": [],
   "source": [
    "# импортирую словарь отношений. Он формата {'человек':{'другой человек':коэффициент, и т.д.}, и т.д.}"
   ]
  },
  {
   "cell_type": "code",
   "execution_count": 121,
   "metadata": {},
   "outputs": [],
   "source": [
    "with open('full_dict_relationsRazval4.txt', 'r') as f:\n",
    "    full_dict_relations = eval(f.read())"
   ]
  },
  {
   "cell_type": "code",
   "execution_count": 128,
   "metadata": {},
   "outputs": [],
   "source": [
    "# reset\n",
    "list_groups = [[],[],[],[],[],[]]\n",
    "last_people_base = list(full_dict_relations.keys())\n",
    "last_people = list(full_dict_relations.keys())"
   ]
  },
  {
   "cell_type": "code",
   "execution_count": null,
   "metadata": {},
   "outputs": [],
   "source": []
  },
  {
   "cell_type": "code",
   "execution_count": 80,
   "metadata": {},
   "outputs": [],
   "source": [
    "# принимает номер группы, список групп. remove отвечает за удаление выбранного человека из данного списка групп. Возвращает имя идеального для группы человека\n",
    "def best_person(group, last_people, remove = True):\n",
    "    mid_dict = {}\n",
    "    for i in last_people:\n",
    "        sum_1_to_others = 0\n",
    "        for j in list_groups[group - 1]:\n",
    "            try:\n",
    "                sum_1_to_others += full_dict_relations[i][j]\n",
    "            except:\n",
    "                pass\n",
    "            try:\n",
    "                sum_1_to_others += full_dict_relations[j][i]\n",
    "            except:\n",
    "                pass\n",
    "        mid_dict[i] = sum_1_to_others\n",
    "    sorted_dict = {k: v for k, v in sorted(mid_dict.items(), key=lambda item: item[1], reverse = True)}\n",
    "    a = list(sorted_dict.keys())[0]\n",
    "    if remove:\n",
    "        last_people.remove(a)\n",
    "    return a"
   ]
  },
  {
   "cell_type": "code",
   "execution_count": 81,
   "metadata": {},
   "outputs": [],
   "source": [
    "# получает номер группы, возвращает сумму всех отношений\n",
    "def sum_relation(group, list_groups):\n",
    "    all_sum = 0\n",
    "    for i in list_groups[group - 1]:\n",
    "        for j in list_groups[group - 1]:\n",
    "            try:\n",
    "                all_sum += full_dict_relations[i][j]\n",
    "            except:\n",
    "                pass\n",
    "            try:\n",
    "                all_sum += full_dict_relations[j][i]\n",
    "            except:\n",
    "                pass\n",
    "    return all_sum"
   ]
  },
  {
   "cell_type": "code",
   "execution_count": 82,
   "metadata": {},
   "outputs": [],
   "source": [
    "# получает список групп, возвращает общую сумму и численность всех групп в сумме как tuple()\n",
    "def sum_all_groups(list_groups):\n",
    "    all_sum = 0\n",
    "    population = 0\n",
    "    for i in range(1, 7):\n",
    "        population += len(list_groups[i - 1])\n",
    "        all_sum += sum_relation(i, list_groups)\n",
    "    return all_sum, population"
   ]
  },
  {
   "cell_type": "code",
   "execution_count": 83,
   "metadata": {},
   "outputs": [],
   "source": [
    "# получает ключ человека в словаре отношений и номер группы.\n",
    "# возвращает человека и его вклад в группу.\n",
    "def contribution_one_person(person, num_group, list_groups):\n",
    "    sum_contr = 0\n",
    "    for i in list_groups[num_group - 1]:\n",
    "        try:\n",
    "            sum_contr += full_dict_relations[person][i]\n",
    "        except:\n",
    "            pass\n",
    "        try:\n",
    "            sum_contr += full_dict_relations[i][person]\n",
    "        except:\n",
    "            pass\n",
    "    return (person, sum_contr)"
   ]
  },
  {
   "cell_type": "code",
   "execution_count": null,
   "metadata": {},
   "outputs": [],
   "source": []
  },
  {
   "cell_type": "code",
   "execution_count": 646,
   "metadata": {},
   "outputs": [],
   "source": [
    "# найти шесть лучших пятнадцаток.\n",
    "# 6 групп, которые заполнены по 15 человек с максимальными суммами."
   ]
  },
  {
   "cell_type": "code",
   "execution_count": 129,
   "metadata": {},
   "outputs": [],
   "source": [
    "for i in range(6):\n",
    "    dict_10_groups = {}\n",
    "    last_10_people = {}\n",
    "    for k in last_people_base[:]:     \n",
    "        list_groups[i] = []\n",
    "        last_people = last_people_base[:]\n",
    "        list_groups[i].append(k)\n",
    "        last_people.remove(k)\n",
    "        for j in range(14):  # если 14, тогда будет по 15 человек в группах.\n",
    "            list_groups[i].append(best_person(i + 1, last_people, remove = True))\n",
    "        a = sum_relation(i + 1, list_groups = list_groups)\n",
    "        last_10_people[a] = last_people\n",
    "        dict_10_groups[a] = list_groups[i]\n",
    "    list_groups[i] = dict_10_groups[max(dict_10_groups)]\n",
    "    last_people = last_10_people[max(dict_10_groups)]\n",
    "    for people in list_groups[i]:\n",
    "        last_people_base.remove(people)"
   ]
  },
  {
   "cell_type": "code",
   "execution_count": 124,
   "metadata": {},
   "outputs": [
    {
     "data": {
      "text/plain": [
       "(11718.399999999969, 90)"
      ]
     },
     "execution_count": 124,
     "metadata": {},
     "output_type": "execute_result"
    }
   ],
   "source": [
    "#здесь можно проверить общую сумму, численность и оставшихся людей\n",
    "sum_all_groups(list_groups = list_groups)"
   ]
  },
  {
   "cell_type": "code",
   "execution_count": 125,
   "metadata": {},
   "outputs": [
    {
     "data": {
      "text/plain": [
       "69"
      ]
     },
     "execution_count": 125,
     "metadata": {},
     "output_type": "execute_result"
    }
   ],
   "source": [
    "len(last_people)"
   ]
  },
  {
   "cell_type": "code",
   "execution_count": 5,
   "metadata": {},
   "outputs": [],
   "source": [
    "# их заполнить с перетасовкой"
   ]
  },
  {
   "cell_type": "code",
   "execution_count": 65,
   "metadata": {},
   "outputs": [],
   "source": [
    "# дать группу человека, его имя и коэф для тюна для толерантности к изменению его вклада в группу. Возвращает список рациональных переходов для этого человека.\n",
    "def allowed_groups(group, name, coeff_min):\n",
    "    _, current_contr = contribution_one_person(name, group, list_groups)\n",
    "    minim_contrib = current_contr / coeff_min\n",
    "    list_allowed_groups = []\n",
    "    for i in range(6):\n",
    "        _, contr = contribution_one_person(name, i + 1, list_groups)\n",
    "        if contr > minim_contrib or current_contr == 0:\n",
    "            list_allowed_groups.append(i + 1)\n",
    "    if group not in list_allowed_groups:\n",
    "        list_allowed_groups.append(group)\n",
    "    return list_allowed_groups"
   ]
  },
  {
   "cell_type": "code",
   "execution_count": 66,
   "metadata": {},
   "outputs": [],
   "source": [
    "# дать словарь возможных комбинаций. Возвращает количество комбинаций.\n",
    "def num_comb(dictionary):\n",
    "    list_comb = []\n",
    "    n_comb = 1\n",
    "    for key, value in dictionary.items():\n",
    "        n_comb = n_comb * len(value)\n",
    "    return n_comb"
   ]
  },
  {
   "cell_type": "code",
   "execution_count": 67,
   "metadata": {},
   "outputs": [],
   "source": [
    "# дать словарь с возможными комбинациями и список групп. Он выдаст новую комбинацию в виде нового списка групп и количество комбинаций.\n",
    "def best_combination(dictionary, groups):\n",
    "    n_comb = num_comb(dictionary)\n",
    "    dict_comb = {}\n",
    "# Здесь реализован перебор всех вариантов. \n",
    "    help_dict = {}\n",
    "    new_comb = n_comb\n",
    "    for key, value in dictionary.items():\n",
    "        if len(value) > 1:\n",
    "            new_comb = int(new_comb / len(value))\n",
    "            help_dict[key] = new_comb\n",
    "    for i in range(n_comb):\n",
    "        ground_list_groups = copy.deepcopy(groups)\n",
    "        for key, value in dictionary.items():\n",
    "            if len(value) > 1:\n",
    "                number = (i // help_dict[key]) % len(value)\n",
    "                value_num = value[number]\n",
    "                ground_list_groups[value_num - 1].append(key)\n",
    "            else:\n",
    "                ground_list_groups[value[0] - 1].append(key)\n",
    "        sum_gr, _ = sum_all_groups(ground_list_groups)\n",
    "        dict_comb[str(ground_list_groups)] = sum_gr\n",
    "#         данный код сбрасывает лист после 10000 комбинаций, оставляя лучший вариант, чтобы разгружать ОЗУ.\n",
    "        if (i + 1) % 10000 == 0:\n",
    "            print(f'{(i + 1) // 10000} iteration with {n_comb} combinations')\n",
    "            dict_comb = strip_max(dict_comb)\n",
    "            left_n_max(dict_comb, 1)\n",
    "# если ключом оставлять сумму, тогда могут быть перезатирания, поэтому ключ - длинный список списков.\n",
    "    dict_comb = strip_max(dict_comb)\n",
    "    return eval(max(dict_comb, key=dict_comb.get)), n_comb"
   ]
  },
  {
   "cell_type": "code",
   "execution_count": 126,
   "metadata": {},
   "outputs": [],
   "source": [
    "# удаляет все значения, где число людей в групп > 30. Дать словарь dict_comb из предыдущей функции.\n",
    "def strip_max(dictionary):\n",
    "    dict1 = copy.deepcopy(dictionary)\n",
    "    for key, values in dictionary.items():\n",
    "        for i in eval(key):\n",
    "            if len(i) > 30:\n",
    "                try:\n",
    "                    del dict1[key]\n",
    "                except:\n",
    "                    pass\n",
    "    return dict1"
   ]
  },
  {
   "cell_type": "code",
   "execution_count": 69,
   "metadata": {},
   "outputs": [],
   "source": [
    "# оставляет в словаре n значений с наивысшими значениями. Тоже дать dict_comb. \n",
    "def left_n_max(d, n=1):\n",
    "    for _ in range(len(d) - n):\n",
    "        min_key = min(d.keys(), key=lambda k: d[k])\n",
    "        del d[min_key]"
   ]
  },
  {
   "cell_type": "code",
   "execution_count": 70,
   "metadata": {},
   "outputs": [],
   "source": [
    "# неактивен. Думал при большом количестве комбинаций уменьшать коэффициенты и глубину перетасовки.\n",
    "def reorder(dict_min, list_groups, depth, coeff_min):\n",
    "    for key, value in dict_min.items():\n",
    "        for j in value:\n",
    "            list_groups[key - 1].append(j)\n",
    "    if depth > 1:\n",
    "        depth = depth - 1\n",
    "    else:\n",
    "        coeff_min = coeff_min * 0.8\n",
    "    dict_min = {}\n",
    "    for group in range(6):\n",
    "        dict_rel = {}\n",
    "        for i in list_groups[group]:\n",
    "            name, contr = contribution_one_person(i, group + 1, list_groups)\n",
    "            dict_rel[name] = contr\n",
    "        list_min = []\n",
    "        for i in sorted(dict_rel.items(), key=lambda item: item[1])[:depth]:\n",
    "            list_min.append(i[0])\n",
    "        dict_min[group + 1] = list_min\n",
    "        for i in list_min:\n",
    "            list_groups[group].remove(i)\n",
    "    dict_change_groups = {}\n",
    "    for key, value in dict_min.items():\n",
    "        for i in value:\n",
    "            dict_change_groups[i] = allowed_groups(key, i, coeff_min)\n",
    "    dict_change_groups[free] = list(range(1, 7))\n",
    "    return dict_change_groups"
   ]
  },
  {
   "cell_type": "code",
   "execution_count": 19,
   "metadata": {},
   "outputs": [],
   "source": []
  },
  {
   "cell_type": "code",
   "execution_count": null,
   "metadata": {},
   "outputs": [],
   "source": [
    "# пытался это прикрутить, чтобы группы заполнялись более равномерно.\n",
    "# max([len(x) for x in i]) - min([len(x) for x in i]) > 5"
   ]
  },
  {
   "cell_type": "code",
   "execution_count": 256,
   "metadata": {},
   "outputs": [],
   "source": []
  },
  {
   "cell_type": "code",
   "execution_count": null,
   "metadata": {},
   "outputs": [],
   "source": []
  },
  {
   "cell_type": "code",
   "execution_count": null,
   "metadata": {},
   "outputs": [],
   "source": []
  },
  {
   "cell_type": "code",
   "execution_count": 600,
   "metadata": {},
   "outputs": [],
   "source": []
  },
  {
   "cell_type": "code",
   "execution_count": 130,
   "metadata": {},
   "outputs": [],
   "source": [
    "# depth - сколько мы забираем людей из каждой группы при каждой итерации\n",
    "# coeff_min - насколько мы готовы уменшить вклад человека в группу, чтобы посчитать его переход в другую группу хоть частично разумным\n",
    "depth = 3\n",
    "coeff_min = 1\n",
    "# n_group_for_free = 2 # использовал для того, чтобы свободному человеку давать не все, а три лучшие группы и первую минимальную."
   ]
  },
  {
   "cell_type": "code",
   "execution_count": 116,
   "metadata": {},
   "outputs": [],
   "source": [
    "# делаю излишние копии, потому что у меня уже сдвиг на связанных списках."
   ]
  },
  {
   "cell_type": "code",
   "execution_count": 131,
   "metadata": {},
   "outputs": [
    {
     "name": "stdout",
     "output_type": "stream",
     "text": [
      "15 - 1252.6|15 - 2283.8|16 - 2182.2|15 - 2197.0|15 - 2131.4|15 - 1693.4|11740.4 91 6 129.02\n",
      "15 - 1252.6|15 - 2283.8|17 - 2182.2|15 - 2235.6|15 - 2131.4|15 - 1693.4|11779.0 92 6 128.03\n",
      "15 - 1252.6|15 - 2283.8|17 - 2182.2|16 - 2235.6|15 - 2167.4|15 - 1693.4|11815.0 93 6 127.04\n",
      "15 - 1252.6|15 - 2283.8|17 - 2182.2|17 - 2235.6|15 - 2209.4|15 - 1693.4|11857.0 94 6 126.14\n",
      "15 - 1252.6|16 - 2283.8|17 - 2276.2|17 - 2235.6|15 - 2209.4|15 - 1693.4|11951.0 95 6 125.8\n",
      "15 - 1252.6|16 - 2283.8|17 - 2276.2|17 - 2235.6|16 - 2209.4|15 - 1733.4|11991.0 96 6 124.91\n",
      "15 - 1252.6|16 - 2283.8|17 - 2276.2|17 - 2235.6|17 - 2209.4|15 - 1755.4|12013.0 97 6 123.85\n",
      "15 - 1252.6|16 - 2283.8|18 - 2276.2|17 - 2244.6|17 - 2209.4|15 - 1755.4|12022.0 98 36 122.67\n",
      "15 - 1252.6|16 - 2283.8|17 - 2276.2|17 - 2235.6|19 - 2209.4|15 - 1834.4|12092.0 99 216 122.14\n",
      "15 - 1252.6|16 - 2283.8|17 - 2276.2|17 - 2235.6|20 - 2209.4|15 - 1969.0|12226.6 100 6 122.27\n",
      "15 - 1252.6|16 - 2283.8|17 - 2276.2|17 - 2235.6|21 - 2209.4|15 - 2059.4|12317.0 101 6 121.95\n",
      "15 - 1252.6|16 - 2283.8|16 - 2276.2|17 - 2197.0|23 - 2209.4|15 - 2234.4|12453.4 102 12 122.09\n",
      "15 - 1252.6|16 - 2283.8|16 - 2276.2|17 - 2197.0|24 - 2209.4|15 - 2319.4|12538.4 103 6 121.73\n",
      "15 - 1252.6|16 - 2283.8|16 - 2276.2|17 - 2197.0|25 - 2209.4|15 - 2404.4|12623.4 104 6 121.38\n",
      "15 - 1252.6|16 - 2283.8|16 - 2276.2|17 - 2197.0|26 - 2209.4|15 - 2482.6|12701.6 105 6 120.97\n",
      "15 - 1252.6|16 - 2283.8|16 - 2276.2|17 - 2197.0|27 - 2209.4|15 - 2550.0|12769.0 106 6 120.46\n",
      "15 - 1252.6|16 - 2283.8|16 - 2276.2|16 - 2197.0|29 - 2167.4|15 - 2789.2|12966.2 107 12 121.18\n",
      "15 - 1252.6|16 - 2283.8|16 - 2276.2|16 - 2197.0|30 - 2167.4|15 - 3003.6|13180.6 108 12 122.04\n",
      "15 - 1252.6|16 - 2283.8|17 - 2276.2|16 - 2197.6|30 - 2167.4|15 - 3003.6|13181.2 109 6 120.93\n",
      "16 - 1252.6|16 - 2335.8|17 - 2276.2|16 - 2197.6|30 - 2167.4|15 - 3003.6|13233.2 110 36 120.3\n",
      "16 - 1252.6|16 - 2335.8|18 - 2276.2|16 - 2323.8|30 - 2167.4|15 - 3003.6|13359.4 111 36 120.35\n",
      "16 - 1252.6|16 - 2335.8|19 - 2276.2|16 - 2436.4|30 - 2167.4|15 - 3003.6|13472.0 112 36 120.29\n",
      "16 - 1252.6|16 - 2335.8|20 - 2276.2|16 - 2575.4|30 - 2167.4|15 - 3003.6|13611.0 113 36 120.45\n",
      "16 - 1252.6|16 - 2335.8|21 - 2276.2|16 - 2700.8|30 - 2167.4|15 - 3003.6|13736.4 114 36 120.49\n",
      "16 - 1252.6|16 - 2335.8|22 - 2276.2|16 - 2859.6|30 - 2167.4|15 - 3003.6|13895.2 115 36 120.83\n",
      "16 - 1252.6|16 - 2335.8|23 - 2276.2|16 - 3008.6|30 - 2167.4|15 - 3003.6|14044.2 116 36 121.07\n",
      "16 - 1252.6|16 - 2335.8|24 - 2276.2|16 - 3121.2|30 - 2167.4|15 - 3003.6|14156.8 117 36 121.0\n",
      "16 - 1252.6|16 - 2335.8|24 - 2276.2|17 - 3121.2|30 - 2324.4|15 - 3003.6|14313.8 118 36 121.3\n",
      "16 - 1252.6|16 - 2335.8|24 - 2276.2|18 - 3121.2|30 - 2396.4|15 - 3003.6|14385.8 119 36 120.89\n",
      "16 - 1252.6|16 - 2335.8|24 - 2276.2|19 - 3121.2|30 - 2494.8|15 - 3003.6|14484.2 120 36 120.7\n",
      "16 - 1252.6|16 - 2335.8|24 - 2276.2|20 - 3121.2|30 - 2681.2|15 - 3003.6|14670.6 121 36 121.24\n",
      "16 - 1272.6|16 - 2335.8|24 - 2276.2|20 - 3121.2|30 - 2681.2|16 - 3003.6|14690.6 122 36 120.41\n",
      "16 - 1272.6|16 - 2335.8|24 - 2276.2|21 - 3121.2|30 - 2869.4|16 - 3003.6|14878.8 123 72 120.97\n",
      "16 - 1272.6|16 - 2335.8|24 - 2276.2|22 - 3121.2|30 - 2947.4|16 - 3003.6|14956.8 124 72 120.62\n",
      "16 - 1272.6|16 - 2335.8|24 - 2276.2|23 - 3121.2|30 - 3092.6|16 - 3003.6|15102.0 125 72 120.82\n",
      "16 - 1272.6|16 - 2335.8|24 - 2276.2|24 - 3121.2|30 - 3245.6|16 - 3003.6|15255.0 126 72 121.07\n",
      "16 - 1272.6|16 - 2335.8|24 - 2276.2|25 - 3121.2|30 - 3436.8|16 - 3003.6|15446.2 127 72 121.62\n",
      "17 - 1272.6|16 - 2459.8|24 - 2276.2|25 - 3121.2|30 - 3436.8|16 - 3003.6|15570.2 128 72 121.64\n",
      "18 - 1272.6|16 - 2579.4|24 - 2276.2|25 - 3121.2|30 - 3436.8|16 - 3003.6|15689.8 129 72 121.63\n",
      "19 - 1272.6|16 - 2734.4|24 - 2276.2|25 - 3121.2|30 - 3436.8|16 - 3003.6|15844.8 130 72 121.88\n",
      "20 - 1272.6|16 - 2903.8|24 - 2276.2|25 - 3121.2|30 - 3436.8|16 - 3003.6|16014.2 131 72 122.25\n",
      "21 - 1272.6|16 - 3088.2|24 - 2276.2|25 - 3121.2|30 - 3436.8|16 - 3003.6|16198.6 132 72 122.72\n",
      "22 - 1272.6|16 - 3232.2|24 - 2276.2|25 - 3121.2|30 - 3436.8|16 - 3003.6|16342.6 133 72 122.88\n",
      "23 - 1272.6|16 - 3330.0|24 - 2276.2|25 - 3121.2|30 - 3436.8|16 - 3003.6|16440.4 134 72 122.69\n",
      "24 - 1272.6|16 - 3509.2|24 - 2276.2|25 - 3121.2|30 - 3436.8|16 - 3003.6|16619.6 135 72 123.11\n",
      "25 - 1272.6|16 - 3674.2|24 - 2276.2|25 - 3121.2|30 - 3436.8|16 - 3003.6|16784.6 136 72 123.42\n",
      "26 - 1272.6|16 - 3922.6|24 - 2276.2|25 - 3121.2|30 - 3436.8|16 - 3003.6|17033.0 137 72 124.33\n",
      "27 - 1272.6|16 - 3922.6|24 - 2276.2|25 - 3121.2|30 - 3436.8|16 - 3003.6|17033.0 138 72 123.43\n",
      "28 - 1272.6|16 - 3928.4|24 - 2276.2|25 - 3121.2|30 - 3436.8|16 - 3003.6|17038.8 139 432 122.58\n",
      "26 - 1272.6|16 - 3922.6|27 - 2276.2|25 - 3150.0|30 - 3436.8|16 - 3003.6|17061.8 140 2592 121.87\n",
      "27 - 1272.6|16 - 3922.6|27 - 2276.2|25 - 3150.0|30 - 3436.8|16 - 3003.6|17061.8 141 96 121.01\n",
      "27 - 1272.6|16 - 3922.6|28 - 2276.2|25 - 3168.0|30 - 3436.8|16 - 3003.6|17079.8 142 576 120.28\n",
      "27 - 1272.6|16 - 3922.6|29 - 2276.2|25 - 3190.0|30 - 3436.8|16 - 3003.6|17101.8 143 576 119.59\n",
      "27 - 1272.6|16 - 3922.6|30 - 2276.2|25 - 3220.2|30 - 3436.8|16 - 3003.6|17132.0 144 576 118.97\n",
      "28 - 1272.6|16 - 3922.6|30 - 2276.2|25 - 3291.4|30 - 3436.8|16 - 3003.6|17203.2 145 864 118.64\n",
      "29 - 1272.6|16 - 3927.8|30 - 2276.2|25 - 3291.4|30 - 3436.8|16 - 3003.6|17208.4 146 1728 117.87\n",
      "1 iteration with 10368 combinations\n",
      "26 - 1428.4|16 - 3922.6|30 - 2276.2|26 - 3291.4|30 - 3436.8|19 - 3003.6|17359.0 147 10368 118.09\n",
      "27 - 1516.6|16 - 3922.6|30 - 2276.2|25 - 3291.4|30 - 3436.8|20 - 3003.6|17447.2 148 3456 117.89\n",
      "27 - 1640.8|16 - 3922.6|30 - 2276.2|25 - 3291.4|30 - 3436.8|21 - 3003.6|17571.4 149 3456 117.93\n",
      "27 - 1789.6|16 - 3922.6|30 - 2276.2|25 - 3291.4|30 - 3436.8|22 - 3003.6|17720.2 150 1728 118.13\n",
      "27 - 1890.2|16 - 3922.6|30 - 2276.2|25 - 3291.4|30 - 3436.8|23 - 3003.6|17820.8 151 1728 118.02\n",
      "27 - 2079.4|16 - 3922.6|30 - 2276.2|25 - 3291.4|30 - 3436.8|24 - 3003.6|18010.0 152 1728 118.49\n",
      "27 - 2251.8|16 - 3922.6|30 - 2276.2|25 - 3291.4|30 - 3436.8|25 - 3003.6|18182.4 153 1728 118.84\n",
      "27 - 2403.2|16 - 3922.6|30 - 2276.2|25 - 3291.4|30 - 3436.8|26 - 3003.6|18333.8 154 1728 119.05\n",
      "27 - 2403.2|17 - 3922.6|30 - 2354.6|25 - 3291.4|30 - 3436.8|26 - 3003.6|18412.2 155 1728 118.79\n",
      "27 - 2403.2|18 - 3922.6|30 - 2432.6|25 - 3291.4|30 - 3436.8|26 - 3003.6|18490.2 156 1728 118.53\n",
      "27 - 2403.2|19 - 3922.6|30 - 2597.4|25 - 3291.4|30 - 3436.8|26 - 3003.6|18655.0 157 1728 118.82\n",
      "27 - 2403.2|20 - 3922.6|30 - 2645.2|25 - 3291.4|30 - 3436.8|26 - 3003.6|18702.8 158 1728 118.37\n",
      "27 - 2403.2|21 - 3922.6|30 - 2680.4|25 - 3291.4|30 - 3436.8|26 - 3003.6|18738.0 159 1728 117.85\n"
     ]
    }
   ],
   "source": [
    "while len(last_people) > 0:\n",
    "# следущий код находит по {depth} людей, которые меньше всего значат для группы. И их удаляет и добавляет в словарь dict_change_groups, откуда она будут рассортированы\n",
    "    dict_min = {}\n",
    "    for group in range(6):\n",
    "        dict_rel = {}\n",
    "        for i in list_groups[group]:\n",
    "            name, contr = contribution_one_person(i, group + 1, list_groups)\n",
    "            dict_rel[name] = contr\n",
    "        list_min = []\n",
    "        for i in sorted(dict_rel.items(), key=lambda item: item[1])[:depth]:\n",
    "            list_min.append(i[0])\n",
    "        dict_min[group + 1] = list_min\n",
    "        for i in list_min:\n",
    "            list_groups[group].remove(i)\n",
    "# для этих удалённых людей этот код создаёт словарь с возможными их переходами в другие группы.\n",
    "    dict_change_groups = {}\n",
    "    for key, value in dict_min.items():\n",
    "        for i in value:\n",
    "            dict_change_groups[i] = allowed_groups(key, i, coeff_min)\n",
    "# а этот даёт новому человеку все 6 групп как возможные.\n",
    "    free = last_people.pop()\n",
    "    dict_change_groups[free] = list(range(1, 7))\n",
    "# этот находит новую комбинацию. Далее собираются значения и выводятся на экран.\n",
    "    new_list_groups, n_comb = copy.deepcopy(best_combination(dict_change_groups, copy.deepcopy(list_groups)))\n",
    "    all_sum, pop = sum_all_groups(list_groups = new_list_groups)\n",
    "    list_groups = copy.deepcopy(new_list_groups)\n",
    "    \n",
    "    for j, i in enumerate(list_groups):\n",
    "        print(f\"{len(i)} - {round(sum_relation(j, list_groups), 2)}|\", end = '')\n",
    "    print(f'{round(all_sum, 1)} {pop} {n_comb} {round(all_sum / pop, 2)}')  "
   ]
  },
  {
   "cell_type": "code",
   "execution_count": 100,
   "metadata": {},
   "outputs": [
    {
     "name": "stdout",
     "output_type": "stream",
     "text": [
      "29\n",
      "30\n",
      "23\n",
      "30\n",
      "30\n",
      "17\n"
     ]
    }
   ],
   "source": [
    "for i in list_groups:\n",
    "    print(len(i))"
   ]
  },
  {
   "cell_type": "code",
   "execution_count": null,
   "metadata": {},
   "outputs": [],
   "source": [
    "# далее я сохраняю список. И также выгружаю list_groups, т.е. готовый файл в .xlsx"
   ]
  },
  {
   "cell_type": "code",
   "execution_count": 74,
   "metadata": {},
   "outputs": [],
   "source": [
    "with open('list_groupsRazval.txt', 'w') as f:\n",
    "    f.write(str(list_groups))"
   ]
  },
  {
   "cell_type": "code",
   "execution_count": 132,
   "metadata": {},
   "outputs": [],
   "source": [
    "excel_groups = pd.DataFrame({'num':range(1, 31)})"
   ]
  },
  {
   "cell_type": "code",
   "execution_count": 133,
   "metadata": {},
   "outputs": [],
   "source": [
    "for num, i in enumerate(list_groups):\n",
    "    excel_groups[f'{num + 1} group'] = pd.Series(i)"
   ]
  },
  {
   "cell_type": "code",
   "execution_count": null,
   "metadata": {},
   "outputs": [],
   "source": []
  },
  {
   "cell_type": "code",
   "execution_count": 134,
   "metadata": {},
   "outputs": [],
   "source": [
    "excel_groups.to_excel('Razval3.xlsx', index=None)"
   ]
  },
  {
   "cell_type": "code",
   "execution_count": null,
   "metadata": {},
   "outputs": [],
   "source": []
  }
 ],
 "metadata": {
  "kernelspec": {
   "display_name": "Python 3",
   "language": "python",
   "name": "python3"
  },
  "language_info": {
   "codemirror_mode": {
    "name": "ipython",
    "version": 3
   },
   "file_extension": ".py",
   "mimetype": "text/x-python",
   "name": "python",
   "nbconvert_exporter": "python",
   "pygments_lexer": "ipython3",
   "version": "3.7.4"
  }
 },
 "nbformat": 4,
 "nbformat_minor": 4
}
