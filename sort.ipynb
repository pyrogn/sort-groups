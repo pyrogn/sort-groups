{
 "cells": [
  {
   "cell_type": "code",
   "execution_count": 3,
   "metadata": {},
   "outputs": [],
   "source": [
    "import random\n",
    "import os\n",
    "import pandas as pd\n",
    "import numpy as np\n",
    "import copy\n",
    "import operator"
   ]
  },
  {
   "cell_type": "code",
   "execution_count": null,
   "metadata": {},
   "outputs": [],
   "source": []
  },
  {
   "cell_type": "code",
   "execution_count": 4,
   "metadata": {},
   "outputs": [],
   "source": [
    "with open('full_dict_relations.txt', 'r') as f:\n",
    "    full_dict_relations = eval(f.read())"
   ]
  },
  {
   "cell_type": "code",
   "execution_count": 43,
   "metadata": {},
   "outputs": [],
   "source": [
    "# reset\n",
    "list_groups = [[],[],[],[],[],[]]\n",
    "last_people_base = list(full_dict_relations.keys())\n",
    "last_people = list(full_dict_relations.keys())"
   ]
  },
  {
   "cell_type": "code",
   "execution_count": null,
   "metadata": {},
   "outputs": [],
   "source": []
  },
  {
   "cell_type": "code",
   "execution_count": 6,
   "metadata": {},
   "outputs": [],
   "source": [
    "# принимает номер группы, список групп. remove отвечает за удаление выбранного человека из данного списка групп. Возвращает имя этого человека\n",
    "def best_person(group, last_people, remove = True):\n",
    "    mid_dict = {}\n",
    "    for i in last_people:\n",
    "        sum_1_to_others = 0\n",
    "        for j in list_groups[group - 1]:\n",
    "            try:\n",
    "                sum_1_to_others += full_dict_relations[i][j]\n",
    "            except:\n",
    "                pass\n",
    "            try:\n",
    "                sum_1_to_others += full_dict_relations[j][i]\n",
    "            except:\n",
    "                pass\n",
    "        mid_dict[i] = sum_1_to_others\n",
    "    sorted_dict = {k: v for k, v in sorted(mid_dict.items(), key=lambda item: item[1], reverse = True)}\n",
    "    a = list(sorted_dict.keys())[0]\n",
    "    if remove:\n",
    "        last_people.remove(a)\n",
    "    return a"
   ]
  },
  {
   "cell_type": "code",
   "execution_count": 7,
   "metadata": {},
   "outputs": [],
   "source": [
    "# получает номер группы, возвращает сумму всех отношений\n",
    "def sum_relation(group, list_groups):\n",
    "    all_sum = 0\n",
    "    for i in list_groups[group - 1]:\n",
    "        for j in list_groups[group - 1]:\n",
    "            try:\n",
    "                all_sum += full_dict_relations[i][j]\n",
    "            except:\n",
    "                pass\n",
    "            try:\n",
    "                all_sum += full_dict_relations[j][i]\n",
    "            except:\n",
    "                pass\n",
    "    return all_sum"
   ]
  },
  {
   "cell_type": "code",
   "execution_count": 8,
   "metadata": {},
   "outputs": [],
   "source": [
    "# получает список групп, возвращает общую сумму и численность всех групп в сумме как tuple()\n",
    "def sum_all_groups(list_groups):\n",
    "    all_sum = 0\n",
    "    population = 0\n",
    "    for i in range(1, 7):\n",
    "        population += len(list_groups[i - 1])\n",
    "        all_sum += sum_relation(i, list_groups)\n",
    "    return all_sum, population"
   ]
  },
  {
   "cell_type": "code",
   "execution_count": 9,
   "metadata": {},
   "outputs": [],
   "source": [
    "# получает ключ человека в словаре отношений и номер группы.\n",
    "# возвращает человека и его вклад в группу.\n",
    "def contribution_one_person(person, num_group, list_groups):\n",
    "    sum_contr = 0\n",
    "    for i in list_groups[num_group - 1]:\n",
    "        try:\n",
    "            sum_contr += full_dict_relations[person][i]\n",
    "        except:\n",
    "            pass\n",
    "        try:\n",
    "            sum_contr += full_dict_relations[i][person]\n",
    "        except:\n",
    "            pass\n",
    "    return (person, sum_contr)"
   ]
  },
  {
   "cell_type": "code",
   "execution_count": null,
   "metadata": {},
   "outputs": [],
   "source": []
  },
  {
   "cell_type": "code",
   "execution_count": 646,
   "metadata": {},
   "outputs": [],
   "source": [
    "# найти шесть лучших пятнадцаток.\n",
    "# 6 групп, которые заполнены по 15 человек с максимальными суммами"
   ]
  },
  {
   "cell_type": "code",
   "execution_count": 44,
   "metadata": {},
   "outputs": [],
   "source": [
    "for i in range(6):\n",
    "    dict_10_groups = {}\n",
    "    last_10_people = {}\n",
    "    for k in last_people_base[:]:     \n",
    "        list_groups[i] = []\n",
    "        last_people = last_people_base[:]\n",
    "        list_groups[i].append(k)\n",
    "        last_people.remove(k)\n",
    "        for j in range(14):  # если 14, тогда будет по 15 человек в группах.\n",
    "            list_groups[i].append(best_person(i + 1, last_people, remove = True))\n",
    "        a = sum_relation(i + 1, list_groups = list_groups)\n",
    "        last_10_people[a] = last_people\n",
    "        dict_10_groups[a] = list_groups[i]\n",
    "    list_groups[i] = dict_10_groups[max(dict_10_groups)]\n",
    "    last_people = last_10_people[max(dict_10_groups)]\n",
    "    for people in list_groups[i]:\n",
    "        last_people_base.remove(people)"
   ]
  },
  {
   "cell_type": "code",
   "execution_count": 45,
   "metadata": {},
   "outputs": [
    {
     "data": {
      "text/plain": [
       "(2648.0, 90)"
      ]
     },
     "execution_count": 45,
     "metadata": {},
     "output_type": "execute_result"
    }
   ],
   "source": [
    "#здесь можно проверить общую сумму, численность и оставшихся людей\n",
    "sum_all_groups(list_groups = list_groups)"
   ]
  },
  {
   "cell_type": "code",
   "execution_count": 46,
   "metadata": {},
   "outputs": [
    {
     "data": {
      "text/plain": [
       "84"
      ]
     },
     "execution_count": 46,
     "metadata": {},
     "output_type": "execute_result"
    }
   ],
   "source": [
    "len(last_people)"
   ]
  },
  {
   "cell_type": "code",
   "execution_count": 5,
   "metadata": {},
   "outputs": [],
   "source": [
    "# их заполнить с перетасовкой"
   ]
  },
  {
   "cell_type": "code",
   "execution_count": 13,
   "metadata": {},
   "outputs": [],
   "source": [
    "# дать группу человека, его имя и коэф для тюна. Возвращает список рациональных переходов для этого человека.\n",
    "def allowed_groups(group, name, coeff_min):\n",
    "    _, current_contr = contribution_one_person(name, group, list_groups)\n",
    "    minim_contrib = current_contr / coeff_min\n",
    "    list_allowed_groups = []\n",
    "    for i in range(6):\n",
    "        _, contr = contribution_one_person(name, i + 1, list_groups)\n",
    "        if contr > minim_contrib or current_contr == 0:\n",
    "            list_allowed_groups.append(i + 1)\n",
    "    if group not in list_allowed_groups:\n",
    "        list_allowed_groups.append(group)\n",
    "    return list_allowed_groups"
   ]
  },
  {
   "cell_type": "code",
   "execution_count": 14,
   "metadata": {},
   "outputs": [],
   "source": [
    "# дать словарь возможных комбинаций. Возвращает количество комбинаций.\n",
    "def num_comb(dictionary):\n",
    "    list_comb = []\n",
    "    n_comb = 1\n",
    "    for key, value in dictionary.items():\n",
    "        n_comb = n_comb * len(value)\n",
    "    return n_comb"
   ]
  },
  {
   "cell_type": "code",
   "execution_count": 24,
   "metadata": {},
   "outputs": [],
   "source": [
    "# чтобы комп не сломался на 300000 комбинациях:\n",
    "# дать словарь с возможными комбинациями и список групп. Он выдаст новую комбинацию в виде нового списка групп.\n",
    "def best_combination(dictionary, groups):\n",
    "    n_comb = num_comb(dictionary)\n",
    "    dict_comb = {}\n",
    "    help_dict = {}\n",
    "    new_comb = n_comb\n",
    "    for key, value in dictionary.items():\n",
    "        if len(value) > 1:\n",
    "            new_comb = int(new_comb / len(value))\n",
    "            help_dict[key] = new_comb\n",
    "# очень интересная математическая штука.        \n",
    "    for i in range(n_comb):\n",
    "        ground_list_groups = copy.deepcopy(groups)\n",
    "        for key, value in dictionary.items():\n",
    "            if len(value) > 1:\n",
    "                number = (i // help_dict[key]) % len(value)\n",
    "                value_num = value[number]\n",
    "                ground_list_groups[value_num - 1].append(key)\n",
    "            else:\n",
    "                ground_list_groups[value[0] - 1].append(key)\n",
    "        sum_gr, _ = sum_all_groups(ground_list_groups)\n",
    "        dict_comb[str(ground_list_groups)] = sum_gr\n",
    "        if (i + 1) % 10000 == 0:\n",
    "            print(f'{(i + 1) // 10000} iteration with {n_comb} combinations')\n",
    "            dict_comb = strip_max(dict_comb)\n",
    "            left_n_max(dict_comb, 1)\n",
    "# если ключом оставлять сумму, тогда могут быть перезатирания, поэтому ключ - длинный список списков.\n",
    "    dict_comb = strip_max(dict_comb)\n",
    "    return eval(max(dict_comb, key=dict_comb.get)), n_comb"
   ]
  },
  {
   "cell_type": "code",
   "execution_count": 34,
   "metadata": {},
   "outputs": [],
   "source": [
    "# удаляет все значения, где число людей в групп > 30.\n",
    "def strip_max(dictionary):\n",
    "    dict1 = copy.deepcopy(dictionary)\n",
    "    for key, values in dictionary.items():\n",
    "        for i in eval(key):\n",
    "            if len(i) > 30:\n",
    "                try:\n",
    "                    del dict1[key]\n",
    "                except:\n",
    "                    pass\n",
    "    return dict1"
   ]
  },
  {
   "cell_type": "code",
   "execution_count": 33,
   "metadata": {},
   "outputs": [],
   "source": [
    "# оставляет в словаре n значений с наивысшими значениями\n",
    "def left_n_max(d, n):\n",
    "    for _ in range(len(d) - n):\n",
    "        min_key = min(d.keys(), key=lambda k: d[k])\n",
    "        del d[min_key]"
   ]
  },
  {
   "cell_type": "code",
   "execution_count": 36,
   "metadata": {},
   "outputs": [],
   "source": [
    "# неактивен\n",
    "def reorder(dict_min, list_groups, depth, coeff_min):\n",
    "    for key, value in dict_min.items():\n",
    "        for j in value:\n",
    "            list_groups[key - 1].append(j)\n",
    "    if depth > 1:\n",
    "        depth = depth - 1\n",
    "    else:\n",
    "        coeff_min = coeff_min * 0.8\n",
    "    dict_min = {}\n",
    "    for group in range(6):\n",
    "        dict_rel = {}\n",
    "        for i in list_groups[group]:\n",
    "            name, contr = contribution_one_person(i, group + 1, list_groups)\n",
    "            dict_rel[name] = contr\n",
    "        list_min = []\n",
    "        for i in sorted(dict_rel.items(), key=lambda item: item[1])[:depth]:\n",
    "            list_min.append(i[0])\n",
    "        dict_min[group + 1] = list_min\n",
    "        for i in list_min:\n",
    "            list_groups[group].remove(i)\n",
    "    dict_change_groups = {}\n",
    "    for key, value in dict_min.items():\n",
    "        for i in value:\n",
    "            dict_change_groups[i] = allowed_groups(key, i, coeff_min)\n",
    "    dict_change_groups[free] = list(range(1, 7))\n",
    "    return dict_change_groups"
   ]
  },
  {
   "cell_type": "code",
   "execution_count": 19,
   "metadata": {},
   "outputs": [],
   "source": []
  },
  {
   "cell_type": "code",
   "execution_count": null,
   "metadata": {},
   "outputs": [],
   "source": [
    "# пытался это прикрутить, чтобы группы заполнялись более равномерно, но это вызывает ошибки почему-то.\n",
    "# max([len(x) for x in i]) - min([len(x) for x in i]) > 5"
   ]
  },
  {
   "cell_type": "code",
   "execution_count": 256,
   "metadata": {},
   "outputs": [],
   "source": []
  },
  {
   "cell_type": "code",
   "execution_count": null,
   "metadata": {},
   "outputs": [],
   "source": []
  },
  {
   "cell_type": "code",
   "execution_count": null,
   "metadata": {},
   "outputs": [],
   "source": []
  },
  {
   "cell_type": "code",
   "execution_count": 600,
   "metadata": {},
   "outputs": [],
   "source": []
  },
  {
   "cell_type": "code",
   "execution_count": 42,
   "metadata": {},
   "outputs": [],
   "source": [
    "# depth - сколько мы забираем людей из каждой группы при каждой итерации\n",
    "# coeff_min - насколько мы готовы уменшить вклад человека в группу, чтобы посчитать его переход в другую группу хоть частично разумным\n",
    "depth = 2\n",
    "coeff_min = 1\n",
    "# n_group_for_free = 2 # использовал для того, чтобы свободному человеку давать не все, а три лучшие группы и первую минимальную.\n",
    "# но тоже вылетали ошибки почему-то. Но это помогло бы уменьшить время перебора."
   ]
  },
  {
   "cell_type": "code",
   "execution_count": null,
   "metadata": {},
   "outputs": [],
   "source": [
    "# делаю излишние копии, потому что у меня уже сдвиг на связанных списках."
   ]
  },
  {
   "cell_type": "code",
   "execution_count": 47,
   "metadata": {},
   "outputs": [
    {
     "name": "stdout",
     "output_type": "stream",
     "text": [
      "15 - 419.0|15 - 450.0|16 - 449.0|15 - 449.0|15 - 444.0|15 - 439.0|2650.0 91 6 29.12087912087912\n",
      "15 - 419.0|15 - 450.0|17 - 449.0|15 - 453.0|15 - 444.0|15 - 439.0|2654.0 92 6 28.847826086956523\n",
      "15 - 419.0|15 - 450.0|18 - 449.0|15 - 459.0|15 - 444.0|15 - 439.0|2660.0 93 6 28.602150537634408\n",
      "15 - 419.0|15 - 450.0|19 - 449.0|15 - 467.0|15 - 444.0|15 - 439.0|2668.0 94 6 28.382978723404257\n",
      "15 - 419.0|15 - 450.0|20 - 449.0|15 - 496.0|15 - 444.0|15 - 439.0|2697.0 95 6 28.389473684210525\n",
      "15 - 419.0|15 - 450.0|21 - 449.0|15 - 518.0|15 - 444.0|15 - 439.0|2719.0 96 6 28.322916666666668\n",
      "15 - 419.0|15 - 450.0|22 - 449.0|15 - 532.0|15 - 444.0|15 - 439.0|2733.0 97 6 28.175257731958762\n",
      "15 - 419.0|15 - 450.0|23 - 449.0|15 - 553.0|15 - 444.0|15 - 439.0|2754.0 98 6 28.102040816326532\n",
      "15 - 419.0|15 - 450.0|24 - 449.0|15 - 576.0|15 - 444.0|15 - 439.0|2777.0 99 6 28.050505050505052\n",
      "15 - 419.0|15 - 450.0|25 - 449.0|15 - 596.0|15 - 444.0|15 - 439.0|2797.0 100 6 27.97\n",
      "15 - 419.0|15 - 450.0|26 - 449.0|15 - 637.0|15 - 444.0|15 - 439.0|2838.0 101 6 28.099009900990097\n",
      "15 - 419.0|15 - 450.0|27 - 449.0|15 - 680.0|15 - 444.0|15 - 439.0|2881.0 102 6 28.245098039215687\n",
      "15 - 419.0|15 - 450.0|28 - 449.0|15 - 716.0|15 - 444.0|15 - 439.0|2917.0 103 6 28.320388349514563\n",
      "15 - 419.0|15 - 450.0|29 - 449.0|15 - 793.0|15 - 444.0|15 - 439.0|2994.0 104 6 28.78846153846154\n",
      "15 - 419.0|15 - 450.0|30 - 449.0|15 - 833.0|15 - 444.0|15 - 439.0|3034.0 105 6 28.895238095238096\n",
      "16 - 419.0|15 - 450.0|30 - 449.0|15 - 833.0|15 - 444.0|15 - 439.0|3034.0 106 6 28.62264150943396\n",
      "15 - 419.0|15 - 450.0|30 - 449.0|17 - 833.0|15 - 453.0|15 - 439.0|3043.0 107 36 28.439252336448597\n",
      "15 - 419.0|15 - 450.0|30 - 449.0|18 - 833.0|15 - 456.0|15 - 439.0|3046.0 108 72 28.203703703703702\n",
      "15 - 419.0|15 - 450.0|30 - 449.0|19 - 833.0|15 - 465.0|15 - 439.0|3055.0 109 24 28.027522935779817\n",
      "15 - 419.0|15 - 450.0|30 - 449.0|20 - 833.0|15 - 472.0|15 - 439.0|3062.0 110 24 27.836363636363636\n",
      "15 - 419.0|15 - 450.0|30 - 449.0|21 - 833.0|15 - 481.0|15 - 439.0|3071.0 111 24 27.666666666666668\n",
      "15 - 419.0|15 - 450.0|30 - 449.0|22 - 833.0|15 - 492.0|15 - 439.0|3082.0 112 24 27.517857142857142\n",
      "15 - 419.0|15 - 450.0|30 - 449.0|23 - 833.0|15 - 515.0|15 - 439.0|3105.0 113 24 27.47787610619469\n",
      "15 - 419.0|15 - 450.0|30 - 449.0|24 - 833.0|15 - 535.0|15 - 439.0|3125.0 114 24 27.412280701754387\n",
      "15 - 419.0|15 - 450.0|30 - 449.0|25 - 833.0|15 - 537.0|15 - 439.0|3127.0 115 24 27.191304347826087\n",
      "16 - 419.0|15 - 454.0|30 - 449.0|25 - 833.0|15 - 537.0|15 - 439.0|3131.0 116 24 26.99137931034483\n",
      "16 - 419.0|15 - 454.0|30 - 449.0|26 - 833.0|15 - 561.0|15 - 439.0|3155.0 117 48 26.965811965811966\n",
      "16 - 419.0|15 - 454.0|30 - 449.0|27 - 833.0|15 - 567.0|15 - 439.0|3161.0 118 48 26.78813559322034\n",
      "16 - 420.0|15 - 454.0|30 - 449.0|27 - 833.0|15 - 567.0|16 - 439.0|3162.0 119 48 26.571428571428573\n",
      "16 - 420.0|15 - 454.0|30 - 449.0|28 - 833.0|15 - 587.0|16 - 439.0|3182.0 120 96 26.516666666666666\n",
      "15 - 420.0|15 - 450.0|30 - 449.0|30 - 833.0|15 - 607.0|16 - 439.0|3198.0 121 144 26.429752066115704\n",
      "15 - 423.0|15 - 450.0|30 - 449.0|30 - 833.0|15 - 607.0|17 - 439.0|3201.0 122 48 26.237704918032787\n",
      "15 - 428.0|15 - 450.0|30 - 449.0|30 - 833.0|15 - 607.0|18 - 439.0|3206.0 123 144 26.065040650406505\n",
      "15 - 432.0|15 - 450.0|30 - 449.0|30 - 833.0|15 - 607.0|19 - 439.0|3210.0 124 144 25.887096774193548\n",
      "15 - 478.0|15 - 450.0|30 - 449.0|30 - 833.0|15 - 619.0|20 - 439.0|3268.0 125 324 26.144\n",
      "15 - 518.0|15 - 450.0|30 - 449.0|30 - 833.0|15 - 619.0|21 - 439.0|3308.0 126 144 26.253968253968253\n",
      "15 - 555.0|15 - 450.0|30 - 449.0|30 - 833.0|15 - 619.0|22 - 439.0|3345.0 127 144 26.338582677165356\n",
      "15 - 594.0|15 - 450.0|30 - 449.0|30 - 833.0|15 - 619.0|23 - 439.0|3384.0 128 144 26.4375\n",
      "15 - 645.0|15 - 450.0|30 - 449.0|30 - 833.0|15 - 619.0|24 - 439.0|3435.0 129 144 26.627906976744185\n",
      "15 - 693.0|15 - 450.0|30 - 449.0|30 - 833.0|15 - 619.0|25 - 439.0|3483.0 130 144 26.79230769230769\n",
      "15 - 746.0|15 - 450.0|30 - 449.0|30 - 833.0|15 - 619.0|26 - 439.0|3536.0 131 144 26.99236641221374\n",
      "15 - 826.0|15 - 450.0|30 - 449.0|30 - 833.0|15 - 619.0|27 - 439.0|3616.0 132 144 27.393939393939394\n",
      "15 - 894.0|15 - 450.0|30 - 449.0|30 - 833.0|15 - 619.0|28 - 439.0|3684.0 133 144 27.69924812030075\n",
      "15 - 959.0|15 - 450.0|30 - 449.0|30 - 833.0|15 - 619.0|29 - 439.0|3749.0 134 144 27.97761194029851\n",
      "15 - 959.0|15 - 450.0|30 - 449.0|30 - 833.0|16 - 619.0|29 - 479.0|3789.0 135 144 28.066666666666666\n",
      "15 - 959.0|15 - 450.0|30 - 449.0|30 - 833.0|17 - 619.0|29 - 535.0|3845.0 136 144 28.272058823529413\n",
      "15 - 959.0|15 - 450.0|30 - 449.0|30 - 833.0|18 - 619.0|29 - 579.0|3889.0 137 144 28.386861313868614\n",
      "15 - 959.0|15 - 450.0|30 - 449.0|30 - 833.0|19 - 619.0|29 - 620.0|3930.0 138 144 28.47826086956522\n",
      "15 - 959.0|15 - 450.0|30 - 449.0|30 - 833.0|20 - 619.0|29 - 658.0|3968.0 139 144 28.546762589928058\n",
      "15 - 959.0|15 - 450.0|30 - 449.0|30 - 833.0|21 - 619.0|29 - 702.0|4012.0 140 144 28.65714285714286\n",
      "15 - 959.0|15 - 450.0|30 - 449.0|30 - 833.0|22 - 619.0|29 - 744.0|4054.0 141 144 28.75177304964539\n",
      "15 - 959.0|15 - 450.0|30 - 449.0|30 - 833.0|23 - 619.0|29 - 817.0|4127.0 142 144 29.06338028169014\n",
      "15 - 959.0|15 - 450.0|30 - 449.0|30 - 833.0|24 - 619.0|29 - 863.0|4173.0 143 144 29.181818181818183\n",
      "15 - 959.0|15 - 450.0|30 - 449.0|30 - 833.0|25 - 619.0|29 - 926.0|4236.0 144 144 29.416666666666668\n",
      "15 - 959.0|16 - 450.0|30 - 483.0|30 - 833.0|25 - 619.0|29 - 926.0|4270.0 145 144 29.448275862068964\n",
      "15 - 959.0|17 - 450.0|30 - 514.0|30 - 833.0|25 - 619.0|29 - 926.0|4301.0 146 144 29.458904109589042\n",
      "15 - 959.0|18 - 450.0|30 - 552.0|30 - 833.0|25 - 619.0|29 - 926.0|4339.0 147 144 29.517006802721088\n",
      "15 - 959.0|19 - 450.0|30 - 574.0|30 - 833.0|25 - 619.0|29 - 926.0|4361.0 148 144 29.466216216216218\n",
      "15 - 959.0|20 - 450.0|30 - 610.0|30 - 833.0|25 - 619.0|29 - 926.0|4397.0 149 144 29.51006711409396\n",
      "15 - 959.0|21 - 450.0|30 - 645.0|30 - 833.0|25 - 619.0|29 - 926.0|4432.0 150 144 29.546666666666667\n",
      "15 - 959.0|22 - 450.0|30 - 668.0|30 - 833.0|25 - 619.0|29 - 926.0|4455.0 151 144 29.503311258278146\n",
      "15 - 959.0|23 - 450.0|30 - 713.0|30 - 833.0|25 - 619.0|29 - 926.0|4500.0 152 144 29.605263157894736\n",
      "15 - 959.0|24 - 450.0|30 - 743.0|30 - 833.0|25 - 619.0|29 - 926.0|4530.0 153 144 29.607843137254903\n",
      "15 - 959.0|25 - 450.0|30 - 796.0|30 - 833.0|25 - 619.0|29 - 926.0|4583.0 154 144 29.75974025974026\n",
      "15 - 967.0|25 - 450.0|30 - 796.0|30 - 833.0|25 - 619.0|30 - 926.0|4591.0 155 144 29.61935483870968\n",
      "15 - 967.0|25 - 450.0|30 - 796.0|30 - 833.0|26 - 619.0|30 - 926.0|4591.0 156 144 29.42948717948718\n",
      "15 - 967.0|25 - 450.0|30 - 796.0|30 - 833.0|27 - 619.0|30 - 928.0|4593.0 157 864 29.254777070063696\n",
      "15 - 967.0|25 - 450.0|30 - 796.0|30 - 833.0|28 - 619.0|30 - 932.0|4597.0 158 5184 29.09493670886076\n",
      "15 - 967.0|25 - 450.0|30 - 796.0|30 - 833.0|29 - 619.0|30 - 957.0|4622.0 159 864 29.069182389937108\n",
      "15 - 967.0|25 - 450.0|30 - 796.0|30 - 833.0|30 - 619.0|30 - 984.0|4649.0 160 864 29.05625\n",
      "16 - 967.0|25 - 450.0|30 - 796.0|30 - 833.0|30 - 619.0|30 - 984.0|4649.0 161 864 28.875776397515526\n",
      "17 - 967.0|25 - 452.0|30 - 796.0|30 - 833.0|30 - 619.0|30 - 984.0|4651.0 162 5184 28.709876543209877\n",
      "1 iteration with 31104 combinations\n",
      "2 iteration with 31104 combinations\n",
      "3 iteration with 31104 combinations\n",
      "18 - 967.0|25 - 451.0|30 - 796.0|30 - 833.0|30 - 619.0|30 - 984.0|4650.0 163 31104 28.52760736196319\n",
      "1 iteration with 20736 combinations\n",
      "2 iteration with 20736 combinations\n",
      "19 - 967.0|25 - 461.0|30 - 796.0|30 - 833.0|30 - 619.0|30 - 984.0|4660.0 164 20736 28.414634146341463\n",
      "1 iteration with 20736 combinations\n",
      "2 iteration with 20736 combinations\n",
      "20 - 967.0|25 - 495.0|30 - 796.0|30 - 833.0|30 - 619.0|30 - 984.0|4694.0 165 20736 28.44848484848485\n",
      "1 iteration with 20736 combinations\n",
      "2 iteration with 20736 combinations\n",
      "21 - 967.0|25 - 531.0|30 - 796.0|30 - 833.0|30 - 619.0|30 - 984.0|4730.0 166 20736 28.49397590361446\n",
      "1 iteration with 20736 combinations\n",
      "2 iteration with 20736 combinations\n",
      "22 - 967.0|25 - 569.0|30 - 796.0|30 - 833.0|30 - 619.0|30 - 984.0|4768.0 167 20736 28.550898203592816\n",
      "1 iteration with 20736 combinations\n",
      "2 iteration with 20736 combinations\n",
      "23 - 967.0|25 - 614.0|30 - 796.0|30 - 833.0|30 - 619.0|30 - 984.0|4813.0 168 20736 28.648809523809526\n",
      "1 iteration with 20736 combinations\n"
     ]
    },
    {
     "name": "stdout",
     "output_type": "stream",
     "text": [
      "2 iteration with 20736 combinations\n",
      "24 - 967.0|25 - 650.0|30 - 796.0|30 - 833.0|30 - 619.0|30 - 984.0|4849.0 169 20736 28.692307692307693\n",
      "1 iteration with 20736 combinations\n",
      "2 iteration with 20736 combinations\n",
      "25 - 967.0|25 - 704.0|30 - 796.0|30 - 833.0|30 - 619.0|30 - 984.0|4903.0 170 20736 28.841176470588234\n",
      "1 iteration with 20736 combinations\n",
      "2 iteration with 20736 combinations\n",
      "26 - 967.0|25 - 754.0|30 - 796.0|30 - 833.0|30 - 619.0|30 - 984.0|4953.0 171 20736 28.964912280701753\n",
      "1 iteration with 20736 combinations\n",
      "2 iteration with 20736 combinations\n",
      "27 - 967.0|25 - 797.0|30 - 796.0|30 - 833.0|30 - 619.0|30 - 984.0|4996.0 172 20736 29.046511627906977\n",
      "1 iteration with 20736 combinations\n",
      "2 iteration with 20736 combinations\n",
      "28 - 967.0|25 - 831.0|30 - 796.0|30 - 833.0|30 - 619.0|30 - 984.0|5030.0 173 20736 29.07514450867052\n",
      "1 iteration with 20736 combinations\n",
      "2 iteration with 20736 combinations\n",
      "29 - 967.0|25 - 883.0|30 - 796.0|30 - 833.0|30 - 619.0|30 - 984.0|5082.0 174 20736 29.20689655172414\n"
     ]
    }
   ],
   "source": [
    "while len(last_people) > 0:\n",
    "# следущий код находит по {depth} людей, которые меньше всего значат для группы. И их удаляет.\n",
    "    dict_min = {}\n",
    "    for group in range(6):\n",
    "        dict_rel = {}\n",
    "        for i in list_groups[group]:\n",
    "            name, contr = contribution_one_person(i, group + 1, list_groups)\n",
    "            dict_rel[name] = contr\n",
    "        list_min = []\n",
    "        for i in sorted(dict_rel.items(), key=lambda item: item[1])[:depth]:\n",
    "            list_min.append(i[0])\n",
    "        dict_min[group + 1] = list_min\n",
    "        for i in list_min:\n",
    "            list_groups[group].remove(i)\n",
    "# для этих удалённых людей этот код создаёт словарь с возможными их переходами в другие группы.\n",
    "    dict_change_groups = {}\n",
    "    for key, value in dict_min.items():\n",
    "        for i in value:\n",
    "            dict_change_groups[i] = allowed_groups(key, i, coeff_min)\n",
    "# а этот даёт новому человеку все 6 групп как возможные.\n",
    "    free = last_people.pop()\n",
    "    dict_change_groups[free] = list(range(1, 7))\n",
    "# этот находит новую комбинацию. Далее собираются значения и выводятся на экран.\n",
    "    new_list_groups, n_comb = copy.deepcopy(best_combination(dict_change_groups, copy.deepcopy(list_groups)))\n",
    "    all_sum, pop = sum_all_groups(list_groups = new_list_groups)\n",
    "    list_groups = copy.deepcopy(new_list_groups)\n",
    "    \n",
    "    for j, i in enumerate(list_groups):\n",
    "        print(f\"{len(i)} - {sum_relation(j, list_groups)}|\", end = '')\n",
    "    print(f'{all_sum} {pop} {n_comb} {all_sum / pop}')  "
   ]
  },
  {
   "cell_type": "code",
   "execution_count": 37,
   "metadata": {},
   "outputs": [
    {
     "name": "stdout",
     "output_type": "stream",
     "text": [
      "30\n",
      "30\n",
      "29\n",
      "30\n",
      "30\n",
      "25\n"
     ]
    }
   ],
   "source": [
    "for i in list_groups:\n",
    "    print(len(i))"
   ]
  },
  {
   "cell_type": "code",
   "execution_count": 38,
   "metadata": {},
   "outputs": [],
   "source": [
    "with open('list_groups2.txt', 'w') as f:\n",
    "    f.write(str(list_groups))"
   ]
  },
  {
   "cell_type": "code",
   "execution_count": 39,
   "metadata": {},
   "outputs": [],
   "source": [
    "excel_groups = pd.DataFrame({'num':range(1, 31)})"
   ]
  },
  {
   "cell_type": "code",
   "execution_count": 40,
   "metadata": {},
   "outputs": [],
   "source": [
    "for num, i in enumerate(list_groups):\n",
    "    excel_groups[f'{num + 1} group'] = pd.Series(i)"
   ]
  },
  {
   "cell_type": "code",
   "execution_count": null,
   "metadata": {},
   "outputs": [],
   "source": []
  },
  {
   "cell_type": "code",
   "execution_count": 41,
   "metadata": {},
   "outputs": [],
   "source": [
    "excel_groups.to_excel('gen2solution.xlsx', index=None)"
   ]
  },
  {
   "cell_type": "code",
   "execution_count": null,
   "metadata": {},
   "outputs": [],
   "source": []
  }
 ],
 "metadata": {
  "kernelspec": {
   "display_name": "Python 3",
   "language": "python",
   "name": "python3"
  },
  "language_info": {
   "codemirror_mode": {
    "name": "ipython",
    "version": 3
   },
   "file_extension": ".py",
   "mimetype": "text/x-python",
   "name": "python",
   "nbconvert_exporter": "python",
   "pygments_lexer": "ipython3",
   "version": "3.7.4"
  }
 },
 "nbformat": 4,
 "nbformat_minor": 4
}
