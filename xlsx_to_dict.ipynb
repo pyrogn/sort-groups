{
 "cells": [
  {
   "cell_type": "code",
   "execution_count": 3,
   "metadata": {},
   "outputs": [],
   "source": [
    "import random\n",
    "import os\n",
    "import pandas as pd\n",
    "import numpy as np\n",
    "import copy\n",
    "import operator"
   ]
  },
  {
   "cell_type": "code",
   "execution_count": null,
   "metadata": {},
   "outputs": [],
   "source": [
    "# данный код из таблицы создаёт словарь отношений, который далее используется для сортировки.\n",
    "# Я торопился, поэтому здесь не очень красивый код."
   ]
  },
  {
   "cell_type": "code",
   "execution_count": 995,
   "metadata": {},
   "outputs": [],
   "source": [
    "data = pd.read_excel(r'C:\\Users\\Professional\\Downloads\\final.xlsx')"
   ]
  },
  {
   "cell_type": "code",
   "execution_count": 835,
   "metadata": {},
   "outputs": [],
   "source": [
    "# data.drop('Отметка времени', inplace = True, axis=1)"
   ]
  },
  {
   "cell_type": "code",
   "execution_count": 836,
   "metadata": {},
   "outputs": [],
   "source": [
    "# далее я привожу данные в удобный для обработки вид."
   ]
  },
  {
   "cell_type": "code",
   "execution_count": 996,
   "metadata": {},
   "outputs": [],
   "source": [
    "list_names = []\n",
    "for i in data.iloc[:, 1]:\n",
    "    if len(i.split()) == 2:\n",
    "        list_names.append(i)\n",
    "    else:\n",
    "        list_names.append(' '.join(i.split()[:-1]))"
   ]
  },
  {
   "cell_type": "code",
   "execution_count": 997,
   "metadata": {},
   "outputs": [],
   "source": [
    "data['id'] = list(np.arange(1, len(list_names) + 1))"
   ]
  },
  {
   "cell_type": "code",
   "execution_count": 998,
   "metadata": {},
   "outputs": [],
   "source": [
    "list_names = [' '.join(x.split()[::-1]) for x in list_names]"
   ]
  },
  {
   "cell_type": "code",
   "execution_count": 999,
   "metadata": {},
   "outputs": [],
   "source": [
    "data.iloc[:, 0] = data.iloc[:, 0].apply(lambda x: int(x[5:]))"
   ]
  },
  {
   "cell_type": "code",
   "execution_count": 1000,
   "metadata": {},
   "outputs": [],
   "source": [
    "data.iloc[:, 1] = list_names"
   ]
  },
  {
   "cell_type": "code",
   "execution_count": 1001,
   "metadata": {},
   "outputs": [
    {
     "data": {
      "text/plain": [
       "Нет        87\n",
       "Никогда    52\n",
       "Да         20\n",
       "Name: Хотели бы вы поменять группу?, dtype: int64"
      ]
     },
     "execution_count": 1001,
     "metadata": {},
     "output_type": "execute_result"
    }
   ],
   "source": [
    "data.iloc[:, 2].value_counts()"
   ]
  },
  {
   "cell_type": "code",
   "execution_count": 1002,
   "metadata": {},
   "outputs": [],
   "source": [
    "def change_group(x):\n",
    "    if x == 'Нет':\n",
    "        return 0\n",
    "    elif x == 'Да':\n",
    "        return 1\n",
    "    elif x == 'Никогда':\n",
    "        return 2"
   ]
  },
  {
   "cell_type": "code",
   "execution_count": 858,
   "metadata": {},
   "outputs": [],
   "source": [
    "# прописать группу в 5 столбце"
   ]
  },
  {
   "cell_type": "code",
   "execution_count": 1003,
   "metadata": {},
   "outputs": [],
   "source": [
    "data.iloc[:, 2] = data.iloc[:, 2].apply(change_group)"
   ]
  },
  {
   "cell_type": "code",
   "execution_count": 1004,
   "metadata": {},
   "outputs": [],
   "source": [
    "def string_to_list(x):\n",
    "    l = x.split(',')\n",
    "    l = [x.strip() for x in l]\n",
    "    return l"
   ]
  },
  {
   "cell_type": "code",
   "execution_count": 1005,
   "metadata": {},
   "outputs": [],
   "source": [
    "for i in range(4, 7):\n",
    "    data.iloc[:, i] = data.iloc[:, i][data.iloc[:, i].notna()].apply(string_to_list)"
   ]
  },
  {
   "cell_type": "code",
   "execution_count": 1006,
   "metadata": {},
   "outputs": [],
   "source": [
    "special_cols = [3, 7]"
   ]
  },
  {
   "cell_type": "code",
   "execution_count": 1007,
   "metadata": {},
   "outputs": [],
   "source": [
    "data = data.astype('object')\n",
    "data.iloc[:, special_cols]\n",
    "for i in special_cols:\n",
    "    for j in range(len(data)):\n",
    "        try:\n",
    "            if not data.iloc[j, i].isnumeric():\n",
    "                l = data.iloc[j, i].split(',')\n",
    "                l = [x.strip() for x in l]\n",
    "                data.iloc[j, i] = l\n",
    "        except:\n",
    "            pass"
   ]
  },
  {
   "cell_type": "code",
   "execution_count": 1008,
   "metadata": {},
   "outputs": [],
   "source": []
  },
  {
   "cell_type": "code",
   "execution_count": null,
   "metadata": {},
   "outputs": [],
   "source": []
  },
  {
   "cell_type": "code",
   "execution_count": 878,
   "metadata": {},
   "outputs": [],
   "source": [
    "# data.sample(10)"
   ]
  },
  {
   "cell_type": "code",
   "execution_count": null,
   "metadata": {},
   "outputs": [],
   "source": [
    "# функция ниже получает эту таблицу. Ей также нужен ключ - имя человека.\n",
    "# Ко мне позже дошло, что лучше было бы заполнить нулями все NaN, было бы лакончинее. Но я изворачивался и писал через try, except. Причём не рекомендуется оставлять голый except\n",
    "# В функции стоит прописывать коэффициенты, чтобы контролировать чем жертвовать. Все желания людей всё равно не получится реализовать.\n",
    "# на выходе - словарь отношений для одного человека.\n",
    "# Выглядит страшно... Извините, пожалуйста. Обещаю меньше писать такой код. Лучше, наверное, разбивать на мелкие функции."
   ]
  },
  {
   "cell_type": "code",
   "execution_count": 1027,
   "metadata": {},
   "outputs": [],
   "source": [
    "def get_dict_relation(key, dataAllQuiz = data, cChange = 1.3, cVeryFavGroup = 1.6, cFavGroup = 1, cFavIds = 10, cTogFor = 11, cFavPeople = 7, cCanan = 6, cHaters = -10, cHateGroup = -1):\n",
    "    dict_one_relation = {}\n",
    "    id_on_key = int(dataAllQuiz[dataAllQuiz.name == key].id)\n",
    "#     здесь проверяем хочет ли человек остаться в своей группе.\n",
    "    if dataAllQuiz.iloc[id_on_key - 1, 2] == 0:\n",
    "        for i in dataAllQuiz['name'][(dataAllQuiz.group == dataAllQuiz.iloc[id_on_key - 1].group) & (dataAllQuiz.id != dataAllQuiz.iloc[id_on_key - 1].id)]:\n",
    "            dict_one_relation[i] = cChange\n",
    "    elif dataAllQuiz.iloc[id_on_key - 1, 2] == 1:\n",
    "        try:\n",
    "            if isinstance(data.iloc[id_on_key - 1, 3][0], int):\n",
    "                for num_group in data.iloc[id_on_key - 1, 3]:\n",
    "                    for i in dataAllQuiz[dataAllQuiz.group == num_group].name:\n",
    "                        dict_one_relation[i] = cFavGroup                  \n",
    "            elif type(data.iloc[id_on_key - 1, 3][0]) is str:\n",
    "                for people in data.iloc[id_on_key - 1, 3]:\n",
    "                    dict_one_relation[people] = cFavIds\n",
    "        except:\n",
    "            pass\n",
    "    elif dataAllQuiz.iloc[id_on_key - 1, 2] == 2:\n",
    "        for i in dataAllQuiz['name'][(dataAllQuiz.group == dataAllQuiz.iloc[id_on_key - 1, 0]) & (dataAllQuiz.id != dataAllQuiz.iloc[id_on_key - 1].id)]:\n",
    "            dict_one_relation[i] = cVeryFavGroup\n",
    "# здесь проверяем с кем человек не хотел бы быть. Либо с группой, либо с конкретными людьми.\n",
    "    for i in dataAllQuiz['listHaters']:\n",
    "        try:\n",
    "            if isinstance(data.iloc[id_on_key - 1, 7][0], int):\n",
    "                for num_group in data.iloc[id_on_key - 1, 7]:\n",
    "                    for i in dataAllQuiz['name'][(dataAllQuiz.group == num_group) & (dataAllQuiz.id != dataAllQuiz.iloc[id_on_key - 1].id)]:\n",
    "                        dict_one_relation[i] = cHateGroup\n",
    "            elif type(data.iloc[id_on_key - 1, 7][0]) is str:\n",
    "                for people in data.iloc[id_on_key - 1, 7]:\n",
    "                    dict_one_relation[people] = cHaters\n",
    "        except:\n",
    "            pass\n",
    "# а здесь все остальные значения.\n",
    "    columns_values = {'listFavPeople':cFavPeople, 'listOfTogFor':cTogFor, 'listCananBe':cCanan}\n",
    "    for keys, values in columns_values.items():\n",
    "        try:\n",
    "            if type(pd.isna(dataAllQuiz.iloc[id_on_key - 1][keys])) is not bool:\n",
    "                for i in dataAllQuiz.iloc[id_on_key - 1][keys]:\n",
    "                    dict_one_relation[i] = values\n",
    "        except:\n",
    "            pass\n",
    "\n",
    "    return dict_one_relation"
   ]
  },
  {
   "cell_type": "code",
   "execution_count": 1028,
   "metadata": {},
   "outputs": [],
   "source": [
    "# создаю и далее выгружаю полный словарь отношений.\n",
    "full_dict_relations = {}\n",
    "for i in list_names:\n",
    "    full_dict_relations[i] = get_dict_relation(i, dataAllQuiz = data)\n",
    "# длина этого словаря равняется количеству людей."
   ]
  },
  {
   "cell_type": "code",
   "execution_count": 1029,
   "metadata": {},
   "outputs": [],
   "source": [
    "with open('full_dict_relationsRazval4.txt', 'w') as f:\n",
    "    f.write(str(full_dict_relations))\n",
    "# далее он используется в sort.ipynb "
   ]
  }
 ],
 "metadata": {
  "kernelspec": {
   "display_name": "Python 3",
   "language": "python",
   "name": "python3"
  },
  "language_info": {
   "codemirror_mode": {
    "name": "ipython",
    "version": 3
   },
   "file_extension": ".py",
   "mimetype": "text/x-python",
   "name": "python",
   "nbconvert_exporter": "python",
   "pygments_lexer": "ipython3",
   "version": "3.7.4"
  }
 },
 "nbformat": 4,
 "nbformat_minor": 4
}
