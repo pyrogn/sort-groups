{
 "cells": [
  {
   "cell_type": "code",
   "execution_count": 3,
   "metadata": {},
   "outputs": [],
   "source": [
    "import random\n",
    "import os\n",
    "import pandas as pd\n",
    "import numpy as np\n",
    "import copy\n",
    "import operator"
   ]
  },
  {
   "cell_type": "code",
   "execution_count": 177,
   "metadata": {},
   "outputs": [],
   "source": [
    "data = pd.read_excel(r'C:\\Users\\Professional\\Downloads\\Dlya_Pashi.xlsx')"
   ]
  },
  {
   "cell_type": "code",
   "execution_count": 178,
   "metadata": {},
   "outputs": [],
   "source": [
    "list_names = []\n",
    "for i in data.iloc[:, 2]:\n",
    "    if len(i.split()) == 2:\n",
    "        list_names.append(i)\n",
    "    else:\n",
    "        list_names.append(' '.join(i.split()[:-1]))"
   ]
  },
  {
   "cell_type": "code",
   "execution_count": 179,
   "metadata": {},
   "outputs": [],
   "source": [
    "data['id'] = list(np.arange(1, len(list_names) + 1))"
   ]
  },
  {
   "cell_type": "code",
   "execution_count": 180,
   "metadata": {},
   "outputs": [],
   "source": [
    "list_names = [' '.join(x.split()[::-1]) for x in list_names]"
   ]
  },
  {
   "cell_type": "code",
   "execution_count": 181,
   "metadata": {},
   "outputs": [],
   "source": [
    "data.iloc[:, 1] = data.iloc[:, 1].apply(lambda x: x[5:])"
   ]
  },
  {
   "cell_type": "code",
   "execution_count": 182,
   "metadata": {},
   "outputs": [],
   "source": [
    "data.iloc[:, 2] = list_names"
   ]
  },
  {
   "cell_type": "code",
   "execution_count": 183,
   "metadata": {},
   "outputs": [],
   "source": [
    "def change_group(x):\n",
    "    if x == 'Нет':\n",
    "        return 0\n",
    "    elif x == 'Да':\n",
    "        return 1\n",
    "    elif x == 'завод':\n",
    "        return 2"
   ]
  },
  {
   "cell_type": "code",
   "execution_count": 184,
   "metadata": {},
   "outputs": [],
   "source": [
    "# прописать группу в 5 столбце"
   ]
  },
  {
   "cell_type": "code",
   "execution_count": 185,
   "metadata": {},
   "outputs": [],
   "source": [
    "data.iloc[:, 3] = data.iloc[:, 3].apply(change_group)"
   ]
  },
  {
   "cell_type": "code",
   "execution_count": 186,
   "metadata": {},
   "outputs": [],
   "source": [
    "def string_to_list(x):\n",
    "    l = x.split(',')\n",
    "    l = [x.strip() for x in l]\n",
    "    return l"
   ]
  },
  {
   "cell_type": "code",
   "execution_count": 187,
   "metadata": {},
   "outputs": [],
   "source": [
    "for i in range(5, 9):\n",
    "    data.iloc[:, i] = data.iloc[:, i][data.iloc[:, i].notna()].apply(string_to_list)"
   ]
  },
  {
   "cell_type": "code",
   "execution_count": 193,
   "metadata": {},
   "outputs": [],
   "source": [
    "# data"
   ]
  },
  {
   "cell_type": "code",
   "execution_count": null,
   "metadata": {},
   "outputs": [],
   "source": []
  },
  {
   "cell_type": "code",
   "execution_count": null,
   "metadata": {},
   "outputs": [],
   "source": []
  },
  {
   "cell_type": "code",
   "execution_count": null,
   "metadata": {},
   "outputs": [],
   "source": []
  },
  {
   "cell_type": "code",
   "execution_count": 192,
   "metadata": {},
   "outputs": [
    {
     "data": {
      "text/plain": [
       "'2'"
      ]
     },
     "execution_count": 192,
     "metadata": {},
     "output_type": "execute_result"
    }
   ],
   "source": [
    "data.iloc[3]['Моя нынешняя группа']"
   ]
  },
  {
   "cell_type": "code",
   "execution_count": null,
   "metadata": {},
   "outputs": [],
   "source": [
    "# переименовать фио в name\n",
    "# моя нынешняя группа в group\n",
    "# так же с listOfTogFor и т.д..."
   ]
  },
  {
   "cell_type": "code",
   "execution_count": null,
   "metadata": {},
   "outputs": [],
   "source": [
    "def get_dict_relation(key, dataAllQuiz = dataAllQuiz, cChange = 0.5, cVeryFavGroup = 0.8, cFavGroup = 0.5, cFavIds = 4, cTogFor = 10, cFavPeople = 3, cCanan = 2, cHaters = -5):\n",
    "    dict_one_relation = {}\n",
    "    id_on_key = int(dataAllQuiz[dataAllQuiz.name == key].id)\n",
    "    if dataAllQuiz.iloc[id_on_key - 1, 2] == 0:\n",
    "        for i in dataAllQuiz['name'][(dataAllQuiz.group == dataAllQuiz.iloc[id_on_key - 1].group) & (dataAllQuiz.id != dataAllQuiz.iloc[id_on_key - 1].id)]:\n",
    "            dict_one_relation[i] = cChange\n",
    "    elif dataAllQuiz.iloc[id_on_key - 1, 2] == 1:\n",
    "#         if np.isnan(dataAllQuiz.iloc[id_on_key - 1, 3]):\n",
    "#             for i in dataAllQuiz.iloc[id_on_key - 1, 4]:\n",
    "#                 dict_one_relation[i] = cFavIds\n",
    "#         else:\n",
    "        for i in dataAllQuiz['name'][dataAllQuiz.group == dataAllQuiz.iloc[id_on_key - 1, 0]]:\n",
    "            dict_one_relation[i] = cFavGroup\n",
    "    else:\n",
    "        for i in dataAllQuiz['name'][dataAllQuiz.group == dataAllQuiz.iloc[id_on_key - 1, 0]]:\n",
    "            dict_one_relation[i] = cVeryFavGroup\n",
    "                \n",
    "    columns_values = {'listOfTogFor':cTogFor, 'listFavPeople':cFavPeople, 'listCananBe':cCanan, 'listHaters':cHaters}\n",
    "    \n",
    "    for keys, values in columns_values.items():\n",
    "        try:\n",
    "            if type(pd.isna(dataAllQuiz.iloc[id_on_key - 1][keys])) is not bool:\n",
    "                for i in dataAllQuiz.iloc[id_on_key - 1][keys]:\n",
    "                    dict_one_relation[i] = values\n",
    "        except:\n",
    "            pass\n",
    "\n",
    "    return dict_one_relation"
   ]
  },
  {
   "cell_type": "code",
   "execution_count": null,
   "metadata": {},
   "outputs": [],
   "source": [
    "full_dict_relations = {}\n",
    "for i in list_names:\n",
    "    full_dict_relations[i] = get_dict_relation(i, dataAllQuiz = data)"
   ]
  },
  {
   "cell_type": "code",
   "execution_count": null,
   "metadata": {},
   "outputs": [],
   "source": [
    "with open('full_dict_relations.txt', 'w') as f:\n",
    "    f.write(str(full_dict_relations))"
   ]
  }
 ],
 "metadata": {
  "kernelspec": {
   "display_name": "Python 3",
   "language": "python",
   "name": "python3"
  },
  "language_info": {
   "codemirror_mode": {
    "name": "ipython",
    "version": 3
   },
   "file_extension": ".py",
   "mimetype": "text/x-python",
   "name": "python",
   "nbconvert_exporter": "python",
   "pygments_lexer": "ipython3",
   "version": "3.7.4"
  }
 },
 "nbformat": 4,
 "nbformat_minor": 4
}
